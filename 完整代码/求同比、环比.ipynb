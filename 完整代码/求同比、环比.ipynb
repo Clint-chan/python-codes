{
 "cells": [
  {
   "cell_type": "markdown",
   "id": "9a805a43-e023-4365-b072-5376bdb4af65",
   "metadata": {
    "execution": {
     "iopub.execute_input": "2023-08-24T09:05:29.146320Z",
     "iopub.status.busy": "2023-08-24T09:05:29.146320Z",
     "iopub.status.idle": "2023-08-24T09:05:29.154758Z",
     "shell.execute_reply": "2023-08-24T09:05:29.152551Z",
     "shell.execute_reply.started": "2023-08-24T09:05:29.146320Z"
    }
   },
   "source": [
    "## 打开EXCEL文件"
   ]
  },
  {
   "cell_type": "code",
   "execution_count": 206,
   "id": "7f88e016-b2a7-4652-bd27-139f1554f153",
   "metadata": {
    "execution": {
     "iopub.execute_input": "2023-08-25T05:01:31.201381Z",
     "iopub.status.busy": "2023-08-25T05:01:31.201381Z",
     "iopub.status.idle": "2023-08-25T05:01:31.208451Z",
     "shell.execute_reply": "2023-08-25T05:01:31.207925Z",
     "shell.execute_reply.started": "2023-08-25T05:01:31.201381Z"
    }
   },
   "outputs": [],
   "source": [
    "import xlwings as xw\n",
    "import pandas as pd\n",
    "import warnings\n",
    "import numpy as np\n",
    "import pyodbc\n",
    "from sqlalchemy import create_engine\n",
    "from tqdm import tqdm_notebook as tqdm  \n",
    "warnings.filterwarnings(\"ignore\")"
   ]
  },
  {
   "cell_type": "markdown",
   "id": "3457159c-4431-4a72-beef-39c87f56cc93",
   "metadata": {
    "execution": {
     "iopub.execute_input": "2023-08-24T09:05:17.930203Z",
     "iopub.status.busy": "2023-08-24T09:05:17.929088Z",
     "iopub.status.idle": "2023-08-24T09:05:17.944749Z",
     "shell.execute_reply": "2023-08-24T09:05:17.939271Z",
     "shell.execute_reply.started": "2023-08-24T09:05:17.930203Z"
    }
   },
   "source": [
    "## 1.同比、环比"
   ]
  },
  {
   "cell_type": "code",
   "execution_count": 207,
   "id": "a892d2db-d5dc-47a0-a6fd-d18178e18d4f",
   "metadata": {
    "execution": {
     "iopub.execute_input": "2023-08-25T05:01:32.141736Z",
     "iopub.status.busy": "2023-08-25T05:01:32.141736Z",
     "iopub.status.idle": "2023-08-25T05:01:48.205130Z",
     "shell.execute_reply": "2023-08-25T05:01:48.203662Z",
     "shell.execute_reply.started": "2023-08-25T05:01:32.141736Z"
    }
   },
   "outputs": [],
   "source": [
    "######################定义需要的参数###########################################\n",
    "文件路径 = r\"C:\\Users\\hp\\Desktop\\1.csv\"\n",
    "Sheet名 = '1'\n",
    "表格范围 = 'B1:AF85954'\n",
    "统计日期列名 = '统计日期'\n",
    "商品ID列名 = '商品ID'\n",
    "列名列表 = ['毛利额', '补偿后毛利额']  # 这里列出您想计算的所有列\n",
    "写入起始位置 = 'AH1'\n",
    "##############################################################################\n",
    "# 打开 Excel 工作簿\n",
    "wb = xw.Book(文件路径)\n",
    "sheet = wb.sheets[Sheet名]\n",
    "# 从 Excel 中读取数据\n",
    "data = sheet.range(表格范围).options(pd.DataFrame, index=False, header=1).value\n",
    "# 按照统计日期和商品ID进行排序\n",
    "data = data.sort_values(by=[统计日期列名, 商品ID列名])\n",
    "data[统计日期列名] = pd.to_datetime(data[统计日期列名])\n",
    "data.set_index([统计日期列名, 商品ID列名], inplace=True)\n",
    "def calculate_and_save_growth_rates(data, 列名列表, sheet, 写入起始位置):\n",
    "    # 对每个列名进行计算\n",
    "    for 列名 in 列名列表:\n",
    "        data[f'{列名}同比'] = data.groupby(商品ID列名)[列名].pct_change(periods=12).round(2)\n",
    "        data[f'{列名}环比'] = data.groupby(商品ID列名)[列名].pct_change(periods=1).round(2)\n",
    "    data.replace([np.inf, -np.inf], np.nan, inplace=True)\n",
    "    data.reset_index(inplace=True)\n",
    "    # 将计算结果写回 Excel 文件\n",
    "    columns_to_write = [f'{列名}同比' for 列名 in 列名列表] + [f'{列名}环比' for 列名 in 列名列表]\n",
    "    sheet.range(写入起始位置).options(index=False).value = data[columns_to_write]\n",
    "    wb.save()\n",
    "# 调用该函数进行计算并保存结果\n",
    "calculate_and_save_growth_rates(data, 列名列表, sheet, 写入起始位置)"
   ]
  },
  {
   "cell_type": "markdown",
   "id": "dffc8f45-3f9c-4d05-be62-237dd449b2eb",
   "metadata": {
    "execution": {
     "iopub.execute_input": "2023-08-25T02:03:20.340894Z",
     "iopub.status.busy": "2023-08-25T02:03:20.340894Z",
     "iopub.status.idle": "2023-08-25T02:03:20.351747Z",
     "shell.execute_reply": "2023-08-25T02:03:20.351037Z",
     "shell.execute_reply.started": "2023-08-25T02:03:20.340894Z"
    }
   },
   "source": [
    "## 上传数据库"
   ]
  },
  {
   "cell_type": "code",
   "execution_count": 208,
   "id": "325470bd-a256-451e-9e1b-9629f7d2a598",
   "metadata": {
    "execution": {
     "iopub.execute_input": "2023-08-25T05:02:08.841009Z",
     "iopub.status.busy": "2023-08-25T05:02:08.841009Z",
     "iopub.status.idle": "2023-08-25T05:02:37.614679Z",
     "shell.execute_reply": "2023-08-25T05:02:37.614679Z",
     "shell.execute_reply.started": "2023-08-25T05:02:08.841009Z"
    }
   },
   "outputs": [
    {
     "data": {
      "application/vnd.jupyter.widget-view+json": {
       "model_id": "0b49d53169cf4e7eb918cd7a2912c2eb",
       "version_major": 2,
       "version_minor": 0
      },
      "text/plain": [
       "插入数据:   0%|          | 0/172 [00:00<?, ?it/s]"
      ]
     },
     "metadata": {},
     "output_type": "display_data"
    }
   ],
   "source": [
    "def create_and_insert_data(table_name, df, server, database):\n",
    "    # 使用sqlalchemy创建连接\n",
    "    connection_string = f\"mssql+pyodbc://{server}/{database}?driver=ODBC+Driver+17+for+SQL+Server&Trusted_Connection=yes\"\n",
    "    engine = create_engine(connection_string)\n",
    "    \n",
    "    # 如果表存在，则删除\n",
    "    if engine.has_table(table_name):\n",
    "        with engine.connect() as conn:\n",
    "            conn.execute(f\"DROP TABLE {table_name}\")\n",
    "    \n",
    "    # 使用pandas的to_sql方法插入数据，利用chunksize和tqdm显示进度条\n",
    "    chunk_size = 500  # 可以根据你的需求调整\n",
    "    num_chunks = (len(df) // chunk_size) + 1\n",
    "    for i in tqdm(range(num_chunks), desc=\"插入数据\"):\n",
    "        df.iloc[i*chunk_size:(i+1)*chunk_size].to_sql(name=table_name, con=engine, if_exists='append', index=False)\n",
    "create_and_insert_data(table_name='table_rate', df=data, server='localhost', database='data')"
   ]
  }
 ],
 "metadata": {
  "kernelspec": {
   "display_name": "Python 3 (ipykernel)",
   "language": "python",
   "name": "python3"
  },
  "language_info": {
   "codemirror_mode": {
    "name": "ipython",
    "version": 3
   },
   "file_extension": ".py",
   "mimetype": "text/x-python",
   "name": "python",
   "nbconvert_exporter": "python",
   "pygments_lexer": "ipython3",
   "version": "3.11.4"
  }
 },
 "nbformat": 4,
 "nbformat_minor": 5
}
