{
 "cells": [
  {
   "cell_type": "markdown",
   "id": "a83b5d0d-92a8-4e77-8ae1-7405f78caf2c",
   "metadata": {
    "execution": {
     "iopub.execute_input": "2023-08-29T09:19:34.117321Z",
     "iopub.status.busy": "2023-08-29T09:19:34.117321Z",
     "iopub.status.idle": "2023-08-29T09:19:34.138006Z",
     "shell.execute_reply": "2023-08-29T09:19:34.136003Z",
     "shell.execute_reply.started": "2023-08-29T09:19:34.117321Z"
    }
   },
   "source": [
    "假设一个在线商店想要了解其销售额的变化。销售额（总收入）是由两个关键因子决定的：访问人数（流量）和转化率（每个访问者平均购买金额）。\n",
    "\n",
    "设定以下数据：\n",
    "\n",
    "    本期访问人数为5000人，基期访问人数为4500人。\n",
    "    本期转化率为0.1，即平均每个访问者购买10元商品，基期转化率为0.09。\n",
    "\n",
    "我们可以计算本期和基期的销售额，然后进一步分解这两个关键因子的贡献。\n",
    "\n",
    "首先，我们计算总销售额的变化，然后再分解访问人数和转化率的贡献。"
   ]
  },
  {
   "cell_type": "markdown",
   "id": "de94810d-e5ca-4860-8504-411c09f5e17a",
   "metadata": {
    "execution": {
     "iopub.execute_input": "2023-08-29T09:25:47.988196Z",
     "iopub.status.busy": "2023-08-29T09:25:47.988196Z",
     "iopub.status.idle": "2023-08-29T09:25:47.993743Z",
     "shell.execute_reply": "2023-08-29T09:25:47.992699Z",
     "shell.execute_reply.started": "2023-08-29T09:25:47.988196Z"
    }
   },
   "source": [
    "## 1. 乘法分解"
   ]
  },
  {
   "cell_type": "code",
   "execution_count": 10,
   "id": "2d6a0d2e-c35d-40e4-9ae5-934b860d4886",
   "metadata": {
    "execution": {
     "iopub.execute_input": "2023-08-29T09:22:47.890557Z",
     "iopub.status.busy": "2023-08-29T09:22:47.890557Z",
     "iopub.status.idle": "2023-08-29T09:22:47.899744Z",
     "shell.execute_reply": "2023-08-29T09:22:47.898553Z",
     "shell.execute_reply.started": "2023-08-29T09:22:47.890557Z"
    }
   },
   "outputs": [
    {
     "data": {
      "text/plain": [
       "(0.3207281925882372, 0.6792718074117614)"
      ]
     },
     "execution_count": 10,
     "metadata": {},
     "output_type": "execute_result"
    }
   ],
   "source": [
    "visitors_current = 5000\n",
    "visitors_base = 4500\n",
    "conversion_rate_current = 0.1\n",
    "conversion_rate_base = 0.08\n",
    "\n",
    "# 计算基期销售额和当期销售额\n",
    "sales_current = visitors_current * conversion_rate_current * 10  # 10 is the average purchase amount\n",
    "sales_base = visitors_base * conversion_rate_base * 10\n",
    "\n",
    "# 计算每个子因子的log偏差\n",
    "visitor_log_offset = np.log(visitors_current) - np.log(visitors_base) # 访问人数\n",
    "conversion_rate_log_offset = np.log(conversion_rate_current) - np.log(conversion_rate_base) # 转化率\n",
    "\n",
    "# 计算sales的总偏差\n",
    "sales_log_offset = np.log(sales_current) - np.log(sales_base)\n",
    "\n",
    "# 计算子因子的贡献\n",
    "visitor_contribution = visitor_log_offset / sales_log_offset\n",
    "conversion_rate_contribution = conversion_rate_log_offset / sales_log_offset\n",
    "\n",
    "visitor_contribution, conversion_rate_contribution\n"
   ]
  },
  {
   "cell_type": "markdown",
   "id": "21531110-4828-40a7-b497-836213507a4a",
   "metadata": {
    "execution": {
     "iopub.execute_input": "2023-08-29T09:21:06.037647Z",
     "iopub.status.busy": "2023-08-29T09:21:06.036648Z",
     "iopub.status.idle": "2023-08-29T09:21:06.046313Z",
     "shell.execute_reply": "2023-08-29T09:21:06.045279Z",
     "shell.execute_reply.started": "2023-08-29T09:21:06.037647Z"
    }
   },
   "source": [
    "    访问人数（流量）对销售额变化的贡献为32%\n",
    "    转化率对销售额变化的贡献为68%\n",
    "\n",
    "这意味着在本例中，转化率对销售额的增长有着更大的的影响。这种贡献表明，为了进一步提高销售额，在线商店应该关注优化转化率。"
   ]
  },
  {
   "attachments": {
    "69e0891a-530e-4903-907f-4d8e73bf413f.png": {
     "image/png": "[encoded data removed]"
    }
   },
   "cell_type": "markdown",
   "id": "c2ba0e04-e126-4799-85a8-52ba215b7cca",
   "metadata": {
    "execution": {
     "iopub.execute_input": "2023-08-29T09:25:58.426106Z",
     "iopub.status.busy": "2023-08-29T09:25:58.426106Z",
     "iopub.status.idle": "2023-08-29T09:25:58.441331Z",
     "shell.execute_reply": "2023-08-29T09:25:58.441331Z",
     "shell.execute_reply.started": "2023-08-29T09:25:58.426106Z"
    }
   },
   "source": [
    "## 2.再次分解\n",
    "- 子因子的符号（正或负）可以通过它们的偏移量（本期值与基期值之间的差异）来确定。如果偏移量为正，表示该子因子有正向贡献；如果为负，表示有负向贡献。\n",
    "![image.png](attachment:69e0891a-530e-4903-907f-4d8e73bf413f.png)\n",
    "- 假设\"访问人数\"这个因子可以进一步被分解为以下两个子因子：  新访、   回访客数\r\n",
    "\r\n",
    "我们设定以下数据：\r\n",
    "\r\n",
    "    本期新访客数为3200人，基期新访客数为3000人。\r\n",
    "    本期回访客数为1800人，基期回访客数为1500人。\r\n",
    "\r\n",
    "我们将使用上述乘法-log转化方法来计算这两个子因子的贡献率。"
   ]
  },
  {
   "cell_type": "code",
   "execution_count": 17,
   "id": "2eec4697-4907-40f9-988a-cae0e2f78dbf",
   "metadata": {
    "execution": {
     "iopub.execute_input": "2023-08-29T09:45:46.148475Z",
     "iopub.status.busy": "2023-08-29T09:45:46.146995Z",
     "iopub.status.idle": "2023-08-29T09:45:46.159064Z",
     "shell.execute_reply": "2023-08-29T09:45:46.157782Z",
     "shell.execute_reply.started": "2023-08-29T09:45:46.148475Z"
    }
   },
   "outputs": [
    {
     "data": {
      "text/plain": [
       "(0.08366005122039905, 0.23633994877960096)"
      ]
     },
     "execution_count": 17,
     "metadata": {},
     "output_type": "execute_result"
    }
   ],
   "source": [
    "# Given sub-factor values for 访问人数\n",
    "new_visitors_current = 3200\n",
    "new_visitors_base = 3000\n",
    "returning_visitors_current = 1800\n",
    "returning_visitors_base = 1500\n",
    "\n",
    "# Calculate the log offset for each sub-factor\n",
    "new_visitors_log_offset = np.log(new_visitors_current) - np.log(new_visitors_base)\n",
    "returning_visitors_log_offset = np.log(returning_visitors_current) - np.log(returning_visitors_base)\n",
    "\n",
    "# Calculate the total log offset for 访问人数 (previously calculated)\n",
    "total_log_offset = new_visitors_log_offset + returning_visitors_log_offset\n",
    "\n",
    "# Calculate the contribution of each sub-factor based on the total log offset\n",
    "new_visitor_contribution = new_visitors_log_offset / total_log_offset * 0.32  # Multiplying by 50% as 访问人数's contribution is 50%\n",
    "returning_visitor_contribution = returning_visitors_log_offset / total_log_offset * 0.32\n",
    "\n",
    "new_visitor_contribution, returning_visitor_contribution\n"
   ]
  },
  {
   "cell_type": "markdown",
   "id": "eade8cf3-202d-4b4c-9a4e-c46e743c7747",
   "metadata": {
    "execution": {
     "iopub.execute_input": "2023-08-29T09:45:31.359623Z",
     "iopub.status.busy": "2023-08-29T09:45:31.359623Z",
     "iopub.status.idle": "2023-08-29T09:45:31.368656Z",
     "shell.execute_reply": "2023-08-29T09:45:31.367021Z",
     "shell.execute_reply.started": "2023-08-29T09:45:31.359623Z"
    }
   },
   "source": [
    "- 我们可以得到：\n",
    "\n",
    "    - 新访客数的实际贡献率为8.37%\n",
    "    - 回访客数的实际贡献率为23.63%"
   ]
  },
  {
   "cell_type": "markdown",
   "id": "abccfe7e-d004-4216-898e-8967a28db500",
   "metadata": {
    "execution": {
     "iopub.execute_input": "2023-08-29T09:51:03.657749Z",
     "iopub.status.busy": "2023-08-29T09:51:03.657749Z",
     "iopub.status.idle": "2023-08-29T09:51:03.663579Z",
     "shell.execute_reply": "2023-08-29T09:51:03.662518Z",
     "shell.execute_reply.started": "2023-08-29T09:51:03.657749Z"
    }
   },
   "source": [
    "## 3. 销售额=成交客数*客单价"
   ]
  },
  {
   "cell_type": "code",
   "execution_count": 58,
   "id": "abc6380c-d737-455d-8b0d-93bf80c3e785",
   "metadata": {
    "execution": {
     "iopub.execute_input": "2023-08-29T11:59:20.051776Z",
     "iopub.status.busy": "2023-08-29T11:59:20.050771Z",
     "iopub.status.idle": "2023-08-29T11:59:20.143110Z",
     "shell.execute_reply": "2023-08-29T11:59:20.142100Z",
     "shell.execute_reply.started": "2023-08-29T11:59:20.051776Z"
    }
   },
   "outputs": [
    {
     "name": "stderr",
     "output_type": "stream",
     "text": [
      "C:\\Users\\hp\\AppData\\Roaming\\Python\\Python311\\site-packages\\openpyxl\\styles\\stylesheet.py:226: UserWarning: Workbook contains no default style, apply openpyxl's default\n",
      "  warn(\"Workbook contains no default style, apply openpyxl's default\")\n"
     ]
    },
    {
     "data": {
      "text/html": [
       "<div>\n",
       "<style scoped>\n",
       "    .dataframe tbody tr th:only-of-type {\n",
       "        vertical-align: middle;\n",
       "    }\n",
       "\n",
       "    .dataframe tbody tr th {\n",
       "        vertical-align: top;\n",
       "    }\n",
       "\n",
       "    .dataframe thead tr th {\n",
       "        text-align: left;\n",
       "    }\n",
       "</style>\n",
       "<table border=\"1\" class=\"dataframe\">\n",
       "  <thead>\n",
       "    <tr>\n",
       "      <th></th>\n",
       "      <th colspan=\"4\" halign=\"left\">销售额</th>\n",
       "      <th colspan=\"3\" halign=\"left\">成交客数</th>\n",
       "      <th colspan=\"3\" halign=\"left\">客单价</th>\n",
       "    </tr>\n",
       "    <tr>\n",
       "      <th></th>\n",
       "      <th>战区</th>\n",
       "      <th>实绩</th>\n",
       "      <th>同期</th>\n",
       "      <th>同比</th>\n",
       "      <th>实绩</th>\n",
       "      <th>同期</th>\n",
       "      <th>同比</th>\n",
       "      <th>实绩</th>\n",
       "      <th>同期</th>\n",
       "      <th>同比</th>\n",
       "    </tr>\n",
       "  </thead>\n",
       "  <tbody>\n",
       "    <tr>\n",
       "      <th>0</th>\n",
       "      <td>自营直营</td>\n",
       "      <td>87006</td>\n",
       "      <td>85305</td>\n",
       "      <td>0.020</td>\n",
       "      <td>10079130</td>\n",
       "      <td>10246315</td>\n",
       "      <td>-0.016</td>\n",
       "      <td>86.3</td>\n",
       "      <td>83.3</td>\n",
       "      <td>0.037</td>\n",
       "    </tr>\n",
       "    <tr>\n",
       "      <th>1</th>\n",
       "      <td>江阴战区</td>\n",
       "      <td>1287</td>\n",
       "      <td>1212</td>\n",
       "      <td>0.061</td>\n",
       "      <td>130815</td>\n",
       "      <td>141554</td>\n",
       "      <td>-0.076</td>\n",
       "      <td>98.4</td>\n",
       "      <td>85.6</td>\n",
       "      <td>0.149</td>\n",
       "    </tr>\n",
       "    <tr>\n",
       "      <th>2</th>\n",
       "      <td>陕西战区</td>\n",
       "      <td>6307</td>\n",
       "      <td>5089</td>\n",
       "      <td>0.239</td>\n",
       "      <td>622261</td>\n",
       "      <td>513015</td>\n",
       "      <td>0.213</td>\n",
       "      <td>101.4</td>\n",
       "      <td>99.2</td>\n",
       "      <td>0.022</td>\n",
       "    </tr>\n",
       "    <tr>\n",
       "      <th>3</th>\n",
       "      <td>通辽战区</td>\n",
       "      <td>3656</td>\n",
       "      <td>3282</td>\n",
       "      <td>0.114</td>\n",
       "      <td>446118</td>\n",
       "      <td>440215</td>\n",
       "      <td>0.013</td>\n",
       "      <td>82.0</td>\n",
       "      <td>74.6</td>\n",
       "      <td>0.099</td>\n",
       "    </tr>\n",
       "    <tr>\n",
       "      <th>4</th>\n",
       "      <td>苏南战区</td>\n",
       "      <td>5470</td>\n",
       "      <td>5391</td>\n",
       "      <td>0.015</td>\n",
       "      <td>617731</td>\n",
       "      <td>658085</td>\n",
       "      <td>-0.061</td>\n",
       "      <td>88.5</td>\n",
       "      <td>81.9</td>\n",
       "      <td>0.081</td>\n",
       "    </tr>\n",
       "  </tbody>\n",
       "</table>\n",
       "</div>"
      ],
      "text/plain": [
       "    销售额                           成交客数                     客单价             \n",
       "     战区     实绩     同期     同比        实绩        同期     同比     实绩    同期     同比\n",
       "0  自营直营  87006  85305  0.020  10079130  10246315 -0.016   86.3  83.3  0.037\n",
       "1  江阴战区   1287   1212  0.061    130815    141554 -0.076   98.4  85.6  0.149\n",
       "2  陕西战区   6307   5089  0.239    622261    513015  0.213  101.4  99.2  0.022\n",
       "3  通辽战区   3656   3282  0.114    446118    440215  0.013   82.0  74.6  0.099\n",
       "4  苏南战区   5470   5391  0.015    617731    658085 -0.061   88.5  81.9  0.081"
      ]
     },
     "execution_count": 58,
     "metadata": {},
     "output_type": "execute_result"
    }
   ],
   "source": [
    "df = pd.read_excel(r\"C:\\Users\\hp\\Desktop\\归因分析1.xlsx\",header=[0,1])\n",
    "df.head()"
   ]
  },
  {
   "cell_type": "markdown",
   "id": "9253e8ef-18bf-4097-bdaf-65c06f26b226",
   "metadata": {
    "execution": {
     "iopub.execute_input": "2023-08-29T11:43:37.806306Z",
     "iopub.status.busy": "2023-08-29T11:43:37.792539Z",
     "iopub.status.idle": "2023-08-29T11:43:37.811451Z",
     "shell.execute_reply": "2023-08-29T11:43:37.810379Z",
     "shell.execute_reply.started": "2023-08-29T11:43:37.806306Z"
    }
   },
   "source": [
    "### 3.1 Log 乘法"
   ]
  },
  {
   "cell_type": "code",
   "execution_count": 59,
   "id": "0c541369-e27d-481e-9fac-5782ba90a54d",
   "metadata": {
    "execution": {
     "iopub.execute_input": "2023-08-29T11:59:21.962895Z",
     "iopub.status.busy": "2023-08-29T11:59:21.961895Z",
     "iopub.status.idle": "2023-08-29T11:59:21.975512Z",
     "shell.execute_reply": "2023-08-29T11:59:21.974505Z",
     "shell.execute_reply.started": "2023-08-29T11:59:21.962895Z"
    }
   },
   "outputs": [
    {
     "data": {
      "text/plain": [
       "(-0.832981267653557, 1.1073587791730666)"
      ]
     },
     "execution_count": 59,
     "metadata": {},
     "output_type": "execute_result"
    }
   ],
   "source": [
    "# Sum up the values for each column to get the overall values\n",
    "overall_values = df.sum(numeric_only=True)\n",
    "\n",
    "# Extract values for the main factor and sub-factors\n",
    "gross_margin_current = overall_values[('销售额', '实绩')] * 10000\n",
    "gross_margin_base = overall_values[('销售额', '同期')] * 10000\n",
    "\n",
    "# Correcting the column names for '成交客数' and extracting values again\n",
    "transaction_count_current = overall_values[(' 成交客数', '实绩')]\n",
    "transaction_count_base = overall_values[(' 成交客数', '同期')]\n",
    "\n",
    "transaction_price_current = overall_values[('客单价', '实绩')]\n",
    "transaction_price_base = overall_values[('客单价', '同期')]\n",
    "\n",
    "# Calculate the log offsets for the main factor and sub-factors\n",
    "gross_margin_log_offset = np.log(gross_margin_current) - np.log(gross_margin_base)\n",
    "transaction_count_log_offset = np.log(transaction_count_current) - np.log(transaction_count_base)\n",
    "transaction_price_log_offset = np.log(transaction_price_current) - np.log(transaction_price_base)\n",
    "\n",
    "# Calculate the contribution of each sub-factor based on the main factor's log offset\n",
    "transaction_count_contribution = transaction_count_log_offset / gross_margin_log_offset\n",
    "transaction_price_contribution = transaction_price_log_offset / gross_margin_log_offset\n",
    "\n",
    "transaction_count_contribution, transaction_price_contribution"
   ]
  },
  {
   "cell_type": "markdown",
   "id": "120a127c-0ca7-45dd-b360-204748fea2c7",
   "metadata": {
    "execution": {
     "iopub.execute_input": "2023-08-29T11:00:59.917812Z",
     "iopub.status.busy": "2023-08-29T11:00:59.917812Z",
     "iopub.status.idle": "2023-08-29T11:00:59.928651Z",
     "shell.execute_reply": "2023-08-29T11:00:59.926930Z",
     "shell.execute_reply.started": "2023-08-29T11:00:59.917812Z"
    }
   },
   "source": [
    "- \"成交客数\" 的贡献率为 −83.30%：这意味着成交客数相对于基期减少了，这导致销售额减少了 83.30%\n",
    "- \"客单价\" 的贡献率为 110.74%：这意味着客单价相对于基期上升了，这导致销售额增加了110.74%"
   ]
  },
  {
   "cell_type": "markdown",
   "id": "799f21b9-80cd-49ea-8419-7ceab4b0e724",
   "metadata": {
    "execution": {
     "iopub.execute_input": "2023-08-29T11:43:37.806306Z",
     "iopub.status.busy": "2023-08-29T11:43:37.792539Z",
     "iopub.status.idle": "2023-08-29T11:43:37.811451Z",
     "shell.execute_reply": "2023-08-29T11:43:37.810379Z",
     "shell.execute_reply.started": "2023-08-29T11:43:37.806306Z"
    }
   },
   "source": [
    "### 3.2 连环替代法"
   ]
  },
  {
   "cell_type": "code",
   "execution_count": 60,
   "id": "a6b91a4f-acf7-44cb-8657-9075a0321815",
   "metadata": {
    "execution": {
     "iopub.execute_input": "2023-08-29T11:59:23.600722Z",
     "iopub.status.busy": "2023-08-29T11:59:23.600722Z",
     "iopub.status.idle": "2023-08-29T11:59:23.613982Z",
     "shell.execute_reply": "2023-08-29T11:59:23.613982Z",
     "shell.execute_reply.started": "2023-08-29T11:59:23.600722Z"
    }
   },
   "outputs": [
    {
     "data": {
      "text/plain": [
       "(-0.7912093474426808, 1.7776243386243387)"
      ]
     },
     "execution_count": 60,
     "metadata": {},
     "output_type": "execute_result"
    }
   ],
   "source": [
    "sales_base = df[('销售额', '同期')].values[0] * 10000\n",
    "sales_current = df[('销售额', '实绩')].values[0] * 10000\n",
    "\n",
    "transaction_count_base = df[(' 成交客数', '同期')].values[0]\n",
    "transaction_count_current = df[(' 成交客数', '实绩')].values[0]\n",
    "\n",
    "transaction_price_base = df[('客单价', '同期')].values[0]\n",
    "transaction_price_current = df[('客单价', '实绩')].values[0]\n",
    "\n",
    "# 定义销售额的变化值\n",
    "sales_change = sales_current - sales_base\n",
    "\n",
    "# 首先替换 'a' (成交客数)\n",
    "Ma = transaction_count_current * transaction_price_base\n",
    "\n",
    "# 计算 'a' 的贡献\n",
    "Ha = Ma - sales_base\n",
    "\n",
    "# 然后替换 'b' (客单价)\n",
    "Mb = transaction_count_current * transaction_price_current\n",
    "\n",
    "# 计算 'b' 的贡献\n",
    "Hb = Mb - Ma\n",
    "\n",
    "# 计算每个子因子的贡献度百分比\n",
    "Ha_percentage = Ha / sales_change\n",
    "Hb_percentage = Hb / sales_change\n",
    "Ha_percentage, Hb_percentage"
   ]
  },
  {
   "cell_type": "markdown",
   "id": "d93cb462-b685-4acf-b93f-0a517a1f5719",
   "metadata": {
    "execution": {
     "iopub.execute_input": "2023-08-29T11:43:37.806306Z",
     "iopub.status.busy": "2023-08-29T11:43:37.792539Z",
     "iopub.status.idle": "2023-08-29T11:43:37.811451Z",
     "shell.execute_reply": "2023-08-29T11:43:37.810379Z",
     "shell.execute_reply.started": "2023-08-29T11:43:37.806306Z"
    }
   },
   "source": [
    "### 3.3 控制替代法"
   ]
  },
  {
   "cell_type": "code",
   "execution_count": 61,
   "id": "45c60e4e-97b1-405c-81f1-8adb32de8ae7",
   "metadata": {
    "execution": {
     "iopub.execute_input": "2023-08-29T11:59:25.785951Z",
     "iopub.status.busy": "2023-08-29T11:59:25.785951Z",
     "iopub.status.idle": "2023-08-29T11:59:25.795476Z",
     "shell.execute_reply": "2023-08-29T11:59:25.794468Z",
     "shell.execute_reply.started": "2023-08-29T11:59:25.785951Z"
    }
   },
   "outputs": [
    {
     "data": {
      "text/plain": [
       "(-0.3013172226576756, 0.6986827773423244)"
      ]
     },
     "execution_count": 61,
     "metadata": {},
     "output_type": "execute_result"
    }
   ],
   "source": [
    "# 使用控制替代法计算贡献度\n",
    "# 首先替换 'a' (成交客数) 并控制其他指标不变\n",
    "Ma_control = transaction_count_current * transaction_price_base\n",
    "Ha_control = Ma_control - sales_base\n",
    "# 然后替换 'b' (客单价) 并控制其他指标不变\n",
    "Mb_control = transaction_count_base * transaction_price_current\n",
    "Hb_control = Mb_control - sales_base\n",
    "# 由于我们只有两个子因子，没有 'c' 因子，所以不进行c的替换计算\n",
    "# 计算每个子因子的贡献度\n",
    "Contri_a = Ha_control / (abs(Ha_control) + abs(Hb_control))\n",
    "Contri_b = Hb_control / (abs(Ha_control) + abs(Hb_control))\n",
    "Contri_a, Contri_b"
   ]
  },
  {
   "cell_type": "code",
   "execution_count": 72,
   "id": "0e9c3b8f-70a4-4985-9da5-2ccdf0a10a3c",
   "metadata": {
    "execution": {
     "iopub.execute_input": "2023-08-29T12:09:01.353341Z",
     "iopub.status.busy": "2023-08-29T12:09:01.353341Z",
     "iopub.status.idle": "2023-08-29T12:09:01.574201Z",
     "shell.execute_reply": "2023-08-29T12:09:01.574201Z",
     "shell.execute_reply.started": "2023-08-29T12:09:01.353341Z"
    }
   },
   "outputs": [
    {
     "data": {
      "image/png": "[encoded data removed]",
      "text/plain": [
       "<Figure size 1000x700 with 1 Axes>"
      ]
     },
     "metadata": {},
     "output_type": "display_data"
    }
   ],
   "source": [
    "# 提供的数据\n",
    "methods = [\"Log 乘法\", \"连环替代法\", \"控制替代法\"]\n",
    "contributions_transaction_count = [-83.30, -79.1, -30.1]\n",
    "contributions_transaction_price = [110.7, 177.8, 69.9]\n",
    "\n",
    "# 绘制柱状图\n",
    "bar_width = 0.35\n",
    "index = np.arange(len(methods))\n",
    "\n",
    "plt.figure(figsize=(10, 7))\n",
    "bar1 = plt.bar(index, contributions_transaction_count, bar_width, color='r', label='成交客数')\n",
    "bar2 = plt.bar(index + bar_width, contributions_transaction_price, bar_width, color='g', label='客单价')\n",
    "\n",
    "# 设置标题和标签\n",
    "plt.xlabel('方法')\n",
    "plt.ylabel('贡献度(%)')\n",
    "plt.title('不同方法的成交客数与客单价贡献度对比')\n",
    "plt.xticks(index + bar_width / 2, methods)  # Positioning the x-labels in the center of the group of bars\n",
    "plt.legend()\n",
    "plt.tight_layout()\n",
    "plt.grid(axis='y')\n",
    "\n",
    "plt.show()\n"
   ]
  },
  {
   "cell_type": "markdown",
   "id": "7d9b9074-7c69-420c-bdec-38d21b71ba92",
   "metadata": {
    "execution": {
     "iopub.execute_input": "2023-08-29T09:56:31.186724Z",
     "iopub.status.busy": "2023-08-29T09:56:31.186724Z",
     "iopub.status.idle": "2023-08-29T09:56:31.193350Z",
     "shell.execute_reply": "2023-08-29T09:56:31.192817Z",
     "shell.execute_reply.started": "2023-08-29T09:56:31.186724Z"
    }
   },
   "source": [
    "### 4. 各战区对毛利额贡献度"
   ]
  },
  {
   "cell_type": "code",
   "execution_count": 38,
   "id": "3bc043fb-bdf9-4a99-b1b9-743a415ab0d8",
   "metadata": {
    "execution": {
     "iopub.execute_input": "2023-08-29T11:26:19.628041Z",
     "iopub.status.busy": "2023-08-29T11:26:19.627038Z",
     "iopub.status.idle": "2023-08-29T11:26:19.639804Z",
     "shell.execute_reply": "2023-08-29T11:26:19.639057Z",
     "shell.execute_reply.started": "2023-08-29T11:26:19.627038Z"
    }
   },
   "outputs": [
    {
     "data": {
      "text/html": [
       "<div>\n",
       "<style scoped>\n",
       "    .dataframe tbody tr th:only-of-type {\n",
       "        vertical-align: middle;\n",
       "    }\n",
       "\n",
       "    .dataframe tbody tr th {\n",
       "        vertical-align: top;\n",
       "    }\n",
       "\n",
       "    .dataframe thead th {\n",
       "        text-align: right;\n",
       "    }\n",
       "</style>\n",
       "<table border=\"1\" class=\"dataframe\">\n",
       "  <thead>\n",
       "    <tr style=\"text-align: right;\">\n",
       "      <th></th>\n",
       "      <th>战区</th>\n",
       "      <th>实绩</th>\n",
       "      <th>同期</th>\n",
       "    </tr>\n",
       "  </thead>\n",
       "  <tbody>\n",
       "    <tr>\n",
       "      <th>0</th>\n",
       "      <td>自营直营</td>\n",
       "      <td>26588</td>\n",
       "      <td>26156</td>\n",
       "    </tr>\n",
       "    <tr>\n",
       "      <th>1</th>\n",
       "      <td>江阴战区</td>\n",
       "      <td>433</td>\n",
       "      <td>430</td>\n",
       "    </tr>\n",
       "    <tr>\n",
       "      <th>2</th>\n",
       "      <td>陕西战区</td>\n",
       "      <td>1883</td>\n",
       "      <td>1490</td>\n",
       "    </tr>\n",
       "    <tr>\n",
       "      <th>3</th>\n",
       "      <td>通辽战区</td>\n",
       "      <td>1173</td>\n",
       "      <td>1134</td>\n",
       "    </tr>\n",
       "    <tr>\n",
       "      <th>4</th>\n",
       "      <td>苏南战区</td>\n",
       "      <td>1901</td>\n",
       "      <td>1817</td>\n",
       "    </tr>\n",
       "  </tbody>\n",
       "</table>\n",
       "</div>"
      ],
      "text/plain": [
       "     战区     实绩     同期\n",
       "0  自营直营  26588  26156\n",
       "1  江阴战区    433    430\n",
       "2  陕西战区   1883   1490\n",
       "3  通辽战区   1173   1134\n",
       "4  苏南战区   1901   1817"
      ]
     },
     "execution_count": 38,
     "metadata": {},
     "output_type": "execute_result"
    }
   ],
   "source": [
    "zones_data = {\n",
    "    \"战区\": [\"自营直营\", \"江阴战区\", \"陕西战区\", \"通辽战区\", \"苏南战区\", \"赤峰战区\", \"新东战区\", \"广西战区\", \n",
    "            \"天津战区\", \"甘宁战区\", \"湖南战区\", \"新中战区\", \"临沂战区\", \"南通战区\", \"安徽战区\", \"扬州战区\", \"运城战区\"],\n",
    "    \"实绩\": [26588, 433, 1883, 1173, 1901, 951, 1500, 1740, 931, 2318, 7329, 1698, 500, 757, 1994, 867, 613],\n",
    "    \"同期\": [26156, 430, 1490, 1134, 1817, 926, 1402, 1792, 921, 2388, 6914, 1787, 530, 915, 2115, 960, 635]\n",
    "}\n",
    "\n",
    "zones_df = pd.DataFrame(zones_data)\n",
    "zones_df.head()"
   ]
  },
  {
   "cell_type": "markdown",
   "id": "6b893b96-67b7-4800-a6f8-5dbf752bf46a",
   "metadata": {
    "execution": {
     "iopub.execute_input": "2023-08-29T11:26:16.036263Z",
     "iopub.status.busy": "2023-08-29T11:26:16.036263Z",
     "iopub.status.idle": "2023-08-29T11:26:16.043963Z",
     "shell.execute_reply": "2023-08-29T11:26:16.042347Z",
     "shell.execute_reply.started": "2023-08-29T11:26:16.036263Z"
    }
   },
   "source": [
    "#### 4.1 超均贡献计算度"
   ]
  },
  {
   "cell_type": "code",
   "execution_count": 39,
   "id": "17cef8f6-e309-40be-9208-f16f5db53485",
   "metadata": {
    "execution": {
     "iopub.execute_input": "2023-08-29T11:26:21.224940Z",
     "iopub.status.busy": "2023-08-29T11:26:21.223937Z",
     "iopub.status.idle": "2023-08-29T11:26:21.248187Z",
     "shell.execute_reply": "2023-08-29T11:26:21.247181Z",
     "shell.execute_reply.started": "2023-08-29T11:26:21.224940Z"
    },
    "scrolled": true
   },
   "outputs": [
    {
     "data": {
      "text/html": [
       "<div>\n",
       "<style scoped>\n",
       "    .dataframe tbody tr th:only-of-type {\n",
       "        vertical-align: middle;\n",
       "    }\n",
       "\n",
       "    .dataframe tbody tr th {\n",
       "        vertical-align: top;\n",
       "    }\n",
       "\n",
       "    .dataframe thead th {\n",
       "        text-align: right;\n",
       "    }\n",
       "</style>\n",
       "<table border=\"1\" class=\"dataframe\">\n",
       "  <thead>\n",
       "    <tr style=\"text-align: right;\">\n",
       "      <th></th>\n",
       "      <th>战区</th>\n",
       "      <th>contribution_rate</th>\n",
       "    </tr>\n",
       "  </thead>\n",
       "  <tbody>\n",
       "    <tr>\n",
       "      <th>0</th>\n",
       "      <td>自营直营</td>\n",
       "      <td>0.000000</td>\n",
       "    </tr>\n",
       "    <tr>\n",
       "      <th>1</th>\n",
       "      <td>江阴战区</td>\n",
       "      <td>-0.002407</td>\n",
       "    </tr>\n",
       "    <tr>\n",
       "      <th>2</th>\n",
       "      <td>陕西战区</td>\n",
       "      <td>0.271327</td>\n",
       "    </tr>\n",
       "    <tr>\n",
       "      <th>3</th>\n",
       "      <td>通辽战区</td>\n",
       "      <td>0.012220</td>\n",
       "    </tr>\n",
       "    <tr>\n",
       "      <th>4</th>\n",
       "      <td>苏南战区</td>\n",
       "      <td>0.032920</td>\n",
       "    </tr>\n",
       "    <tr>\n",
       "      <th>5</th>\n",
       "      <td>赤峰战区</td>\n",
       "      <td>0.005809</td>\n",
       "    </tr>\n",
       "    <tr>\n",
       "      <th>6</th>\n",
       "      <td>新东战区</td>\n",
       "      <td>0.046668</td>\n",
       "    </tr>\n",
       "    <tr>\n",
       "      <th>7</th>\n",
       "      <td>广西战区</td>\n",
       "      <td>-0.046175</td>\n",
       "    </tr>\n",
       "    <tr>\n",
       "      <th>8</th>\n",
       "      <td>天津战区</td>\n",
       "      <td>-0.003070</td>\n",
       "    </tr>\n",
       "    <tr>\n",
       "      <th>9</th>\n",
       "      <td>甘宁战区</td>\n",
       "      <td>-0.061913</td>\n",
       "    </tr>\n",
       "    <tr>\n",
       "      <th>10</th>\n",
       "      <td>湖南战区</td>\n",
       "      <td>0.185833</td>\n",
       "    </tr>\n",
       "    <tr>\n",
       "      <th>11</th>\n",
       "      <td>新中战区</td>\n",
       "      <td>-0.065630</td>\n",
       "    </tr>\n",
       "    <tr>\n",
       "      <th>12</th>\n",
       "      <td>临沂战区</td>\n",
       "      <td>-0.021307</td>\n",
       "    </tr>\n",
       "    <tr>\n",
       "      <th>13</th>\n",
       "      <td>南通战区</td>\n",
       "      <td>-0.083469</td>\n",
       "    </tr>\n",
       "    <tr>\n",
       "      <th>14</th>\n",
       "      <td>安徽战区</td>\n",
       "      <td>-0.085678</td>\n",
       "    </tr>\n",
       "    <tr>\n",
       "      <th>15</th>\n",
       "      <td>扬州战区</td>\n",
       "      <td>-0.057295</td>\n",
       "    </tr>\n",
       "    <tr>\n",
       "      <th>16</th>\n",
       "      <td>运城战区</td>\n",
       "      <td>-0.018278</td>\n",
       "    </tr>\n",
       "  </tbody>\n",
       "</table>\n",
       "</div>"
      ],
      "text/plain": [
       "      战区  contribution_rate\n",
       "0   自营直营           0.000000\n",
       "1   江阴战区          -0.002407\n",
       "2   陕西战区           0.271327\n",
       "3   通辽战区           0.012220\n",
       "4   苏南战区           0.032920\n",
       "5   赤峰战区           0.005809\n",
       "6   新东战区           0.046668\n",
       "7   广西战区          -0.046175\n",
       "8   天津战区          -0.003070\n",
       "9   甘宁战区          -0.061913\n",
       "10  湖南战区           0.185833\n",
       "11  新中战区          -0.065630\n",
       "12  临沂战区          -0.021307\n",
       "13  南通战区          -0.083469\n",
       "14  安徽战区          -0.085678\n",
       "15  扬州战区          -0.057295\n",
       "16  运城战区          -0.018278"
      ]
     },
     "execution_count": 39,
     "metadata": {},
     "output_type": "execute_result"
    }
   ],
   "source": [
    "# Calculate the fluctuation rate for the overall indicator\n",
    "overall_fluctuation_rate = (overall_current - overall_base) / overall_base\n",
    "# Calculate the fluctuation rate for each zone\n",
    "zones_df[\"fluctuation_rate\"] = (zones_df[\"实绩\"] - zones_df[\"同期\"]) / zones_df[\"同期\"]\n",
    "# Calculate the ultra-average contribution value\n",
    "zones_df[\"ultra_avg_contribution_value\"] = (zones_df[\"fluctuation_rate\"] - overall_fluctuation_rate) * zones_df[\"实绩\"]\n",
    "# Calculate the contribution rate\n",
    "total_contribution_value_sum = zones_df[\"ultra_avg_contribution_value\"].abs().sum()\n",
    "zones_df[\"contribution_rate\"] = zones_df[\"ultra_avg_contribution_value\"] / total_contribution_value_sum\n",
    "ultra_avg_contributions = zones_df[[\"战区\", \"contribution_rate\"]]\n",
    "ultra_avg_contributions"
   ]
  },
  {
   "cell_type": "code",
   "execution_count": 69,
   "id": "1e0c9fce-8213-4b47-8590-39a6643e8eb5",
   "metadata": {
    "execution": {
     "iopub.execute_input": "2023-08-29T12:07:08.917029Z",
     "iopub.status.busy": "2023-08-29T12:07:08.915914Z",
     "iopub.status.idle": "2023-08-29T12:07:09.223622Z",
     "shell.execute_reply": "2023-08-29T12:07:09.222582Z",
     "shell.execute_reply.started": "2023-08-29T12:07:08.917029Z"
    }
   },
   "outputs": [
    {
     "data": {
      "image/png": "[encoded data removed]",
      "text/plain": [
       "<Figure size 1200x800 with 1 Axes>"
      ]
     },
     "metadata": {},
     "output_type": "display_data"
    }
   ],
   "source": [
    "# 设置字体和忽略警告\n",
    "import matplotlib.pyplot as plt\n",
    "import warnings\n",
    "plt.rcParams['font.sans-serif'] = ['KaiTi']\n",
    "warnings.filterwarnings(\"ignore\")\n",
    "plt.rcParams['axes.unicode_minus'] = False\n",
    "\n",
    "# 提供的新数据\n",
    "contributions_updated = [0.00, -0.24, 27.13, 1.22, 3.29, 0.58, 4.67, -4.62, -0.31, \n",
    "                         -6.19, 18.58, -6.56, -2.13, -8.35, -8.57, -5.73, -1.83]\n",
    "\n",
    "# 绘制柱状图\n",
    "plt.figure(figsize=(12, 8))\n",
    "plt.bar(factors_names, contributions_updated, color=['red' if val < 0 else 'green' for val in contributions_updated])\n",
    "plt.ylabel('贡献度(%)')\n",
    "plt.title('超均贡献度法')\n",
    "plt.xticks(rotation=45)\n",
    "plt.grid(axis='y')\n",
    "plt.tight_layout()\n",
    "plt.show()\n",
    "\n"
   ]
  },
  {
   "cell_type": "markdown",
   "id": "66e211b7-1a5c-4a57-b90a-c9440e5e3ca5",
   "metadata": {
    "execution": {
     "iopub.execute_input": "2023-08-29T11:26:16.036263Z",
     "iopub.status.busy": "2023-08-29T11:26:16.036263Z",
     "iopub.status.idle": "2023-08-29T11:26:16.043963Z",
     "shell.execute_reply": "2023-08-29T11:26:16.042347Z",
     "shell.execute_reply.started": "2023-08-29T11:26:16.036263Z"
    }
   },
   "source": [
    "#### 4.2 加法拆分"
   ]
  },
  {
   "cell_type": "code",
   "execution_count": 35,
   "id": "37dde1af-32cc-475a-8d55-184417420ca8",
   "metadata": {
    "execution": {
     "iopub.execute_input": "2023-08-29T11:15:34.090015Z",
     "iopub.status.busy": "2023-08-29T11:15:34.090015Z",
     "iopub.status.idle": "2023-08-29T11:15:34.105319Z",
     "shell.execute_reply": "2023-08-29T11:15:34.103785Z",
     "shell.execute_reply.started": "2023-08-29T11:15:34.090015Z"
    },
    "scrolled": true
   },
   "outputs": [
    {
     "data": {
      "text/html": [
       "<div>\n",
       "<style scoped>\n",
       "    .dataframe tbody tr th:only-of-type {\n",
       "        vertical-align: middle;\n",
       "    }\n",
       "\n",
       "    .dataframe tbody tr th {\n",
       "        vertical-align: top;\n",
       "    }\n",
       "\n",
       "    .dataframe thead th {\n",
       "        text-align: right;\n",
       "    }\n",
       "</style>\n",
       "<table border=\"1\" class=\"dataframe\">\n",
       "  <thead>\n",
       "    <tr style=\"text-align: right;\">\n",
       "      <th></th>\n",
       "      <th>战区</th>\n",
       "      <th>additive_contribution</th>\n",
       "    </tr>\n",
       "  </thead>\n",
       "  <tbody>\n",
       "    <tr>\n",
       "      <th>0</th>\n",
       "      <td>自营直营</td>\n",
       "      <td>0.500000</td>\n",
       "    </tr>\n",
       "    <tr>\n",
       "      <th>1</th>\n",
       "      <td>江阴战区</td>\n",
       "      <td>0.003472</td>\n",
       "    </tr>\n",
       "    <tr>\n",
       "      <th>2</th>\n",
       "      <td>陕西战区</td>\n",
       "      <td>0.454861</td>\n",
       "    </tr>\n",
       "    <tr>\n",
       "      <th>3</th>\n",
       "      <td>通辽战区</td>\n",
       "      <td>0.045139</td>\n",
       "    </tr>\n",
       "    <tr>\n",
       "      <th>4</th>\n",
       "      <td>苏南战区</td>\n",
       "      <td>0.097222</td>\n",
       "    </tr>\n",
       "    <tr>\n",
       "      <th>5</th>\n",
       "      <td>赤峰战区</td>\n",
       "      <td>0.028935</td>\n",
       "    </tr>\n",
       "    <tr>\n",
       "      <th>6</th>\n",
       "      <td>新东战区</td>\n",
       "      <td>0.113426</td>\n",
       "    </tr>\n",
       "    <tr>\n",
       "      <th>7</th>\n",
       "      <td>广西战区</td>\n",
       "      <td>-0.060185</td>\n",
       "    </tr>\n",
       "    <tr>\n",
       "      <th>8</th>\n",
       "      <td>天津战区</td>\n",
       "      <td>0.011574</td>\n",
       "    </tr>\n",
       "    <tr>\n",
       "      <th>9</th>\n",
       "      <td>甘宁战区</td>\n",
       "      <td>-0.081019</td>\n",
       "    </tr>\n",
       "    <tr>\n",
       "      <th>10</th>\n",
       "      <td>湖南战区</td>\n",
       "      <td>0.480324</td>\n",
       "    </tr>\n",
       "    <tr>\n",
       "      <th>11</th>\n",
       "      <td>新中战区</td>\n",
       "      <td>-0.103009</td>\n",
       "    </tr>\n",
       "    <tr>\n",
       "      <th>12</th>\n",
       "      <td>临沂战区</td>\n",
       "      <td>-0.034722</td>\n",
       "    </tr>\n",
       "    <tr>\n",
       "      <th>13</th>\n",
       "      <td>南通战区</td>\n",
       "      <td>-0.182870</td>\n",
       "    </tr>\n",
       "    <tr>\n",
       "      <th>14</th>\n",
       "      <td>安徽战区</td>\n",
       "      <td>-0.140046</td>\n",
       "    </tr>\n",
       "    <tr>\n",
       "      <th>15</th>\n",
       "      <td>扬州战区</td>\n",
       "      <td>-0.107639</td>\n",
       "    </tr>\n",
       "    <tr>\n",
       "      <th>16</th>\n",
       "      <td>运城战区</td>\n",
       "      <td>-0.025463</td>\n",
       "    </tr>\n",
       "  </tbody>\n",
       "</table>\n",
       "</div>"
      ],
      "text/plain": [
       "      战区  additive_contribution\n",
       "0   自营直营               0.500000\n",
       "1   江阴战区               0.003472\n",
       "2   陕西战区               0.454861\n",
       "3   通辽战区               0.045139\n",
       "4   苏南战区               0.097222\n",
       "5   赤峰战区               0.028935\n",
       "6   新东战区               0.113426\n",
       "7   广西战区              -0.060185\n",
       "8   天津战区               0.011574\n",
       "9   甘宁战区              -0.081019\n",
       "10  湖南战区               0.480324\n",
       "11  新中战区              -0.103009\n",
       "12  临沂战区              -0.034722\n",
       "13  南通战区              -0.182870\n",
       "14  安徽战区              -0.140046\n",
       "15  扬州战区              -0.107639\n",
       "16  运城战区              -0.025463"
      ]
     },
     "execution_count": 35,
     "metadata": {},
     "output_type": "execute_result"
    }
   ],
   "source": [
    "# Calculate the absolute change for the overall and for each zone\n",
    "overall_absolute_change = overall_current - overall_base\n",
    "zones_df[\"absolute_change\"] = zones_df[\"实绩\"] - zones_df[\"同期\"]\n",
    "\n",
    "# Calculate the contribution of each zone based on the overall absolute change\n",
    "zones_df[\"additive_contribution\"] = zones_df[\"absolute_change\"] / overall_absolute_change\n",
    "\n",
    "additive_contributions = zones_df[[\"战区\", \"additive_contribution\"]]"
   ]
  },
  {
   "cell_type": "code",
   "execution_count": 70,
   "id": "0ac894ef-e3ab-4f3f-8eda-ff5644114dc5",
   "metadata": {
    "execution": {
     "iopub.execute_input": "2023-08-29T12:07:33.723368Z",
     "iopub.status.busy": "2023-08-29T12:07:33.722177Z",
     "iopub.status.idle": "2023-08-29T12:07:34.069257Z",
     "shell.execute_reply": "2023-08-29T12:07:34.069257Z",
     "shell.execute_reply.started": "2023-08-29T12:07:33.723368Z"
    }
   },
   "outputs": [
    {
     "data": {
      "image/png": "[encoded data removed]",
      "text/plain": [
       "<Figure size 1200x800 with 1 Axes>"
      ]
     },
     "metadata": {},
     "output_type": "display_data"
    }
   ],
   "source": [
    "# 设置字体和忽略警告\n",
    "import matplotlib.pyplot as plt\n",
    "import warnings\n",
    "plt.rcParams['font.sans-serif'] = ['KaiTi']\n",
    "warnings.filterwarnings(\"ignore\")\n",
    "plt.rcParams['axes.unicode_minus'] = False\n",
    "\n",
    "# 提供的数据\n",
    "factors_names = [\"自营直营\", \"江阴战区\", \"陕西战区\", \"通辽战区\", \"苏南战区\", \"赤峰战区\", \"新东战区\", \n",
    "                 \"广西战区\", \"天津战区\", \"甘宁战区\", \"湖南战区\", \"新中战区\", \"临沂战区\", \"南通战区\", \n",
    "                 \"安徽战区\", \"扬州战区\", \"运城战区\"]\n",
    "contributions_new = [50.00, 0.35, 45.49, 4.51, 9.72, 2.89, 11.34, -6.02, 1.16, -8.10, \n",
    "                     48.03, -10.30, -3.47, -18.29, -14.00, -10.76, -2.55]\n",
    "\n",
    "# 绘制柱状图\n",
    "plt.figure(figsize=(12, 8))\n",
    "plt.bar(factors_names, contributions_new, color=['red' if val < 0 else 'green' for val in contributions_new])\n",
    "plt.ylabel('贡献度(%)')\n",
    "plt.title('加法拆分归因')\n",
    "plt.xticks(rotation=45)\n",
    "plt.grid(axis='y')\n",
    "plt.tight_layout()\n",
    "plt.show()\n"
   ]
  },
  {
   "cell_type": "code",
   "execution_count": null,
   "id": "dce5b924-bea4-42ee-b060-de34d0fc58bc",
   "metadata": {},
   "outputs": [],
   "source": []
  }
 ],
 "metadata": {
  "kernelspec": {
   "display_name": "Python 3 (ipykernel)",
   "language": "python",
   "name": "python3"
  },
  "language_info": {
   "codemirror_mode": {
    "name": "ipython",
    "version": 3
   },
   "file_extension": ".py",
   "mimetype": "text/x-python",
   "name": "python",
   "nbconvert_exporter": "python",
   "pygments_lexer": "ipython3",
   "version": "3.11.4"
  }
 },
 "nbformat": 4,
 "nbformat_minor": 5
}
