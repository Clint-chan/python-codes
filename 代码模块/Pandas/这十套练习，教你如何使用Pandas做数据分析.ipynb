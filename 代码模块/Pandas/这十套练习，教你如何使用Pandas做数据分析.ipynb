{
 "cells": [
  {
   "cell_type": "markdown",
   "metadata": {
    "id": "3CA803EF0A7543C88A542441D9972FED",
    "jupyter": {},
    "mdEditEnable": false,
    "slideshow": {
     "slide_type": "slide"
    },
    "tags": []
   },
   "source": [
    "# 这十套练习，教你如何用Pandas做数据分析\n",
    "\n",
    "\n",
    "```Pandas```是入门```Python```做数据分析所必须要掌握的一个库。翻译整理自[Github](https://github.com/guipsamora/pandas_exercises)"
   ]
  },
  {
   "cell_type": "markdown",
   "metadata": {
    "id": "812008E3575B41FE9535D183CF7713F2",
    "jupyter": {},
    "mdEditEnable": false,
    "slideshow": {
     "slide_type": "slide"
    },
    "tags": []
   },
   "source": [
    "# 练习题索引\n",
    "点击习题编号即可跳转至习题内容。\n",
    "\n",
    "|习题编号|内容|相应数据集|\n",
    "|:---- |:-----|:------|\n",
    "|[练习1 - 开始了解你的数据](#练习1-开始了解你的数据) |探索Chipotle快餐数据|chipotle.tsv|\n",
    "|[练习2 - 数据过滤与排序](#练习2-数据过滤与排序) | 探索2012欧洲杯数据|Euro2012_stats.csv|\n",
    "|[练习3 - 数据分组](#练习3-数据分组) |探索酒类消费数据|drinks.csv|\n",
    "|[练习4 -Apply函数](#练习4-Apply函数)|探索1960 - 2014 美国犯罪数据|US_Crime_Rates_1960_2014.csv|\n",
    "|[练习5 - 合并](#练习5-合并)|探索虚拟姓名数据|练习中手动内置的数据|\n",
    "|[练习6 - 统计](#练习6-统计)|探索风速数据|wind.data|\n",
    "|[练习7 - 可视化](#练习7-可视化)|探索泰坦尼克灾难数据|train.csv|\n",
    "|[练习8 - 创建数据框](#练习8-创建数据框)|探索Pokemon数据|练习中手动内置的数据|\n",
    "|[练习9 - 时间序列](#练习9-时间序列)|探索Apple公司股价数据|Apple_stock.csv|\n",
    "|[练习10 - 删除数据](#练习10-删除数据) |探索Iris纸鸢花数据|iris.csv|\n"
   ]
  },
  {
   "cell_type": "markdown",
   "metadata": {
    "id": "65DDD864CD7C4B0E89601D1A42EA3DE4",
    "jupyter": {},
    "mdEditEnable": false,
    "slideshow": {
     "slide_type": "slide"
    },
    "tags": []
   },
   "source": [
    "# 对应的数据集文件路径查看"
   ]
  },
  {
   "cell_type": "code",
   "execution_count": 3,
   "metadata": {
    "collapsed": false,
    "id": "6FCA8E16DE4A49A890B2D08F1DFBC83D",
    "jupyter": {
     "outputs_hidden": false
    },
    "slideshow": {
     "slide_type": "slide"
    },
    "tags": []
   },
   "outputs": [
    {
     "name": "stdout",
     "output_type": "stream",
     "text": [
      "Apple_stock.csv               cars.csv      iris.csv              wechart.csv\r\n",
      "Euro2012_stats.csv            chipotle.tsv  second_cars_info.csv  wind.data\r\n",
      "US_Crime_Rates_1960_2014.csv  drinks.csv    train.csv\r\n"
     ]
    }
   ],
   "source": [
    "ls /home/mw/input/pandas_exercise/pandas_exercise/exercise_data/"
   ]
  },
  {
   "cell_type": "markdown",
   "metadata": {
    "id": "15AE1A1334184C649F148EF974EA9ACA",
    "jupyter": {},
    "mdEditEnable": false,
    "slideshow": {
     "slide_type": "slide"
    },
    "tags": []
   },
   "source": [
    "# 练习1-开始了解你的数据\n",
    "## 探索Chipotle快餐数据\n",
    "![image description](https://cdn.kesci.com/images/lab_upload/1508342529498_40648.jpeg)"
   ]
  },
  {
   "cell_type": "markdown",
   "metadata": {
    "id": "DB1986733FFC480081DC3BAADFFC77C3",
    "jupyter": {},
    "mdEditEnable": false,
    "slideshow": {
     "slide_type": "slide"
    },
    "tags": []
   },
   "source": [
    "[返回练习题索引](#练习题索引)"
   ]
  },
  {
   "cell_type": "markdown",
   "metadata": {
    "id": "5D459F7146964C0481088B6FA4A23D4F",
    "jupyter": {},
    "mdEditEnable": false,
    "slideshow": {
     "slide_type": "slide"
    },
    "tags": []
   },
   "source": [
    "### 步骤1 导入必要的库"
   ]
  },
  {
   "cell_type": "code",
   "execution_count": 7,
   "metadata": {
    "collapsed": false,
    "id": "C75CEAB06B5844DC83E4A424C8BACBBE",
    "jupyter": {
     "outputs_hidden": false
    },
    "slideshow": {
     "slide_type": "slide"
    },
    "tags": []
   },
   "outputs": [],
   "source": [
    "# 运行以下代码\n",
    "import pandas as pd"
   ]
  },
  {
   "cell_type": "markdown",
   "metadata": {
    "id": "D0E71B00CB954BCC8FB77990D8A180AA",
    "jupyter": {},
    "mdEditEnable": false,
    "slideshow": {
     "slide_type": "slide"
    },
    "tags": []
   },
   "source": [
    "### 步骤2 从如下地址导入数据集"
   ]
  },
  {
   "cell_type": "code",
   "execution_count": 5,
   "metadata": {
    "collapsed": false,
    "id": "FAE7F6593502441C8CB6465B290F66DC",
    "jupyter": {
     "outputs_hidden": false
    },
    "slideshow": {
     "slide_type": "slide"
    },
    "tags": []
   },
   "outputs": [],
   "source": [
    "# 运行以下代码\n",
    "path1 = \"../input/pandas_exercise/pandas_exercise/exercise_data/chipotle.tsv\"    # chipotle.tsv"
   ]
  },
  {
   "cell_type": "markdown",
   "metadata": {
    "id": "50182838108846F5872B34720715C4FF",
    "jupyter": {},
    "mdEditEnable": false,
    "slideshow": {
     "slide_type": "slide"
    },
    "tags": []
   },
   "source": [
    "### 步骤3 将数据集存入一个名为chipo的数据框内"
   ]
  },
  {
   "cell_type": "code",
   "execution_count": 8,
   "metadata": {
    "collapsed": false,
    "id": "DC17C7E623374BA285684FE3B771AD41",
    "jupyter": {
     "outputs_hidden": false
    },
    "slideshow": {
     "slide_type": "slide"
    },
    "tags": []
   },
   "outputs": [],
   "source": [
    "# 运行以下代码\n",
    "chipo = pd.read_csv(path1, sep = '\\t')"
   ]
  },
  {
   "cell_type": "markdown",
   "metadata": {
    "id": "05D6924392E4448980086187F6CEB8E0",
    "jupyter": {},
    "mdEditEnable": false,
    "slideshow": {
     "slide_type": "slide"
    },
    "tags": []
   },
   "source": [
    "### 步骤4 查看前10行内容"
   ]
  },
  {
   "cell_type": "code",
   "execution_count": 9,
   "metadata": {
    "collapsed": false,
    "id": "4D527E9B55F543C691192F42AF23343A",
    "jupyter": {
     "outputs_hidden": false
    },
    "slideshow": {
     "slide_type": "slide"
    },
    "tags": []
   },
   "outputs": [
    {
     "data": {
      "text/html": [
       "<div>\n",
       "<style scoped>\n",
       "    .dataframe tbody tr th:only-of-type {\n",
       "        vertical-align: middle;\n",
       "    }\n",
       "\n",
       "    .dataframe tbody tr th {\n",
       "        vertical-align: top;\n",
       "    }\n",
       "\n",
       "    .dataframe thead th {\n",
       "        text-align: right;\n",
       "    }\n",
       "</style>\n",
       "<table border=\"1\" class=\"dataframe\">\n",
       "  <thead>\n",
       "    <tr style=\"text-align: right;\">\n",
       "      <th></th>\n",
       "      <th>order_id</th>\n",
       "      <th>quantity</th>\n",
       "      <th>item_name</th>\n",
       "      <th>choice_description</th>\n",
       "      <th>item_price</th>\n",
       "    </tr>\n",
       "  </thead>\n",
       "  <tbody>\n",
       "    <tr>\n",
       "      <th>0</th>\n",
       "      <td>1</td>\n",
       "      <td>1</td>\n",
       "      <td>Chips and Fresh Tomato Salsa</td>\n",
       "      <td>NaN</td>\n",
       "      <td>$2.39</td>\n",
       "    </tr>\n",
       "    <tr>\n",
       "      <th>1</th>\n",
       "      <td>1</td>\n",
       "      <td>1</td>\n",
       "      <td>Izze</td>\n",
       "      <td>[Clementine]</td>\n",
       "      <td>$3.39</td>\n",
       "    </tr>\n",
       "    <tr>\n",
       "      <th>2</th>\n",
       "      <td>1</td>\n",
       "      <td>1</td>\n",
       "      <td>Nantucket Nectar</td>\n",
       "      <td>[Apple]</td>\n",
       "      <td>$3.39</td>\n",
       "    </tr>\n",
       "    <tr>\n",
       "      <th>3</th>\n",
       "      <td>1</td>\n",
       "      <td>1</td>\n",
       "      <td>Chips and Tomatillo-Green Chili Salsa</td>\n",
       "      <td>NaN</td>\n",
       "      <td>$2.39</td>\n",
       "    </tr>\n",
       "    <tr>\n",
       "      <th>4</th>\n",
       "      <td>2</td>\n",
       "      <td>2</td>\n",
       "      <td>Chicken Bowl</td>\n",
       "      <td>[Tomatillo-Red Chili Salsa (Hot), [Black Beans...</td>\n",
       "      <td>$16.98</td>\n",
       "    </tr>\n",
       "    <tr>\n",
       "      <th>5</th>\n",
       "      <td>3</td>\n",
       "      <td>1</td>\n",
       "      <td>Chicken Bowl</td>\n",
       "      <td>[Fresh Tomato Salsa (Mild), [Rice, Cheese, Sou...</td>\n",
       "      <td>$10.98</td>\n",
       "    </tr>\n",
       "    <tr>\n",
       "      <th>6</th>\n",
       "      <td>3</td>\n",
       "      <td>1</td>\n",
       "      <td>Side of Chips</td>\n",
       "      <td>NaN</td>\n",
       "      <td>$1.69</td>\n",
       "    </tr>\n",
       "    <tr>\n",
       "      <th>7</th>\n",
       "      <td>4</td>\n",
       "      <td>1</td>\n",
       "      <td>Steak Burrito</td>\n",
       "      <td>[Tomatillo Red Chili Salsa, [Fajita Vegetables...</td>\n",
       "      <td>$11.75</td>\n",
       "    </tr>\n",
       "    <tr>\n",
       "      <th>8</th>\n",
       "      <td>4</td>\n",
       "      <td>1</td>\n",
       "      <td>Steak Soft Tacos</td>\n",
       "      <td>[Tomatillo Green Chili Salsa, [Pinto Beans, Ch...</td>\n",
       "      <td>$9.25</td>\n",
       "    </tr>\n",
       "    <tr>\n",
       "      <th>9</th>\n",
       "      <td>5</td>\n",
       "      <td>1</td>\n",
       "      <td>Steak Burrito</td>\n",
       "      <td>[Fresh Tomato Salsa, [Rice, Black Beans, Pinto...</td>\n",
       "      <td>$9.25</td>\n",
       "    </tr>\n",
       "  </tbody>\n",
       "</table>\n",
       "</div>"
      ],
      "text/plain": [
       "   order_id  quantity                              item_name  \\\n",
       "0         1         1           Chips and Fresh Tomato Salsa   \n",
       "1         1         1                                   Izze   \n",
       "2         1         1                       Nantucket Nectar   \n",
       "3         1         1  Chips and Tomatillo-Green Chili Salsa   \n",
       "4         2         2                           Chicken Bowl   \n",
       "5         3         1                           Chicken Bowl   \n",
       "6         3         1                          Side of Chips   \n",
       "7         4         1                          Steak Burrito   \n",
       "8         4         1                       Steak Soft Tacos   \n",
       "9         5         1                          Steak Burrito   \n",
       "\n",
       "                                  choice_description item_price  \n",
       "0                                                NaN     $2.39   \n",
       "1                                       [Clementine]     $3.39   \n",
       "2                                            [Apple]     $3.39   \n",
       "3                                                NaN     $2.39   \n",
       "4  [Tomatillo-Red Chili Salsa (Hot), [Black Beans...    $16.98   \n",
       "5  [Fresh Tomato Salsa (Mild), [Rice, Cheese, Sou...    $10.98   \n",
       "6                                                NaN     $1.69   \n",
       "7  [Tomatillo Red Chili Salsa, [Fajita Vegetables...    $11.75   \n",
       "8  [Tomatillo Green Chili Salsa, [Pinto Beans, Ch...     $9.25   \n",
       "9  [Fresh Tomato Salsa, [Rice, Black Beans, Pinto...     $9.25   "
      ]
     },
     "metadata": {},
     "output_type": "execute_result",
     "transient": {}
    }
   ],
   "source": [
    "# 运行以下代码\n",
    "chipo.head(10)"
   ]
  },
  {
   "cell_type": "markdown",
   "metadata": {
    "id": "36C01D752F674F67A478AE1F342C6E8B",
    "jupyter": {},
    "mdEditEnable": false,
    "slideshow": {
     "slide_type": "slide"
    },
    "tags": []
   },
   "source": [
    "### 步骤6 数据集中有多少个列(columns)"
   ]
  },
  {
   "cell_type": "code",
   "execution_count": 236,
   "metadata": {
    "collapsed": false,
    "id": "6613EBD353BB4D6F8AF5D81D466D0A2C",
    "jupyter": {
     "outputs_hidden": false
    },
    "slideshow": {
     "slide_type": "slide"
    },
    "tags": []
   },
   "outputs": [
    {
     "data": {
      "text/plain": [
       "5"
      ]
     },
     "execution_count": 236,
     "metadata": {},
     "output_type": "execute_result"
    }
   ],
   "source": [
    "# 运行以下代码\n",
    "chipo.shape[1]"
   ]
  },
  {
   "cell_type": "markdown",
   "metadata": {
    "id": "20803063BBA5436891F360DB28FBFC9C",
    "jupyter": {},
    "mdEditEnable": false,
    "slideshow": {
     "slide_type": "slide"
    },
    "tags": []
   },
   "source": [
    "### 步骤7 打印出全部的列名称"
   ]
  },
  {
   "cell_type": "code",
   "execution_count": 237,
   "metadata": {
    "collapsed": false,
    "id": "1D41C3783D3A42328EBAEAA18F306F00",
    "jupyter": {
     "outputs_hidden": false
    },
    "slideshow": {
     "slide_type": "slide"
    },
    "tags": []
   },
   "outputs": [
    {
     "data": {
      "text/plain": [
       "Index(['order_id', 'quantity', 'item_name', 'choice_description',\n",
       "       'item_price'],\n",
       "      dtype='object')"
      ]
     },
     "execution_count": 237,
     "metadata": {},
     "output_type": "execute_result"
    }
   ],
   "source": [
    "# 运行以下代码\n",
    "chipo.columns"
   ]
  },
  {
   "cell_type": "markdown",
   "metadata": {
    "id": "9F31EFDDE39A434486D021321BD54BAA",
    "jupyter": {},
    "mdEditEnable": false,
    "slideshow": {
     "slide_type": "slide"
    },
    "tags": []
   },
   "source": [
    "### 步骤8 数据集的索引是怎样的"
   ]
  },
  {
   "cell_type": "code",
   "execution_count": 238,
   "metadata": {
    "collapsed": false,
    "id": "360C96EEF1A44DA7BA9F2868794BB2F3",
    "jupyter": {
     "outputs_hidden": false
    },
    "slideshow": {
     "slide_type": "slide"
    },
    "tags": []
   },
   "outputs": [
    {
     "data": {
      "text/plain": [
       "RangeIndex(start=0, stop=4622, step=1)"
      ]
     },
     "execution_count": 238,
     "metadata": {},
     "output_type": "execute_result"
    }
   ],
   "source": [
    "# 运行以下代码\n",
    "chipo.index"
   ]
  },
  {
   "cell_type": "markdown",
   "metadata": {
    "id": "8DEEE30F80DA472C8BE5E1CE46C10DA1",
    "jupyter": {},
    "mdEditEnable": false,
    "slideshow": {
     "slide_type": "slide"
    },
    "tags": []
   },
   "source": [
    "### 步骤9 被下单数最多商品(item)是什么?"
   ]
  },
  {
   "cell_type": "code",
   "execution_count": 239,
   "metadata": {
    "collapsed": false,
    "id": "6CF50B46BB154597862876451D94B56E",
    "jupyter": {
     "outputs_hidden": false
    },
    "slideshow": {
     "slide_type": "slide"
    },
    "tags": []
   },
   "outputs": [
    {
     "data": {
      "text/html": [
       "<div>\n",
       "<style scoped>\n",
       "    .dataframe tbody tr th:only-of-type {\n",
       "        vertical-align: middle;\n",
       "    }\n",
       "\n",
       "    .dataframe tbody tr th {\n",
       "        vertical-align: top;\n",
       "    }\n",
       "\n",
       "    .dataframe thead th {\n",
       "        text-align: right;\n",
       "    }\n",
       "</style>\n",
       "<table border=\"1\" class=\"dataframe\">\n",
       "  <thead>\n",
       "    <tr style=\"text-align: right;\">\n",
       "      <th></th>\n",
       "      <th>item_name</th>\n",
       "      <th>quantity</th>\n",
       "    </tr>\n",
       "  </thead>\n",
       "  <tbody>\n",
       "    <tr>\n",
       "      <th>17</th>\n",
       "      <td>Chicken Bowl</td>\n",
       "      <td>761</td>\n",
       "    </tr>\n",
       "    <tr>\n",
       "      <th>18</th>\n",
       "      <td>Chicken Burrito</td>\n",
       "      <td>591</td>\n",
       "    </tr>\n",
       "    <tr>\n",
       "      <th>25</th>\n",
       "      <td>Chips and Guacamole</td>\n",
       "      <td>506</td>\n",
       "    </tr>\n",
       "    <tr>\n",
       "      <th>39</th>\n",
       "      <td>Steak Burrito</td>\n",
       "      <td>386</td>\n",
       "    </tr>\n",
       "    <tr>\n",
       "      <th>10</th>\n",
       "      <td>Canned Soft Drink</td>\n",
       "      <td>351</td>\n",
       "    </tr>\n",
       "  </tbody>\n",
       "</table>\n",
       "</div>"
      ],
      "text/plain": [
       "              item_name  quantity\n",
       "17         Chicken Bowl       761\n",
       "18      Chicken Burrito       591\n",
       "25  Chips and Guacamole       506\n",
       "39        Steak Burrito       386\n",
       "10    Canned Soft Drink       351"
      ]
     },
     "execution_count": 239,
     "metadata": {},
     "output_type": "execute_result"
    }
   ],
   "source": [
    "# 运行以下代码，做了修正\n",
    "c = chipo[['item_name','quantity']].groupby(['item_name'],as_index=False).agg({'quantity':sum})\n",
    "c.sort_values(['quantity'],ascending=False,inplace=True)\n",
    "c.head()"
   ]
  },
  {
   "cell_type": "markdown",
   "metadata": {
    "id": "3FCD63E8DECE41F69F628F96BAE8BED6",
    "jupyter": {},
    "mdEditEnable": false,
    "slideshow": {
     "slide_type": "slide"
    },
    "tags": []
   },
   "source": [
    "### 步骤10 在item_name这一列中，一共有多少种商品被下单？"
   ]
  },
  {
   "cell_type": "code",
   "execution_count": 240,
   "metadata": {
    "collapsed": false,
    "id": "5EBAF985AFD746D9BCBD6F1A4C02A3DF",
    "jupyter": {
     "outputs_hidden": false
    },
    "slideshow": {
     "slide_type": "slide"
    },
    "tags": []
   },
   "outputs": [
    {
     "data": {
      "text/plain": [
       "50"
      ]
     },
     "execution_count": 240,
     "metadata": {},
     "output_type": "execute_result"
    }
   ],
   "source": [
    "# 运行以下代码\n",
    "chipo['item_name'].nunique()"
   ]
  },
  {
   "cell_type": "markdown",
   "metadata": {
    "id": "41992A1FF1104EBA8E081CABA37A3789",
    "jupyter": {},
    "mdEditEnable": false,
    "slideshow": {
     "slide_type": "slide"
    },
    "tags": []
   },
   "source": [
    "### 步骤11 在choice_description中，下单次数最多的商品是什么？"
   ]
  },
  {
   "cell_type": "code",
   "execution_count": 241,
   "metadata": {
    "collapsed": false,
    "id": "EE93DCF6B6D040B98A3A3C42F19C96E7",
    "jupyter": {
     "outputs_hidden": false
    },
    "slideshow": {
     "slide_type": "slide"
    },
    "tags": []
   },
   "outputs": [
    {
     "data": {
      "text/plain": [
       "[Diet Coke]                                                                          134\n",
       "[Coke]                                                                               123\n",
       "[Sprite]                                                                              77\n",
       "[Fresh Tomato Salsa, [Rice, Black Beans, Cheese, Sour Cream, Lettuce]]                42\n",
       "[Fresh Tomato Salsa, [Rice, Black Beans, Cheese, Sour Cream, Guacamole, Lettuce]]     40\n",
       "Name: choice_description, dtype: int64"
      ]
     },
     "execution_count": 241,
     "metadata": {},
     "output_type": "execute_result"
    }
   ],
   "source": [
    "# 运行以下代码，存在一些小问题\n",
    "chipo['choice_description'].value_counts().head()"
   ]
  },
  {
   "cell_type": "markdown",
   "metadata": {
    "id": "4B0F3135C107415D8294267590E85DEB",
    "jupyter": {},
    "mdEditEnable": false,
    "slideshow": {
     "slide_type": "slide"
    },
    "tags": []
   },
   "source": [
    "### 步骤12 一共有多少商品被下单？"
   ]
  },
  {
   "cell_type": "code",
   "execution_count": 242,
   "metadata": {
    "collapsed": false,
    "id": "4B7A876AD7B54DF38CDC177B77BDE81C",
    "jupyter": {
     "outputs_hidden": false
    },
    "slideshow": {
     "slide_type": "slide"
    },
    "tags": []
   },
   "outputs": [
    {
     "data": {
      "text/plain": [
       "4972"
      ]
     },
     "execution_count": 242,
     "metadata": {},
     "output_type": "execute_result"
    }
   ],
   "source": [
    "# 运行以下代码\n",
    "total_items_orders = chipo['quantity'].sum()\n",
    "total_items_orders"
   ]
  },
  {
   "cell_type": "markdown",
   "metadata": {
    "id": "87D08C714BD5474E87289C6369CDEE32",
    "jupyter": {},
    "mdEditEnable": false,
    "slideshow": {
     "slide_type": "slide"
    },
    "tags": []
   },
   "source": [
    "### 步骤13 将item_price转换为浮点数"
   ]
  },
  {
   "cell_type": "code",
   "execution_count": 243,
   "metadata": {
    "collapsed": false,
    "id": "EC9ED140244E448F82A120BD21FBB797",
    "jupyter": {
     "outputs_hidden": false
    },
    "slideshow": {
     "slide_type": "slide"
    },
    "tags": []
   },
   "outputs": [],
   "source": [
    "# 运行以下代码\n",
    "dollarizer = lambda x: float(x[1:-1])\n",
    "chipo['item_price'] = chipo['item_price'].apply(dollarizer)"
   ]
  },
  {
   "cell_type": "markdown",
   "metadata": {
    "id": "90B1CFA500B3432685D36E0811322FA6",
    "jupyter": {},
    "mdEditEnable": false,
    "slideshow": {
     "slide_type": "slide"
    },
    "tags": []
   },
   "source": [
    "### 步骤14 在该数据集对应的时期内，收入(revenue)是多少"
   ]
  },
  {
   "cell_type": "code",
   "execution_count": 244,
   "metadata": {
    "collapsed": false,
    "id": "A77F1FEB032E42A19B8F761D86E38EE9",
    "jupyter": {
     "outputs_hidden": false
    },
    "slideshow": {
     "slide_type": "slide"
    },
    "tags": []
   },
   "outputs": [
    {
     "data": {
      "text/plain": [
       "39237.02"
      ]
     },
     "execution_count": 244,
     "metadata": {},
     "output_type": "execute_result"
    }
   ],
   "source": [
    "# 运行以下代码,已经做更正\n",
    "chipo['sub_total'] = round(chipo['item_price'] * chipo['quantity'],2)\n",
    "chipo['sub_total'].sum()"
   ]
  },
  {
   "cell_type": "markdown",
   "metadata": {
    "id": "FA9D729D7447428AB721A1F110EB8AE5",
    "jupyter": {},
    "mdEditEnable": false,
    "slideshow": {
     "slide_type": "slide"
    },
    "tags": []
   },
   "source": [
    "### 步骤15 在该数据集对应的时期内，一共有多少订单？"
   ]
  },
  {
   "cell_type": "code",
   "execution_count": 245,
   "metadata": {
    "collapsed": false,
    "id": "AF9C2C658624443C8EBA17CB129B5404",
    "jupyter": {
     "outputs_hidden": false
    },
    "slideshow": {
     "slide_type": "slide"
    },
    "tags": []
   },
   "outputs": [
    {
     "data": {
      "text/plain": [
       "1834"
      ]
     },
     "execution_count": 245,
     "metadata": {},
     "output_type": "execute_result"
    }
   ],
   "source": [
    "# 运行以下代码\n",
    "chipo['order_id'].nunique()"
   ]
  },
  {
   "cell_type": "markdown",
   "metadata": {
    "id": "012BFF099BF642AC803BAF3733F6FCD9",
    "jupyter": {},
    "mdEditEnable": false,
    "slideshow": {
     "slide_type": "slide"
    },
    "tags": []
   },
   "source": [
    "### 步骤16 每一单(order)对应的平均总价是多少？"
   ]
  },
  {
   "cell_type": "code",
   "execution_count": 246,
   "metadata": {
    "collapsed": false,
    "id": "A8A6A6BE4DD3423E9A68BCDCAA54D9D7",
    "jupyter": {
     "outputs_hidden": false
    },
    "mdEditEnable": false,
    "slideshow": {
     "slide_type": "slide"
    },
    "tags": []
   },
   "outputs": [
    {
     "data": {
      "text/plain": [
       "21.39423118865867"
      ]
     },
     "execution_count": 246,
     "metadata": {},
     "output_type": "execute_result"
    }
   ],
   "source": [
    "# 运行以下代码，已经做过更正\n",
    "chipo[['order_id','sub_total']].groupby(by=['order_id']\n",
    ").agg({'sub_total':'sum'})['sub_total'].mean()"
   ]
  },
  {
   "cell_type": "markdown",
   "metadata": {
    "id": "1908B5E031E34422ABD9A810738F5274",
    "jupyter": {},
    "mdEditEnable": false,
    "slideshow": {
     "slide_type": "slide"
    },
    "tags": []
   },
   "source": [
    "### 步骤17 一共有多少种不同的商品被售出？"
   ]
  },
  {
   "cell_type": "code",
   "execution_count": 247,
   "metadata": {
    "collapsed": false,
    "id": "0263B0740829494A8E2030859F1117D8",
    "jupyter": {
     "outputs_hidden": false
    },
    "slideshow": {
     "slide_type": "slide"
    },
    "tags": []
   },
   "outputs": [
    {
     "data": {
      "text/plain": [
       "50"
      ]
     },
     "execution_count": 247,
     "metadata": {},
     "output_type": "execute_result"
    }
   ],
   "source": [
    "# 运行以下代码\n",
    "chipo['item_name'].nunique()"
   ]
  },
  {
   "cell_type": "markdown",
   "metadata": {
    "id": "ED5E8E7701BE414880F87B1C0AED18A5",
    "jupyter": {},
    "mdEditEnable": false,
    "slideshow": {
     "slide_type": "slide"
    },
    "tags": []
   },
   "source": [
    "[返回练习题索引](#练习题索引)"
   ]
  },
  {
   "cell_type": "markdown",
   "metadata": {
    "id": "65818C7767B54230816B241B20786D13",
    "jupyter": {},
    "mdEditEnable": false,
    "slideshow": {
     "slide_type": "slide"
    },
    "tags": []
   },
   "source": [
    "# 练习2-数据过滤与排序\n",
    "## 探索2012欧洲杯数据\n",
    "![image description](https://cdn.kesci.com/images/lab_upload/1508342554087_23763.jpeg)"
   ]
  },
  {
   "cell_type": "markdown",
   "metadata": {
    "id": "A41FAA4DC5FF461686FF518FE61F02C9",
    "jupyter": {},
    "mdEditEnable": false,
    "slideshow": {
     "slide_type": "slide"
    },
    "tags": []
   },
   "source": [
    "[返回练习题索引](#练习题索引)"
   ]
  },
  {
   "cell_type": "markdown",
   "metadata": {
    "id": "B5885483F9184D3E8A0F6C8698C97C6B",
    "jupyter": {},
    "mdEditEnable": false,
    "slideshow": {
     "slide_type": "slide"
    },
    "tags": []
   },
   "source": [
    "### 步骤1 - 导入必要的库"
   ]
  },
  {
   "cell_type": "code",
   "execution_count": 248,
   "metadata": {
    "collapsed": false,
    "id": "9B6335351C2F41AE95DB3074C951A5EF",
    "jupyter": {
     "outputs_hidden": false
    },
    "slideshow": {
     "slide_type": "slide"
    },
    "tags": []
   },
   "outputs": [],
   "source": [
    "# 运行以下代码\n",
    "import pandas as pd"
   ]
  },
  {
   "cell_type": "markdown",
   "metadata": {
    "id": "C85B6DE1B72240BE8318BE25FF67A03B",
    "jupyter": {},
    "mdEditEnable": false,
    "slideshow": {
     "slide_type": "slide"
    },
    "tags": []
   },
   "source": [
    "### 步骤2 - 从以下地址导入数据集"
   ]
  },
  {
   "cell_type": "code",
   "execution_count": 249,
   "metadata": {
    "collapsed": false,
    "id": "700B6577DD7D472AA84D6629A2F42BA4",
    "jupyter": {
     "outputs_hidden": false
    },
    "slideshow": {
     "slide_type": "slide"
    },
    "tags": []
   },
   "outputs": [],
   "source": [
    "# 运行以下代码\n",
    "path2 = \"../input/pandas_exercise/exercise_data/Euro2012_stats.csv\"      # Euro2012_stats.csv"
   ]
  },
  {
   "cell_type": "markdown",
   "metadata": {
    "id": "F5F9D72407874AA7B04F507D333506D0",
    "jupyter": {},
    "mdEditEnable": false,
    "slideshow": {
     "slide_type": "slide"
    },
    "tags": []
   },
   "source": [
    "### 步骤3 - 将数据集命名为euro12"
   ]
  },
  {
   "cell_type": "code",
   "execution_count": 250,
   "metadata": {
    "collapsed": false,
    "id": "1877678AEBAF49E88E3E1551B8230BF9",
    "jupyter": {
     "outputs_hidden": false
    },
    "slideshow": {
     "slide_type": "slide"
    },
    "tags": []
   },
   "outputs": [
    {
     "data": {
      "text/html": [
       "<div>\n",
       "<style scoped>\n",
       "    .dataframe tbody tr th:only-of-type {\n",
       "        vertical-align: middle;\n",
       "    }\n",
       "\n",
       "    .dataframe tbody tr th {\n",
       "        vertical-align: top;\n",
       "    }\n",
       "\n",
       "    .dataframe thead th {\n",
       "        text-align: right;\n",
       "    }\n",
       "</style>\n",
       "<table border=\"1\" class=\"dataframe\">\n",
       "  <thead>\n",
       "    <tr style=\"text-align: right;\">\n",
       "      <th></th>\n",
       "      <th>Team</th>\n",
       "      <th>Goals</th>\n",
       "      <th>Shots on target</th>\n",
       "      <th>Shots off target</th>\n",
       "      <th>Shooting Accuracy</th>\n",
       "      <th>% Goals-to-shots</th>\n",
       "      <th>Total shots (inc. Blocked)</th>\n",
       "      <th>Hit Woodwork</th>\n",
       "      <th>Penalty goals</th>\n",
       "      <th>Penalties not scored</th>\n",
       "      <th>...</th>\n",
       "      <th>Saves made</th>\n",
       "      <th>Saves-to-shots ratio</th>\n",
       "      <th>Fouls Won</th>\n",
       "      <th>Fouls Conceded</th>\n",
       "      <th>Offsides</th>\n",
       "      <th>Yellow Cards</th>\n",
       "      <th>Red Cards</th>\n",
       "      <th>Subs on</th>\n",
       "      <th>Subs off</th>\n",
       "      <th>Players Used</th>\n",
       "    </tr>\n",
       "  </thead>\n",
       "  <tbody>\n",
       "    <tr>\n",
       "      <th>0</th>\n",
       "      <td>Croatia</td>\n",
       "      <td>4</td>\n",
       "      <td>13</td>\n",
       "      <td>12</td>\n",
       "      <td>51.9%</td>\n",
       "      <td>16.0%</td>\n",
       "      <td>32</td>\n",
       "      <td>0</td>\n",
       "      <td>0</td>\n",
       "      <td>0</td>\n",
       "      <td>...</td>\n",
       "      <td>13</td>\n",
       "      <td>81.3%</td>\n",
       "      <td>41</td>\n",
       "      <td>62</td>\n",
       "      <td>2</td>\n",
       "      <td>9</td>\n",
       "      <td>0</td>\n",
       "      <td>9</td>\n",
       "      <td>9</td>\n",
       "      <td>16</td>\n",
       "    </tr>\n",
       "    <tr>\n",
       "      <th>1</th>\n",
       "      <td>Czech Republic</td>\n",
       "      <td>4</td>\n",
       "      <td>13</td>\n",
       "      <td>18</td>\n",
       "      <td>41.9%</td>\n",
       "      <td>12.9%</td>\n",
       "      <td>39</td>\n",
       "      <td>0</td>\n",
       "      <td>0</td>\n",
       "      <td>0</td>\n",
       "      <td>...</td>\n",
       "      <td>9</td>\n",
       "      <td>60.1%</td>\n",
       "      <td>53</td>\n",
       "      <td>73</td>\n",
       "      <td>8</td>\n",
       "      <td>7</td>\n",
       "      <td>0</td>\n",
       "      <td>11</td>\n",
       "      <td>11</td>\n",
       "      <td>19</td>\n",
       "    </tr>\n",
       "    <tr>\n",
       "      <th>2</th>\n",
       "      <td>Denmark</td>\n",
       "      <td>4</td>\n",
       "      <td>10</td>\n",
       "      <td>10</td>\n",
       "      <td>50.0%</td>\n",
       "      <td>20.0%</td>\n",
       "      <td>27</td>\n",
       "      <td>1</td>\n",
       "      <td>0</td>\n",
       "      <td>0</td>\n",
       "      <td>...</td>\n",
       "      <td>10</td>\n",
       "      <td>66.7%</td>\n",
       "      <td>25</td>\n",
       "      <td>38</td>\n",
       "      <td>8</td>\n",
       "      <td>4</td>\n",
       "      <td>0</td>\n",
       "      <td>7</td>\n",
       "      <td>7</td>\n",
       "      <td>15</td>\n",
       "    </tr>\n",
       "    <tr>\n",
       "      <th>3</th>\n",
       "      <td>England</td>\n",
       "      <td>5</td>\n",
       "      <td>11</td>\n",
       "      <td>18</td>\n",
       "      <td>50.0%</td>\n",
       "      <td>17.2%</td>\n",
       "      <td>40</td>\n",
       "      <td>0</td>\n",
       "      <td>0</td>\n",
       "      <td>0</td>\n",
       "      <td>...</td>\n",
       "      <td>22</td>\n",
       "      <td>88.1%</td>\n",
       "      <td>43</td>\n",
       "      <td>45</td>\n",
       "      <td>6</td>\n",
       "      <td>5</td>\n",
       "      <td>0</td>\n",
       "      <td>11</td>\n",
       "      <td>11</td>\n",
       "      <td>16</td>\n",
       "    </tr>\n",
       "    <tr>\n",
       "      <th>4</th>\n",
       "      <td>France</td>\n",
       "      <td>3</td>\n",
       "      <td>22</td>\n",
       "      <td>24</td>\n",
       "      <td>37.9%</td>\n",
       "      <td>6.5%</td>\n",
       "      <td>65</td>\n",
       "      <td>1</td>\n",
       "      <td>0</td>\n",
       "      <td>0</td>\n",
       "      <td>...</td>\n",
       "      <td>6</td>\n",
       "      <td>54.6%</td>\n",
       "      <td>36</td>\n",
       "      <td>51</td>\n",
       "      <td>5</td>\n",
       "      <td>6</td>\n",
       "      <td>0</td>\n",
       "      <td>11</td>\n",
       "      <td>11</td>\n",
       "      <td>19</td>\n",
       "    </tr>\n",
       "    <tr>\n",
       "      <th>5</th>\n",
       "      <td>Germany</td>\n",
       "      <td>10</td>\n",
       "      <td>32</td>\n",
       "      <td>32</td>\n",
       "      <td>47.8%</td>\n",
       "      <td>15.6%</td>\n",
       "      <td>80</td>\n",
       "      <td>2</td>\n",
       "      <td>1</td>\n",
       "      <td>0</td>\n",
       "      <td>...</td>\n",
       "      <td>10</td>\n",
       "      <td>62.6%</td>\n",
       "      <td>63</td>\n",
       "      <td>49</td>\n",
       "      <td>12</td>\n",
       "      <td>4</td>\n",
       "      <td>0</td>\n",
       "      <td>15</td>\n",
       "      <td>15</td>\n",
       "      <td>17</td>\n",
       "    </tr>\n",
       "    <tr>\n",
       "      <th>6</th>\n",
       "      <td>Greece</td>\n",
       "      <td>5</td>\n",
       "      <td>8</td>\n",
       "      <td>18</td>\n",
       "      <td>30.7%</td>\n",
       "      <td>19.2%</td>\n",
       "      <td>32</td>\n",
       "      <td>1</td>\n",
       "      <td>1</td>\n",
       "      <td>1</td>\n",
       "      <td>...</td>\n",
       "      <td>13</td>\n",
       "      <td>65.1%</td>\n",
       "      <td>67</td>\n",
       "      <td>48</td>\n",
       "      <td>12</td>\n",
       "      <td>9</td>\n",
       "      <td>1</td>\n",
       "      <td>12</td>\n",
       "      <td>12</td>\n",
       "      <td>20</td>\n",
       "    </tr>\n",
       "    <tr>\n",
       "      <th>7</th>\n",
       "      <td>Italy</td>\n",
       "      <td>6</td>\n",
       "      <td>34</td>\n",
       "      <td>45</td>\n",
       "      <td>43.0%</td>\n",
       "      <td>7.5%</td>\n",
       "      <td>110</td>\n",
       "      <td>2</td>\n",
       "      <td>0</td>\n",
       "      <td>0</td>\n",
       "      <td>...</td>\n",
       "      <td>20</td>\n",
       "      <td>74.1%</td>\n",
       "      <td>101</td>\n",
       "      <td>89</td>\n",
       "      <td>16</td>\n",
       "      <td>16</td>\n",
       "      <td>0</td>\n",
       "      <td>18</td>\n",
       "      <td>18</td>\n",
       "      <td>19</td>\n",
       "    </tr>\n",
       "    <tr>\n",
       "      <th>8</th>\n",
       "      <td>Netherlands</td>\n",
       "      <td>2</td>\n",
       "      <td>12</td>\n",
       "      <td>36</td>\n",
       "      <td>25.0%</td>\n",
       "      <td>4.1%</td>\n",
       "      <td>60</td>\n",
       "      <td>2</td>\n",
       "      <td>0</td>\n",
       "      <td>0</td>\n",
       "      <td>...</td>\n",
       "      <td>12</td>\n",
       "      <td>70.6%</td>\n",
       "      <td>35</td>\n",
       "      <td>30</td>\n",
       "      <td>3</td>\n",
       "      <td>5</td>\n",
       "      <td>0</td>\n",
       "      <td>7</td>\n",
       "      <td>7</td>\n",
       "      <td>15</td>\n",
       "    </tr>\n",
       "    <tr>\n",
       "      <th>9</th>\n",
       "      <td>Poland</td>\n",
       "      <td>2</td>\n",
       "      <td>15</td>\n",
       "      <td>23</td>\n",
       "      <td>39.4%</td>\n",
       "      <td>5.2%</td>\n",
       "      <td>48</td>\n",
       "      <td>0</td>\n",
       "      <td>0</td>\n",
       "      <td>0</td>\n",
       "      <td>...</td>\n",
       "      <td>6</td>\n",
       "      <td>66.7%</td>\n",
       "      <td>48</td>\n",
       "      <td>56</td>\n",
       "      <td>3</td>\n",
       "      <td>7</td>\n",
       "      <td>1</td>\n",
       "      <td>7</td>\n",
       "      <td>7</td>\n",
       "      <td>17</td>\n",
       "    </tr>\n",
       "    <tr>\n",
       "      <th>10</th>\n",
       "      <td>Portugal</td>\n",
       "      <td>6</td>\n",
       "      <td>22</td>\n",
       "      <td>42</td>\n",
       "      <td>34.3%</td>\n",
       "      <td>9.3%</td>\n",
       "      <td>82</td>\n",
       "      <td>6</td>\n",
       "      <td>0</td>\n",
       "      <td>0</td>\n",
       "      <td>...</td>\n",
       "      <td>10</td>\n",
       "      <td>71.5%</td>\n",
       "      <td>73</td>\n",
       "      <td>90</td>\n",
       "      <td>10</td>\n",
       "      <td>12</td>\n",
       "      <td>0</td>\n",
       "      <td>14</td>\n",
       "      <td>14</td>\n",
       "      <td>16</td>\n",
       "    </tr>\n",
       "    <tr>\n",
       "      <th>11</th>\n",
       "      <td>Republic of Ireland</td>\n",
       "      <td>1</td>\n",
       "      <td>7</td>\n",
       "      <td>12</td>\n",
       "      <td>36.8%</td>\n",
       "      <td>5.2%</td>\n",
       "      <td>28</td>\n",
       "      <td>0</td>\n",
       "      <td>0</td>\n",
       "      <td>0</td>\n",
       "      <td>...</td>\n",
       "      <td>17</td>\n",
       "      <td>65.4%</td>\n",
       "      <td>43</td>\n",
       "      <td>51</td>\n",
       "      <td>11</td>\n",
       "      <td>6</td>\n",
       "      <td>1</td>\n",
       "      <td>10</td>\n",
       "      <td>10</td>\n",
       "      <td>17</td>\n",
       "    </tr>\n",
       "    <tr>\n",
       "      <th>12</th>\n",
       "      <td>Russia</td>\n",
       "      <td>5</td>\n",
       "      <td>9</td>\n",
       "      <td>31</td>\n",
       "      <td>22.5%</td>\n",
       "      <td>12.5%</td>\n",
       "      <td>59</td>\n",
       "      <td>2</td>\n",
       "      <td>0</td>\n",
       "      <td>0</td>\n",
       "      <td>...</td>\n",
       "      <td>10</td>\n",
       "      <td>77.0%</td>\n",
       "      <td>34</td>\n",
       "      <td>43</td>\n",
       "      <td>4</td>\n",
       "      <td>6</td>\n",
       "      <td>0</td>\n",
       "      <td>7</td>\n",
       "      <td>7</td>\n",
       "      <td>16</td>\n",
       "    </tr>\n",
       "    <tr>\n",
       "      <th>13</th>\n",
       "      <td>Spain</td>\n",
       "      <td>12</td>\n",
       "      <td>42</td>\n",
       "      <td>33</td>\n",
       "      <td>55.9%</td>\n",
       "      <td>16.0%</td>\n",
       "      <td>100</td>\n",
       "      <td>0</td>\n",
       "      <td>1</td>\n",
       "      <td>0</td>\n",
       "      <td>...</td>\n",
       "      <td>15</td>\n",
       "      <td>93.8%</td>\n",
       "      <td>102</td>\n",
       "      <td>83</td>\n",
       "      <td>19</td>\n",
       "      <td>11</td>\n",
       "      <td>0</td>\n",
       "      <td>17</td>\n",
       "      <td>17</td>\n",
       "      <td>18</td>\n",
       "    </tr>\n",
       "    <tr>\n",
       "      <th>14</th>\n",
       "      <td>Sweden</td>\n",
       "      <td>5</td>\n",
       "      <td>17</td>\n",
       "      <td>19</td>\n",
       "      <td>47.2%</td>\n",
       "      <td>13.8%</td>\n",
       "      <td>39</td>\n",
       "      <td>3</td>\n",
       "      <td>0</td>\n",
       "      <td>0</td>\n",
       "      <td>...</td>\n",
       "      <td>8</td>\n",
       "      <td>61.6%</td>\n",
       "      <td>35</td>\n",
       "      <td>51</td>\n",
       "      <td>7</td>\n",
       "      <td>7</td>\n",
       "      <td>0</td>\n",
       "      <td>9</td>\n",
       "      <td>9</td>\n",
       "      <td>18</td>\n",
       "    </tr>\n",
       "    <tr>\n",
       "      <th>15</th>\n",
       "      <td>Ukraine</td>\n",
       "      <td>2</td>\n",
       "      <td>7</td>\n",
       "      <td>26</td>\n",
       "      <td>21.2%</td>\n",
       "      <td>6.0%</td>\n",
       "      <td>38</td>\n",
       "      <td>0</td>\n",
       "      <td>0</td>\n",
       "      <td>0</td>\n",
       "      <td>...</td>\n",
       "      <td>13</td>\n",
       "      <td>76.5%</td>\n",
       "      <td>48</td>\n",
       "      <td>31</td>\n",
       "      <td>4</td>\n",
       "      <td>5</td>\n",
       "      <td>0</td>\n",
       "      <td>9</td>\n",
       "      <td>9</td>\n",
       "      <td>18</td>\n",
       "    </tr>\n",
       "  </tbody>\n",
       "</table>\n",
       "<p>16 rows × 35 columns</p>\n",
       "</div>"
      ],
      "text/plain": [
       "                   Team  Goals  Shots on target  Shots off target  \\\n",
       "0               Croatia      4               13                12   \n",
       "1        Czech Republic      4               13                18   \n",
       "2               Denmark      4               10                10   \n",
       "3               England      5               11                18   \n",
       "4                France      3               22                24   \n",
       "5               Germany     10               32                32   \n",
       "6                Greece      5                8                18   \n",
       "7                 Italy      6               34                45   \n",
       "8           Netherlands      2               12                36   \n",
       "9                Poland      2               15                23   \n",
       "10             Portugal      6               22                42   \n",
       "11  Republic of Ireland      1                7                12   \n",
       "12               Russia      5                9                31   \n",
       "13                Spain     12               42                33   \n",
       "14               Sweden      5               17                19   \n",
       "15              Ukraine      2                7                26   \n",
       "\n",
       "   Shooting Accuracy % Goals-to-shots  Total shots (inc. Blocked)  \\\n",
       "0              51.9%            16.0%                          32   \n",
       "1              41.9%            12.9%                          39   \n",
       "2              50.0%            20.0%                          27   \n",
       "3              50.0%            17.2%                          40   \n",
       "4              37.9%             6.5%                          65   \n",
       "5              47.8%            15.6%                          80   \n",
       "6              30.7%            19.2%                          32   \n",
       "7              43.0%             7.5%                         110   \n",
       "8              25.0%             4.1%                          60   \n",
       "9              39.4%             5.2%                          48   \n",
       "10             34.3%             9.3%                          82   \n",
       "11             36.8%             5.2%                          28   \n",
       "12             22.5%            12.5%                          59   \n",
       "13             55.9%            16.0%                         100   \n",
       "14             47.2%            13.8%                          39   \n",
       "15             21.2%             6.0%                          38   \n",
       "\n",
       "    Hit Woodwork  Penalty goals  Penalties not scored      ...       \\\n",
       "0              0              0                     0      ...        \n",
       "1              0              0                     0      ...        \n",
       "2              1              0                     0      ...        \n",
       "3              0              0                     0      ...        \n",
       "4              1              0                     0      ...        \n",
       "5              2              1                     0      ...        \n",
       "6              1              1                     1      ...        \n",
       "7              2              0                     0      ...        \n",
       "8              2              0                     0      ...        \n",
       "9              0              0                     0      ...        \n",
       "10             6              0                     0      ...        \n",
       "11             0              0                     0      ...        \n",
       "12             2              0                     0      ...        \n",
       "13             0              1                     0      ...        \n",
       "14             3              0                     0      ...        \n",
       "15             0              0                     0      ...        \n",
       "\n",
       "    Saves made  Saves-to-shots ratio  Fouls Won Fouls Conceded  Offsides  \\\n",
       "0           13                 81.3%         41             62         2   \n",
       "1            9                 60.1%         53             73         8   \n",
       "2           10                 66.7%         25             38         8   \n",
       "3           22                 88.1%         43             45         6   \n",
       "4            6                 54.6%         36             51         5   \n",
       "5           10                 62.6%         63             49        12   \n",
       "6           13                 65.1%         67             48        12   \n",
       "7           20                 74.1%        101             89        16   \n",
       "8           12                 70.6%         35             30         3   \n",
       "9            6                 66.7%         48             56         3   \n",
       "10          10                 71.5%         73             90        10   \n",
       "11          17                 65.4%         43             51        11   \n",
       "12          10                 77.0%         34             43         4   \n",
       "13          15                 93.8%        102             83        19   \n",
       "14           8                 61.6%         35             51         7   \n",
       "15          13                 76.5%         48             31         4   \n",
       "\n",
       "    Yellow Cards  Red Cards  Subs on  Subs off  Players Used  \n",
       "0              9          0        9         9            16  \n",
       "1              7          0       11        11            19  \n",
       "2              4          0        7         7            15  \n",
       "3              5          0       11        11            16  \n",
       "4              6          0       11        11            19  \n",
       "5              4          0       15        15            17  \n",
       "6              9          1       12        12            20  \n",
       "7             16          0       18        18            19  \n",
       "8              5          0        7         7            15  \n",
       "9              7          1        7         7            17  \n",
       "10            12          0       14        14            16  \n",
       "11             6          1       10        10            17  \n",
       "12             6          0        7         7            16  \n",
       "13            11          0       17        17            18  \n",
       "14             7          0        9         9            18  \n",
       "15             5          0        9         9            18  \n",
       "\n",
       "[16 rows x 35 columns]"
      ]
     },
     "execution_count": 250,
     "metadata": {},
     "output_type": "execute_result"
    }
   ],
   "source": [
    "# 运行以下代码\n",
    "euro12 = pd.read_csv(path2)\n",
    "euro12"
   ]
  },
  {
   "cell_type": "markdown",
   "metadata": {
    "id": "361E9D2010D04EE9B87F2852FE109674",
    "jupyter": {},
    "mdEditEnable": false,
    "slideshow": {
     "slide_type": "slide"
    },
    "tags": []
   },
   "source": [
    "### 步骤4 只选取 ```Goals``` 这一列"
   ]
  },
  {
   "cell_type": "code",
   "execution_count": 251,
   "metadata": {
    "collapsed": false,
    "id": "EC00B2F415C042138AAF9A4CDFC9C082",
    "jupyter": {
     "outputs_hidden": false
    },
    "slideshow": {
     "slide_type": "slide"
    },
    "tags": []
   },
   "outputs": [
    {
     "data": {
      "text/plain": [
       "0      4\n",
       "1      4\n",
       "2      4\n",
       "3      5\n",
       "4      3\n",
       "5     10\n",
       "6      5\n",
       "7      6\n",
       "8      2\n",
       "9      2\n",
       "10     6\n",
       "11     1\n",
       "12     5\n",
       "13    12\n",
       "14     5\n",
       "15     2\n",
       "Name: Goals, dtype: int64"
      ]
     },
     "execution_count": 251,
     "metadata": {},
     "output_type": "execute_result"
    }
   ],
   "source": [
    "# 运行以下代码\n",
    "euro12.Goals"
   ]
  },
  {
   "cell_type": "markdown",
   "metadata": {
    "id": "9CBF9BA701B048449D1A4DD2FEA2F140",
    "jupyter": {},
    "mdEditEnable": false,
    "slideshow": {
     "slide_type": "slide"
    },
    "tags": []
   },
   "source": [
    "### 步骤5 有多少球队参与了2012欧洲杯？"
   ]
  },
  {
   "cell_type": "code",
   "execution_count": 252,
   "metadata": {
    "collapsed": false,
    "id": "17A2EC8280584B3798DCD3B62D61EED9",
    "jupyter": {
     "outputs_hidden": false
    },
    "slideshow": {
     "slide_type": "slide"
    },
    "tags": []
   },
   "outputs": [
    {
     "data": {
      "text/plain": [
       "16"
      ]
     },
     "execution_count": 252,
     "metadata": {},
     "output_type": "execute_result"
    }
   ],
   "source": [
    "# 运行以下代码\n",
    "euro12.shape[0]"
   ]
  },
  {
   "cell_type": "markdown",
   "metadata": {
    "id": "484D858BAF1D4611ADF9DFD9149D2C2B",
    "jupyter": {},
    "mdEditEnable": false,
    "slideshow": {
     "slide_type": "slide"
    },
    "tags": []
   },
   "source": [
    "### 步骤6 该数据集中一共有多少列(columns)?"
   ]
  },
  {
   "cell_type": "code",
   "execution_count": 253,
   "metadata": {
    "collapsed": false,
    "id": "180424EB08CF49B2BE7D58C064239AD6",
    "jupyter": {
     "outputs_hidden": false
    },
    "slideshow": {
     "slide_type": "slide"
    },
    "tags": []
   },
   "outputs": [
    {
     "name": "stdout",
     "output_type": "stream",
     "text": [
      "<class 'pandas.core.frame.DataFrame'>\n",
      "RangeIndex: 16 entries, 0 to 15\n",
      "Data columns (total 35 columns):\n",
      "Team                          16 non-null object\n",
      "Goals                         16 non-null int64\n",
      "Shots on target               16 non-null int64\n",
      "Shots off target              16 non-null int64\n",
      "Shooting Accuracy             16 non-null object\n",
      "% Goals-to-shots              16 non-null object\n",
      "Total shots (inc. Blocked)    16 non-null int64\n",
      "Hit Woodwork                  16 non-null int64\n",
      "Penalty goals                 16 non-null int64\n",
      "Penalties not scored          16 non-null int64\n",
      "Headed goals                  16 non-null int64\n",
      "Passes                        16 non-null int64\n",
      "Passes completed              16 non-null int64\n",
      "Passing Accuracy              16 non-null object\n",
      "Touches                       16 non-null int64\n",
      "Crosses                       16 non-null int64\n",
      "Dribbles                      16 non-null int64\n",
      "Corners Taken                 16 non-null int64\n",
      "Tackles                       16 non-null int64\n",
      "Clearances                    16 non-null int64\n",
      "Interceptions                 16 non-null int64\n",
      "Clearances off line           15 non-null float64\n",
      "Clean Sheets                  16 non-null int64\n",
      "Blocks                        16 non-null int64\n",
      "Goals conceded                16 non-null int64\n",
      "Saves made                    16 non-null int64\n",
      "Saves-to-shots ratio          16 non-null object\n",
      "Fouls Won                     16 non-null int64\n",
      "Fouls Conceded                16 non-null int64\n",
      "Offsides                      16 non-null int64\n",
      "Yellow Cards                  16 non-null int64\n",
      "Red Cards                     16 non-null int64\n",
      "Subs on                       16 non-null int64\n",
      "Subs off                      16 non-null int64\n",
      "Players Used                  16 non-null int64\n",
      "dtypes: float64(1), int64(29), object(5)\n",
      "memory usage: 4.5+ KB\n"
     ]
    }
   ],
   "source": [
    "# 运行以下代码\n",
    "euro12.info()"
   ]
  },
  {
   "cell_type": "markdown",
   "metadata": {
    "id": "55517897DC62416AAA240818C2012C0B",
    "jupyter": {},
    "mdEditEnable": false,
    "slideshow": {
     "slide_type": "slide"
    },
    "tags": []
   },
   "source": [
    "### 步骤7 将数据集中的列Team, Yellow Cards和Red Cards单独存为一个名叫discipline的数据框"
   ]
  },
  {
   "cell_type": "code",
   "execution_count": 254,
   "metadata": {
    "collapsed": false,
    "id": "8E8491001AAE4C15BD13EE14649C511E",
    "jupyter": {
     "outputs_hidden": false
    },
    "slideshow": {
     "slide_type": "slide"
    },
    "tags": []
   },
   "outputs": [
    {
     "data": {
      "text/html": [
       "<div>\n",
       "<style scoped>\n",
       "    .dataframe tbody tr th:only-of-type {\n",
       "        vertical-align: middle;\n",
       "    }\n",
       "\n",
       "    .dataframe tbody tr th {\n",
       "        vertical-align: top;\n",
       "    }\n",
       "\n",
       "    .dataframe thead th {\n",
       "        text-align: right;\n",
       "    }\n",
       "</style>\n",
       "<table border=\"1\" class=\"dataframe\">\n",
       "  <thead>\n",
       "    <tr style=\"text-align: right;\">\n",
       "      <th></th>\n",
       "      <th>Team</th>\n",
       "      <th>Yellow Cards</th>\n",
       "      <th>Red Cards</th>\n",
       "    </tr>\n",
       "  </thead>\n",
       "  <tbody>\n",
       "    <tr>\n",
       "      <th>0</th>\n",
       "      <td>Croatia</td>\n",
       "      <td>9</td>\n",
       "      <td>0</td>\n",
       "    </tr>\n",
       "    <tr>\n",
       "      <th>1</th>\n",
       "      <td>Czech Republic</td>\n",
       "      <td>7</td>\n",
       "      <td>0</td>\n",
       "    </tr>\n",
       "    <tr>\n",
       "      <th>2</th>\n",
       "      <td>Denmark</td>\n",
       "      <td>4</td>\n",
       "      <td>0</td>\n",
       "    </tr>\n",
       "    <tr>\n",
       "      <th>3</th>\n",
       "      <td>England</td>\n",
       "      <td>5</td>\n",
       "      <td>0</td>\n",
       "    </tr>\n",
       "    <tr>\n",
       "      <th>4</th>\n",
       "      <td>France</td>\n",
       "      <td>6</td>\n",
       "      <td>0</td>\n",
       "    </tr>\n",
       "    <tr>\n",
       "      <th>5</th>\n",
       "      <td>Germany</td>\n",
       "      <td>4</td>\n",
       "      <td>0</td>\n",
       "    </tr>\n",
       "    <tr>\n",
       "      <th>6</th>\n",
       "      <td>Greece</td>\n",
       "      <td>9</td>\n",
       "      <td>1</td>\n",
       "    </tr>\n",
       "    <tr>\n",
       "      <th>7</th>\n",
       "      <td>Italy</td>\n",
       "      <td>16</td>\n",
       "      <td>0</td>\n",
       "    </tr>\n",
       "    <tr>\n",
       "      <th>8</th>\n",
       "      <td>Netherlands</td>\n",
       "      <td>5</td>\n",
       "      <td>0</td>\n",
       "    </tr>\n",
       "    <tr>\n",
       "      <th>9</th>\n",
       "      <td>Poland</td>\n",
       "      <td>7</td>\n",
       "      <td>1</td>\n",
       "    </tr>\n",
       "    <tr>\n",
       "      <th>10</th>\n",
       "      <td>Portugal</td>\n",
       "      <td>12</td>\n",
       "      <td>0</td>\n",
       "    </tr>\n",
       "    <tr>\n",
       "      <th>11</th>\n",
       "      <td>Republic of Ireland</td>\n",
       "      <td>6</td>\n",
       "      <td>1</td>\n",
       "    </tr>\n",
       "    <tr>\n",
       "      <th>12</th>\n",
       "      <td>Russia</td>\n",
       "      <td>6</td>\n",
       "      <td>0</td>\n",
       "    </tr>\n",
       "    <tr>\n",
       "      <th>13</th>\n",
       "      <td>Spain</td>\n",
       "      <td>11</td>\n",
       "      <td>0</td>\n",
       "    </tr>\n",
       "    <tr>\n",
       "      <th>14</th>\n",
       "      <td>Sweden</td>\n",
       "      <td>7</td>\n",
       "      <td>0</td>\n",
       "    </tr>\n",
       "    <tr>\n",
       "      <th>15</th>\n",
       "      <td>Ukraine</td>\n",
       "      <td>5</td>\n",
       "      <td>0</td>\n",
       "    </tr>\n",
       "  </tbody>\n",
       "</table>\n",
       "</div>"
      ],
      "text/plain": [
       "                   Team  Yellow Cards  Red Cards\n",
       "0               Croatia             9          0\n",
       "1        Czech Republic             7          0\n",
       "2               Denmark             4          0\n",
       "3               England             5          0\n",
       "4                France             6          0\n",
       "5               Germany             4          0\n",
       "6                Greece             9          1\n",
       "7                 Italy            16          0\n",
       "8           Netherlands             5          0\n",
       "9                Poland             7          1\n",
       "10             Portugal            12          0\n",
       "11  Republic of Ireland             6          1\n",
       "12               Russia             6          0\n",
       "13                Spain            11          0\n",
       "14               Sweden             7          0\n",
       "15              Ukraine             5          0"
      ]
     },
     "execution_count": 254,
     "metadata": {},
     "output_type": "execute_result"
    }
   ],
   "source": [
    "# 运行以下代码\n",
    "discipline = euro12[['Team', 'Yellow Cards', 'Red Cards']]\n",
    "discipline"
   ]
  },
  {
   "cell_type": "markdown",
   "metadata": {
    "id": "4BB0382A2407479ABA9BA67774548CA0",
    "jupyter": {},
    "mdEditEnable": false,
    "slideshow": {
     "slide_type": "slide"
    },
    "tags": []
   },
   "source": [
    "### 步骤8 对数据框discipline按照先Red Cards再Yellow Cards进行排序 "
   ]
  },
  {
   "cell_type": "code",
   "execution_count": 255,
   "metadata": {
    "collapsed": false,
    "id": "7E5FB7A44B6C49BC8B2EB7B3F9CD2ED2",
    "jupyter": {
     "outputs_hidden": false
    },
    "slideshow": {
     "slide_type": "slide"
    },
    "tags": []
   },
   "outputs": [
    {
     "data": {
      "text/html": [
       "<div>\n",
       "<style scoped>\n",
       "    .dataframe tbody tr th:only-of-type {\n",
       "        vertical-align: middle;\n",
       "    }\n",
       "\n",
       "    .dataframe tbody tr th {\n",
       "        vertical-align: top;\n",
       "    }\n",
       "\n",
       "    .dataframe thead th {\n",
       "        text-align: right;\n",
       "    }\n",
       "</style>\n",
       "<table border=\"1\" class=\"dataframe\">\n",
       "  <thead>\n",
       "    <tr style=\"text-align: right;\">\n",
       "      <th></th>\n",
       "      <th>Team</th>\n",
       "      <th>Yellow Cards</th>\n",
       "      <th>Red Cards</th>\n",
       "    </tr>\n",
       "  </thead>\n",
       "  <tbody>\n",
       "    <tr>\n",
       "      <th>6</th>\n",
       "      <td>Greece</td>\n",
       "      <td>9</td>\n",
       "      <td>1</td>\n",
       "    </tr>\n",
       "    <tr>\n",
       "      <th>9</th>\n",
       "      <td>Poland</td>\n",
       "      <td>7</td>\n",
       "      <td>1</td>\n",
       "    </tr>\n",
       "    <tr>\n",
       "      <th>11</th>\n",
       "      <td>Republic of Ireland</td>\n",
       "      <td>6</td>\n",
       "      <td>1</td>\n",
       "    </tr>\n",
       "    <tr>\n",
       "      <th>7</th>\n",
       "      <td>Italy</td>\n",
       "      <td>16</td>\n",
       "      <td>0</td>\n",
       "    </tr>\n",
       "    <tr>\n",
       "      <th>10</th>\n",
       "      <td>Portugal</td>\n",
       "      <td>12</td>\n",
       "      <td>0</td>\n",
       "    </tr>\n",
       "    <tr>\n",
       "      <th>13</th>\n",
       "      <td>Spain</td>\n",
       "      <td>11</td>\n",
       "      <td>0</td>\n",
       "    </tr>\n",
       "    <tr>\n",
       "      <th>0</th>\n",
       "      <td>Croatia</td>\n",
       "      <td>9</td>\n",
       "      <td>0</td>\n",
       "    </tr>\n",
       "    <tr>\n",
       "      <th>1</th>\n",
       "      <td>Czech Republic</td>\n",
       "      <td>7</td>\n",
       "      <td>0</td>\n",
       "    </tr>\n",
       "    <tr>\n",
       "      <th>14</th>\n",
       "      <td>Sweden</td>\n",
       "      <td>7</td>\n",
       "      <td>0</td>\n",
       "    </tr>\n",
       "    <tr>\n",
       "      <th>4</th>\n",
       "      <td>France</td>\n",
       "      <td>6</td>\n",
       "      <td>0</td>\n",
       "    </tr>\n",
       "    <tr>\n",
       "      <th>12</th>\n",
       "      <td>Russia</td>\n",
       "      <td>6</td>\n",
       "      <td>0</td>\n",
       "    </tr>\n",
       "    <tr>\n",
       "      <th>3</th>\n",
       "      <td>England</td>\n",
       "      <td>5</td>\n",
       "      <td>0</td>\n",
       "    </tr>\n",
       "    <tr>\n",
       "      <th>8</th>\n",
       "      <td>Netherlands</td>\n",
       "      <td>5</td>\n",
       "      <td>0</td>\n",
       "    </tr>\n",
       "    <tr>\n",
       "      <th>15</th>\n",
       "      <td>Ukraine</td>\n",
       "      <td>5</td>\n",
       "      <td>0</td>\n",
       "    </tr>\n",
       "    <tr>\n",
       "      <th>2</th>\n",
       "      <td>Denmark</td>\n",
       "      <td>4</td>\n",
       "      <td>0</td>\n",
       "    </tr>\n",
       "    <tr>\n",
       "      <th>5</th>\n",
       "      <td>Germany</td>\n",
       "      <td>4</td>\n",
       "      <td>0</td>\n",
       "    </tr>\n",
       "  </tbody>\n",
       "</table>\n",
       "</div>"
      ],
      "text/plain": [
       "                   Team  Yellow Cards  Red Cards\n",
       "6                Greece             9          1\n",
       "9                Poland             7          1\n",
       "11  Republic of Ireland             6          1\n",
       "7                 Italy            16          0\n",
       "10             Portugal            12          0\n",
       "13                Spain            11          0\n",
       "0               Croatia             9          0\n",
       "1        Czech Republic             7          0\n",
       "14               Sweden             7          0\n",
       "4                France             6          0\n",
       "12               Russia             6          0\n",
       "3               England             5          0\n",
       "8           Netherlands             5          0\n",
       "15              Ukraine             5          0\n",
       "2               Denmark             4          0\n",
       "5               Germany             4          0"
      ]
     },
     "execution_count": 255,
     "metadata": {},
     "output_type": "execute_result"
    }
   ],
   "source": [
    "# 运行以下代码\n",
    "discipline.sort_values(['Red Cards', 'Yellow Cards'], ascending = False)"
   ]
  },
  {
   "cell_type": "markdown",
   "metadata": {
    "id": "98B9C78B09E347C98FA251887B9728DA",
    "jupyter": {},
    "mdEditEnable": false,
    "slideshow": {
     "slide_type": "slide"
    },
    "tags": []
   },
   "source": [
    "### 步骤9 计算每个球队拿到的黄牌数的平均值"
   ]
  },
  {
   "cell_type": "code",
   "execution_count": 256,
   "metadata": {
    "collapsed": false,
    "id": "942E95CF38AD4674A8DBDB2EBE12028D",
    "jupyter": {
     "outputs_hidden": false
    },
    "slideshow": {
     "slide_type": "slide"
    },
    "tags": []
   },
   "outputs": [
    {
     "data": {
      "text/plain": [
       "7.0"
      ]
     },
     "execution_count": 256,
     "metadata": {},
     "output_type": "execute_result"
    }
   ],
   "source": [
    "# 运行以下代码\n",
    "round(discipline['Yellow Cards'].mean())"
   ]
  },
  {
   "cell_type": "markdown",
   "metadata": {
    "id": "04BA8FF663004CF28DFA7833F6F52C8B",
    "jupyter": {},
    "mdEditEnable": false,
    "slideshow": {
     "slide_type": "slide"
    },
    "tags": []
   },
   "source": [
    "### 步骤10 找到进球数Goals超过6的球队数据"
   ]
  },
  {
   "cell_type": "code",
   "execution_count": 257,
   "metadata": {
    "collapsed": false,
    "id": "04EEE9F5D6EB467D8238BB106CB5AC7E",
    "jupyter": {
     "outputs_hidden": false
    },
    "slideshow": {
     "slide_type": "slide"
    },
    "tags": []
   },
   "outputs": [
    {
     "data": {
      "text/html": [
       "<div>\n",
       "<style scoped>\n",
       "    .dataframe tbody tr th:only-of-type {\n",
       "        vertical-align: middle;\n",
       "    }\n",
       "\n",
       "    .dataframe tbody tr th {\n",
       "        vertical-align: top;\n",
       "    }\n",
       "\n",
       "    .dataframe thead th {\n",
       "        text-align: right;\n",
       "    }\n",
       "</style>\n",
       "<table border=\"1\" class=\"dataframe\">\n",
       "  <thead>\n",
       "    <tr style=\"text-align: right;\">\n",
       "      <th></th>\n",
       "      <th>Team</th>\n",
       "      <th>Goals</th>\n",
       "      <th>Shots on target</th>\n",
       "      <th>Shots off target</th>\n",
       "      <th>Shooting Accuracy</th>\n",
       "      <th>% Goals-to-shots</th>\n",
       "      <th>Total shots (inc. Blocked)</th>\n",
       "      <th>Hit Woodwork</th>\n",
       "      <th>Penalty goals</th>\n",
       "      <th>Penalties not scored</th>\n",
       "      <th>...</th>\n",
       "      <th>Saves made</th>\n",
       "      <th>Saves-to-shots ratio</th>\n",
       "      <th>Fouls Won</th>\n",
       "      <th>Fouls Conceded</th>\n",
       "      <th>Offsides</th>\n",
       "      <th>Yellow Cards</th>\n",
       "      <th>Red Cards</th>\n",
       "      <th>Subs on</th>\n",
       "      <th>Subs off</th>\n",
       "      <th>Players Used</th>\n",
       "    </tr>\n",
       "  </thead>\n",
       "  <tbody>\n",
       "    <tr>\n",
       "      <th>5</th>\n",
       "      <td>Germany</td>\n",
       "      <td>10</td>\n",
       "      <td>32</td>\n",
       "      <td>32</td>\n",
       "      <td>47.8%</td>\n",
       "      <td>15.6%</td>\n",
       "      <td>80</td>\n",
       "      <td>2</td>\n",
       "      <td>1</td>\n",
       "      <td>0</td>\n",
       "      <td>...</td>\n",
       "      <td>10</td>\n",
       "      <td>62.6%</td>\n",
       "      <td>63</td>\n",
       "      <td>49</td>\n",
       "      <td>12</td>\n",
       "      <td>4</td>\n",
       "      <td>0</td>\n",
       "      <td>15</td>\n",
       "      <td>15</td>\n",
       "      <td>17</td>\n",
       "    </tr>\n",
       "    <tr>\n",
       "      <th>13</th>\n",
       "      <td>Spain</td>\n",
       "      <td>12</td>\n",
       "      <td>42</td>\n",
       "      <td>33</td>\n",
       "      <td>55.9%</td>\n",
       "      <td>16.0%</td>\n",
       "      <td>100</td>\n",
       "      <td>0</td>\n",
       "      <td>1</td>\n",
       "      <td>0</td>\n",
       "      <td>...</td>\n",
       "      <td>15</td>\n",
       "      <td>93.8%</td>\n",
       "      <td>102</td>\n",
       "      <td>83</td>\n",
       "      <td>19</td>\n",
       "      <td>11</td>\n",
       "      <td>0</td>\n",
       "      <td>17</td>\n",
       "      <td>17</td>\n",
       "      <td>18</td>\n",
       "    </tr>\n",
       "  </tbody>\n",
       "</table>\n",
       "<p>2 rows × 35 columns</p>\n",
       "</div>"
      ],
      "text/plain": [
       "       Team  Goals  Shots on target  Shots off target Shooting Accuracy  \\\n",
       "5   Germany     10               32                32             47.8%   \n",
       "13    Spain     12               42                33             55.9%   \n",
       "\n",
       "   % Goals-to-shots  Total shots (inc. Blocked)  Hit Woodwork  Penalty goals  \\\n",
       "5             15.6%                          80             2              1   \n",
       "13            16.0%                         100             0              1   \n",
       "\n",
       "    Penalties not scored      ...       Saves made  Saves-to-shots ratio  \\\n",
       "5                      0      ...               10                 62.6%   \n",
       "13                     0      ...               15                 93.8%   \n",
       "\n",
       "    Fouls Won Fouls Conceded  Offsides  Yellow Cards  Red Cards  Subs on  \\\n",
       "5          63             49        12             4          0       15   \n",
       "13        102             83        19            11          0       17   \n",
       "\n",
       "    Subs off  Players Used  \n",
       "5         15            17  \n",
       "13        17            18  \n",
       "\n",
       "[2 rows x 35 columns]"
      ]
     },
     "execution_count": 257,
     "metadata": {},
     "output_type": "execute_result"
    }
   ],
   "source": [
    "# 运行以下代码\n",
    "euro12[euro12.Goals > 6]"
   ]
  },
  {
   "cell_type": "markdown",
   "metadata": {
    "id": "8E7F8EDD463544788BDDFE4CDC519ABE",
    "jupyter": {},
    "mdEditEnable": false,
    "slideshow": {
     "slide_type": "slide"
    },
    "tags": []
   },
   "source": [
    "### 步骤11 选取以字母G开头的球队数据"
   ]
  },
  {
   "cell_type": "code",
   "execution_count": 258,
   "metadata": {
    "collapsed": false,
    "id": "24D05579E3C945D88FAB8C93F0F296B5",
    "jupyter": {
     "outputs_hidden": false
    },
    "slideshow": {
     "slide_type": "slide"
    },
    "tags": []
   },
   "outputs": [
    {
     "data": {
      "text/html": [
       "<div>\n",
       "<style scoped>\n",
       "    .dataframe tbody tr th:only-of-type {\n",
       "        vertical-align: middle;\n",
       "    }\n",
       "\n",
       "    .dataframe tbody tr th {\n",
       "        vertical-align: top;\n",
       "    }\n",
       "\n",
       "    .dataframe thead th {\n",
       "        text-align: right;\n",
       "    }\n",
       "</style>\n",
       "<table border=\"1\" class=\"dataframe\">\n",
       "  <thead>\n",
       "    <tr style=\"text-align: right;\">\n",
       "      <th></th>\n",
       "      <th>Team</th>\n",
       "      <th>Goals</th>\n",
       "      <th>Shots on target</th>\n",
       "      <th>Shots off target</th>\n",
       "      <th>Shooting Accuracy</th>\n",
       "      <th>% Goals-to-shots</th>\n",
       "      <th>Total shots (inc. Blocked)</th>\n",
       "      <th>Hit Woodwork</th>\n",
       "      <th>Penalty goals</th>\n",
       "      <th>Penalties not scored</th>\n",
       "      <th>...</th>\n",
       "      <th>Saves made</th>\n",
       "      <th>Saves-to-shots ratio</th>\n",
       "      <th>Fouls Won</th>\n",
       "      <th>Fouls Conceded</th>\n",
       "      <th>Offsides</th>\n",
       "      <th>Yellow Cards</th>\n",
       "      <th>Red Cards</th>\n",
       "      <th>Subs on</th>\n",
       "      <th>Subs off</th>\n",
       "      <th>Players Used</th>\n",
       "    </tr>\n",
       "  </thead>\n",
       "  <tbody>\n",
       "    <tr>\n",
       "      <th>5</th>\n",
       "      <td>Germany</td>\n",
       "      <td>10</td>\n",
       "      <td>32</td>\n",
       "      <td>32</td>\n",
       "      <td>47.8%</td>\n",
       "      <td>15.6%</td>\n",
       "      <td>80</td>\n",
       "      <td>2</td>\n",
       "      <td>1</td>\n",
       "      <td>0</td>\n",
       "      <td>...</td>\n",
       "      <td>10</td>\n",
       "      <td>62.6%</td>\n",
       "      <td>63</td>\n",
       "      <td>49</td>\n",
       "      <td>12</td>\n",
       "      <td>4</td>\n",
       "      <td>0</td>\n",
       "      <td>15</td>\n",
       "      <td>15</td>\n",
       "      <td>17</td>\n",
       "    </tr>\n",
       "    <tr>\n",
       "      <th>6</th>\n",
       "      <td>Greece</td>\n",
       "      <td>5</td>\n",
       "      <td>8</td>\n",
       "      <td>18</td>\n",
       "      <td>30.7%</td>\n",
       "      <td>19.2%</td>\n",
       "      <td>32</td>\n",
       "      <td>1</td>\n",
       "      <td>1</td>\n",
       "      <td>1</td>\n",
       "      <td>...</td>\n",
       "      <td>13</td>\n",
       "      <td>65.1%</td>\n",
       "      <td>67</td>\n",
       "      <td>48</td>\n",
       "      <td>12</td>\n",
       "      <td>9</td>\n",
       "      <td>1</td>\n",
       "      <td>12</td>\n",
       "      <td>12</td>\n",
       "      <td>20</td>\n",
       "    </tr>\n",
       "  </tbody>\n",
       "</table>\n",
       "<p>2 rows × 35 columns</p>\n",
       "</div>"
      ],
      "text/plain": [
       "      Team  Goals  Shots on target  Shots off target Shooting Accuracy  \\\n",
       "5  Germany     10               32                32             47.8%   \n",
       "6   Greece      5                8                18             30.7%   \n",
       "\n",
       "  % Goals-to-shots  Total shots (inc. Blocked)  Hit Woodwork  Penalty goals  \\\n",
       "5            15.6%                          80             2              1   \n",
       "6            19.2%                          32             1              1   \n",
       "\n",
       "   Penalties not scored      ...       Saves made  Saves-to-shots ratio  \\\n",
       "5                     0      ...               10                 62.6%   \n",
       "6                     1      ...               13                 65.1%   \n",
       "\n",
       "   Fouls Won Fouls Conceded  Offsides  Yellow Cards  Red Cards  Subs on  \\\n",
       "5         63             49        12             4          0       15   \n",
       "6         67             48        12             9          1       12   \n",
       "\n",
       "   Subs off  Players Used  \n",
       "5        15            17  \n",
       "6        12            20  \n",
       "\n",
       "[2 rows x 35 columns]"
      ]
     },
     "execution_count": 258,
     "metadata": {},
     "output_type": "execute_result"
    }
   ],
   "source": [
    "# 运行以下代码\n",
    "euro12[euro12.Team.str.startswith('G')]"
   ]
  },
  {
   "cell_type": "markdown",
   "metadata": {
    "id": "9381FA4AFE33435ABDD35D49BAC96AA7",
    "jupyter": {},
    "mdEditEnable": false,
    "slideshow": {
     "slide_type": "slide"
    },
    "tags": []
   },
   "source": [
    "### 步骤12 选取前7列"
   ]
  },
  {
   "cell_type": "code",
   "execution_count": 259,
   "metadata": {
    "collapsed": false,
    "id": "2981A00C7E2B4257B21345E7713415A4",
    "jupyter": {
     "outputs_hidden": false
    },
    "slideshow": {
     "slide_type": "slide"
    },
    "tags": []
   },
   "outputs": [
    {
     "data": {
      "text/html": [
       "<div>\n",
       "<style scoped>\n",
       "    .dataframe tbody tr th:only-of-type {\n",
       "        vertical-align: middle;\n",
       "    }\n",
       "\n",
       "    .dataframe tbody tr th {\n",
       "        vertical-align: top;\n",
       "    }\n",
       "\n",
       "    .dataframe thead th {\n",
       "        text-align: right;\n",
       "    }\n",
       "</style>\n",
       "<table border=\"1\" class=\"dataframe\">\n",
       "  <thead>\n",
       "    <tr style=\"text-align: right;\">\n",
       "      <th></th>\n",
       "      <th>Team</th>\n",
       "      <th>Goals</th>\n",
       "      <th>Shots on target</th>\n",
       "      <th>Shots off target</th>\n",
       "      <th>Shooting Accuracy</th>\n",
       "      <th>% Goals-to-shots</th>\n",
       "      <th>Total shots (inc. Blocked)</th>\n",
       "    </tr>\n",
       "  </thead>\n",
       "  <tbody>\n",
       "    <tr>\n",
       "      <th>0</th>\n",
       "      <td>Croatia</td>\n",
       "      <td>4</td>\n",
       "      <td>13</td>\n",
       "      <td>12</td>\n",
       "      <td>51.9%</td>\n",
       "      <td>16.0%</td>\n",
       "      <td>32</td>\n",
       "    </tr>\n",
       "    <tr>\n",
       "      <th>1</th>\n",
       "      <td>Czech Republic</td>\n",
       "      <td>4</td>\n",
       "      <td>13</td>\n",
       "      <td>18</td>\n",
       "      <td>41.9%</td>\n",
       "      <td>12.9%</td>\n",
       "      <td>39</td>\n",
       "    </tr>\n",
       "    <tr>\n",
       "      <th>2</th>\n",
       "      <td>Denmark</td>\n",
       "      <td>4</td>\n",
       "      <td>10</td>\n",
       "      <td>10</td>\n",
       "      <td>50.0%</td>\n",
       "      <td>20.0%</td>\n",
       "      <td>27</td>\n",
       "    </tr>\n",
       "    <tr>\n",
       "      <th>3</th>\n",
       "      <td>England</td>\n",
       "      <td>5</td>\n",
       "      <td>11</td>\n",
       "      <td>18</td>\n",
       "      <td>50.0%</td>\n",
       "      <td>17.2%</td>\n",
       "      <td>40</td>\n",
       "    </tr>\n",
       "    <tr>\n",
       "      <th>4</th>\n",
       "      <td>France</td>\n",
       "      <td>3</td>\n",
       "      <td>22</td>\n",
       "      <td>24</td>\n",
       "      <td>37.9%</td>\n",
       "      <td>6.5%</td>\n",
       "      <td>65</td>\n",
       "    </tr>\n",
       "    <tr>\n",
       "      <th>5</th>\n",
       "      <td>Germany</td>\n",
       "      <td>10</td>\n",
       "      <td>32</td>\n",
       "      <td>32</td>\n",
       "      <td>47.8%</td>\n",
       "      <td>15.6%</td>\n",
       "      <td>80</td>\n",
       "    </tr>\n",
       "    <tr>\n",
       "      <th>6</th>\n",
       "      <td>Greece</td>\n",
       "      <td>5</td>\n",
       "      <td>8</td>\n",
       "      <td>18</td>\n",
       "      <td>30.7%</td>\n",
       "      <td>19.2%</td>\n",
       "      <td>32</td>\n",
       "    </tr>\n",
       "    <tr>\n",
       "      <th>7</th>\n",
       "      <td>Italy</td>\n",
       "      <td>6</td>\n",
       "      <td>34</td>\n",
       "      <td>45</td>\n",
       "      <td>43.0%</td>\n",
       "      <td>7.5%</td>\n",
       "      <td>110</td>\n",
       "    </tr>\n",
       "    <tr>\n",
       "      <th>8</th>\n",
       "      <td>Netherlands</td>\n",
       "      <td>2</td>\n",
       "      <td>12</td>\n",
       "      <td>36</td>\n",
       "      <td>25.0%</td>\n",
       "      <td>4.1%</td>\n",
       "      <td>60</td>\n",
       "    </tr>\n",
       "    <tr>\n",
       "      <th>9</th>\n",
       "      <td>Poland</td>\n",
       "      <td>2</td>\n",
       "      <td>15</td>\n",
       "      <td>23</td>\n",
       "      <td>39.4%</td>\n",
       "      <td>5.2%</td>\n",
       "      <td>48</td>\n",
       "    </tr>\n",
       "    <tr>\n",
       "      <th>10</th>\n",
       "      <td>Portugal</td>\n",
       "      <td>6</td>\n",
       "      <td>22</td>\n",
       "      <td>42</td>\n",
       "      <td>34.3%</td>\n",
       "      <td>9.3%</td>\n",
       "      <td>82</td>\n",
       "    </tr>\n",
       "    <tr>\n",
       "      <th>11</th>\n",
       "      <td>Republic of Ireland</td>\n",
       "      <td>1</td>\n",
       "      <td>7</td>\n",
       "      <td>12</td>\n",
       "      <td>36.8%</td>\n",
       "      <td>5.2%</td>\n",
       "      <td>28</td>\n",
       "    </tr>\n",
       "    <tr>\n",
       "      <th>12</th>\n",
       "      <td>Russia</td>\n",
       "      <td>5</td>\n",
       "      <td>9</td>\n",
       "      <td>31</td>\n",
       "      <td>22.5%</td>\n",
       "      <td>12.5%</td>\n",
       "      <td>59</td>\n",
       "    </tr>\n",
       "    <tr>\n",
       "      <th>13</th>\n",
       "      <td>Spain</td>\n",
       "      <td>12</td>\n",
       "      <td>42</td>\n",
       "      <td>33</td>\n",
       "      <td>55.9%</td>\n",
       "      <td>16.0%</td>\n",
       "      <td>100</td>\n",
       "    </tr>\n",
       "    <tr>\n",
       "      <th>14</th>\n",
       "      <td>Sweden</td>\n",
       "      <td>5</td>\n",
       "      <td>17</td>\n",
       "      <td>19</td>\n",
       "      <td>47.2%</td>\n",
       "      <td>13.8%</td>\n",
       "      <td>39</td>\n",
       "    </tr>\n",
       "    <tr>\n",
       "      <th>15</th>\n",
       "      <td>Ukraine</td>\n",
       "      <td>2</td>\n",
       "      <td>7</td>\n",
       "      <td>26</td>\n",
       "      <td>21.2%</td>\n",
       "      <td>6.0%</td>\n",
       "      <td>38</td>\n",
       "    </tr>\n",
       "  </tbody>\n",
       "</table>\n",
       "</div>"
      ],
      "text/plain": [
       "                   Team  Goals  Shots on target  Shots off target  \\\n",
       "0               Croatia      4               13                12   \n",
       "1        Czech Republic      4               13                18   \n",
       "2               Denmark      4               10                10   \n",
       "3               England      5               11                18   \n",
       "4                France      3               22                24   \n",
       "5               Germany     10               32                32   \n",
       "6                Greece      5                8                18   \n",
       "7                 Italy      6               34                45   \n",
       "8           Netherlands      2               12                36   \n",
       "9                Poland      2               15                23   \n",
       "10             Portugal      6               22                42   \n",
       "11  Republic of Ireland      1                7                12   \n",
       "12               Russia      5                9                31   \n",
       "13                Spain     12               42                33   \n",
       "14               Sweden      5               17                19   \n",
       "15              Ukraine      2                7                26   \n",
       "\n",
       "   Shooting Accuracy % Goals-to-shots  Total shots (inc. Blocked)  \n",
       "0              51.9%            16.0%                          32  \n",
       "1              41.9%            12.9%                          39  \n",
       "2              50.0%            20.0%                          27  \n",
       "3              50.0%            17.2%                          40  \n",
       "4              37.9%             6.5%                          65  \n",
       "5              47.8%            15.6%                          80  \n",
       "6              30.7%            19.2%                          32  \n",
       "7              43.0%             7.5%                         110  \n",
       "8              25.0%             4.1%                          60  \n",
       "9              39.4%             5.2%                          48  \n",
       "10             34.3%             9.3%                          82  \n",
       "11             36.8%             5.2%                          28  \n",
       "12             22.5%            12.5%                          59  \n",
       "13             55.9%            16.0%                         100  \n",
       "14             47.2%            13.8%                          39  \n",
       "15             21.2%             6.0%                          38  "
      ]
     },
     "execution_count": 259,
     "metadata": {},
     "output_type": "execute_result"
    }
   ],
   "source": [
    "# 运行以下代码\n",
    "euro12.iloc[: , 0:7]"
   ]
  },
  {
   "cell_type": "markdown",
   "metadata": {
    "id": "2E2F3DFD381F440495D15AF51B95F213",
    "jupyter": {},
    "mdEditEnable": false,
    "slideshow": {
     "slide_type": "slide"
    },
    "tags": []
   },
   "source": [
    "### 步骤13 选取除了最后3列之外的全部列"
   ]
  },
  {
   "cell_type": "code",
   "execution_count": 260,
   "metadata": {
    "collapsed": false,
    "id": "3872CDAC11314B8A9D6005345ACA8028",
    "jupyter": {
     "outputs_hidden": false
    },
    "slideshow": {
     "slide_type": "slide"
    },
    "tags": []
   },
   "outputs": [
    {
     "data": {
      "text/html": [
       "<div>\n",
       "<style scoped>\n",
       "    .dataframe tbody tr th:only-of-type {\n",
       "        vertical-align: middle;\n",
       "    }\n",
       "\n",
       "    .dataframe tbody tr th {\n",
       "        vertical-align: top;\n",
       "    }\n",
       "\n",
       "    .dataframe thead th {\n",
       "        text-align: right;\n",
       "    }\n",
       "</style>\n",
       "<table border=\"1\" class=\"dataframe\">\n",
       "  <thead>\n",
       "    <tr style=\"text-align: right;\">\n",
       "      <th></th>\n",
       "      <th>Team</th>\n",
       "      <th>Goals</th>\n",
       "      <th>Shots on target</th>\n",
       "      <th>Shots off target</th>\n",
       "      <th>Shooting Accuracy</th>\n",
       "      <th>% Goals-to-shots</th>\n",
       "      <th>Total shots (inc. Blocked)</th>\n",
       "      <th>Hit Woodwork</th>\n",
       "      <th>Penalty goals</th>\n",
       "      <th>Penalties not scored</th>\n",
       "      <th>...</th>\n",
       "      <th>Clean Sheets</th>\n",
       "      <th>Blocks</th>\n",
       "      <th>Goals conceded</th>\n",
       "      <th>Saves made</th>\n",
       "      <th>Saves-to-shots ratio</th>\n",
       "      <th>Fouls Won</th>\n",
       "      <th>Fouls Conceded</th>\n",
       "      <th>Offsides</th>\n",
       "      <th>Yellow Cards</th>\n",
       "      <th>Red Cards</th>\n",
       "    </tr>\n",
       "  </thead>\n",
       "  <tbody>\n",
       "    <tr>\n",
       "      <th>0</th>\n",
       "      <td>Croatia</td>\n",
       "      <td>4</td>\n",
       "      <td>13</td>\n",
       "      <td>12</td>\n",
       "      <td>51.9%</td>\n",
       "      <td>16.0%</td>\n",
       "      <td>32</td>\n",
       "      <td>0</td>\n",
       "      <td>0</td>\n",
       "      <td>0</td>\n",
       "      <td>...</td>\n",
       "      <td>0</td>\n",
       "      <td>10</td>\n",
       "      <td>3</td>\n",
       "      <td>13</td>\n",
       "      <td>81.3%</td>\n",
       "      <td>41</td>\n",
       "      <td>62</td>\n",
       "      <td>2</td>\n",
       "      <td>9</td>\n",
       "      <td>0</td>\n",
       "    </tr>\n",
       "    <tr>\n",
       "      <th>1</th>\n",
       "      <td>Czech Republic</td>\n",
       "      <td>4</td>\n",
       "      <td>13</td>\n",
       "      <td>18</td>\n",
       "      <td>41.9%</td>\n",
       "      <td>12.9%</td>\n",
       "      <td>39</td>\n",
       "      <td>0</td>\n",
       "      <td>0</td>\n",
       "      <td>0</td>\n",
       "      <td>...</td>\n",
       "      <td>1</td>\n",
       "      <td>10</td>\n",
       "      <td>6</td>\n",
       "      <td>9</td>\n",
       "      <td>60.1%</td>\n",
       "      <td>53</td>\n",
       "      <td>73</td>\n",
       "      <td>8</td>\n",
       "      <td>7</td>\n",
       "      <td>0</td>\n",
       "    </tr>\n",
       "    <tr>\n",
       "      <th>2</th>\n",
       "      <td>Denmark</td>\n",
       "      <td>4</td>\n",
       "      <td>10</td>\n",
       "      <td>10</td>\n",
       "      <td>50.0%</td>\n",
       "      <td>20.0%</td>\n",
       "      <td>27</td>\n",
       "      <td>1</td>\n",
       "      <td>0</td>\n",
       "      <td>0</td>\n",
       "      <td>...</td>\n",
       "      <td>1</td>\n",
       "      <td>10</td>\n",
       "      <td>5</td>\n",
       "      <td>10</td>\n",
       "      <td>66.7%</td>\n",
       "      <td>25</td>\n",
       "      <td>38</td>\n",
       "      <td>8</td>\n",
       "      <td>4</td>\n",
       "      <td>0</td>\n",
       "    </tr>\n",
       "    <tr>\n",
       "      <th>3</th>\n",
       "      <td>England</td>\n",
       "      <td>5</td>\n",
       "      <td>11</td>\n",
       "      <td>18</td>\n",
       "      <td>50.0%</td>\n",
       "      <td>17.2%</td>\n",
       "      <td>40</td>\n",
       "      <td>0</td>\n",
       "      <td>0</td>\n",
       "      <td>0</td>\n",
       "      <td>...</td>\n",
       "      <td>2</td>\n",
       "      <td>29</td>\n",
       "      <td>3</td>\n",
       "      <td>22</td>\n",
       "      <td>88.1%</td>\n",
       "      <td>43</td>\n",
       "      <td>45</td>\n",
       "      <td>6</td>\n",
       "      <td>5</td>\n",
       "      <td>0</td>\n",
       "    </tr>\n",
       "    <tr>\n",
       "      <th>4</th>\n",
       "      <td>France</td>\n",
       "      <td>3</td>\n",
       "      <td>22</td>\n",
       "      <td>24</td>\n",
       "      <td>37.9%</td>\n",
       "      <td>6.5%</td>\n",
       "      <td>65</td>\n",
       "      <td>1</td>\n",
       "      <td>0</td>\n",
       "      <td>0</td>\n",
       "      <td>...</td>\n",
       "      <td>1</td>\n",
       "      <td>7</td>\n",
       "      <td>5</td>\n",
       "      <td>6</td>\n",
       "      <td>54.6%</td>\n",
       "      <td>36</td>\n",
       "      <td>51</td>\n",
       "      <td>5</td>\n",
       "      <td>6</td>\n",
       "      <td>0</td>\n",
       "    </tr>\n",
       "    <tr>\n",
       "      <th>5</th>\n",
       "      <td>Germany</td>\n",
       "      <td>10</td>\n",
       "      <td>32</td>\n",
       "      <td>32</td>\n",
       "      <td>47.8%</td>\n",
       "      <td>15.6%</td>\n",
       "      <td>80</td>\n",
       "      <td>2</td>\n",
       "      <td>1</td>\n",
       "      <td>0</td>\n",
       "      <td>...</td>\n",
       "      <td>1</td>\n",
       "      <td>11</td>\n",
       "      <td>6</td>\n",
       "      <td>10</td>\n",
       "      <td>62.6%</td>\n",
       "      <td>63</td>\n",
       "      <td>49</td>\n",
       "      <td>12</td>\n",
       "      <td>4</td>\n",
       "      <td>0</td>\n",
       "    </tr>\n",
       "    <tr>\n",
       "      <th>6</th>\n",
       "      <td>Greece</td>\n",
       "      <td>5</td>\n",
       "      <td>8</td>\n",
       "      <td>18</td>\n",
       "      <td>30.7%</td>\n",
       "      <td>19.2%</td>\n",
       "      <td>32</td>\n",
       "      <td>1</td>\n",
       "      <td>1</td>\n",
       "      <td>1</td>\n",
       "      <td>...</td>\n",
       "      <td>1</td>\n",
       "      <td>23</td>\n",
       "      <td>7</td>\n",
       "      <td>13</td>\n",
       "      <td>65.1%</td>\n",
       "      <td>67</td>\n",
       "      <td>48</td>\n",
       "      <td>12</td>\n",
       "      <td>9</td>\n",
       "      <td>1</td>\n",
       "    </tr>\n",
       "    <tr>\n",
       "      <th>7</th>\n",
       "      <td>Italy</td>\n",
       "      <td>6</td>\n",
       "      <td>34</td>\n",
       "      <td>45</td>\n",
       "      <td>43.0%</td>\n",
       "      <td>7.5%</td>\n",
       "      <td>110</td>\n",
       "      <td>2</td>\n",
       "      <td>0</td>\n",
       "      <td>0</td>\n",
       "      <td>...</td>\n",
       "      <td>2</td>\n",
       "      <td>18</td>\n",
       "      <td>7</td>\n",
       "      <td>20</td>\n",
       "      <td>74.1%</td>\n",
       "      <td>101</td>\n",
       "      <td>89</td>\n",
       "      <td>16</td>\n",
       "      <td>16</td>\n",
       "      <td>0</td>\n",
       "    </tr>\n",
       "    <tr>\n",
       "      <th>8</th>\n",
       "      <td>Netherlands</td>\n",
       "      <td>2</td>\n",
       "      <td>12</td>\n",
       "      <td>36</td>\n",
       "      <td>25.0%</td>\n",
       "      <td>4.1%</td>\n",
       "      <td>60</td>\n",
       "      <td>2</td>\n",
       "      <td>0</td>\n",
       "      <td>0</td>\n",
       "      <td>...</td>\n",
       "      <td>0</td>\n",
       "      <td>9</td>\n",
       "      <td>5</td>\n",
       "      <td>12</td>\n",
       "      <td>70.6%</td>\n",
       "      <td>35</td>\n",
       "      <td>30</td>\n",
       "      <td>3</td>\n",
       "      <td>5</td>\n",
       "      <td>0</td>\n",
       "    </tr>\n",
       "    <tr>\n",
       "      <th>9</th>\n",
       "      <td>Poland</td>\n",
       "      <td>2</td>\n",
       "      <td>15</td>\n",
       "      <td>23</td>\n",
       "      <td>39.4%</td>\n",
       "      <td>5.2%</td>\n",
       "      <td>48</td>\n",
       "      <td>0</td>\n",
       "      <td>0</td>\n",
       "      <td>0</td>\n",
       "      <td>...</td>\n",
       "      <td>0</td>\n",
       "      <td>8</td>\n",
       "      <td>3</td>\n",
       "      <td>6</td>\n",
       "      <td>66.7%</td>\n",
       "      <td>48</td>\n",
       "      <td>56</td>\n",
       "      <td>3</td>\n",
       "      <td>7</td>\n",
       "      <td>1</td>\n",
       "    </tr>\n",
       "    <tr>\n",
       "      <th>10</th>\n",
       "      <td>Portugal</td>\n",
       "      <td>6</td>\n",
       "      <td>22</td>\n",
       "      <td>42</td>\n",
       "      <td>34.3%</td>\n",
       "      <td>9.3%</td>\n",
       "      <td>82</td>\n",
       "      <td>6</td>\n",
       "      <td>0</td>\n",
       "      <td>0</td>\n",
       "      <td>...</td>\n",
       "      <td>2</td>\n",
       "      <td>11</td>\n",
       "      <td>4</td>\n",
       "      <td>10</td>\n",
       "      <td>71.5%</td>\n",
       "      <td>73</td>\n",
       "      <td>90</td>\n",
       "      <td>10</td>\n",
       "      <td>12</td>\n",
       "      <td>0</td>\n",
       "    </tr>\n",
       "    <tr>\n",
       "      <th>11</th>\n",
       "      <td>Republic of Ireland</td>\n",
       "      <td>1</td>\n",
       "      <td>7</td>\n",
       "      <td>12</td>\n",
       "      <td>36.8%</td>\n",
       "      <td>5.2%</td>\n",
       "      <td>28</td>\n",
       "      <td>0</td>\n",
       "      <td>0</td>\n",
       "      <td>0</td>\n",
       "      <td>...</td>\n",
       "      <td>0</td>\n",
       "      <td>23</td>\n",
       "      <td>9</td>\n",
       "      <td>17</td>\n",
       "      <td>65.4%</td>\n",
       "      <td>43</td>\n",
       "      <td>51</td>\n",
       "      <td>11</td>\n",
       "      <td>6</td>\n",
       "      <td>1</td>\n",
       "    </tr>\n",
       "    <tr>\n",
       "      <th>12</th>\n",
       "      <td>Russia</td>\n",
       "      <td>5</td>\n",
       "      <td>9</td>\n",
       "      <td>31</td>\n",
       "      <td>22.5%</td>\n",
       "      <td>12.5%</td>\n",
       "      <td>59</td>\n",
       "      <td>2</td>\n",
       "      <td>0</td>\n",
       "      <td>0</td>\n",
       "      <td>...</td>\n",
       "      <td>0</td>\n",
       "      <td>8</td>\n",
       "      <td>3</td>\n",
       "      <td>10</td>\n",
       "      <td>77.0%</td>\n",
       "      <td>34</td>\n",
       "      <td>43</td>\n",
       "      <td>4</td>\n",
       "      <td>6</td>\n",
       "      <td>0</td>\n",
       "    </tr>\n",
       "    <tr>\n",
       "      <th>13</th>\n",
       "      <td>Spain</td>\n",
       "      <td>12</td>\n",
       "      <td>42</td>\n",
       "      <td>33</td>\n",
       "      <td>55.9%</td>\n",
       "      <td>16.0%</td>\n",
       "      <td>100</td>\n",
       "      <td>0</td>\n",
       "      <td>1</td>\n",
       "      <td>0</td>\n",
       "      <td>...</td>\n",
       "      <td>5</td>\n",
       "      <td>8</td>\n",
       "      <td>1</td>\n",
       "      <td>15</td>\n",
       "      <td>93.8%</td>\n",
       "      <td>102</td>\n",
       "      <td>83</td>\n",
       "      <td>19</td>\n",
       "      <td>11</td>\n",
       "      <td>0</td>\n",
       "    </tr>\n",
       "    <tr>\n",
       "      <th>14</th>\n",
       "      <td>Sweden</td>\n",
       "      <td>5</td>\n",
       "      <td>17</td>\n",
       "      <td>19</td>\n",
       "      <td>47.2%</td>\n",
       "      <td>13.8%</td>\n",
       "      <td>39</td>\n",
       "      <td>3</td>\n",
       "      <td>0</td>\n",
       "      <td>0</td>\n",
       "      <td>...</td>\n",
       "      <td>1</td>\n",
       "      <td>12</td>\n",
       "      <td>5</td>\n",
       "      <td>8</td>\n",
       "      <td>61.6%</td>\n",
       "      <td>35</td>\n",
       "      <td>51</td>\n",
       "      <td>7</td>\n",
       "      <td>7</td>\n",
       "      <td>0</td>\n",
       "    </tr>\n",
       "    <tr>\n",
       "      <th>15</th>\n",
       "      <td>Ukraine</td>\n",
       "      <td>2</td>\n",
       "      <td>7</td>\n",
       "      <td>26</td>\n",
       "      <td>21.2%</td>\n",
       "      <td>6.0%</td>\n",
       "      <td>38</td>\n",
       "      <td>0</td>\n",
       "      <td>0</td>\n",
       "      <td>0</td>\n",
       "      <td>...</td>\n",
       "      <td>0</td>\n",
       "      <td>4</td>\n",
       "      <td>4</td>\n",
       "      <td>13</td>\n",
       "      <td>76.5%</td>\n",
       "      <td>48</td>\n",
       "      <td>31</td>\n",
       "      <td>4</td>\n",
       "      <td>5</td>\n",
       "      <td>0</td>\n",
       "    </tr>\n",
       "  </tbody>\n",
       "</table>\n",
       "<p>16 rows × 32 columns</p>\n",
       "</div>"
      ],
      "text/plain": [
       "                   Team  Goals  Shots on target  Shots off target  \\\n",
       "0               Croatia      4               13                12   \n",
       "1        Czech Republic      4               13                18   \n",
       "2               Denmark      4               10                10   \n",
       "3               England      5               11                18   \n",
       "4                France      3               22                24   \n",
       "5               Germany     10               32                32   \n",
       "6                Greece      5                8                18   \n",
       "7                 Italy      6               34                45   \n",
       "8           Netherlands      2               12                36   \n",
       "9                Poland      2               15                23   \n",
       "10             Portugal      6               22                42   \n",
       "11  Republic of Ireland      1                7                12   \n",
       "12               Russia      5                9                31   \n",
       "13                Spain     12               42                33   \n",
       "14               Sweden      5               17                19   \n",
       "15              Ukraine      2                7                26   \n",
       "\n",
       "   Shooting Accuracy % Goals-to-shots  Total shots (inc. Blocked)  \\\n",
       "0              51.9%            16.0%                          32   \n",
       "1              41.9%            12.9%                          39   \n",
       "2              50.0%            20.0%                          27   \n",
       "3              50.0%            17.2%                          40   \n",
       "4              37.9%             6.5%                          65   \n",
       "5              47.8%            15.6%                          80   \n",
       "6              30.7%            19.2%                          32   \n",
       "7              43.0%             7.5%                         110   \n",
       "8              25.0%             4.1%                          60   \n",
       "9              39.4%             5.2%                          48   \n",
       "10             34.3%             9.3%                          82   \n",
       "11             36.8%             5.2%                          28   \n",
       "12             22.5%            12.5%                          59   \n",
       "13             55.9%            16.0%                         100   \n",
       "14             47.2%            13.8%                          39   \n",
       "15             21.2%             6.0%                          38   \n",
       "\n",
       "    Hit Woodwork  Penalty goals  Penalties not scored    ...      \\\n",
       "0              0              0                     0    ...       \n",
       "1              0              0                     0    ...       \n",
       "2              1              0                     0    ...       \n",
       "3              0              0                     0    ...       \n",
       "4              1              0                     0    ...       \n",
       "5              2              1                     0    ...       \n",
       "6              1              1                     1    ...       \n",
       "7              2              0                     0    ...       \n",
       "8              2              0                     0    ...       \n",
       "9              0              0                     0    ...       \n",
       "10             6              0                     0    ...       \n",
       "11             0              0                     0    ...       \n",
       "12             2              0                     0    ...       \n",
       "13             0              1                     0    ...       \n",
       "14             3              0                     0    ...       \n",
       "15             0              0                     0    ...       \n",
       "\n",
       "    Clean Sheets  Blocks  Goals conceded Saves made  Saves-to-shots ratio  \\\n",
       "0              0      10               3         13                 81.3%   \n",
       "1              1      10               6          9                 60.1%   \n",
       "2              1      10               5         10                 66.7%   \n",
       "3              2      29               3         22                 88.1%   \n",
       "4              1       7               5          6                 54.6%   \n",
       "5              1      11               6         10                 62.6%   \n",
       "6              1      23               7         13                 65.1%   \n",
       "7              2      18               7         20                 74.1%   \n",
       "8              0       9               5         12                 70.6%   \n",
       "9              0       8               3          6                 66.7%   \n",
       "10             2      11               4         10                 71.5%   \n",
       "11             0      23               9         17                 65.4%   \n",
       "12             0       8               3         10                 77.0%   \n",
       "13             5       8               1         15                 93.8%   \n",
       "14             1      12               5          8                 61.6%   \n",
       "15             0       4               4         13                 76.5%   \n",
       "\n",
       "    Fouls Won  Fouls Conceded  Offsides  Yellow Cards  Red Cards  \n",
       "0          41              62         2             9          0  \n",
       "1          53              73         8             7          0  \n",
       "2          25              38         8             4          0  \n",
       "3          43              45         6             5          0  \n",
       "4          36              51         5             6          0  \n",
       "5          63              49        12             4          0  \n",
       "6          67              48        12             9          1  \n",
       "7         101              89        16            16          0  \n",
       "8          35              30         3             5          0  \n",
       "9          48              56         3             7          1  \n",
       "10         73              90        10            12          0  \n",
       "11         43              51        11             6          1  \n",
       "12         34              43         4             6          0  \n",
       "13        102              83        19            11          0  \n",
       "14         35              51         7             7          0  \n",
       "15         48              31         4             5          0  \n",
       "\n",
       "[16 rows x 32 columns]"
      ]
     },
     "execution_count": 260,
     "metadata": {},
     "output_type": "execute_result"
    }
   ],
   "source": [
    "# 运行以下代码\n",
    "euro12.iloc[: , :-3]"
   ]
  },
  {
   "cell_type": "markdown",
   "metadata": {
    "id": "FF3B1C8001AC48F78DF5F9B74EB8BB30",
    "jupyter": {},
    "mdEditEnable": false,
    "slideshow": {
     "slide_type": "slide"
    },
    "tags": []
   },
   "source": [
    "### 步骤14 找到英格兰(England)、意大利(Italy)和俄罗斯(Russia)的射正率(Shooting Accuracy)"
   ]
  },
  {
   "cell_type": "code",
   "execution_count": 261,
   "metadata": {
    "collapsed": false,
    "id": "015C98A393904B02899979F2B8F182CE",
    "jupyter": {
     "outputs_hidden": false
    },
    "slideshow": {
     "slide_type": "slide"
    },
    "tags": []
   },
   "outputs": [
    {
     "data": {
      "text/html": [
       "<div>\n",
       "<style scoped>\n",
       "    .dataframe tbody tr th:only-of-type {\n",
       "        vertical-align: middle;\n",
       "    }\n",
       "\n",
       "    .dataframe tbody tr th {\n",
       "        vertical-align: top;\n",
       "    }\n",
       "\n",
       "    .dataframe thead th {\n",
       "        text-align: right;\n",
       "    }\n",
       "</style>\n",
       "<table border=\"1\" class=\"dataframe\">\n",
       "  <thead>\n",
       "    <tr style=\"text-align: right;\">\n",
       "      <th></th>\n",
       "      <th>Team</th>\n",
       "      <th>Shooting Accuracy</th>\n",
       "    </tr>\n",
       "  </thead>\n",
       "  <tbody>\n",
       "    <tr>\n",
       "      <th>3</th>\n",
       "      <td>England</td>\n",
       "      <td>50.0%</td>\n",
       "    </tr>\n",
       "    <tr>\n",
       "      <th>7</th>\n",
       "      <td>Italy</td>\n",
       "      <td>43.0%</td>\n",
       "    </tr>\n",
       "    <tr>\n",
       "      <th>12</th>\n",
       "      <td>Russia</td>\n",
       "      <td>22.5%</td>\n",
       "    </tr>\n",
       "  </tbody>\n",
       "</table>\n",
       "</div>"
      ],
      "text/plain": [
       "       Team Shooting Accuracy\n",
       "3   England             50.0%\n",
       "7     Italy             43.0%\n",
       "12   Russia             22.5%"
      ]
     },
     "execution_count": 261,
     "metadata": {},
     "output_type": "execute_result"
    }
   ],
   "source": [
    "# 运行以下代码\n",
    "euro12.loc[euro12.Team.isin(['England', 'Italy', 'Russia']), ['Team','Shooting Accuracy']]"
   ]
  },
  {
   "cell_type": "markdown",
   "metadata": {
    "id": "E45B8E327C664DA08DEDB4175C898256",
    "jupyter": {},
    "mdEditEnable": false,
    "slideshow": {
     "slide_type": "slide"
    },
    "tags": []
   },
   "source": [
    "[返回练习题索引](#练习题索引)"
   ]
  },
  {
   "cell_type": "markdown",
   "metadata": {
    "id": "77CFCC73BCD943C288E74EC39B33E294",
    "jupyter": {},
    "mdEditEnable": false,
    "slideshow": {
     "slide_type": "slide"
    },
    "tags": []
   },
   "source": [
    "# 练习3-数据分组\n",
    "## 探索酒类消费数据\n",
    "![image description](https://cdn.kesci.com/images/lab_upload/1508342577428_72275.jpeg)"
   ]
  },
  {
   "cell_type": "markdown",
   "metadata": {
    "id": "8BC649FC843A43D3A980BD52256898C2",
    "jupyter": {},
    "mdEditEnable": false,
    "slideshow": {
     "slide_type": "slide"
    },
    "tags": []
   },
   "source": [
    "[返回练习题索引](#练习题索引)"
   ]
  },
  {
   "cell_type": "markdown",
   "metadata": {
    "id": "02A33F3106444A9EBD0C44CFCE22A958",
    "jupyter": {},
    "mdEditEnable": false,
    "slideshow": {
     "slide_type": "slide"
    },
    "tags": []
   },
   "source": [
    "### 步骤1 导入必要的库"
   ]
  },
  {
   "cell_type": "code",
   "execution_count": 262,
   "metadata": {
    "collapsed": false,
    "id": "94147E1320EC447891CFBDDC483887ED",
    "jupyter": {
     "outputs_hidden": false
    },
    "slideshow": {
     "slide_type": "slide"
    },
    "tags": []
   },
   "outputs": [],
   "source": [
    "# 运行以下代码\n",
    "import pandas as pd"
   ]
  },
  {
   "cell_type": "markdown",
   "metadata": {
    "id": "3E67806E06FF45A38295F20E6F0E518C",
    "jupyter": {},
    "mdEditEnable": false,
    "slideshow": {
     "slide_type": "slide"
    },
    "tags": []
   },
   "source": [
    "### 步骤2 从以下地址导入数据"
   ]
  },
  {
   "cell_type": "code",
   "execution_count": 10,
   "metadata": {
    "collapsed": false,
    "id": "5BFF41EDF82B420D84E3C12E510F07A9",
    "jupyter": {
     "outputs_hidden": false
    },
    "slideshow": {
     "slide_type": "slide"
    },
    "tags": []
   },
   "outputs": [],
   "source": [
    "# 运行以下代码\n",
    "path3 ='../input/pandas_exercise/pandas_exercise/exercise_data/drinks.csv'    #'drinks.csv'"
   ]
  },
  {
   "cell_type": "markdown",
   "metadata": {
    "id": "D7B050FD133C4E888B62A1BF5F98C5A5",
    "jupyter": {},
    "mdEditEnable": false,
    "slideshow": {
     "slide_type": "slide"
    },
    "tags": []
   },
   "source": [
    "### 步骤3 将数据框命名为drinks"
   ]
  },
  {
   "cell_type": "code",
   "execution_count": 11,
   "metadata": {
    "collapsed": false,
    "id": "91D1A6E80D9E45E9AF2BB28F7347F644",
    "jupyter": {
     "outputs_hidden": false
    },
    "slideshow": {
     "slide_type": "slide"
    },
    "tags": []
   },
   "outputs": [
    {
     "data": {
      "text/html": [
       "<div>\n",
       "<style scoped>\n",
       "    .dataframe tbody tr th:only-of-type {\n",
       "        vertical-align: middle;\n",
       "    }\n",
       "\n",
       "    .dataframe tbody tr th {\n",
       "        vertical-align: top;\n",
       "    }\n",
       "\n",
       "    .dataframe thead th {\n",
       "        text-align: right;\n",
       "    }\n",
       "</style>\n",
       "<table border=\"1\" class=\"dataframe\">\n",
       "  <thead>\n",
       "    <tr style=\"text-align: right;\">\n",
       "      <th></th>\n",
       "      <th>country</th>\n",
       "      <th>beer_servings</th>\n",
       "      <th>spirit_servings</th>\n",
       "      <th>wine_servings</th>\n",
       "      <th>total_litres_of_pure_alcohol</th>\n",
       "      <th>continent</th>\n",
       "    </tr>\n",
       "  </thead>\n",
       "  <tbody>\n",
       "    <tr>\n",
       "      <th>0</th>\n",
       "      <td>Afghanistan</td>\n",
       "      <td>0</td>\n",
       "      <td>0</td>\n",
       "      <td>0</td>\n",
       "      <td>0.0</td>\n",
       "      <td>AS</td>\n",
       "    </tr>\n",
       "    <tr>\n",
       "      <th>1</th>\n",
       "      <td>Albania</td>\n",
       "      <td>89</td>\n",
       "      <td>132</td>\n",
       "      <td>54</td>\n",
       "      <td>4.9</td>\n",
       "      <td>EU</td>\n",
       "    </tr>\n",
       "    <tr>\n",
       "      <th>2</th>\n",
       "      <td>Algeria</td>\n",
       "      <td>25</td>\n",
       "      <td>0</td>\n",
       "      <td>14</td>\n",
       "      <td>0.7</td>\n",
       "      <td>AF</td>\n",
       "    </tr>\n",
       "    <tr>\n",
       "      <th>3</th>\n",
       "      <td>Andorra</td>\n",
       "      <td>245</td>\n",
       "      <td>138</td>\n",
       "      <td>312</td>\n",
       "      <td>12.4</td>\n",
       "      <td>EU</td>\n",
       "    </tr>\n",
       "    <tr>\n",
       "      <th>4</th>\n",
       "      <td>Angola</td>\n",
       "      <td>217</td>\n",
       "      <td>57</td>\n",
       "      <td>45</td>\n",
       "      <td>5.9</td>\n",
       "      <td>AF</td>\n",
       "    </tr>\n",
       "  </tbody>\n",
       "</table>\n",
       "</div>"
      ],
      "text/plain": [
       "       country  beer_servings  spirit_servings  wine_servings  \\\n",
       "0  Afghanistan              0                0              0   \n",
       "1      Albania             89              132             54   \n",
       "2      Algeria             25                0             14   \n",
       "3      Andorra            245              138            312   \n",
       "4       Angola            217               57             45   \n",
       "\n",
       "   total_litres_of_pure_alcohol continent  \n",
       "0                           0.0        AS  \n",
       "1                           4.9        EU  \n",
       "2                           0.7        AF  \n",
       "3                          12.4        EU  \n",
       "4                           5.9        AF  "
      ]
     },
     "metadata": {},
     "output_type": "execute_result",
     "transient": {}
    }
   ],
   "source": [
    "# 运行以下代码\n",
    "drinks = pd.read_csv(path3)\n",
    "drinks.head()"
   ]
  },
  {
   "cell_type": "markdown",
   "metadata": {
    "id": "7F81F2F626434CAB8523A34810A3B364",
    "jupyter": {},
    "mdEditEnable": false,
    "slideshow": {
     "slide_type": "slide"
    },
    "tags": []
   },
   "source": [
    "### 步骤4 哪个大陆(continent)平均消耗的啤酒(beer)更多？"
   ]
  },
  {
   "cell_type": "code",
   "execution_count": 12,
   "metadata": {
    "collapsed": false,
    "id": "AE1440261F794F07839668110CA3ECDA",
    "jupyter": {
     "outputs_hidden": false
    },
    "slideshow": {
     "slide_type": "slide"
    },
    "tags": []
   },
   "outputs": [
    {
     "data": {
      "text/plain": [
       "continent\n",
       "AF     61.471698\n",
       "AS     37.045455\n",
       "EU    193.777778\n",
       "OC     89.687500\n",
       "SA    175.083333\n",
       "Name: beer_servings, dtype: float64"
      ]
     },
     "metadata": {},
     "output_type": "execute_result",
     "transient": {}
    }
   ],
   "source": [
    "# 运行以下代码\n",
    "drinks.groupby('continent').beer_servings.mean()"
   ]
  },
  {
   "cell_type": "markdown",
   "metadata": {
    "id": "15D6B9245935455B881D93188B76D460",
    "jupyter": {},
    "mdEditEnable": false,
    "slideshow": {
     "slide_type": "slide"
    },
    "tags": []
   },
   "source": [
    "### 步骤5 打印出每个大陆(continent)的红酒消耗(wine_servings)的描述性统计值"
   ]
  },
  {
   "cell_type": "code",
   "execution_count": 13,
   "metadata": {
    "collapsed": false,
    "id": "96617DDCCDC7466E8E743CA9B5533B85",
    "jupyter": {
     "outputs_hidden": false
    },
    "slideshow": {
     "slide_type": "slide"
    },
    "tags": []
   },
   "outputs": [
    {
     "data": {
      "text/html": [
       "<div>\n",
       "<style scoped>\n",
       "    .dataframe tbody tr th:only-of-type {\n",
       "        vertical-align: middle;\n",
       "    }\n",
       "\n",
       "    .dataframe tbody tr th {\n",
       "        vertical-align: top;\n",
       "    }\n",
       "\n",
       "    .dataframe thead th {\n",
       "        text-align: right;\n",
       "    }\n",
       "</style>\n",
       "<table border=\"1\" class=\"dataframe\">\n",
       "  <thead>\n",
       "    <tr style=\"text-align: right;\">\n",
       "      <th></th>\n",
       "      <th>count</th>\n",
       "      <th>mean</th>\n",
       "      <th>std</th>\n",
       "      <th>min</th>\n",
       "      <th>25%</th>\n",
       "      <th>50%</th>\n",
       "      <th>75%</th>\n",
       "      <th>max</th>\n",
       "    </tr>\n",
       "    <tr>\n",
       "      <th>continent</th>\n",
       "      <th></th>\n",
       "      <th></th>\n",
       "      <th></th>\n",
       "      <th></th>\n",
       "      <th></th>\n",
       "      <th></th>\n",
       "      <th></th>\n",
       "      <th></th>\n",
       "    </tr>\n",
       "  </thead>\n",
       "  <tbody>\n",
       "    <tr>\n",
       "      <th>AF</th>\n",
       "      <td>53.0</td>\n",
       "      <td>16.264151</td>\n",
       "      <td>38.846419</td>\n",
       "      <td>0.0</td>\n",
       "      <td>1.0</td>\n",
       "      <td>2.0</td>\n",
       "      <td>13.00</td>\n",
       "      <td>233.0</td>\n",
       "    </tr>\n",
       "    <tr>\n",
       "      <th>AS</th>\n",
       "      <td>44.0</td>\n",
       "      <td>9.068182</td>\n",
       "      <td>21.667034</td>\n",
       "      <td>0.0</td>\n",
       "      <td>0.0</td>\n",
       "      <td>1.0</td>\n",
       "      <td>8.00</td>\n",
       "      <td>123.0</td>\n",
       "    </tr>\n",
       "    <tr>\n",
       "      <th>EU</th>\n",
       "      <td>45.0</td>\n",
       "      <td>142.222222</td>\n",
       "      <td>97.421738</td>\n",
       "      <td>0.0</td>\n",
       "      <td>59.0</td>\n",
       "      <td>128.0</td>\n",
       "      <td>195.00</td>\n",
       "      <td>370.0</td>\n",
       "    </tr>\n",
       "    <tr>\n",
       "      <th>OC</th>\n",
       "      <td>16.0</td>\n",
       "      <td>35.625000</td>\n",
       "      <td>64.555790</td>\n",
       "      <td>0.0</td>\n",
       "      <td>1.0</td>\n",
       "      <td>8.5</td>\n",
       "      <td>23.25</td>\n",
       "      <td>212.0</td>\n",
       "    </tr>\n",
       "    <tr>\n",
       "      <th>SA</th>\n",
       "      <td>12.0</td>\n",
       "      <td>62.416667</td>\n",
       "      <td>88.620189</td>\n",
       "      <td>1.0</td>\n",
       "      <td>3.0</td>\n",
       "      <td>12.0</td>\n",
       "      <td>98.50</td>\n",
       "      <td>221.0</td>\n",
       "    </tr>\n",
       "  </tbody>\n",
       "</table>\n",
       "</div>"
      ],
      "text/plain": [
       "           count        mean        std  min   25%    50%     75%    max\n",
       "continent                                                               \n",
       "AF          53.0   16.264151  38.846419  0.0   1.0    2.0   13.00  233.0\n",
       "AS          44.0    9.068182  21.667034  0.0   0.0    1.0    8.00  123.0\n",
       "EU          45.0  142.222222  97.421738  0.0  59.0  128.0  195.00  370.0\n",
       "OC          16.0   35.625000  64.555790  0.0   1.0    8.5   23.25  212.0\n",
       "SA          12.0   62.416667  88.620189  1.0   3.0   12.0   98.50  221.0"
      ]
     },
     "metadata": {},
     "output_type": "execute_result",
     "transient": {}
    }
   ],
   "source": [
    "# 运行以下代码\n",
    "drinks.groupby('continent').wine_servings.describe()"
   ]
  },
  {
   "cell_type": "markdown",
   "metadata": {
    "id": "ACF75BF8D80240D1810008833043DD5C",
    "jupyter": {},
    "mdEditEnable": false,
    "slideshow": {
     "slide_type": "slide"
    },
    "tags": []
   },
   "source": [
    "### 步骤6 打印出每个大陆每种酒类别的消耗平均值"
   ]
  },
  {
   "cell_type": "code",
   "execution_count": 15,
   "metadata": {
    "collapsed": false,
    "id": "092D2E7F45DE45F1861573BEA9FDC5E3",
    "jupyter": {
     "outputs_hidden": false
    },
    "slideshow": {
     "slide_type": "slide"
    },
    "tags": []
   },
   "outputs": [
    {
     "data": {
      "text/html": [
       "<div>\n",
       "<style scoped>\n",
       "    .dataframe tbody tr th:only-of-type {\n",
       "        vertical-align: middle;\n",
       "    }\n",
       "\n",
       "    .dataframe tbody tr th {\n",
       "        vertical-align: top;\n",
       "    }\n",
       "\n",
       "    .dataframe thead th {\n",
       "        text-align: right;\n",
       "    }\n",
       "</style>\n",
       "<table border=\"1\" class=\"dataframe\">\n",
       "  <thead>\n",
       "    <tr style=\"text-align: right;\">\n",
       "      <th></th>\n",
       "      <th>beer_servings</th>\n",
       "      <th>spirit_servings</th>\n",
       "      <th>wine_servings</th>\n",
       "      <th>total_litres_of_pure_alcohol</th>\n",
       "    </tr>\n",
       "    <tr>\n",
       "      <th>continent</th>\n",
       "      <th></th>\n",
       "      <th></th>\n",
       "      <th></th>\n",
       "      <th></th>\n",
       "    </tr>\n",
       "  </thead>\n",
       "  <tbody>\n",
       "    <tr>\n",
       "      <th>AF</th>\n",
       "      <td>61.471698</td>\n",
       "      <td>16.339623</td>\n",
       "      <td>16.264151</td>\n",
       "      <td>3.007547</td>\n",
       "    </tr>\n",
       "    <tr>\n",
       "      <th>AS</th>\n",
       "      <td>37.045455</td>\n",
       "      <td>60.840909</td>\n",
       "      <td>9.068182</td>\n",
       "      <td>2.170455</td>\n",
       "    </tr>\n",
       "    <tr>\n",
       "      <th>EU</th>\n",
       "      <td>193.777778</td>\n",
       "      <td>132.555556</td>\n",
       "      <td>142.222222</td>\n",
       "      <td>8.617778</td>\n",
       "    </tr>\n",
       "    <tr>\n",
       "      <th>OC</th>\n",
       "      <td>89.687500</td>\n",
       "      <td>58.437500</td>\n",
       "      <td>35.625000</td>\n",
       "      <td>3.381250</td>\n",
       "    </tr>\n",
       "    <tr>\n",
       "      <th>SA</th>\n",
       "      <td>175.083333</td>\n",
       "      <td>114.750000</td>\n",
       "      <td>62.416667</td>\n",
       "      <td>6.308333</td>\n",
       "    </tr>\n",
       "  </tbody>\n",
       "</table>\n",
       "</div>"
      ],
      "text/plain": [
       "           beer_servings  spirit_servings  wine_servings  \\\n",
       "continent                                                  \n",
       "AF             61.471698        16.339623      16.264151   \n",
       "AS             37.045455        60.840909       9.068182   \n",
       "EU            193.777778       132.555556     142.222222   \n",
       "OC             89.687500        58.437500      35.625000   \n",
       "SA            175.083333       114.750000      62.416667   \n",
       "\n",
       "           total_litres_of_pure_alcohol  \n",
       "continent                                \n",
       "AF                             3.007547  \n",
       "AS                             2.170455  \n",
       "EU                             8.617778  \n",
       "OC                             3.381250  \n",
       "SA                             6.308333  "
      ]
     },
     "metadata": {},
     "output_type": "execute_result",
     "transient": {}
    }
   ],
   "source": [
    "# 运行以下代码\n",
    "drinks.groupby('continent').mean()"
   ]
  },
  {
   "cell_type": "markdown",
   "metadata": {
    "id": "DA43F7A2E2A64B14B1B6A9303963237F",
    "jupyter": {},
    "mdEditEnable": false,
    "slideshow": {
     "slide_type": "slide"
    },
    "tags": []
   },
   "source": [
    "### 步骤7 打印出每个大陆每种酒类别的消耗中位数"
   ]
  },
  {
   "cell_type": "code",
   "execution_count": 268,
   "metadata": {
    "collapsed": false,
    "id": "DED8A2BF935E4C05894EAC4E015D4823",
    "jupyter": {
     "outputs_hidden": false
    },
    "slideshow": {
     "slide_type": "slide"
    },
    "tags": []
   },
   "outputs": [
    {
     "data": {
      "text/html": [
       "<div>\n",
       "<style scoped>\n",
       "    .dataframe tbody tr th:only-of-type {\n",
       "        vertical-align: middle;\n",
       "    }\n",
       "\n",
       "    .dataframe tbody tr th {\n",
       "        vertical-align: top;\n",
       "    }\n",
       "\n",
       "    .dataframe thead th {\n",
       "        text-align: right;\n",
       "    }\n",
       "</style>\n",
       "<table border=\"1\" class=\"dataframe\">\n",
       "  <thead>\n",
       "    <tr style=\"text-align: right;\">\n",
       "      <th></th>\n",
       "      <th>beer_servings</th>\n",
       "      <th>spirit_servings</th>\n",
       "      <th>wine_servings</th>\n",
       "      <th>total_litres_of_pure_alcohol</th>\n",
       "    </tr>\n",
       "    <tr>\n",
       "      <th>continent</th>\n",
       "      <th></th>\n",
       "      <th></th>\n",
       "      <th></th>\n",
       "      <th></th>\n",
       "    </tr>\n",
       "  </thead>\n",
       "  <tbody>\n",
       "    <tr>\n",
       "      <th>AF</th>\n",
       "      <td>32.0</td>\n",
       "      <td>3.0</td>\n",
       "      <td>2.0</td>\n",
       "      <td>2.30</td>\n",
       "    </tr>\n",
       "    <tr>\n",
       "      <th>AS</th>\n",
       "      <td>17.5</td>\n",
       "      <td>16.0</td>\n",
       "      <td>1.0</td>\n",
       "      <td>1.20</td>\n",
       "    </tr>\n",
       "    <tr>\n",
       "      <th>EU</th>\n",
       "      <td>219.0</td>\n",
       "      <td>122.0</td>\n",
       "      <td>128.0</td>\n",
       "      <td>10.00</td>\n",
       "    </tr>\n",
       "    <tr>\n",
       "      <th>OC</th>\n",
       "      <td>52.5</td>\n",
       "      <td>37.0</td>\n",
       "      <td>8.5</td>\n",
       "      <td>1.75</td>\n",
       "    </tr>\n",
       "    <tr>\n",
       "      <th>SA</th>\n",
       "      <td>162.5</td>\n",
       "      <td>108.5</td>\n",
       "      <td>12.0</td>\n",
       "      <td>6.85</td>\n",
       "    </tr>\n",
       "  </tbody>\n",
       "</table>\n",
       "</div>"
      ],
      "text/plain": [
       "           beer_servings  spirit_servings  wine_servings  \\\n",
       "continent                                                  \n",
       "AF                  32.0              3.0            2.0   \n",
       "AS                  17.5             16.0            1.0   \n",
       "EU                 219.0            122.0          128.0   \n",
       "OC                  52.5             37.0            8.5   \n",
       "SA                 162.5            108.5           12.0   \n",
       "\n",
       "           total_litres_of_pure_alcohol  \n",
       "continent                                \n",
       "AF                                 2.30  \n",
       "AS                                 1.20  \n",
       "EU                                10.00  \n",
       "OC                                 1.75  \n",
       "SA                                 6.85  "
      ]
     },
     "execution_count": 268,
     "metadata": {},
     "output_type": "execute_result"
    }
   ],
   "source": [
    "# 运行以下代码\n",
    "drinks.groupby('continent').median()"
   ]
  },
  {
   "cell_type": "markdown",
   "metadata": {
    "id": "305BD2BFC20B43FE994324166EEB02FA",
    "jupyter": {},
    "mdEditEnable": false,
    "slideshow": {
     "slide_type": "slide"
    },
    "tags": []
   },
   "source": [
    "### 步骤8 打印出每个大陆对spirit饮品消耗的平均值，最大值和最小值"
   ]
  },
  {
   "cell_type": "code",
   "execution_count": 269,
   "metadata": {
    "collapsed": false,
    "id": "DE5B7DDE27F64D03B7B8B5596E424D8A",
    "jupyter": {
     "outputs_hidden": false
    },
    "slideshow": {
     "slide_type": "slide"
    },
    "tags": []
   },
   "outputs": [
    {
     "data": {
      "text/html": [
       "<div>\n",
       "<style scoped>\n",
       "    .dataframe tbody tr th:only-of-type {\n",
       "        vertical-align: middle;\n",
       "    }\n",
       "\n",
       "    .dataframe tbody tr th {\n",
       "        vertical-align: top;\n",
       "    }\n",
       "\n",
       "    .dataframe thead th {\n",
       "        text-align: right;\n",
       "    }\n",
       "</style>\n",
       "<table border=\"1\" class=\"dataframe\">\n",
       "  <thead>\n",
       "    <tr style=\"text-align: right;\">\n",
       "      <th></th>\n",
       "      <th>mean</th>\n",
       "      <th>min</th>\n",
       "      <th>max</th>\n",
       "    </tr>\n",
       "    <tr>\n",
       "      <th>continent</th>\n",
       "      <th></th>\n",
       "      <th></th>\n",
       "      <th></th>\n",
       "    </tr>\n",
       "  </thead>\n",
       "  <tbody>\n",
       "    <tr>\n",
       "      <th>AF</th>\n",
       "      <td>16.339623</td>\n",
       "      <td>0</td>\n",
       "      <td>152</td>\n",
       "    </tr>\n",
       "    <tr>\n",
       "      <th>AS</th>\n",
       "      <td>60.840909</td>\n",
       "      <td>0</td>\n",
       "      <td>326</td>\n",
       "    </tr>\n",
       "    <tr>\n",
       "      <th>EU</th>\n",
       "      <td>132.555556</td>\n",
       "      <td>0</td>\n",
       "      <td>373</td>\n",
       "    </tr>\n",
       "    <tr>\n",
       "      <th>OC</th>\n",
       "      <td>58.437500</td>\n",
       "      <td>0</td>\n",
       "      <td>254</td>\n",
       "    </tr>\n",
       "    <tr>\n",
       "      <th>SA</th>\n",
       "      <td>114.750000</td>\n",
       "      <td>25</td>\n",
       "      <td>302</td>\n",
       "    </tr>\n",
       "  </tbody>\n",
       "</table>\n",
       "</div>"
      ],
      "text/plain": [
       "                 mean  min  max\n",
       "continent                      \n",
       "AF          16.339623    0  152\n",
       "AS          60.840909    0  326\n",
       "EU         132.555556    0  373\n",
       "OC          58.437500    0  254\n",
       "SA         114.750000   25  302"
      ]
     },
     "execution_count": 269,
     "metadata": {},
     "output_type": "execute_result"
    }
   ],
   "source": [
    "# 运行以下代码\n",
    "drinks.groupby('continent').spirit_servings.agg(['mean', 'min', 'max'])"
   ]
  },
  {
   "cell_type": "markdown",
   "metadata": {
    "id": "B1B8F46F84EC43758727ADDD2F9B12C9",
    "jupyter": {},
    "mdEditEnable": false,
    "slideshow": {
     "slide_type": "slide"
    },
    "tags": []
   },
   "source": [
    "# 练习4-Apply函数\n",
    "## 探索1960 - 2014 美国犯罪数据\n",
    "![image description](https://cdn.kesci.com/images/lab_upload/1508342597565_76025.jpeg)"
   ]
  },
  {
   "cell_type": "markdown",
   "metadata": {
    "id": "AD9F04550A8342FC8FEFB09919CEF7E2",
    "jupyter": {},
    "mdEditEnable": false,
    "slideshow": {
     "slide_type": "slide"
    },
    "tags": []
   },
   "source": [
    "[返回练习题索引](#练习题索引)"
   ]
  },
  {
   "cell_type": "markdown",
   "metadata": {
    "id": "62C5BF1BFF6741CF8A6697F103911D43",
    "jupyter": {},
    "mdEditEnable": false,
    "slideshow": {
     "slide_type": "slide"
    },
    "tags": []
   },
   "source": [
    "### 步骤1 导入必要的库"
   ]
  },
  {
   "cell_type": "code",
   "execution_count": 16,
   "metadata": {
    "collapsed": false,
    "id": "B2C0CD7655EA440BAA73922FB2BC4DC0",
    "jupyter": {
     "outputs_hidden": false
    },
    "slideshow": {
     "slide_type": "slide"
    },
    "tags": []
   },
   "outputs": [],
   "source": [
    "# 运行以下代码\n",
    "import numpy as np\n",
    "import pandas as pd"
   ]
  },
  {
   "cell_type": "markdown",
   "metadata": {
    "id": "1B1196743C2B4CBB88FA21F9D523F83B",
    "jupyter": {},
    "mdEditEnable": false,
    "slideshow": {
     "slide_type": "slide"
    },
    "tags": []
   },
   "source": [
    "### 步骤2 从以下地址导入数据集"
   ]
  },
  {
   "cell_type": "code",
   "execution_count": 27,
   "metadata": {
    "collapsed": false,
    "id": "C89AA408D29E47FEBAE5CFABA8B1C9CB",
    "jupyter": {
     "outputs_hidden": false
    },
    "slideshow": {
     "slide_type": "slide"
    },
    "tags": []
   },
   "outputs": [],
   "source": [
    "# 运行以下代码\n",
    "path4 = '../input/pandas_exercise/pandas_exercise/exercise_data/US_Crime_Rates_1960_2014.csv'    # \"US_Crime_Rates_1960_2014.csv\""
   ]
  },
  {
   "cell_type": "markdown",
   "metadata": {
    "id": "D2EF6ADD3344480C88C78293EC99A74A",
    "jupyter": {},
    "mdEditEnable": false,
    "slideshow": {
     "slide_type": "slide"
    },
    "tags": []
   },
   "source": [
    "### 步骤3 将数据框命名为crime"
   ]
  },
  {
   "cell_type": "code",
   "execution_count": 28,
   "metadata": {
    "collapsed": false,
    "id": "A070C9CD3B924A1C8B3770E797AAE0C5",
    "jupyter": {
     "outputs_hidden": false
    },
    "slideshow": {
     "slide_type": "slide"
    },
    "tags": []
   },
   "outputs": [
    {
     "data": {
      "text/html": [
       "<div>\n",
       "<style scoped>\n",
       "    .dataframe tbody tr th:only-of-type {\n",
       "        vertical-align: middle;\n",
       "    }\n",
       "\n",
       "    .dataframe tbody tr th {\n",
       "        vertical-align: top;\n",
       "    }\n",
       "\n",
       "    .dataframe thead th {\n",
       "        text-align: right;\n",
       "    }\n",
       "</style>\n",
       "<table border=\"1\" class=\"dataframe\">\n",
       "  <thead>\n",
       "    <tr style=\"text-align: right;\">\n",
       "      <th></th>\n",
       "      <th>Year</th>\n",
       "      <th>Population</th>\n",
       "      <th>Total</th>\n",
       "      <th>Violent</th>\n",
       "      <th>Property</th>\n",
       "      <th>Murder</th>\n",
       "      <th>Forcible_Rape</th>\n",
       "      <th>Robbery</th>\n",
       "      <th>Aggravated_assault</th>\n",
       "      <th>Burglary</th>\n",
       "      <th>Larceny_Theft</th>\n",
       "      <th>Vehicle_Theft</th>\n",
       "    </tr>\n",
       "  </thead>\n",
       "  <tbody>\n",
       "    <tr>\n",
       "      <th>0</th>\n",
       "      <td>1960</td>\n",
       "      <td>179323175</td>\n",
       "      <td>3384200</td>\n",
       "      <td>288460</td>\n",
       "      <td>3095700</td>\n",
       "      <td>9110</td>\n",
       "      <td>17190</td>\n",
       "      <td>107840</td>\n",
       "      <td>154320</td>\n",
       "      <td>912100</td>\n",
       "      <td>1855400</td>\n",
       "      <td>328200</td>\n",
       "    </tr>\n",
       "    <tr>\n",
       "      <th>1</th>\n",
       "      <td>1961</td>\n",
       "      <td>182992000</td>\n",
       "      <td>3488000</td>\n",
       "      <td>289390</td>\n",
       "      <td>3198600</td>\n",
       "      <td>8740</td>\n",
       "      <td>17220</td>\n",
       "      <td>106670</td>\n",
       "      <td>156760</td>\n",
       "      <td>949600</td>\n",
       "      <td>1913000</td>\n",
       "      <td>336000</td>\n",
       "    </tr>\n",
       "    <tr>\n",
       "      <th>2</th>\n",
       "      <td>1962</td>\n",
       "      <td>185771000</td>\n",
       "      <td>3752200</td>\n",
       "      <td>301510</td>\n",
       "      <td>3450700</td>\n",
       "      <td>8530</td>\n",
       "      <td>17550</td>\n",
       "      <td>110860</td>\n",
       "      <td>164570</td>\n",
       "      <td>994300</td>\n",
       "      <td>2089600</td>\n",
       "      <td>366800</td>\n",
       "    </tr>\n",
       "    <tr>\n",
       "      <th>3</th>\n",
       "      <td>1963</td>\n",
       "      <td>188483000</td>\n",
       "      <td>4109500</td>\n",
       "      <td>316970</td>\n",
       "      <td>3792500</td>\n",
       "      <td>8640</td>\n",
       "      <td>17650</td>\n",
       "      <td>116470</td>\n",
       "      <td>174210</td>\n",
       "      <td>1086400</td>\n",
       "      <td>2297800</td>\n",
       "      <td>408300</td>\n",
       "    </tr>\n",
       "    <tr>\n",
       "      <th>4</th>\n",
       "      <td>1964</td>\n",
       "      <td>191141000</td>\n",
       "      <td>4564600</td>\n",
       "      <td>364220</td>\n",
       "      <td>4200400</td>\n",
       "      <td>9360</td>\n",
       "      <td>21420</td>\n",
       "      <td>130390</td>\n",
       "      <td>203050</td>\n",
       "      <td>1213200</td>\n",
       "      <td>2514400</td>\n",
       "      <td>472800</td>\n",
       "    </tr>\n",
       "  </tbody>\n",
       "</table>\n",
       "</div>"
      ],
      "text/plain": [
       "   Year  Population    Total  Violent  Property  Murder  Forcible_Rape  \\\n",
       "0  1960   179323175  3384200   288460   3095700    9110          17190   \n",
       "1  1961   182992000  3488000   289390   3198600    8740          17220   \n",
       "2  1962   185771000  3752200   301510   3450700    8530          17550   \n",
       "3  1963   188483000  4109500   316970   3792500    8640          17650   \n",
       "4  1964   191141000  4564600   364220   4200400    9360          21420   \n",
       "\n",
       "   Robbery  Aggravated_assault  Burglary  Larceny_Theft  Vehicle_Theft  \n",
       "0   107840              154320    912100        1855400         328200  \n",
       "1   106670              156760    949600        1913000         336000  \n",
       "2   110860              164570    994300        2089600         366800  \n",
       "3   116470              174210   1086400        2297800         408300  \n",
       "4   130390              203050   1213200        2514400         472800  "
      ]
     },
     "metadata": {},
     "output_type": "execute_result",
     "transient": {}
    }
   ],
   "source": [
    "# 运行以下代码\n",
    "crime = pd.read_csv(path4)\n",
    "crime.head()"
   ]
  },
  {
   "cell_type": "markdown",
   "metadata": {
    "id": "59843F4F0B7343D5AB7645E6E45D7A34",
    "jupyter": {},
    "mdEditEnable": false,
    "slideshow": {
     "slide_type": "slide"
    },
    "tags": []
   },
   "source": [
    "### 步骤4 每一列(column)的数据类型是什么样的？"
   ]
  },
  {
   "cell_type": "code",
   "execution_count": 29,
   "metadata": {
    "collapsed": false,
    "id": "249F0DC481BA4F27A3B8B0A568CC8BDF",
    "jupyter": {
     "outputs_hidden": false
    },
    "slideshow": {
     "slide_type": "slide"
    },
    "tags": []
   },
   "outputs": [
    {
     "name": "stdout",
     "output_type": "stream",
     "text": [
      "<class 'pandas.core.frame.DataFrame'>\n",
      "RangeIndex: 55 entries, 0 to 54\n",
      "Data columns (total 12 columns):\n",
      "Year                  55 non-null int64\n",
      "Population            55 non-null int64\n",
      "Total                 55 non-null int64\n",
      "Violent               55 non-null int64\n",
      "Property              55 non-null int64\n",
      "Murder                55 non-null int64\n",
      "Forcible_Rape         55 non-null int64\n",
      "Robbery               55 non-null int64\n",
      "Aggravated_assault    55 non-null int64\n",
      "Burglary              55 non-null int64\n",
      "Larceny_Theft         55 non-null int64\n",
      "Vehicle_Theft         55 non-null int64\n",
      "dtypes: int64(12)\n",
      "memory usage: 5.2 KB\n"
     ]
    }
   ],
   "source": [
    "# 运行以下代码\n",
    "crime.info()"
   ]
  },
  {
   "cell_type": "markdown",
   "metadata": {
    "id": "3D23C3403EF04A8AA9755F4E6B6A2755",
    "jupyter": {},
    "mdEditEnable": false,
    "slideshow": {
     "slide_type": "slide"
    },
    "tags": []
   },
   "source": [
    "*注意到了吗，Year的数据类型为 ```int64```，但是pandas有一个不同的数据类型去处理时间序列(time series)，我们现在来看看。*"
   ]
  },
  {
   "cell_type": "markdown",
   "metadata": {
    "id": "A775282CD76D4B2BAC818AB9E5B7763A",
    "jupyter": {},
    "mdEditEnable": false,
    "slideshow": {
     "slide_type": "slide"
    },
    "tags": []
   },
   "source": [
    "### 步骤5 将Year的数据类型转换为 ```datetime64```"
   ]
  },
  {
   "cell_type": "code",
   "execution_count": 30,
   "metadata": {
    "collapsed": false,
    "id": "C2078123F13F4363845C278A07DF1CDB",
    "jupyter": {
     "outputs_hidden": false
    },
    "slideshow": {
     "slide_type": "slide"
    },
    "tags": []
   },
   "outputs": [
    {
     "name": "stdout",
     "output_type": "stream",
     "text": [
      "<class 'pandas.core.frame.DataFrame'>\n",
      "RangeIndex: 55 entries, 0 to 54\n",
      "Data columns (total 12 columns):\n",
      "Year                  55 non-null datetime64[ns]\n",
      "Population            55 non-null int64\n",
      "Total                 55 non-null int64\n",
      "Violent               55 non-null int64\n",
      "Property              55 non-null int64\n",
      "Murder                55 non-null int64\n",
      "Forcible_Rape         55 non-null int64\n",
      "Robbery               55 non-null int64\n",
      "Aggravated_assault    55 non-null int64\n",
      "Burglary              55 non-null int64\n",
      "Larceny_Theft         55 non-null int64\n",
      "Vehicle_Theft         55 non-null int64\n",
      "dtypes: datetime64[ns](1), int64(11)\n",
      "memory usage: 5.2 KB\n"
     ]
    }
   ],
   "source": [
    "# 运行以下代码\n",
    "crime.Year = pd.to_datetime(crime.Year, format='%Y')\n",
    "crime.info()"
   ]
  },
  {
   "cell_type": "markdown",
   "metadata": {
    "id": "FAEFF8BE60B840C68EF78D362F783C62",
    "jupyter": {},
    "mdEditEnable": false,
    "slideshow": {
     "slide_type": "slide"
    },
    "tags": []
   },
   "source": [
    "### 步骤6 将列Year设置为数据框的索引"
   ]
  },
  {
   "cell_type": "code",
   "execution_count": 31,
   "metadata": {
    "collapsed": false,
    "id": "1F4D15E8F506408082843D864886B807",
    "jupyter": {
     "outputs_hidden": false
    },
    "slideshow": {
     "slide_type": "slide"
    },
    "tags": []
   },
   "outputs": [
    {
     "data": {
      "text/html": [
       "<div>\n",
       "<style scoped>\n",
       "    .dataframe tbody tr th:only-of-type {\n",
       "        vertical-align: middle;\n",
       "    }\n",
       "\n",
       "    .dataframe tbody tr th {\n",
       "        vertical-align: top;\n",
       "    }\n",
       "\n",
       "    .dataframe thead th {\n",
       "        text-align: right;\n",
       "    }\n",
       "</style>\n",
       "<table border=\"1\" class=\"dataframe\">\n",
       "  <thead>\n",
       "    <tr style=\"text-align: right;\">\n",
       "      <th></th>\n",
       "      <th>Population</th>\n",
       "      <th>Total</th>\n",
       "      <th>Violent</th>\n",
       "      <th>Property</th>\n",
       "      <th>Murder</th>\n",
       "      <th>Forcible_Rape</th>\n",
       "      <th>Robbery</th>\n",
       "      <th>Aggravated_assault</th>\n",
       "      <th>Burglary</th>\n",
       "      <th>Larceny_Theft</th>\n",
       "      <th>Vehicle_Theft</th>\n",
       "    </tr>\n",
       "    <tr>\n",
       "      <th>Year</th>\n",
       "      <th></th>\n",
       "      <th></th>\n",
       "      <th></th>\n",
       "      <th></th>\n",
       "      <th></th>\n",
       "      <th></th>\n",
       "      <th></th>\n",
       "      <th></th>\n",
       "      <th></th>\n",
       "      <th></th>\n",
       "      <th></th>\n",
       "    </tr>\n",
       "  </thead>\n",
       "  <tbody>\n",
       "    <tr>\n",
       "      <th>1960-01-01</th>\n",
       "      <td>179323175</td>\n",
       "      <td>3384200</td>\n",
       "      <td>288460</td>\n",
       "      <td>3095700</td>\n",
       "      <td>9110</td>\n",
       "      <td>17190</td>\n",
       "      <td>107840</td>\n",
       "      <td>154320</td>\n",
       "      <td>912100</td>\n",
       "      <td>1855400</td>\n",
       "      <td>328200</td>\n",
       "    </tr>\n",
       "    <tr>\n",
       "      <th>1961-01-01</th>\n",
       "      <td>182992000</td>\n",
       "      <td>3488000</td>\n",
       "      <td>289390</td>\n",
       "      <td>3198600</td>\n",
       "      <td>8740</td>\n",
       "      <td>17220</td>\n",
       "      <td>106670</td>\n",
       "      <td>156760</td>\n",
       "      <td>949600</td>\n",
       "      <td>1913000</td>\n",
       "      <td>336000</td>\n",
       "    </tr>\n",
       "    <tr>\n",
       "      <th>1962-01-01</th>\n",
       "      <td>185771000</td>\n",
       "      <td>3752200</td>\n",
       "      <td>301510</td>\n",
       "      <td>3450700</td>\n",
       "      <td>8530</td>\n",
       "      <td>17550</td>\n",
       "      <td>110860</td>\n",
       "      <td>164570</td>\n",
       "      <td>994300</td>\n",
       "      <td>2089600</td>\n",
       "      <td>366800</td>\n",
       "    </tr>\n",
       "    <tr>\n",
       "      <th>1963-01-01</th>\n",
       "      <td>188483000</td>\n",
       "      <td>4109500</td>\n",
       "      <td>316970</td>\n",
       "      <td>3792500</td>\n",
       "      <td>8640</td>\n",
       "      <td>17650</td>\n",
       "      <td>116470</td>\n",
       "      <td>174210</td>\n",
       "      <td>1086400</td>\n",
       "      <td>2297800</td>\n",
       "      <td>408300</td>\n",
       "    </tr>\n",
       "    <tr>\n",
       "      <th>1964-01-01</th>\n",
       "      <td>191141000</td>\n",
       "      <td>4564600</td>\n",
       "      <td>364220</td>\n",
       "      <td>4200400</td>\n",
       "      <td>9360</td>\n",
       "      <td>21420</td>\n",
       "      <td>130390</td>\n",
       "      <td>203050</td>\n",
       "      <td>1213200</td>\n",
       "      <td>2514400</td>\n",
       "      <td>472800</td>\n",
       "    </tr>\n",
       "  </tbody>\n",
       "</table>\n",
       "</div>"
      ],
      "text/plain": [
       "            Population    Total  Violent  Property  Murder  Forcible_Rape  \\\n",
       "Year                                                                        \n",
       "1960-01-01   179323175  3384200   288460   3095700    9110          17190   \n",
       "1961-01-01   182992000  3488000   289390   3198600    8740          17220   \n",
       "1962-01-01   185771000  3752200   301510   3450700    8530          17550   \n",
       "1963-01-01   188483000  4109500   316970   3792500    8640          17650   \n",
       "1964-01-01   191141000  4564600   364220   4200400    9360          21420   \n",
       "\n",
       "            Robbery  Aggravated_assault  Burglary  Larceny_Theft  \\\n",
       "Year                                                               \n",
       "1960-01-01   107840              154320    912100        1855400   \n",
       "1961-01-01   106670              156760    949600        1913000   \n",
       "1962-01-01   110860              164570    994300        2089600   \n",
       "1963-01-01   116470              174210   1086400        2297800   \n",
       "1964-01-01   130390              203050   1213200        2514400   \n",
       "\n",
       "            Vehicle_Theft  \n",
       "Year                       \n",
       "1960-01-01         328200  \n",
       "1961-01-01         336000  \n",
       "1962-01-01         366800  \n",
       "1963-01-01         408300  \n",
       "1964-01-01         472800  "
      ]
     },
     "metadata": {},
     "output_type": "execute_result",
     "transient": {}
    }
   ],
   "source": [
    "# 运行以下代码\n",
    "crime = crime.set_index('Year', drop = True)\n",
    "crime.head()"
   ]
  },
  {
   "cell_type": "markdown",
   "metadata": {
    "id": "8ED9043146534B0484DBBDDA859A5CEC",
    "jupyter": {},
    "mdEditEnable": false,
    "slideshow": {
     "slide_type": "slide"
    },
    "tags": []
   },
   "source": [
    "### 步骤7 删除名为Total的列"
   ]
  },
  {
   "cell_type": "code",
   "execution_count": 32,
   "metadata": {
    "collapsed": false,
    "id": "E1AE7D9EACE94003BDB548358F835CB1",
    "jupyter": {
     "outputs_hidden": false
    },
    "slideshow": {
     "slide_type": "slide"
    },
    "tags": []
   },
   "outputs": [
    {
     "data": {
      "text/html": [
       "<div>\n",
       "<style scoped>\n",
       "    .dataframe tbody tr th:only-of-type {\n",
       "        vertical-align: middle;\n",
       "    }\n",
       "\n",
       "    .dataframe tbody tr th {\n",
       "        vertical-align: top;\n",
       "    }\n",
       "\n",
       "    .dataframe thead th {\n",
       "        text-align: right;\n",
       "    }\n",
       "</style>\n",
       "<table border=\"1\" class=\"dataframe\">\n",
       "  <thead>\n",
       "    <tr style=\"text-align: right;\">\n",
       "      <th></th>\n",
       "      <th>Population</th>\n",
       "      <th>Violent</th>\n",
       "      <th>Property</th>\n",
       "      <th>Murder</th>\n",
       "      <th>Forcible_Rape</th>\n",
       "      <th>Robbery</th>\n",
       "      <th>Aggravated_assault</th>\n",
       "      <th>Burglary</th>\n",
       "      <th>Larceny_Theft</th>\n",
       "      <th>Vehicle_Theft</th>\n",
       "    </tr>\n",
       "    <tr>\n",
       "      <th>Year</th>\n",
       "      <th></th>\n",
       "      <th></th>\n",
       "      <th></th>\n",
       "      <th></th>\n",
       "      <th></th>\n",
       "      <th></th>\n",
       "      <th></th>\n",
       "      <th></th>\n",
       "      <th></th>\n",
       "      <th></th>\n",
       "    </tr>\n",
       "  </thead>\n",
       "  <tbody>\n",
       "    <tr>\n",
       "      <th>1960-01-01</th>\n",
       "      <td>179323175</td>\n",
       "      <td>288460</td>\n",
       "      <td>3095700</td>\n",
       "      <td>9110</td>\n",
       "      <td>17190</td>\n",
       "      <td>107840</td>\n",
       "      <td>154320</td>\n",
       "      <td>912100</td>\n",
       "      <td>1855400</td>\n",
       "      <td>328200</td>\n",
       "    </tr>\n",
       "    <tr>\n",
       "      <th>1961-01-01</th>\n",
       "      <td>182992000</td>\n",
       "      <td>289390</td>\n",
       "      <td>3198600</td>\n",
       "      <td>8740</td>\n",
       "      <td>17220</td>\n",
       "      <td>106670</td>\n",
       "      <td>156760</td>\n",
       "      <td>949600</td>\n",
       "      <td>1913000</td>\n",
       "      <td>336000</td>\n",
       "    </tr>\n",
       "    <tr>\n",
       "      <th>1962-01-01</th>\n",
       "      <td>185771000</td>\n",
       "      <td>301510</td>\n",
       "      <td>3450700</td>\n",
       "      <td>8530</td>\n",
       "      <td>17550</td>\n",
       "      <td>110860</td>\n",
       "      <td>164570</td>\n",
       "      <td>994300</td>\n",
       "      <td>2089600</td>\n",
       "      <td>366800</td>\n",
       "    </tr>\n",
       "    <tr>\n",
       "      <th>1963-01-01</th>\n",
       "      <td>188483000</td>\n",
       "      <td>316970</td>\n",
       "      <td>3792500</td>\n",
       "      <td>8640</td>\n",
       "      <td>17650</td>\n",
       "      <td>116470</td>\n",
       "      <td>174210</td>\n",
       "      <td>1086400</td>\n",
       "      <td>2297800</td>\n",
       "      <td>408300</td>\n",
       "    </tr>\n",
       "    <tr>\n",
       "      <th>1964-01-01</th>\n",
       "      <td>191141000</td>\n",
       "      <td>364220</td>\n",
       "      <td>4200400</td>\n",
       "      <td>9360</td>\n",
       "      <td>21420</td>\n",
       "      <td>130390</td>\n",
       "      <td>203050</td>\n",
       "      <td>1213200</td>\n",
       "      <td>2514400</td>\n",
       "      <td>472800</td>\n",
       "    </tr>\n",
       "  </tbody>\n",
       "</table>\n",
       "</div>"
      ],
      "text/plain": [
       "            Population  Violent  Property  Murder  Forcible_Rape  Robbery  \\\n",
       "Year                                                                        \n",
       "1960-01-01   179323175   288460   3095700    9110          17190   107840   \n",
       "1961-01-01   182992000   289390   3198600    8740          17220   106670   \n",
       "1962-01-01   185771000   301510   3450700    8530          17550   110860   \n",
       "1963-01-01   188483000   316970   3792500    8640          17650   116470   \n",
       "1964-01-01   191141000   364220   4200400    9360          21420   130390   \n",
       "\n",
       "            Aggravated_assault  Burglary  Larceny_Theft  Vehicle_Theft  \n",
       "Year                                                                    \n",
       "1960-01-01              154320    912100        1855400         328200  \n",
       "1961-01-01              156760    949600        1913000         336000  \n",
       "1962-01-01              164570    994300        2089600         366800  \n",
       "1963-01-01              174210   1086400        2297800         408300  \n",
       "1964-01-01              203050   1213200        2514400         472800  "
      ]
     },
     "metadata": {},
     "output_type": "execute_result",
     "transient": {}
    }
   ],
   "source": [
    "# 运行以下代码\n",
    "del crime['Total']\n",
    "crime.head()"
   ]
  },
  {
   "cell_type": "code",
   "execution_count": 33,
   "metadata": {
    "collapsed": false,
    "id": "CB40284F44D14047BECD12DF7E38EADE",
    "jupyter": {
     "outputs_hidden": false
    },
    "slideshow": {
     "slide_type": "slide"
    },
    "tags": []
   },
   "outputs": [
    {
     "data": {
      "text/html": [
       "<div>\n",
       "<style scoped>\n",
       "    .dataframe tbody tr th:only-of-type {\n",
       "        vertical-align: middle;\n",
       "    }\n",
       "\n",
       "    .dataframe tbody tr th {\n",
       "        vertical-align: top;\n",
       "    }\n",
       "\n",
       "    .dataframe thead th {\n",
       "        text-align: right;\n",
       "    }\n",
       "</style>\n",
       "<table border=\"1\" class=\"dataframe\">\n",
       "  <thead>\n",
       "    <tr style=\"text-align: right;\">\n",
       "      <th></th>\n",
       "      <th>Population</th>\n",
       "      <th>Violent</th>\n",
       "      <th>Property</th>\n",
       "      <th>Murder</th>\n",
       "      <th>Forcible_Rape</th>\n",
       "      <th>Robbery</th>\n",
       "      <th>Aggravated_assault</th>\n",
       "      <th>Burglary</th>\n",
       "      <th>Larceny_Theft</th>\n",
       "      <th>Vehicle_Theft</th>\n",
       "    </tr>\n",
       "    <tr>\n",
       "      <th>Year</th>\n",
       "      <th></th>\n",
       "      <th></th>\n",
       "      <th></th>\n",
       "      <th></th>\n",
       "      <th></th>\n",
       "      <th></th>\n",
       "      <th></th>\n",
       "      <th></th>\n",
       "      <th></th>\n",
       "      <th></th>\n",
       "    </tr>\n",
       "  </thead>\n",
       "  <tbody>\n",
       "    <tr>\n",
       "      <th>1960-01-01</th>\n",
       "      <td>1915053175</td>\n",
       "      <td>4134930</td>\n",
       "      <td>45160900</td>\n",
       "      <td>106180</td>\n",
       "      <td>236720</td>\n",
       "      <td>1633510</td>\n",
       "      <td>2158520</td>\n",
       "      <td>13321100</td>\n",
       "      <td>26547700</td>\n",
       "      <td>5292100</td>\n",
       "    </tr>\n",
       "    <tr>\n",
       "      <th>1970-01-01</th>\n",
       "      <td>2121193298</td>\n",
       "      <td>9607930</td>\n",
       "      <td>91383800</td>\n",
       "      <td>192230</td>\n",
       "      <td>554570</td>\n",
       "      <td>4159020</td>\n",
       "      <td>4702120</td>\n",
       "      <td>28486000</td>\n",
       "      <td>53157800</td>\n",
       "      <td>9739900</td>\n",
       "    </tr>\n",
       "    <tr>\n",
       "      <th>1980-01-01</th>\n",
       "      <td>2371370069</td>\n",
       "      <td>14074328</td>\n",
       "      <td>117048900</td>\n",
       "      <td>206439</td>\n",
       "      <td>865639</td>\n",
       "      <td>5383109</td>\n",
       "      <td>7619130</td>\n",
       "      <td>33073494</td>\n",
       "      <td>72040253</td>\n",
       "      <td>11935411</td>\n",
       "    </tr>\n",
       "    <tr>\n",
       "      <th>1990-01-01</th>\n",
       "      <td>2612825258</td>\n",
       "      <td>17527048</td>\n",
       "      <td>119053499</td>\n",
       "      <td>211664</td>\n",
       "      <td>998827</td>\n",
       "      <td>5748930</td>\n",
       "      <td>10568963</td>\n",
       "      <td>26750015</td>\n",
       "      <td>77679366</td>\n",
       "      <td>14624418</td>\n",
       "    </tr>\n",
       "    <tr>\n",
       "      <th>2000-01-01</th>\n",
       "      <td>2947969117</td>\n",
       "      <td>13968056</td>\n",
       "      <td>100944369</td>\n",
       "      <td>163068</td>\n",
       "      <td>922499</td>\n",
       "      <td>4230366</td>\n",
       "      <td>8652124</td>\n",
       "      <td>21565176</td>\n",
       "      <td>67970291</td>\n",
       "      <td>11412834</td>\n",
       "    </tr>\n",
       "    <tr>\n",
       "      <th>2010-01-01</th>\n",
       "      <td>1570146307</td>\n",
       "      <td>6072017</td>\n",
       "      <td>44095950</td>\n",
       "      <td>72867</td>\n",
       "      <td>421059</td>\n",
       "      <td>1749809</td>\n",
       "      <td>3764142</td>\n",
       "      <td>10125170</td>\n",
       "      <td>30401698</td>\n",
       "      <td>3569080</td>\n",
       "    </tr>\n",
       "  </tbody>\n",
       "</table>\n",
       "</div>"
      ],
      "text/plain": [
       "            Population   Violent   Property  Murder  Forcible_Rape  Robbery  \\\n",
       "Year                                                                          \n",
       "1960-01-01  1915053175   4134930   45160900  106180         236720  1633510   \n",
       "1970-01-01  2121193298   9607930   91383800  192230         554570  4159020   \n",
       "1980-01-01  2371370069  14074328  117048900  206439         865639  5383109   \n",
       "1990-01-01  2612825258  17527048  119053499  211664         998827  5748930   \n",
       "2000-01-01  2947969117  13968056  100944369  163068         922499  4230366   \n",
       "2010-01-01  1570146307   6072017   44095950   72867         421059  1749809   \n",
       "\n",
       "            Aggravated_assault  Burglary  Larceny_Theft  Vehicle_Theft  \n",
       "Year                                                                    \n",
       "1960-01-01             2158520  13321100       26547700        5292100  \n",
       "1970-01-01             4702120  28486000       53157800        9739900  \n",
       "1980-01-01             7619130  33073494       72040253       11935411  \n",
       "1990-01-01            10568963  26750015       77679366       14624418  \n",
       "2000-01-01             8652124  21565176       67970291       11412834  \n",
       "2010-01-01             3764142  10125170       30401698        3569080  "
      ]
     },
     "metadata": {},
     "output_type": "execute_result",
     "transient": {}
    }
   ],
   "source": [
    "crime.resample('10AS').sum()"
   ]
  },
  {
   "cell_type": "markdown",
   "metadata": {
    "id": "340AFD9DA23C4B4A92A202F630B25464",
    "jupyter": {},
    "mdEditEnable": false,
    "slideshow": {
     "slide_type": "slide"
    },
    "tags": []
   },
   "source": [
    "### 步骤8 按照Year对数据框进行分组并求和 \n",
    "*注意Population这一列，若直接对其求和，是不正确的**"
   ]
  },
  {
   "cell_type": "code",
   "execution_count": 34,
   "metadata": {
    "collapsed": false,
    "id": "C8CBD7DEE49242EE988831AAEBB3EEFC",
    "jupyter": {
     "outputs_hidden": false
    },
    "slideshow": {
     "slide_type": "slide"
    },
    "tags": []
   },
   "outputs": [
    {
     "data": {
      "text/html": [
       "<div>\n",
       "<style scoped>\n",
       "    .dataframe tbody tr th:only-of-type {\n",
       "        vertical-align: middle;\n",
       "    }\n",
       "\n",
       "    .dataframe tbody tr th {\n",
       "        vertical-align: top;\n",
       "    }\n",
       "\n",
       "    .dataframe thead th {\n",
       "        text-align: right;\n",
       "    }\n",
       "</style>\n",
       "<table border=\"1\" class=\"dataframe\">\n",
       "  <thead>\n",
       "    <tr style=\"text-align: right;\">\n",
       "      <th></th>\n",
       "      <th>Population</th>\n",
       "      <th>Violent</th>\n",
       "      <th>Property</th>\n",
       "      <th>Murder</th>\n",
       "      <th>Forcible_Rape</th>\n",
       "      <th>Robbery</th>\n",
       "      <th>Aggravated_assault</th>\n",
       "      <th>Burglary</th>\n",
       "      <th>Larceny_Theft</th>\n",
       "      <th>Vehicle_Theft</th>\n",
       "    </tr>\n",
       "    <tr>\n",
       "      <th>Year</th>\n",
       "      <th></th>\n",
       "      <th></th>\n",
       "      <th></th>\n",
       "      <th></th>\n",
       "      <th></th>\n",
       "      <th></th>\n",
       "      <th></th>\n",
       "      <th></th>\n",
       "      <th></th>\n",
       "      <th></th>\n",
       "    </tr>\n",
       "  </thead>\n",
       "  <tbody>\n",
       "    <tr>\n",
       "      <th>1960-01-01</th>\n",
       "      <td>201385000</td>\n",
       "      <td>4134930</td>\n",
       "      <td>45160900</td>\n",
       "      <td>106180</td>\n",
       "      <td>236720</td>\n",
       "      <td>1633510</td>\n",
       "      <td>2158520</td>\n",
       "      <td>13321100</td>\n",
       "      <td>26547700</td>\n",
       "      <td>5292100</td>\n",
       "    </tr>\n",
       "    <tr>\n",
       "      <th>1970-01-01</th>\n",
       "      <td>220099000</td>\n",
       "      <td>9607930</td>\n",
       "      <td>91383800</td>\n",
       "      <td>192230</td>\n",
       "      <td>554570</td>\n",
       "      <td>4159020</td>\n",
       "      <td>4702120</td>\n",
       "      <td>28486000</td>\n",
       "      <td>53157800</td>\n",
       "      <td>9739900</td>\n",
       "    </tr>\n",
       "    <tr>\n",
       "      <th>1980-01-01</th>\n",
       "      <td>248239000</td>\n",
       "      <td>14074328</td>\n",
       "      <td>117048900</td>\n",
       "      <td>206439</td>\n",
       "      <td>865639</td>\n",
       "      <td>5383109</td>\n",
       "      <td>7619130</td>\n",
       "      <td>33073494</td>\n",
       "      <td>72040253</td>\n",
       "      <td>11935411</td>\n",
       "    </tr>\n",
       "    <tr>\n",
       "      <th>1990-01-01</th>\n",
       "      <td>272690813</td>\n",
       "      <td>17527048</td>\n",
       "      <td>119053499</td>\n",
       "      <td>211664</td>\n",
       "      <td>998827</td>\n",
       "      <td>5748930</td>\n",
       "      <td>10568963</td>\n",
       "      <td>26750015</td>\n",
       "      <td>77679366</td>\n",
       "      <td>14624418</td>\n",
       "    </tr>\n",
       "    <tr>\n",
       "      <th>2000-01-01</th>\n",
       "      <td>307006550</td>\n",
       "      <td>13968056</td>\n",
       "      <td>100944369</td>\n",
       "      <td>163068</td>\n",
       "      <td>922499</td>\n",
       "      <td>4230366</td>\n",
       "      <td>8652124</td>\n",
       "      <td>21565176</td>\n",
       "      <td>67970291</td>\n",
       "      <td>11412834</td>\n",
       "    </tr>\n",
       "    <tr>\n",
       "      <th>2010-01-01</th>\n",
       "      <td>318857056</td>\n",
       "      <td>6072017</td>\n",
       "      <td>44095950</td>\n",
       "      <td>72867</td>\n",
       "      <td>421059</td>\n",
       "      <td>1749809</td>\n",
       "      <td>3764142</td>\n",
       "      <td>10125170</td>\n",
       "      <td>30401698</td>\n",
       "      <td>3569080</td>\n",
       "    </tr>\n",
       "  </tbody>\n",
       "</table>\n",
       "</div>"
      ],
      "text/plain": [
       "            Population   Violent   Property  Murder  Forcible_Rape  Robbery  \\\n",
       "Year                                                                          \n",
       "1960-01-01   201385000   4134930   45160900  106180         236720  1633510   \n",
       "1970-01-01   220099000   9607930   91383800  192230         554570  4159020   \n",
       "1980-01-01   248239000  14074328  117048900  206439         865639  5383109   \n",
       "1990-01-01   272690813  17527048  119053499  211664         998827  5748930   \n",
       "2000-01-01   307006550  13968056  100944369  163068         922499  4230366   \n",
       "2010-01-01   318857056   6072017   44095950   72867         421059  1749809   \n",
       "\n",
       "            Aggravated_assault  Burglary  Larceny_Theft  Vehicle_Theft  \n",
       "Year                                                                    \n",
       "1960-01-01             2158520  13321100       26547700        5292100  \n",
       "1970-01-01             4702120  28486000       53157800        9739900  \n",
       "1980-01-01             7619130  33073494       72040253       11935411  \n",
       "1990-01-01            10568963  26750015       77679366       14624418  \n",
       "2000-01-01             8652124  21565176       67970291       11412834  \n",
       "2010-01-01             3764142  10125170       30401698        3569080  "
      ]
     },
     "metadata": {},
     "output_type": "execute_result",
     "transient": {}
    }
   ],
   "source": [
    "# 更多关于 .resample 的介绍\n",
    "# (https://pandas.pydata.org/pandas-docs/stable/generated/pandas.DataFrame.resample.html)\n",
    "# 更多关于 Offset Aliases的介绍 \n",
    "# (http://pandas.pydata.org/pandas-docs/stable/timeseries.html#offset-aliases)\n",
    "# 运行以下代码\n",
    "crimes = crime.resample('10AS').sum() # resample a time series per decades\n",
    "\n",
    "\n",
    "# 用resample去得到“Population”列的最大值\n",
    "population = crime['Population'].resample('10AS').max()\n",
    "\n",
    "# 更新 \"Population\" \n",
    "crimes['Population'] = population\n",
    "\n",
    "crimes"
   ]
  },
  {
   "cell_type": "markdown",
   "metadata": {
    "id": "8C1917E7819947EBB3BBC6FE4756296B",
    "jupyter": {},
    "mdEditEnable": false,
    "slideshow": {
     "slide_type": "slide"
    },
    "tags": []
   },
   "source": [
    "### 步骤9 何时是美国历史上生存最危险的年代？"
   ]
  },
  {
   "cell_type": "code",
   "execution_count": 279,
   "metadata": {
    "collapsed": false,
    "id": "8F422A76F60E4E0F8A44D7D95A40AD8D",
    "jupyter": {
     "outputs_hidden": false
    },
    "slideshow": {
     "slide_type": "slide"
    },
    "tags": []
   },
   "outputs": [
    {
     "data": {
      "text/plain": [
       "Population           2014-01-01\n",
       "Violent              1992-01-01\n",
       "Property             1991-01-01\n",
       "Murder               1991-01-01\n",
       "Forcible_Rape        1992-01-01\n",
       "Robbery              1991-01-01\n",
       "Aggravated_assault   1993-01-01\n",
       "Burglary             1980-01-01\n",
       "Larceny_Theft        1991-01-01\n",
       "Vehicle_Theft        1991-01-01\n",
       "dtype: datetime64[ns]"
      ]
     },
     "execution_count": 279,
     "metadata": {},
     "output_type": "execute_result"
    }
   ],
   "source": [
    "# 运行以下代码\n",
    "crime.idxmax(0)"
   ]
  },
  {
   "cell_type": "markdown",
   "metadata": {
    "id": "932F2BD181B24D9893A13954EF98CB0A",
    "jupyter": {},
    "mdEditEnable": false,
    "slideshow": {
     "slide_type": "slide"
    },
    "tags": []
   },
   "source": [
    "[返回练习题索引](#练习题索引)"
   ]
  },
  {
   "cell_type": "markdown",
   "metadata": {
    "id": "5233896C64E441CBB5A905347BAE4552",
    "jupyter": {},
    "mdEditEnable": false,
    "slideshow": {
     "slide_type": "slide"
    },
    "tags": []
   },
   "source": [
    "# 练习5-合并\n",
    "## 探索虚拟姓名数据"
   ]
  },
  {
   "cell_type": "markdown",
   "metadata": {
    "id": "9E601110A7D640C1A5436D00B85E546A",
    "jupyter": {},
    "mdEditEnable": false,
    "slideshow": {
     "slide_type": "slide"
    },
    "tags": []
   },
   "source": [
    "[返回练习题索引](#练习题索引)"
   ]
  },
  {
   "cell_type": "markdown",
   "metadata": {
    "id": "DAC8DC8ED3CC43C98269B6B80944633E",
    "jupyter": {},
    "mdEditEnable": false,
    "slideshow": {
     "slide_type": "slide"
    },
    "tags": []
   },
   "source": [
    "### 步骤1 导入必要的库"
   ]
  },
  {
   "cell_type": "code",
   "execution_count": 280,
   "metadata": {
    "collapsed": false,
    "id": "84D984E03FCB49BC90F83CED0365CC43",
    "jupyter": {
     "outputs_hidden": false
    },
    "slideshow": {
     "slide_type": "slide"
    },
    "tags": []
   },
   "outputs": [],
   "source": [
    "# 运行以下代码\n",
    "import numpy as np\n",
    "import pandas as pd"
   ]
  },
  {
   "cell_type": "markdown",
   "metadata": {
    "id": "13A34D69481A41A481C1343BCF294F85",
    "jupyter": {},
    "mdEditEnable": false,
    "slideshow": {
     "slide_type": "slide"
    },
    "tags": []
   },
   "source": [
    "### 步骤2 按照如下的元数据内容创建数据框"
   ]
  },
  {
   "cell_type": "code",
   "execution_count": 281,
   "metadata": {
    "collapsed": false,
    "id": "DC623E20AC794D71B7F113A6E961830C",
    "jupyter": {
     "outputs_hidden": false
    },
    "slideshow": {
     "slide_type": "slide"
    },
    "tags": []
   },
   "outputs": [],
   "source": [
    "# 运行以下代码\n",
    "raw_data_1 = {\n",
    "        'subject_id': ['1', '2', '3', '4', '5'],\n",
    "        'first_name': ['Alex', 'Amy', 'Allen', 'Alice', 'Ayoung'], \n",
    "        'last_name': ['Anderson', 'Ackerman', 'Ali', 'Aoni', 'Atiches']}\n",
    "\n",
    "raw_data_2 = {\n",
    "        'subject_id': ['4', '5', '6', '7', '8'],\n",
    "        'first_name': ['Billy', 'Brian', 'Bran', 'Bryce', 'Betty'], \n",
    "        'last_name': ['Bonder', 'Black', 'Balwner', 'Brice', 'Btisan']}\n",
    "\n",
    "raw_data_3 = {\n",
    "        'subject_id': ['1', '2', '3', '4', '5', '7', '8', '9', '10', '11'],\n",
    "        'test_id': [51, 15, 15, 61, 16, 14, 15, 1, 61, 16]}"
   ]
  },
  {
   "cell_type": "markdown",
   "metadata": {
    "id": "73EB083610EB4D0EB42210E29FF89708",
    "jupyter": {},
    "mdEditEnable": false,
    "slideshow": {
     "slide_type": "slide"
    },
    "tags": []
   },
   "source": [
    "### 步骤3 将上述的数据框分别命名为```data1, data2, data3```"
   ]
  },
  {
   "cell_type": "code",
   "execution_count": 282,
   "metadata": {
    "collapsed": false,
    "id": "37509B2B90434B0A8823C29EE17AFB88",
    "jupyter": {
     "outputs_hidden": false
    },
    "slideshow": {
     "slide_type": "slide"
    },
    "tags": []
   },
   "outputs": [],
   "source": [
    "# 运行以下代码\n",
    "data1 = pd.DataFrame(raw_data_1, columns = ['subject_id', 'first_name', 'last_name'])\n",
    "data2 = pd.DataFrame(raw_data_2, columns = ['subject_id', 'first_name', 'last_name'])\n",
    "data3 = pd.DataFrame(raw_data_3, columns = ['subject_id','test_id'])"
   ]
  },
  {
   "cell_type": "markdown",
   "metadata": {
    "id": "9FA3DB0723724BAC86D35E1426B67DD7",
    "jupyter": {},
    "mdEditEnable": false,
    "slideshow": {
     "slide_type": "slide"
    },
    "tags": []
   },
   "source": [
    "### 步骤4 将```data1```和```data2```两个数据框按照行的维度进行合并，命名为```all_data```"
   ]
  },
  {
   "cell_type": "code",
   "execution_count": 283,
   "metadata": {
    "collapsed": false,
    "id": "DBDA1703967B490988CE69EE34596892",
    "jupyter": {
     "outputs_hidden": false
    },
    "slideshow": {
     "slide_type": "slide"
    },
    "tags": []
   },
   "outputs": [
    {
     "data": {
      "text/html": [
       "<div>\n",
       "<style scoped>\n",
       "    .dataframe tbody tr th:only-of-type {\n",
       "        vertical-align: middle;\n",
       "    }\n",
       "\n",
       "    .dataframe tbody tr th {\n",
       "        vertical-align: top;\n",
       "    }\n",
       "\n",
       "    .dataframe thead th {\n",
       "        text-align: right;\n",
       "    }\n",
       "</style>\n",
       "<table border=\"1\" class=\"dataframe\">\n",
       "  <thead>\n",
       "    <tr style=\"text-align: right;\">\n",
       "      <th></th>\n",
       "      <th>subject_id</th>\n",
       "      <th>first_name</th>\n",
       "      <th>last_name</th>\n",
       "    </tr>\n",
       "  </thead>\n",
       "  <tbody>\n",
       "    <tr>\n",
       "      <th>0</th>\n",
       "      <td>1</td>\n",
       "      <td>Alex</td>\n",
       "      <td>Anderson</td>\n",
       "    </tr>\n",
       "    <tr>\n",
       "      <th>1</th>\n",
       "      <td>2</td>\n",
       "      <td>Amy</td>\n",
       "      <td>Ackerman</td>\n",
       "    </tr>\n",
       "    <tr>\n",
       "      <th>2</th>\n",
       "      <td>3</td>\n",
       "      <td>Allen</td>\n",
       "      <td>Ali</td>\n",
       "    </tr>\n",
       "    <tr>\n",
       "      <th>3</th>\n",
       "      <td>4</td>\n",
       "      <td>Alice</td>\n",
       "      <td>Aoni</td>\n",
       "    </tr>\n",
       "    <tr>\n",
       "      <th>4</th>\n",
       "      <td>5</td>\n",
       "      <td>Ayoung</td>\n",
       "      <td>Atiches</td>\n",
       "    </tr>\n",
       "    <tr>\n",
       "      <th>0</th>\n",
       "      <td>4</td>\n",
       "      <td>Billy</td>\n",
       "      <td>Bonder</td>\n",
       "    </tr>\n",
       "    <tr>\n",
       "      <th>1</th>\n",
       "      <td>5</td>\n",
       "      <td>Brian</td>\n",
       "      <td>Black</td>\n",
       "    </tr>\n",
       "    <tr>\n",
       "      <th>2</th>\n",
       "      <td>6</td>\n",
       "      <td>Bran</td>\n",
       "      <td>Balwner</td>\n",
       "    </tr>\n",
       "    <tr>\n",
       "      <th>3</th>\n",
       "      <td>7</td>\n",
       "      <td>Bryce</td>\n",
       "      <td>Brice</td>\n",
       "    </tr>\n",
       "    <tr>\n",
       "      <th>4</th>\n",
       "      <td>8</td>\n",
       "      <td>Betty</td>\n",
       "      <td>Btisan</td>\n",
       "    </tr>\n",
       "  </tbody>\n",
       "</table>\n",
       "</div>"
      ],
      "text/plain": [
       "  subject_id first_name last_name\n",
       "0          1       Alex  Anderson\n",
       "1          2        Amy  Ackerman\n",
       "2          3      Allen       Ali\n",
       "3          4      Alice      Aoni\n",
       "4          5     Ayoung   Atiches\n",
       "0          4      Billy    Bonder\n",
       "1          5      Brian     Black\n",
       "2          6       Bran   Balwner\n",
       "3          7      Bryce     Brice\n",
       "4          8      Betty    Btisan"
      ]
     },
     "execution_count": 283,
     "metadata": {},
     "output_type": "execute_result"
    }
   ],
   "source": [
    "# 运行以下代码\n",
    "all_data = pd.concat([data1, data2])\n",
    "all_data"
   ]
  },
  {
   "cell_type": "markdown",
   "metadata": {
    "id": "5EB108A7A79B47178C022967727EA8A5",
    "jupyter": {},
    "mdEditEnable": false,
    "slideshow": {
     "slide_type": "slide"
    },
    "tags": []
   },
   "source": [
    "### 步骤5 将```data1```和```data2```两个数据框按照列的维度进行合并，命名为```all_data_col```"
   ]
  },
  {
   "cell_type": "code",
   "execution_count": 284,
   "metadata": {
    "collapsed": false,
    "id": "A218C0590E624E0F91E1ABE910A69651",
    "jupyter": {
     "outputs_hidden": false
    },
    "slideshow": {
     "slide_type": "slide"
    },
    "tags": []
   },
   "outputs": [
    {
     "data": {
      "text/html": [
       "<div>\n",
       "<style scoped>\n",
       "    .dataframe tbody tr th:only-of-type {\n",
       "        vertical-align: middle;\n",
       "    }\n",
       "\n",
       "    .dataframe tbody tr th {\n",
       "        vertical-align: top;\n",
       "    }\n",
       "\n",
       "    .dataframe thead th {\n",
       "        text-align: right;\n",
       "    }\n",
       "</style>\n",
       "<table border=\"1\" class=\"dataframe\">\n",
       "  <thead>\n",
       "    <tr style=\"text-align: right;\">\n",
       "      <th></th>\n",
       "      <th>subject_id</th>\n",
       "      <th>first_name</th>\n",
       "      <th>last_name</th>\n",
       "      <th>subject_id</th>\n",
       "      <th>first_name</th>\n",
       "      <th>last_name</th>\n",
       "    </tr>\n",
       "  </thead>\n",
       "  <tbody>\n",
       "    <tr>\n",
       "      <th>0</th>\n",
       "      <td>1</td>\n",
       "      <td>Alex</td>\n",
       "      <td>Anderson</td>\n",
       "      <td>4</td>\n",
       "      <td>Billy</td>\n",
       "      <td>Bonder</td>\n",
       "    </tr>\n",
       "    <tr>\n",
       "      <th>1</th>\n",
       "      <td>2</td>\n",
       "      <td>Amy</td>\n",
       "      <td>Ackerman</td>\n",
       "      <td>5</td>\n",
       "      <td>Brian</td>\n",
       "      <td>Black</td>\n",
       "    </tr>\n",
       "    <tr>\n",
       "      <th>2</th>\n",
       "      <td>3</td>\n",
       "      <td>Allen</td>\n",
       "      <td>Ali</td>\n",
       "      <td>6</td>\n",
       "      <td>Bran</td>\n",
       "      <td>Balwner</td>\n",
       "    </tr>\n",
       "    <tr>\n",
       "      <th>3</th>\n",
       "      <td>4</td>\n",
       "      <td>Alice</td>\n",
       "      <td>Aoni</td>\n",
       "      <td>7</td>\n",
       "      <td>Bryce</td>\n",
       "      <td>Brice</td>\n",
       "    </tr>\n",
       "    <tr>\n",
       "      <th>4</th>\n",
       "      <td>5</td>\n",
       "      <td>Ayoung</td>\n",
       "      <td>Atiches</td>\n",
       "      <td>8</td>\n",
       "      <td>Betty</td>\n",
       "      <td>Btisan</td>\n",
       "    </tr>\n",
       "  </tbody>\n",
       "</table>\n",
       "</div>"
      ],
      "text/plain": [
       "  subject_id first_name last_name subject_id first_name last_name\n",
       "0          1       Alex  Anderson          4      Billy    Bonder\n",
       "1          2        Amy  Ackerman          5      Brian     Black\n",
       "2          3      Allen       Ali          6       Bran   Balwner\n",
       "3          4      Alice      Aoni          7      Bryce     Brice\n",
       "4          5     Ayoung   Atiches          8      Betty    Btisan"
      ]
     },
     "execution_count": 284,
     "metadata": {},
     "output_type": "execute_result"
    }
   ],
   "source": [
    "# 运行以下代码\n",
    "all_data_col = pd.concat([data1, data2], axis = 1)\n",
    "all_data_col"
   ]
  },
  {
   "cell_type": "markdown",
   "metadata": {
    "id": "0875A9C6EACE4369BE344AF5600B2069",
    "jupyter": {},
    "mdEditEnable": false,
    "slideshow": {
     "slide_type": "slide"
    },
    "tags": []
   },
   "source": [
    "### 步骤6 打印```data3```"
   ]
  },
  {
   "cell_type": "code",
   "execution_count": 285,
   "metadata": {
    "collapsed": false,
    "id": "C130A9FEC2434AB0BF165CEDE820E2C0",
    "jupyter": {
     "outputs_hidden": false
    },
    "slideshow": {
     "slide_type": "slide"
    },
    "tags": []
   },
   "outputs": [
    {
     "data": {
      "text/html": [
       "<div>\n",
       "<style scoped>\n",
       "    .dataframe tbody tr th:only-of-type {\n",
       "        vertical-align: middle;\n",
       "    }\n",
       "\n",
       "    .dataframe tbody tr th {\n",
       "        vertical-align: top;\n",
       "    }\n",
       "\n",
       "    .dataframe thead th {\n",
       "        text-align: right;\n",
       "    }\n",
       "</style>\n",
       "<table border=\"1\" class=\"dataframe\">\n",
       "  <thead>\n",
       "    <tr style=\"text-align: right;\">\n",
       "      <th></th>\n",
       "      <th>subject_id</th>\n",
       "      <th>test_id</th>\n",
       "    </tr>\n",
       "  </thead>\n",
       "  <tbody>\n",
       "    <tr>\n",
       "      <th>0</th>\n",
       "      <td>1</td>\n",
       "      <td>51</td>\n",
       "    </tr>\n",
       "    <tr>\n",
       "      <th>1</th>\n",
       "      <td>2</td>\n",
       "      <td>15</td>\n",
       "    </tr>\n",
       "    <tr>\n",
       "      <th>2</th>\n",
       "      <td>3</td>\n",
       "      <td>15</td>\n",
       "    </tr>\n",
       "    <tr>\n",
       "      <th>3</th>\n",
       "      <td>4</td>\n",
       "      <td>61</td>\n",
       "    </tr>\n",
       "    <tr>\n",
       "      <th>4</th>\n",
       "      <td>5</td>\n",
       "      <td>16</td>\n",
       "    </tr>\n",
       "    <tr>\n",
       "      <th>5</th>\n",
       "      <td>7</td>\n",
       "      <td>14</td>\n",
       "    </tr>\n",
       "    <tr>\n",
       "      <th>6</th>\n",
       "      <td>8</td>\n",
       "      <td>15</td>\n",
       "    </tr>\n",
       "    <tr>\n",
       "      <th>7</th>\n",
       "      <td>9</td>\n",
       "      <td>1</td>\n",
       "    </tr>\n",
       "    <tr>\n",
       "      <th>8</th>\n",
       "      <td>10</td>\n",
       "      <td>61</td>\n",
       "    </tr>\n",
       "    <tr>\n",
       "      <th>9</th>\n",
       "      <td>11</td>\n",
       "      <td>16</td>\n",
       "    </tr>\n",
       "  </tbody>\n",
       "</table>\n",
       "</div>"
      ],
      "text/plain": [
       "  subject_id  test_id\n",
       "0          1       51\n",
       "1          2       15\n",
       "2          3       15\n",
       "3          4       61\n",
       "4          5       16\n",
       "5          7       14\n",
       "6          8       15\n",
       "7          9        1\n",
       "8         10       61\n",
       "9         11       16"
      ]
     },
     "execution_count": 285,
     "metadata": {},
     "output_type": "execute_result"
    }
   ],
   "source": [
    "# 运行以下代码\n",
    "data3"
   ]
  },
  {
   "cell_type": "markdown",
   "metadata": {
    "id": "1751D631ACF14EB483EACAA14E6580CE",
    "jupyter": {},
    "mdEditEnable": false,
    "slideshow": {
     "slide_type": "slide"
    },
    "tags": []
   },
   "source": [
    "### 步骤7 按照```subject_id```的值对```all_data```和```data3```作合并"
   ]
  },
  {
   "cell_type": "code",
   "execution_count": 286,
   "metadata": {
    "collapsed": false,
    "id": "DCDC1EA0F86F4922919083979C2694E6",
    "jupyter": {
     "outputs_hidden": false
    },
    "slideshow": {
     "slide_type": "slide"
    },
    "tags": []
   },
   "outputs": [
    {
     "data": {
      "text/html": [
       "<div>\n",
       "<style scoped>\n",
       "    .dataframe tbody tr th:only-of-type {\n",
       "        vertical-align: middle;\n",
       "    }\n",
       "\n",
       "    .dataframe tbody tr th {\n",
       "        vertical-align: top;\n",
       "    }\n",
       "\n",
       "    .dataframe thead th {\n",
       "        text-align: right;\n",
       "    }\n",
       "</style>\n",
       "<table border=\"1\" class=\"dataframe\">\n",
       "  <thead>\n",
       "    <tr style=\"text-align: right;\">\n",
       "      <th></th>\n",
       "      <th>subject_id</th>\n",
       "      <th>first_name</th>\n",
       "      <th>last_name</th>\n",
       "      <th>test_id</th>\n",
       "    </tr>\n",
       "  </thead>\n",
       "  <tbody>\n",
       "    <tr>\n",
       "      <th>0</th>\n",
       "      <td>1</td>\n",
       "      <td>Alex</td>\n",
       "      <td>Anderson</td>\n",
       "      <td>51</td>\n",
       "    </tr>\n",
       "    <tr>\n",
       "      <th>1</th>\n",
       "      <td>2</td>\n",
       "      <td>Amy</td>\n",
       "      <td>Ackerman</td>\n",
       "      <td>15</td>\n",
       "    </tr>\n",
       "    <tr>\n",
       "      <th>2</th>\n",
       "      <td>3</td>\n",
       "      <td>Allen</td>\n",
       "      <td>Ali</td>\n",
       "      <td>15</td>\n",
       "    </tr>\n",
       "    <tr>\n",
       "      <th>3</th>\n",
       "      <td>4</td>\n",
       "      <td>Alice</td>\n",
       "      <td>Aoni</td>\n",
       "      <td>61</td>\n",
       "    </tr>\n",
       "    <tr>\n",
       "      <th>4</th>\n",
       "      <td>4</td>\n",
       "      <td>Billy</td>\n",
       "      <td>Bonder</td>\n",
       "      <td>61</td>\n",
       "    </tr>\n",
       "    <tr>\n",
       "      <th>5</th>\n",
       "      <td>5</td>\n",
       "      <td>Ayoung</td>\n",
       "      <td>Atiches</td>\n",
       "      <td>16</td>\n",
       "    </tr>\n",
       "    <tr>\n",
       "      <th>6</th>\n",
       "      <td>5</td>\n",
       "      <td>Brian</td>\n",
       "      <td>Black</td>\n",
       "      <td>16</td>\n",
       "    </tr>\n",
       "    <tr>\n",
       "      <th>7</th>\n",
       "      <td>7</td>\n",
       "      <td>Bryce</td>\n",
       "      <td>Brice</td>\n",
       "      <td>14</td>\n",
       "    </tr>\n",
       "    <tr>\n",
       "      <th>8</th>\n",
       "      <td>8</td>\n",
       "      <td>Betty</td>\n",
       "      <td>Btisan</td>\n",
       "      <td>15</td>\n",
       "    </tr>\n",
       "  </tbody>\n",
       "</table>\n",
       "</div>"
      ],
      "text/plain": [
       "  subject_id first_name last_name  test_id\n",
       "0          1       Alex  Anderson       51\n",
       "1          2        Amy  Ackerman       15\n",
       "2          3      Allen       Ali       15\n",
       "3          4      Alice      Aoni       61\n",
       "4          4      Billy    Bonder       61\n",
       "5          5     Ayoung   Atiches       16\n",
       "6          5      Brian     Black       16\n",
       "7          7      Bryce     Brice       14\n",
       "8          8      Betty    Btisan       15"
      ]
     },
     "execution_count": 286,
     "metadata": {},
     "output_type": "execute_result"
    }
   ],
   "source": [
    "# 运行以下代码\n",
    "pd.merge(all_data, data3, on='subject_id')"
   ]
  },
  {
   "cell_type": "markdown",
   "metadata": {
    "id": "4AB863D6797D47268ECA616A8617D2A1",
    "jupyter": {},
    "mdEditEnable": false,
    "slideshow": {
     "slide_type": "slide"
    },
    "tags": []
   },
   "source": [
    "### 步骤8 对```data1```和```data2```按照```subject_id```作连接"
   ]
  },
  {
   "cell_type": "code",
   "execution_count": 287,
   "metadata": {
    "collapsed": false,
    "id": "B930510D11A8451E82E0F46CBB2C4B51",
    "jupyter": {
     "outputs_hidden": false
    },
    "slideshow": {
     "slide_type": "slide"
    },
    "tags": []
   },
   "outputs": [
    {
     "data": {
      "text/html": [
       "<div>\n",
       "<style scoped>\n",
       "    .dataframe tbody tr th:only-of-type {\n",
       "        vertical-align: middle;\n",
       "    }\n",
       "\n",
       "    .dataframe tbody tr th {\n",
       "        vertical-align: top;\n",
       "    }\n",
       "\n",
       "    .dataframe thead th {\n",
       "        text-align: right;\n",
       "    }\n",
       "</style>\n",
       "<table border=\"1\" class=\"dataframe\">\n",
       "  <thead>\n",
       "    <tr style=\"text-align: right;\">\n",
       "      <th></th>\n",
       "      <th>subject_id</th>\n",
       "      <th>first_name_x</th>\n",
       "      <th>last_name_x</th>\n",
       "      <th>first_name_y</th>\n",
       "      <th>last_name_y</th>\n",
       "    </tr>\n",
       "  </thead>\n",
       "  <tbody>\n",
       "    <tr>\n",
       "      <th>0</th>\n",
       "      <td>4</td>\n",
       "      <td>Alice</td>\n",
       "      <td>Aoni</td>\n",
       "      <td>Billy</td>\n",
       "      <td>Bonder</td>\n",
       "    </tr>\n",
       "    <tr>\n",
       "      <th>1</th>\n",
       "      <td>5</td>\n",
       "      <td>Ayoung</td>\n",
       "      <td>Atiches</td>\n",
       "      <td>Brian</td>\n",
       "      <td>Black</td>\n",
       "    </tr>\n",
       "  </tbody>\n",
       "</table>\n",
       "</div>"
      ],
      "text/plain": [
       "  subject_id first_name_x last_name_x first_name_y last_name_y\n",
       "0          4        Alice        Aoni        Billy      Bonder\n",
       "1          5       Ayoung     Atiches        Brian       Black"
      ]
     },
     "execution_count": 287,
     "metadata": {},
     "output_type": "execute_result"
    }
   ],
   "source": [
    "# 运行以下代码\n",
    "pd.merge(data1, data2, on='subject_id', how='inner')"
   ]
  },
  {
   "cell_type": "markdown",
   "metadata": {
    "id": "3318003C9E7540FE91B26E2F0A23496E",
    "jupyter": {},
    "mdEditEnable": false,
    "slideshow": {
     "slide_type": "slide"
    },
    "tags": []
   },
   "source": [
    "### 步骤9 找到 ```data1``` 和 ```data2``` 合并之后的所有匹配结果"
   ]
  },
  {
   "cell_type": "code",
   "execution_count": 288,
   "metadata": {
    "collapsed": false,
    "id": "78923103F7EA4F15AC5B425ACE7E7841",
    "jupyter": {
     "outputs_hidden": false
    },
    "slideshow": {
     "slide_type": "slide"
    },
    "tags": []
   },
   "outputs": [
    {
     "data": {
      "text/html": [
       "<div>\n",
       "<style scoped>\n",
       "    .dataframe tbody tr th:only-of-type {\n",
       "        vertical-align: middle;\n",
       "    }\n",
       "\n",
       "    .dataframe tbody tr th {\n",
       "        vertical-align: top;\n",
       "    }\n",
       "\n",
       "    .dataframe thead th {\n",
       "        text-align: right;\n",
       "    }\n",
       "</style>\n",
       "<table border=\"1\" class=\"dataframe\">\n",
       "  <thead>\n",
       "    <tr style=\"text-align: right;\">\n",
       "      <th></th>\n",
       "      <th>subject_id</th>\n",
       "      <th>first_name_x</th>\n",
       "      <th>last_name_x</th>\n",
       "      <th>first_name_y</th>\n",
       "      <th>last_name_y</th>\n",
       "    </tr>\n",
       "  </thead>\n",
       "  <tbody>\n",
       "    <tr>\n",
       "      <th>0</th>\n",
       "      <td>1</td>\n",
       "      <td>Alex</td>\n",
       "      <td>Anderson</td>\n",
       "      <td>NaN</td>\n",
       "      <td>NaN</td>\n",
       "    </tr>\n",
       "    <tr>\n",
       "      <th>1</th>\n",
       "      <td>2</td>\n",
       "      <td>Amy</td>\n",
       "      <td>Ackerman</td>\n",
       "      <td>NaN</td>\n",
       "      <td>NaN</td>\n",
       "    </tr>\n",
       "    <tr>\n",
       "      <th>2</th>\n",
       "      <td>3</td>\n",
       "      <td>Allen</td>\n",
       "      <td>Ali</td>\n",
       "      <td>NaN</td>\n",
       "      <td>NaN</td>\n",
       "    </tr>\n",
       "    <tr>\n",
       "      <th>3</th>\n",
       "      <td>4</td>\n",
       "      <td>Alice</td>\n",
       "      <td>Aoni</td>\n",
       "      <td>Billy</td>\n",
       "      <td>Bonder</td>\n",
       "    </tr>\n",
       "    <tr>\n",
       "      <th>4</th>\n",
       "      <td>5</td>\n",
       "      <td>Ayoung</td>\n",
       "      <td>Atiches</td>\n",
       "      <td>Brian</td>\n",
       "      <td>Black</td>\n",
       "    </tr>\n",
       "    <tr>\n",
       "      <th>5</th>\n",
       "      <td>6</td>\n",
       "      <td>NaN</td>\n",
       "      <td>NaN</td>\n",
       "      <td>Bran</td>\n",
       "      <td>Balwner</td>\n",
       "    </tr>\n",
       "    <tr>\n",
       "      <th>6</th>\n",
       "      <td>7</td>\n",
       "      <td>NaN</td>\n",
       "      <td>NaN</td>\n",
       "      <td>Bryce</td>\n",
       "      <td>Brice</td>\n",
       "    </tr>\n",
       "    <tr>\n",
       "      <th>7</th>\n",
       "      <td>8</td>\n",
       "      <td>NaN</td>\n",
       "      <td>NaN</td>\n",
       "      <td>Betty</td>\n",
       "      <td>Btisan</td>\n",
       "    </tr>\n",
       "  </tbody>\n",
       "</table>\n",
       "</div>"
      ],
      "text/plain": [
       "  subject_id first_name_x last_name_x first_name_y last_name_y\n",
       "0          1         Alex    Anderson          NaN         NaN\n",
       "1          2          Amy    Ackerman          NaN         NaN\n",
       "2          3        Allen         Ali          NaN         NaN\n",
       "3          4        Alice        Aoni        Billy      Bonder\n",
       "4          5       Ayoung     Atiches        Brian       Black\n",
       "5          6          NaN         NaN         Bran     Balwner\n",
       "6          7          NaN         NaN        Bryce       Brice\n",
       "7          8          NaN         NaN        Betty      Btisan"
      ]
     },
     "execution_count": 288,
     "metadata": {},
     "output_type": "execute_result"
    }
   ],
   "source": [
    "# 运行以下代码\n",
    "pd.merge(data1, data2, on='subject_id', how='outer')"
   ]
  },
  {
   "cell_type": "markdown",
   "metadata": {
    "id": "3CB1D681AC0E4C1FA6B2C36FF88E23CA",
    "jupyter": {},
    "mdEditEnable": false,
    "slideshow": {
     "slide_type": "slide"
    },
    "tags": []
   },
   "source": [
    "[返回练习题索引](#练习题索引)"
   ]
  },
  {
   "cell_type": "markdown",
   "metadata": {
    "id": "7ADCA629E84245F48BF4EA8DF34EFF80",
    "jupyter": {},
    "mdEditEnable": false,
    "slideshow": {
     "slide_type": "slide"
    },
    "tags": []
   },
   "source": [
    "# 练习6-统计\n",
    "## 探索风速数据\n",
    "![image description](https://cdn.kesci.com/images/lab_upload/1508342625686_71026.jpg)"
   ]
  },
  {
   "cell_type": "markdown",
   "metadata": {
    "id": "6C5C11BB3EF046FF81072CDD25A1EA6A",
    "jupyter": {},
    "mdEditEnable": false,
    "slideshow": {
     "slide_type": "slide"
    },
    "tags": []
   },
   "source": [
    "[返回练习题索引](#练习题索引)"
   ]
  },
  {
   "cell_type": "markdown",
   "metadata": {
    "id": "458E578A769B4E7D885C647542C11721",
    "jupyter": {},
    "mdEditEnable": false,
    "slideshow": {
     "slide_type": "slide"
    },
    "tags": []
   },
   "source": [
    "### 步骤1 导入必要的库"
   ]
  },
  {
   "cell_type": "code",
   "execution_count": 289,
   "metadata": {
    "collapsed": false,
    "id": "EA7660C2A82745578567CF16D0046852",
    "jupyter": {
     "outputs_hidden": false
    },
    "slideshow": {
     "slide_type": "slide"
    },
    "tags": []
   },
   "outputs": [],
   "source": [
    "# 运行以下代码\n",
    "import pandas as pd\n",
    "import datetime"
   ]
  },
  {
   "cell_type": "markdown",
   "metadata": {
    "id": "C702C6C2832541A2BF5D7EE2A50267E3",
    "jupyter": {},
    "mdEditEnable": false,
    "slideshow": {
     "slide_type": "slide"
    },
    "tags": []
   },
   "source": [
    "### 步骤2 从以下地址导入数据"
   ]
  },
  {
   "cell_type": "code",
   "execution_count": 290,
   "metadata": {
    "collapsed": false,
    "id": "B2A8698EA5E04F34B9D0AC47FCD7357D",
    "jupyter": {
     "outputs_hidden": false
    },
    "slideshow": {
     "slide_type": "slide"
    },
    "tags": []
   },
   "outputs": [],
   "source": [
    "import pandas as pd"
   ]
  },
  {
   "cell_type": "code",
   "execution_count": 35,
   "metadata": {
    "collapsed": false,
    "id": "786C047535064711B3119FC51953AD6C",
    "jupyter": {
     "outputs_hidden": false
    },
    "slideshow": {
     "slide_type": "slide"
    },
    "tags": []
   },
   "outputs": [],
   "source": [
    "# 运行以下代码\n",
    "path6 = \"../input/pandas_exercise/pandas_exercise/exercise_data/wind.data\"  # wind.data"
   ]
  },
  {
   "cell_type": "markdown",
   "metadata": {
    "id": "148CFE15D4FE4997A65E45EFB22A18E1",
    "jupyter": {},
    "mdEditEnable": false,
    "slideshow": {
     "slide_type": "slide"
    },
    "tags": []
   },
   "source": [
    "### 步骤3 将数据作存储并且设置前三列为合适的索引"
   ]
  },
  {
   "cell_type": "code",
   "execution_count": 292,
   "metadata": {
    "collapsed": false,
    "id": "9696BB0F0AD447E4AE2B6AACBC9F87A7",
    "jupyter": {
     "outputs_hidden": false
    },
    "slideshow": {
     "slide_type": "slide"
    },
    "tags": []
   },
   "outputs": [],
   "source": [
    "import datetime"
   ]
  },
  {
   "cell_type": "code",
   "execution_count": 293,
   "metadata": {
    "collapsed": false,
    "id": "F1A0E8471BEF4F1794CF2EAFC6B0D719",
    "jupyter": {
     "outputs_hidden": false
    },
    "slideshow": {
     "slide_type": "slide"
    },
    "tags": []
   },
   "outputs": [
    {
     "data": {
      "text/html": [
       "<div>\n",
       "<style scoped>\n",
       "    .dataframe tbody tr th:only-of-type {\n",
       "        vertical-align: middle;\n",
       "    }\n",
       "\n",
       "    .dataframe tbody tr th {\n",
       "        vertical-align: top;\n",
       "    }\n",
       "\n",
       "    .dataframe thead th {\n",
       "        text-align: right;\n",
       "    }\n",
       "</style>\n",
       "<table border=\"1\" class=\"dataframe\">\n",
       "  <thead>\n",
       "    <tr style=\"text-align: right;\">\n",
       "      <th></th>\n",
       "      <th>Yr_Mo_Dy</th>\n",
       "      <th>RPT</th>\n",
       "      <th>VAL</th>\n",
       "      <th>ROS</th>\n",
       "      <th>KIL</th>\n",
       "      <th>SHA</th>\n",
       "      <th>BIR</th>\n",
       "      <th>DUB</th>\n",
       "      <th>CLA</th>\n",
       "      <th>MUL</th>\n",
       "      <th>CLO</th>\n",
       "      <th>BEL</th>\n",
       "      <th>MAL</th>\n",
       "    </tr>\n",
       "  </thead>\n",
       "  <tbody>\n",
       "    <tr>\n",
       "      <th>0</th>\n",
       "      <td>2061-01-01</td>\n",
       "      <td>15.04</td>\n",
       "      <td>14.96</td>\n",
       "      <td>13.17</td>\n",
       "      <td>9.29</td>\n",
       "      <td>NaN</td>\n",
       "      <td>9.87</td>\n",
       "      <td>13.67</td>\n",
       "      <td>10.25</td>\n",
       "      <td>10.83</td>\n",
       "      <td>12.58</td>\n",
       "      <td>18.50</td>\n",
       "      <td>15.04</td>\n",
       "    </tr>\n",
       "    <tr>\n",
       "      <th>1</th>\n",
       "      <td>2061-01-02</td>\n",
       "      <td>14.71</td>\n",
       "      <td>NaN</td>\n",
       "      <td>10.83</td>\n",
       "      <td>6.50</td>\n",
       "      <td>12.62</td>\n",
       "      <td>7.67</td>\n",
       "      <td>11.50</td>\n",
       "      <td>10.04</td>\n",
       "      <td>9.79</td>\n",
       "      <td>9.67</td>\n",
       "      <td>17.54</td>\n",
       "      <td>13.83</td>\n",
       "    </tr>\n",
       "    <tr>\n",
       "      <th>2</th>\n",
       "      <td>2061-01-03</td>\n",
       "      <td>18.50</td>\n",
       "      <td>16.88</td>\n",
       "      <td>12.33</td>\n",
       "      <td>10.13</td>\n",
       "      <td>11.17</td>\n",
       "      <td>6.17</td>\n",
       "      <td>11.25</td>\n",
       "      <td>NaN</td>\n",
       "      <td>8.50</td>\n",
       "      <td>7.67</td>\n",
       "      <td>12.75</td>\n",
       "      <td>12.71</td>\n",
       "    </tr>\n",
       "    <tr>\n",
       "      <th>3</th>\n",
       "      <td>2061-01-04</td>\n",
       "      <td>10.58</td>\n",
       "      <td>6.63</td>\n",
       "      <td>11.75</td>\n",
       "      <td>4.58</td>\n",
       "      <td>4.54</td>\n",
       "      <td>2.88</td>\n",
       "      <td>8.63</td>\n",
       "      <td>1.79</td>\n",
       "      <td>5.83</td>\n",
       "      <td>5.88</td>\n",
       "      <td>5.46</td>\n",
       "      <td>10.88</td>\n",
       "    </tr>\n",
       "    <tr>\n",
       "      <th>4</th>\n",
       "      <td>2061-01-05</td>\n",
       "      <td>13.33</td>\n",
       "      <td>13.25</td>\n",
       "      <td>11.42</td>\n",
       "      <td>6.17</td>\n",
       "      <td>10.71</td>\n",
       "      <td>8.21</td>\n",
       "      <td>11.92</td>\n",
       "      <td>6.54</td>\n",
       "      <td>10.92</td>\n",
       "      <td>10.34</td>\n",
       "      <td>12.92</td>\n",
       "      <td>11.83</td>\n",
       "    </tr>\n",
       "  </tbody>\n",
       "</table>\n",
       "</div>"
      ],
      "text/plain": [
       "    Yr_Mo_Dy    RPT    VAL    ROS    KIL    SHA   BIR    DUB    CLA    MUL  \\\n",
       "0 2061-01-01  15.04  14.96  13.17   9.29    NaN  9.87  13.67  10.25  10.83   \n",
       "1 2061-01-02  14.71    NaN  10.83   6.50  12.62  7.67  11.50  10.04   9.79   \n",
       "2 2061-01-03  18.50  16.88  12.33  10.13  11.17  6.17  11.25    NaN   8.50   \n",
       "3 2061-01-04  10.58   6.63  11.75   4.58   4.54  2.88   8.63   1.79   5.83   \n",
       "4 2061-01-05  13.33  13.25  11.42   6.17  10.71  8.21  11.92   6.54  10.92   \n",
       "\n",
       "     CLO    BEL    MAL  \n",
       "0  12.58  18.50  15.04  \n",
       "1   9.67  17.54  13.83  \n",
       "2   7.67  12.75  12.71  \n",
       "3   5.88   5.46  10.88  \n",
       "4  10.34  12.92  11.83  "
      ]
     },
     "execution_count": 293,
     "metadata": {},
     "output_type": "execute_result"
    }
   ],
   "source": [
    "# 运行以下代码\n",
    "data = pd.read_table(path6, sep = \"\\s+\", parse_dates = [[0,1,2]]) \n",
    "data.head()"
   ]
  },
  {
   "cell_type": "markdown",
   "metadata": {
    "id": "074311F181FC4137893026C6326BCBA8",
    "jupyter": {},
    "mdEditEnable": false,
    "slideshow": {
     "slide_type": "slide"
    },
    "tags": []
   },
   "source": [
    "### 步骤4 2061年？我们真的有这一年的数据？创建一个函数并用它去修复这个bug"
   ]
  },
  {
   "cell_type": "code",
   "execution_count": 294,
   "metadata": {
    "collapsed": false,
    "id": "49D8631CAF5942E5A8C73BA7C7CFBA9B",
    "jupyter": {
     "outputs_hidden": false
    },
    "slideshow": {
     "slide_type": "slide"
    },
    "tags": []
   },
   "outputs": [
    {
     "data": {
      "text/html": [
       "<div>\n",
       "<style scoped>\n",
       "    .dataframe tbody tr th:only-of-type {\n",
       "        vertical-align: middle;\n",
       "    }\n",
       "\n",
       "    .dataframe tbody tr th {\n",
       "        vertical-align: top;\n",
       "    }\n",
       "\n",
       "    .dataframe thead th {\n",
       "        text-align: right;\n",
       "    }\n",
       "</style>\n",
       "<table border=\"1\" class=\"dataframe\">\n",
       "  <thead>\n",
       "    <tr style=\"text-align: right;\">\n",
       "      <th></th>\n",
       "      <th>Yr_Mo_Dy</th>\n",
       "      <th>RPT</th>\n",
       "      <th>VAL</th>\n",
       "      <th>ROS</th>\n",
       "      <th>KIL</th>\n",
       "      <th>SHA</th>\n",
       "      <th>BIR</th>\n",
       "      <th>DUB</th>\n",
       "      <th>CLA</th>\n",
       "      <th>MUL</th>\n",
       "      <th>CLO</th>\n",
       "      <th>BEL</th>\n",
       "      <th>MAL</th>\n",
       "    </tr>\n",
       "  </thead>\n",
       "  <tbody>\n",
       "    <tr>\n",
       "      <th>0</th>\n",
       "      <td>1961-01-01</td>\n",
       "      <td>15.04</td>\n",
       "      <td>14.96</td>\n",
       "      <td>13.17</td>\n",
       "      <td>9.29</td>\n",
       "      <td>NaN</td>\n",
       "      <td>9.87</td>\n",
       "      <td>13.67</td>\n",
       "      <td>10.25</td>\n",
       "      <td>10.83</td>\n",
       "      <td>12.58</td>\n",
       "      <td>18.50</td>\n",
       "      <td>15.04</td>\n",
       "    </tr>\n",
       "    <tr>\n",
       "      <th>1</th>\n",
       "      <td>1961-01-02</td>\n",
       "      <td>14.71</td>\n",
       "      <td>NaN</td>\n",
       "      <td>10.83</td>\n",
       "      <td>6.50</td>\n",
       "      <td>12.62</td>\n",
       "      <td>7.67</td>\n",
       "      <td>11.50</td>\n",
       "      <td>10.04</td>\n",
       "      <td>9.79</td>\n",
       "      <td>9.67</td>\n",
       "      <td>17.54</td>\n",
       "      <td>13.83</td>\n",
       "    </tr>\n",
       "    <tr>\n",
       "      <th>2</th>\n",
       "      <td>1961-01-03</td>\n",
       "      <td>18.50</td>\n",
       "      <td>16.88</td>\n",
       "      <td>12.33</td>\n",
       "      <td>10.13</td>\n",
       "      <td>11.17</td>\n",
       "      <td>6.17</td>\n",
       "      <td>11.25</td>\n",
       "      <td>NaN</td>\n",
       "      <td>8.50</td>\n",
       "      <td>7.67</td>\n",
       "      <td>12.75</td>\n",
       "      <td>12.71</td>\n",
       "    </tr>\n",
       "    <tr>\n",
       "      <th>3</th>\n",
       "      <td>1961-01-04</td>\n",
       "      <td>10.58</td>\n",
       "      <td>6.63</td>\n",
       "      <td>11.75</td>\n",
       "      <td>4.58</td>\n",
       "      <td>4.54</td>\n",
       "      <td>2.88</td>\n",
       "      <td>8.63</td>\n",
       "      <td>1.79</td>\n",
       "      <td>5.83</td>\n",
       "      <td>5.88</td>\n",
       "      <td>5.46</td>\n",
       "      <td>10.88</td>\n",
       "    </tr>\n",
       "    <tr>\n",
       "      <th>4</th>\n",
       "      <td>1961-01-05</td>\n",
       "      <td>13.33</td>\n",
       "      <td>13.25</td>\n",
       "      <td>11.42</td>\n",
       "      <td>6.17</td>\n",
       "      <td>10.71</td>\n",
       "      <td>8.21</td>\n",
       "      <td>11.92</td>\n",
       "      <td>6.54</td>\n",
       "      <td>10.92</td>\n",
       "      <td>10.34</td>\n",
       "      <td>12.92</td>\n",
       "      <td>11.83</td>\n",
       "    </tr>\n",
       "  </tbody>\n",
       "</table>\n",
       "</div>"
      ],
      "text/plain": [
       "     Yr_Mo_Dy    RPT    VAL    ROS    KIL    SHA   BIR    DUB    CLA    MUL  \\\n",
       "0  1961-01-01  15.04  14.96  13.17   9.29    NaN  9.87  13.67  10.25  10.83   \n",
       "1  1961-01-02  14.71    NaN  10.83   6.50  12.62  7.67  11.50  10.04   9.79   \n",
       "2  1961-01-03  18.50  16.88  12.33  10.13  11.17  6.17  11.25    NaN   8.50   \n",
       "3  1961-01-04  10.58   6.63  11.75   4.58   4.54  2.88   8.63   1.79   5.83   \n",
       "4  1961-01-05  13.33  13.25  11.42   6.17  10.71  8.21  11.92   6.54  10.92   \n",
       "\n",
       "     CLO    BEL    MAL  \n",
       "0  12.58  18.50  15.04  \n",
       "1   9.67  17.54  13.83  \n",
       "2   7.67  12.75  12.71  \n",
       "3   5.88   5.46  10.88  \n",
       "4  10.34  12.92  11.83  "
      ]
     },
     "execution_count": 294,
     "metadata": {},
     "output_type": "execute_result"
    }
   ],
   "source": [
    "# 运行以下代码\n",
    "def fix_century(x):\n",
    "    year = x.year - 100 if x.year > 1989 else x.year\n",
    "    return datetime.date(year, x.month, x.day)\n",
    "\n",
    "# apply the function fix_century on the column and replace the values to the right ones\n",
    "data['Yr_Mo_Dy'] = data['Yr_Mo_Dy'].apply(fix_century)\n",
    "\n",
    "# data.info()\n",
    "data.head()"
   ]
  },
  {
   "cell_type": "markdown",
   "metadata": {
    "id": "3EA3C1E362DF4B2C99B2521FE44B153E",
    "jupyter": {},
    "mdEditEnable": false,
    "slideshow": {
     "slide_type": "slide"
    },
    "tags": []
   },
   "source": [
    "### 步骤5 将日期设为索引，注意数据类型，应该是```datetime64[ns]```"
   ]
  },
  {
   "cell_type": "code",
   "execution_count": 295,
   "metadata": {
    "collapsed": false,
    "id": "956320E6458441B88F3EC41E3D2FC969",
    "jupyter": {
     "outputs_hidden": false
    },
    "slideshow": {
     "slide_type": "slide"
    },
    "tags": []
   },
   "outputs": [
    {
     "data": {
      "text/html": [
       "<div>\n",
       "<style scoped>\n",
       "    .dataframe tbody tr th:only-of-type {\n",
       "        vertical-align: middle;\n",
       "    }\n",
       "\n",
       "    .dataframe tbody tr th {\n",
       "        vertical-align: top;\n",
       "    }\n",
       "\n",
       "    .dataframe thead th {\n",
       "        text-align: right;\n",
       "    }\n",
       "</style>\n",
       "<table border=\"1\" class=\"dataframe\">\n",
       "  <thead>\n",
       "    <tr style=\"text-align: right;\">\n",
       "      <th></th>\n",
       "      <th>RPT</th>\n",
       "      <th>VAL</th>\n",
       "      <th>ROS</th>\n",
       "      <th>KIL</th>\n",
       "      <th>SHA</th>\n",
       "      <th>BIR</th>\n",
       "      <th>DUB</th>\n",
       "      <th>CLA</th>\n",
       "      <th>MUL</th>\n",
       "      <th>CLO</th>\n",
       "      <th>BEL</th>\n",
       "      <th>MAL</th>\n",
       "    </tr>\n",
       "    <tr>\n",
       "      <th>Yr_Mo_Dy</th>\n",
       "      <th></th>\n",
       "      <th></th>\n",
       "      <th></th>\n",
       "      <th></th>\n",
       "      <th></th>\n",
       "      <th></th>\n",
       "      <th></th>\n",
       "      <th></th>\n",
       "      <th></th>\n",
       "      <th></th>\n",
       "      <th></th>\n",
       "      <th></th>\n",
       "    </tr>\n",
       "  </thead>\n",
       "  <tbody>\n",
       "    <tr>\n",
       "      <th>1961-01-01</th>\n",
       "      <td>15.04</td>\n",
       "      <td>14.96</td>\n",
       "      <td>13.17</td>\n",
       "      <td>9.29</td>\n",
       "      <td>NaN</td>\n",
       "      <td>9.87</td>\n",
       "      <td>13.67</td>\n",
       "      <td>10.25</td>\n",
       "      <td>10.83</td>\n",
       "      <td>12.58</td>\n",
       "      <td>18.50</td>\n",
       "      <td>15.04</td>\n",
       "    </tr>\n",
       "    <tr>\n",
       "      <th>1961-01-02</th>\n",
       "      <td>14.71</td>\n",
       "      <td>NaN</td>\n",
       "      <td>10.83</td>\n",
       "      <td>6.50</td>\n",
       "      <td>12.62</td>\n",
       "      <td>7.67</td>\n",
       "      <td>11.50</td>\n",
       "      <td>10.04</td>\n",
       "      <td>9.79</td>\n",
       "      <td>9.67</td>\n",
       "      <td>17.54</td>\n",
       "      <td>13.83</td>\n",
       "    </tr>\n",
       "    <tr>\n",
       "      <th>1961-01-03</th>\n",
       "      <td>18.50</td>\n",
       "      <td>16.88</td>\n",
       "      <td>12.33</td>\n",
       "      <td>10.13</td>\n",
       "      <td>11.17</td>\n",
       "      <td>6.17</td>\n",
       "      <td>11.25</td>\n",
       "      <td>NaN</td>\n",
       "      <td>8.50</td>\n",
       "      <td>7.67</td>\n",
       "      <td>12.75</td>\n",
       "      <td>12.71</td>\n",
       "    </tr>\n",
       "    <tr>\n",
       "      <th>1961-01-04</th>\n",
       "      <td>10.58</td>\n",
       "      <td>6.63</td>\n",
       "      <td>11.75</td>\n",
       "      <td>4.58</td>\n",
       "      <td>4.54</td>\n",
       "      <td>2.88</td>\n",
       "      <td>8.63</td>\n",
       "      <td>1.79</td>\n",
       "      <td>5.83</td>\n",
       "      <td>5.88</td>\n",
       "      <td>5.46</td>\n",
       "      <td>10.88</td>\n",
       "    </tr>\n",
       "    <tr>\n",
       "      <th>1961-01-05</th>\n",
       "      <td>13.33</td>\n",
       "      <td>13.25</td>\n",
       "      <td>11.42</td>\n",
       "      <td>6.17</td>\n",
       "      <td>10.71</td>\n",
       "      <td>8.21</td>\n",
       "      <td>11.92</td>\n",
       "      <td>6.54</td>\n",
       "      <td>10.92</td>\n",
       "      <td>10.34</td>\n",
       "      <td>12.92</td>\n",
       "      <td>11.83</td>\n",
       "    </tr>\n",
       "  </tbody>\n",
       "</table>\n",
       "</div>"
      ],
      "text/plain": [
       "              RPT    VAL    ROS    KIL    SHA   BIR    DUB    CLA    MUL  \\\n",
       "Yr_Mo_Dy                                                                   \n",
       "1961-01-01  15.04  14.96  13.17   9.29    NaN  9.87  13.67  10.25  10.83   \n",
       "1961-01-02  14.71    NaN  10.83   6.50  12.62  7.67  11.50  10.04   9.79   \n",
       "1961-01-03  18.50  16.88  12.33  10.13  11.17  6.17  11.25    NaN   8.50   \n",
       "1961-01-04  10.58   6.63  11.75   4.58   4.54  2.88   8.63   1.79   5.83   \n",
       "1961-01-05  13.33  13.25  11.42   6.17  10.71  8.21  11.92   6.54  10.92   \n",
       "\n",
       "              CLO    BEL    MAL  \n",
       "Yr_Mo_Dy                         \n",
       "1961-01-01  12.58  18.50  15.04  \n",
       "1961-01-02   9.67  17.54  13.83  \n",
       "1961-01-03   7.67  12.75  12.71  \n",
       "1961-01-04   5.88   5.46  10.88  \n",
       "1961-01-05  10.34  12.92  11.83  "
      ]
     },
     "execution_count": 295,
     "metadata": {},
     "output_type": "execute_result"
    }
   ],
   "source": [
    "# 运行以下代码\n",
    "# transform Yr_Mo_Dy it to date type datetime64\n",
    "data[\"Yr_Mo_Dy\"] = pd.to_datetime(data[\"Yr_Mo_Dy\"])\n",
    "\n",
    "# set 'Yr_Mo_Dy' as the index\n",
    "data = data.set_index('Yr_Mo_Dy')\n",
    "\n",
    "data.head()\n",
    "# data.info()"
   ]
  },
  {
   "cell_type": "markdown",
   "metadata": {
    "id": "FF077E03C440424A87922681D9785C33",
    "jupyter": {},
    "mdEditEnable": false,
    "slideshow": {
     "slide_type": "slide"
    },
    "tags": []
   },
   "source": [
    "### 步骤6 对应每一个location，一共有多少数据值缺失"
   ]
  },
  {
   "cell_type": "code",
   "execution_count": 296,
   "metadata": {
    "collapsed": false,
    "id": "D7594C147C6B45658E318DBCE721661D",
    "jupyter": {
     "outputs_hidden": false
    },
    "slideshow": {
     "slide_type": "slide"
    },
    "tags": []
   },
   "outputs": [
    {
     "data": {
      "text/plain": [
       "RPT    6\n",
       "VAL    3\n",
       "ROS    2\n",
       "KIL    5\n",
       "SHA    2\n",
       "BIR    0\n",
       "DUB    3\n",
       "CLA    2\n",
       "MUL    3\n",
       "CLO    1\n",
       "BEL    0\n",
       "MAL    4\n",
       "dtype: int64"
      ]
     },
     "execution_count": 296,
     "metadata": {},
     "output_type": "execute_result"
    }
   ],
   "source": [
    "# 运行以下代码\n",
    "data.isnull().sum()"
   ]
  },
  {
   "cell_type": "markdown",
   "metadata": {
    "id": "F39E9243FCBE41808EE760B0423F9393",
    "jupyter": {},
    "mdEditEnable": false,
    "slideshow": {
     "slide_type": "slide"
    },
    "tags": []
   },
   "source": [
    "### 步骤7 对应每一个location，一共有多少完整的数据值"
   ]
  },
  {
   "cell_type": "code",
   "execution_count": 297,
   "metadata": {
    "collapsed": false,
    "id": "F5502CF4D71D464282B4EC2EB8422436",
    "jupyter": {
     "outputs_hidden": false
    },
    "slideshow": {
     "slide_type": "slide"
    },
    "tags": []
   },
   "outputs": [
    {
     "data": {
      "text/plain": [
       "RPT    6568\n",
       "VAL    6571\n",
       "ROS    6572\n",
       "KIL    6569\n",
       "SHA    6572\n",
       "BIR    6574\n",
       "DUB    6571\n",
       "CLA    6572\n",
       "MUL    6571\n",
       "CLO    6573\n",
       "BEL    6574\n",
       "MAL    6570\n",
       "dtype: int64"
      ]
     },
     "execution_count": 297,
     "metadata": {},
     "output_type": "execute_result"
    }
   ],
   "source": [
    "# 运行以下代码\n",
    "data.shape[0] - data.isnull().sum()"
   ]
  },
  {
   "cell_type": "markdown",
   "metadata": {
    "id": "BAACC52E1E7745CB8217D9284EC30701",
    "jupyter": {},
    "mdEditEnable": false,
    "slideshow": {
     "slide_type": "slide"
    },
    "tags": []
   },
   "source": [
    "### 步骤8 对于全体数据，计算风速的平均值"
   ]
  },
  {
   "cell_type": "code",
   "execution_count": 298,
   "metadata": {
    "collapsed": false,
    "id": "FE95D42311794F60AE77914F6B08E044",
    "jupyter": {
     "outputs_hidden": false
    },
    "slideshow": {
     "slide_type": "slide"
    },
    "tags": []
   },
   "outputs": [
    {
     "data": {
      "text/plain": [
       "10.227982360836924"
      ]
     },
     "execution_count": 298,
     "metadata": {},
     "output_type": "execute_result"
    }
   ],
   "source": [
    "# 运行以下代码\n",
    "data.mean().mean()"
   ]
  },
  {
   "cell_type": "markdown",
   "metadata": {
    "id": "A435AC6481E54B868677E2469A328415",
    "jupyter": {},
    "mdEditEnable": false,
    "slideshow": {
     "slide_type": "slide"
    },
    "tags": []
   },
   "source": [
    "### 步骤9 创建一个名为```loc_stats```的数据框去计算并存储每个location的风速最小值，最大值，平均值和标准差"
   ]
  },
  {
   "cell_type": "code",
   "execution_count": 299,
   "metadata": {
    "collapsed": false,
    "id": "21BD2C96315149FBAC150954BFE36D7A",
    "jupyter": {
     "outputs_hidden": false
    },
    "slideshow": {
     "slide_type": "slide"
    },
    "tags": []
   },
   "outputs": [
    {
     "data": {
      "text/html": [
       "<div>\n",
       "<style scoped>\n",
       "    .dataframe tbody tr th:only-of-type {\n",
       "        vertical-align: middle;\n",
       "    }\n",
       "\n",
       "    .dataframe tbody tr th {\n",
       "        vertical-align: top;\n",
       "    }\n",
       "\n",
       "    .dataframe thead th {\n",
       "        text-align: right;\n",
       "    }\n",
       "</style>\n",
       "<table border=\"1\" class=\"dataframe\">\n",
       "  <thead>\n",
       "    <tr style=\"text-align: right;\">\n",
       "      <th></th>\n",
       "      <th>min</th>\n",
       "      <th>max</th>\n",
       "      <th>mean</th>\n",
       "      <th>std</th>\n",
       "    </tr>\n",
       "  </thead>\n",
       "  <tbody>\n",
       "    <tr>\n",
       "      <th>RPT</th>\n",
       "      <td>0.67</td>\n",
       "      <td>35.80</td>\n",
       "      <td>12.362987</td>\n",
       "      <td>5.618413</td>\n",
       "    </tr>\n",
       "    <tr>\n",
       "      <th>VAL</th>\n",
       "      <td>0.21</td>\n",
       "      <td>33.37</td>\n",
       "      <td>10.644314</td>\n",
       "      <td>5.267356</td>\n",
       "    </tr>\n",
       "    <tr>\n",
       "      <th>ROS</th>\n",
       "      <td>1.50</td>\n",
       "      <td>33.84</td>\n",
       "      <td>11.660526</td>\n",
       "      <td>5.008450</td>\n",
       "    </tr>\n",
       "    <tr>\n",
       "      <th>KIL</th>\n",
       "      <td>0.00</td>\n",
       "      <td>28.46</td>\n",
       "      <td>6.306468</td>\n",
       "      <td>3.605811</td>\n",
       "    </tr>\n",
       "    <tr>\n",
       "      <th>SHA</th>\n",
       "      <td>0.13</td>\n",
       "      <td>37.54</td>\n",
       "      <td>10.455834</td>\n",
       "      <td>4.936125</td>\n",
       "    </tr>\n",
       "    <tr>\n",
       "      <th>BIR</th>\n",
       "      <td>0.00</td>\n",
       "      <td>26.16</td>\n",
       "      <td>7.092254</td>\n",
       "      <td>3.968683</td>\n",
       "    </tr>\n",
       "    <tr>\n",
       "      <th>DUB</th>\n",
       "      <td>0.00</td>\n",
       "      <td>30.37</td>\n",
       "      <td>9.797343</td>\n",
       "      <td>4.977555</td>\n",
       "    </tr>\n",
       "    <tr>\n",
       "      <th>CLA</th>\n",
       "      <td>0.00</td>\n",
       "      <td>31.08</td>\n",
       "      <td>8.495053</td>\n",
       "      <td>4.499449</td>\n",
       "    </tr>\n",
       "    <tr>\n",
       "      <th>MUL</th>\n",
       "      <td>0.00</td>\n",
       "      <td>25.88</td>\n",
       "      <td>8.493590</td>\n",
       "      <td>4.166872</td>\n",
       "    </tr>\n",
       "    <tr>\n",
       "      <th>CLO</th>\n",
       "      <td>0.04</td>\n",
       "      <td>28.21</td>\n",
       "      <td>8.707332</td>\n",
       "      <td>4.503954</td>\n",
       "    </tr>\n",
       "    <tr>\n",
       "      <th>BEL</th>\n",
       "      <td>0.13</td>\n",
       "      <td>42.38</td>\n",
       "      <td>13.121007</td>\n",
       "      <td>5.835037</td>\n",
       "    </tr>\n",
       "    <tr>\n",
       "      <th>MAL</th>\n",
       "      <td>0.67</td>\n",
       "      <td>42.54</td>\n",
       "      <td>15.599079</td>\n",
       "      <td>6.699794</td>\n",
       "    </tr>\n",
       "  </tbody>\n",
       "</table>\n",
       "</div>"
      ],
      "text/plain": [
       "      min    max       mean       std\n",
       "RPT  0.67  35.80  12.362987  5.618413\n",
       "VAL  0.21  33.37  10.644314  5.267356\n",
       "ROS  1.50  33.84  11.660526  5.008450\n",
       "KIL  0.00  28.46   6.306468  3.605811\n",
       "SHA  0.13  37.54  10.455834  4.936125\n",
       "BIR  0.00  26.16   7.092254  3.968683\n",
       "DUB  0.00  30.37   9.797343  4.977555\n",
       "CLA  0.00  31.08   8.495053  4.499449\n",
       "MUL  0.00  25.88   8.493590  4.166872\n",
       "CLO  0.04  28.21   8.707332  4.503954\n",
       "BEL  0.13  42.38  13.121007  5.835037\n",
       "MAL  0.67  42.54  15.599079  6.699794"
      ]
     },
     "execution_count": 299,
     "metadata": {},
     "output_type": "execute_result"
    }
   ],
   "source": [
    "# 运行以下代码\n",
    "loc_stats = pd.DataFrame()\n",
    "\n",
    "loc_stats['min'] = data.min() # min\n",
    "loc_stats['max'] = data.max() # max \n",
    "loc_stats['mean'] = data.mean() # mean\n",
    "loc_stats['std'] = data.std() # standard deviations\n",
    "\n",
    "loc_stats"
   ]
  },
  {
   "cell_type": "markdown",
   "metadata": {
    "id": "6E7615F80A374F7283CE6E866797288C",
    "jupyter": {},
    "mdEditEnable": false,
    "slideshow": {
     "slide_type": "slide"
    },
    "tags": []
   },
   "source": [
    "### 步骤10 创建一个名为```day_stats```的数据框去计算并存储所有location的风速最小值，最大值，平均值和标准差"
   ]
  },
  {
   "cell_type": "code",
   "execution_count": 300,
   "metadata": {
    "collapsed": false,
    "id": "690306AD53644375857E3FC6E7EA3176",
    "jupyter": {
     "outputs_hidden": false
    },
    "slideshow": {
     "slide_type": "slide"
    },
    "tags": []
   },
   "outputs": [
    {
     "data": {
      "text/html": [
       "<div>\n",
       "<style scoped>\n",
       "    .dataframe tbody tr th:only-of-type {\n",
       "        vertical-align: middle;\n",
       "    }\n",
       "\n",
       "    .dataframe tbody tr th {\n",
       "        vertical-align: top;\n",
       "    }\n",
       "\n",
       "    .dataframe thead th {\n",
       "        text-align: right;\n",
       "    }\n",
       "</style>\n",
       "<table border=\"1\" class=\"dataframe\">\n",
       "  <thead>\n",
       "    <tr style=\"text-align: right;\">\n",
       "      <th></th>\n",
       "      <th>min</th>\n",
       "      <th>max</th>\n",
       "      <th>mean</th>\n",
       "      <th>std</th>\n",
       "    </tr>\n",
       "    <tr>\n",
       "      <th>Yr_Mo_Dy</th>\n",
       "      <th></th>\n",
       "      <th></th>\n",
       "      <th></th>\n",
       "      <th></th>\n",
       "    </tr>\n",
       "  </thead>\n",
       "  <tbody>\n",
       "    <tr>\n",
       "      <th>1961-01-01</th>\n",
       "      <td>9.29</td>\n",
       "      <td>18.50</td>\n",
       "      <td>13.018182</td>\n",
       "      <td>2.808875</td>\n",
       "    </tr>\n",
       "    <tr>\n",
       "      <th>1961-01-02</th>\n",
       "      <td>6.50</td>\n",
       "      <td>17.54</td>\n",
       "      <td>11.336364</td>\n",
       "      <td>3.188994</td>\n",
       "    </tr>\n",
       "    <tr>\n",
       "      <th>1961-01-03</th>\n",
       "      <td>6.17</td>\n",
       "      <td>18.50</td>\n",
       "      <td>11.641818</td>\n",
       "      <td>3.681912</td>\n",
       "    </tr>\n",
       "    <tr>\n",
       "      <th>1961-01-04</th>\n",
       "      <td>1.79</td>\n",
       "      <td>11.75</td>\n",
       "      <td>6.619167</td>\n",
       "      <td>3.198126</td>\n",
       "    </tr>\n",
       "    <tr>\n",
       "      <th>1961-01-05</th>\n",
       "      <td>6.17</td>\n",
       "      <td>13.33</td>\n",
       "      <td>10.630000</td>\n",
       "      <td>2.445356</td>\n",
       "    </tr>\n",
       "  </tbody>\n",
       "</table>\n",
       "</div>"
      ],
      "text/plain": [
       "             min    max       mean       std\n",
       "Yr_Mo_Dy                                    \n",
       "1961-01-01  9.29  18.50  13.018182  2.808875\n",
       "1961-01-02  6.50  17.54  11.336364  3.188994\n",
       "1961-01-03  6.17  18.50  11.641818  3.681912\n",
       "1961-01-04  1.79  11.75   6.619167  3.198126\n",
       "1961-01-05  6.17  13.33  10.630000  2.445356"
      ]
     },
     "execution_count": 300,
     "metadata": {},
     "output_type": "execute_result"
    }
   ],
   "source": [
    "# 运行以下代码\n",
    "# create the dataframe\n",
    "day_stats = pd.DataFrame()\n",
    "\n",
    "# this time we determine axis equals to one so it gets each row.\n",
    "day_stats['min'] = data.min(axis = 1) # min\n",
    "day_stats['max'] = data.max(axis = 1) # max \n",
    "day_stats['mean'] = data.mean(axis = 1) # mean\n",
    "day_stats['std'] = data.std(axis = 1) # standard deviations\n",
    "\n",
    "day_stats.head()"
   ]
  },
  {
   "cell_type": "markdown",
   "metadata": {
    "id": "95CFA0ECD5EC4D23A52EA5BC36D02B44",
    "jupyter": {},
    "mdEditEnable": false,
    "slideshow": {
     "slide_type": "slide"
    },
    "tags": []
   },
   "source": [
    "### 步骤11 对于每一个location，计算一月份的平均风速\n",
    "*注意，1961年的1月和1962年的1月应该区别对待*"
   ]
  },
  {
   "cell_type": "code",
   "execution_count": 301,
   "metadata": {
    "collapsed": false,
    "id": "77114D8F4CC74EB380372660289C7F9D",
    "jupyter": {
     "outputs_hidden": false
    },
    "slideshow": {
     "slide_type": "slide"
    },
    "tags": []
   },
   "outputs": [
    {
     "data": {
      "text/plain": [
       "RPT    14.847325\n",
       "VAL    12.914560\n",
       "ROS    13.299624\n",
       "KIL     7.199498\n",
       "SHA    11.667734\n",
       "BIR     8.054839\n",
       "DUB    11.819355\n",
       "CLA     9.512047\n",
       "MUL     9.543208\n",
       "CLO    10.053566\n",
       "BEL    14.550520\n",
       "MAL    18.028763\n",
       "dtype: float64"
      ]
     },
     "execution_count": 301,
     "metadata": {},
     "output_type": "execute_result"
    }
   ],
   "source": [
    "# 运行以下代码\n",
    "# creates a new column 'date' and gets the values from the index\n",
    "data['date'] = data.index\n",
    "\n",
    "# creates a column for each value from date\n",
    "data['month'] = data['date'].apply(lambda date: date.month)\n",
    "data['year'] = data['date'].apply(lambda date: date.year)\n",
    "data['day'] = data['date'].apply(lambda date: date.day)\n",
    "\n",
    "# gets all value from the month 1 and assign to janyary_winds\n",
    "january_winds = data.query('month == 1')\n",
    "\n",
    "# gets the mean from january_winds, using .loc to not print the mean of month, year and day\n",
    "january_winds.loc[:,'RPT':\"MAL\"].mean()"
   ]
  },
  {
   "cell_type": "markdown",
   "metadata": {
    "id": "BFE9BE5CB39B4BFB829D0C6AB74BA1A1",
    "jupyter": {},
    "mdEditEnable": false,
    "slideshow": {
     "slide_type": "slide"
    },
    "tags": []
   },
   "source": [
    "### 步骤12  对于数据记录按照年为频率取样"
   ]
  },
  {
   "cell_type": "code",
   "execution_count": 302,
   "metadata": {
    "collapsed": false,
    "id": "FB6B7C0152794B69828EBBB3865F346D",
    "jupyter": {
     "outputs_hidden": false
    },
    "slideshow": {
     "slide_type": "slide"
    },
    "tags": []
   },
   "outputs": [
    {
     "data": {
      "text/html": [
       "<div>\n",
       "<style scoped>\n",
       "    .dataframe tbody tr th:only-of-type {\n",
       "        vertical-align: middle;\n",
       "    }\n",
       "\n",
       "    .dataframe tbody tr th {\n",
       "        vertical-align: top;\n",
       "    }\n",
       "\n",
       "    .dataframe thead th {\n",
       "        text-align: right;\n",
       "    }\n",
       "</style>\n",
       "<table border=\"1\" class=\"dataframe\">\n",
       "  <thead>\n",
       "    <tr style=\"text-align: right;\">\n",
       "      <th></th>\n",
       "      <th>RPT</th>\n",
       "      <th>VAL</th>\n",
       "      <th>ROS</th>\n",
       "      <th>KIL</th>\n",
       "      <th>SHA</th>\n",
       "      <th>BIR</th>\n",
       "      <th>DUB</th>\n",
       "      <th>CLA</th>\n",
       "      <th>MUL</th>\n",
       "      <th>CLO</th>\n",
       "      <th>BEL</th>\n",
       "      <th>MAL</th>\n",
       "      <th>date</th>\n",
       "      <th>month</th>\n",
       "      <th>year</th>\n",
       "      <th>day</th>\n",
       "    </tr>\n",
       "    <tr>\n",
       "      <th>Yr_Mo_Dy</th>\n",
       "      <th></th>\n",
       "      <th></th>\n",
       "      <th></th>\n",
       "      <th></th>\n",
       "      <th></th>\n",
       "      <th></th>\n",
       "      <th></th>\n",
       "      <th></th>\n",
       "      <th></th>\n",
       "      <th></th>\n",
       "      <th></th>\n",
       "      <th></th>\n",
       "      <th></th>\n",
       "      <th></th>\n",
       "      <th></th>\n",
       "      <th></th>\n",
       "    </tr>\n",
       "  </thead>\n",
       "  <tbody>\n",
       "    <tr>\n",
       "      <th>1961-01-01</th>\n",
       "      <td>15.04</td>\n",
       "      <td>14.96</td>\n",
       "      <td>13.17</td>\n",
       "      <td>9.29</td>\n",
       "      <td>NaN</td>\n",
       "      <td>9.87</td>\n",
       "      <td>13.67</td>\n",
       "      <td>10.25</td>\n",
       "      <td>10.83</td>\n",
       "      <td>12.58</td>\n",
       "      <td>18.50</td>\n",
       "      <td>15.04</td>\n",
       "      <td>1961-01-01</td>\n",
       "      <td>1</td>\n",
       "      <td>1961</td>\n",
       "      <td>1</td>\n",
       "    </tr>\n",
       "    <tr>\n",
       "      <th>1962-01-01</th>\n",
       "      <td>9.29</td>\n",
       "      <td>3.42</td>\n",
       "      <td>11.54</td>\n",
       "      <td>3.50</td>\n",
       "      <td>2.21</td>\n",
       "      <td>1.96</td>\n",
       "      <td>10.41</td>\n",
       "      <td>2.79</td>\n",
       "      <td>3.54</td>\n",
       "      <td>5.17</td>\n",
       "      <td>4.38</td>\n",
       "      <td>7.92</td>\n",
       "      <td>1962-01-01</td>\n",
       "      <td>1</td>\n",
       "      <td>1962</td>\n",
       "      <td>1</td>\n",
       "    </tr>\n",
       "    <tr>\n",
       "      <th>1963-01-01</th>\n",
       "      <td>15.59</td>\n",
       "      <td>13.62</td>\n",
       "      <td>19.79</td>\n",
       "      <td>8.38</td>\n",
       "      <td>12.25</td>\n",
       "      <td>10.00</td>\n",
       "      <td>23.45</td>\n",
       "      <td>15.71</td>\n",
       "      <td>13.59</td>\n",
       "      <td>14.37</td>\n",
       "      <td>17.58</td>\n",
       "      <td>34.13</td>\n",
       "      <td>1963-01-01</td>\n",
       "      <td>1</td>\n",
       "      <td>1963</td>\n",
       "      <td>1</td>\n",
       "    </tr>\n",
       "    <tr>\n",
       "      <th>1964-01-01</th>\n",
       "      <td>25.80</td>\n",
       "      <td>22.13</td>\n",
       "      <td>18.21</td>\n",
       "      <td>13.25</td>\n",
       "      <td>21.29</td>\n",
       "      <td>14.79</td>\n",
       "      <td>14.12</td>\n",
       "      <td>19.58</td>\n",
       "      <td>13.25</td>\n",
       "      <td>16.75</td>\n",
       "      <td>28.96</td>\n",
       "      <td>21.00</td>\n",
       "      <td>1964-01-01</td>\n",
       "      <td>1</td>\n",
       "      <td>1964</td>\n",
       "      <td>1</td>\n",
       "    </tr>\n",
       "    <tr>\n",
       "      <th>1965-01-01</th>\n",
       "      <td>9.54</td>\n",
       "      <td>11.92</td>\n",
       "      <td>9.00</td>\n",
       "      <td>4.38</td>\n",
       "      <td>6.08</td>\n",
       "      <td>5.21</td>\n",
       "      <td>10.25</td>\n",
       "      <td>6.08</td>\n",
       "      <td>5.71</td>\n",
       "      <td>8.63</td>\n",
       "      <td>12.04</td>\n",
       "      <td>17.41</td>\n",
       "      <td>1965-01-01</td>\n",
       "      <td>1</td>\n",
       "      <td>1965</td>\n",
       "      <td>1</td>\n",
       "    </tr>\n",
       "    <tr>\n",
       "      <th>1966-01-01</th>\n",
       "      <td>22.04</td>\n",
       "      <td>21.50</td>\n",
       "      <td>17.08</td>\n",
       "      <td>12.75</td>\n",
       "      <td>22.17</td>\n",
       "      <td>15.59</td>\n",
       "      <td>21.79</td>\n",
       "      <td>18.12</td>\n",
       "      <td>16.66</td>\n",
       "      <td>17.83</td>\n",
       "      <td>28.33</td>\n",
       "      <td>23.79</td>\n",
       "      <td>1966-01-01</td>\n",
       "      <td>1</td>\n",
       "      <td>1966</td>\n",
       "      <td>1</td>\n",
       "    </tr>\n",
       "    <tr>\n",
       "      <th>1967-01-01</th>\n",
       "      <td>6.46</td>\n",
       "      <td>4.46</td>\n",
       "      <td>6.50</td>\n",
       "      <td>3.21</td>\n",
       "      <td>6.67</td>\n",
       "      <td>3.79</td>\n",
       "      <td>11.38</td>\n",
       "      <td>3.83</td>\n",
       "      <td>7.71</td>\n",
       "      <td>9.08</td>\n",
       "      <td>10.67</td>\n",
       "      <td>20.91</td>\n",
       "      <td>1967-01-01</td>\n",
       "      <td>1</td>\n",
       "      <td>1967</td>\n",
       "      <td>1</td>\n",
       "    </tr>\n",
       "    <tr>\n",
       "      <th>1968-01-01</th>\n",
       "      <td>30.04</td>\n",
       "      <td>17.88</td>\n",
       "      <td>16.25</td>\n",
       "      <td>16.25</td>\n",
       "      <td>21.79</td>\n",
       "      <td>12.54</td>\n",
       "      <td>18.16</td>\n",
       "      <td>16.62</td>\n",
       "      <td>18.75</td>\n",
       "      <td>17.62</td>\n",
       "      <td>22.25</td>\n",
       "      <td>27.29</td>\n",
       "      <td>1968-01-01</td>\n",
       "      <td>1</td>\n",
       "      <td>1968</td>\n",
       "      <td>1</td>\n",
       "    </tr>\n",
       "    <tr>\n",
       "      <th>1969-01-01</th>\n",
       "      <td>6.13</td>\n",
       "      <td>1.63</td>\n",
       "      <td>5.41</td>\n",
       "      <td>1.08</td>\n",
       "      <td>2.54</td>\n",
       "      <td>1.00</td>\n",
       "      <td>8.50</td>\n",
       "      <td>2.42</td>\n",
       "      <td>4.58</td>\n",
       "      <td>6.34</td>\n",
       "      <td>9.17</td>\n",
       "      <td>16.71</td>\n",
       "      <td>1969-01-01</td>\n",
       "      <td>1</td>\n",
       "      <td>1969</td>\n",
       "      <td>1</td>\n",
       "    </tr>\n",
       "    <tr>\n",
       "      <th>1970-01-01</th>\n",
       "      <td>9.59</td>\n",
       "      <td>2.96</td>\n",
       "      <td>11.79</td>\n",
       "      <td>3.42</td>\n",
       "      <td>6.13</td>\n",
       "      <td>4.08</td>\n",
       "      <td>9.00</td>\n",
       "      <td>4.46</td>\n",
       "      <td>7.29</td>\n",
       "      <td>3.50</td>\n",
       "      <td>7.33</td>\n",
       "      <td>13.00</td>\n",
       "      <td>1970-01-01</td>\n",
       "      <td>1</td>\n",
       "      <td>1970</td>\n",
       "      <td>1</td>\n",
       "    </tr>\n",
       "    <tr>\n",
       "      <th>1971-01-01</th>\n",
       "      <td>3.71</td>\n",
       "      <td>0.79</td>\n",
       "      <td>4.71</td>\n",
       "      <td>0.17</td>\n",
       "      <td>1.42</td>\n",
       "      <td>1.04</td>\n",
       "      <td>4.63</td>\n",
       "      <td>0.75</td>\n",
       "      <td>1.54</td>\n",
       "      <td>1.08</td>\n",
       "      <td>4.21</td>\n",
       "      <td>9.54</td>\n",
       "      <td>1971-01-01</td>\n",
       "      <td>1</td>\n",
       "      <td>1971</td>\n",
       "      <td>1</td>\n",
       "    </tr>\n",
       "    <tr>\n",
       "      <th>1972-01-01</th>\n",
       "      <td>9.29</td>\n",
       "      <td>3.63</td>\n",
       "      <td>14.54</td>\n",
       "      <td>4.25</td>\n",
       "      <td>6.75</td>\n",
       "      <td>4.42</td>\n",
       "      <td>13.00</td>\n",
       "      <td>5.33</td>\n",
       "      <td>10.04</td>\n",
       "      <td>8.54</td>\n",
       "      <td>8.71</td>\n",
       "      <td>19.17</td>\n",
       "      <td>1972-01-01</td>\n",
       "      <td>1</td>\n",
       "      <td>1972</td>\n",
       "      <td>1</td>\n",
       "    </tr>\n",
       "    <tr>\n",
       "      <th>1973-01-01</th>\n",
       "      <td>16.50</td>\n",
       "      <td>15.92</td>\n",
       "      <td>14.62</td>\n",
       "      <td>7.41</td>\n",
       "      <td>8.29</td>\n",
       "      <td>11.21</td>\n",
       "      <td>13.54</td>\n",
       "      <td>7.79</td>\n",
       "      <td>10.46</td>\n",
       "      <td>10.79</td>\n",
       "      <td>13.37</td>\n",
       "      <td>9.71</td>\n",
       "      <td>1973-01-01</td>\n",
       "      <td>1</td>\n",
       "      <td>1973</td>\n",
       "      <td>1</td>\n",
       "    </tr>\n",
       "    <tr>\n",
       "      <th>1974-01-01</th>\n",
       "      <td>23.21</td>\n",
       "      <td>16.54</td>\n",
       "      <td>16.08</td>\n",
       "      <td>9.75</td>\n",
       "      <td>15.83</td>\n",
       "      <td>11.46</td>\n",
       "      <td>9.54</td>\n",
       "      <td>13.54</td>\n",
       "      <td>13.83</td>\n",
       "      <td>16.66</td>\n",
       "      <td>17.21</td>\n",
       "      <td>25.29</td>\n",
       "      <td>1974-01-01</td>\n",
       "      <td>1</td>\n",
       "      <td>1974</td>\n",
       "      <td>1</td>\n",
       "    </tr>\n",
       "    <tr>\n",
       "      <th>1975-01-01</th>\n",
       "      <td>14.04</td>\n",
       "      <td>13.54</td>\n",
       "      <td>11.29</td>\n",
       "      <td>5.46</td>\n",
       "      <td>12.58</td>\n",
       "      <td>5.58</td>\n",
       "      <td>8.12</td>\n",
       "      <td>8.96</td>\n",
       "      <td>9.29</td>\n",
       "      <td>5.17</td>\n",
       "      <td>7.71</td>\n",
       "      <td>11.63</td>\n",
       "      <td>1975-01-01</td>\n",
       "      <td>1</td>\n",
       "      <td>1975</td>\n",
       "      <td>1</td>\n",
       "    </tr>\n",
       "    <tr>\n",
       "      <th>1976-01-01</th>\n",
       "      <td>18.34</td>\n",
       "      <td>17.67</td>\n",
       "      <td>14.83</td>\n",
       "      <td>8.00</td>\n",
       "      <td>16.62</td>\n",
       "      <td>10.13</td>\n",
       "      <td>13.17</td>\n",
       "      <td>9.04</td>\n",
       "      <td>13.13</td>\n",
       "      <td>5.75</td>\n",
       "      <td>11.38</td>\n",
       "      <td>14.96</td>\n",
       "      <td>1976-01-01</td>\n",
       "      <td>1</td>\n",
       "      <td>1976</td>\n",
       "      <td>1</td>\n",
       "    </tr>\n",
       "    <tr>\n",
       "      <th>1977-01-01</th>\n",
       "      <td>20.04</td>\n",
       "      <td>11.92</td>\n",
       "      <td>20.25</td>\n",
       "      <td>9.13</td>\n",
       "      <td>9.29</td>\n",
       "      <td>8.04</td>\n",
       "      <td>10.75</td>\n",
       "      <td>5.88</td>\n",
       "      <td>9.00</td>\n",
       "      <td>9.00</td>\n",
       "      <td>14.88</td>\n",
       "      <td>25.70</td>\n",
       "      <td>1977-01-01</td>\n",
       "      <td>1</td>\n",
       "      <td>1977</td>\n",
       "      <td>1</td>\n",
       "    </tr>\n",
       "    <tr>\n",
       "      <th>1978-01-01</th>\n",
       "      <td>8.33</td>\n",
       "      <td>7.12</td>\n",
       "      <td>7.71</td>\n",
       "      <td>3.54</td>\n",
       "      <td>8.50</td>\n",
       "      <td>7.50</td>\n",
       "      <td>14.71</td>\n",
       "      <td>10.00</td>\n",
       "      <td>11.83</td>\n",
       "      <td>10.00</td>\n",
       "      <td>15.09</td>\n",
       "      <td>20.46</td>\n",
       "      <td>1978-01-01</td>\n",
       "      <td>1</td>\n",
       "      <td>1978</td>\n",
       "      <td>1</td>\n",
       "    </tr>\n",
       "  </tbody>\n",
       "</table>\n",
       "</div>"
      ],
      "text/plain": [
       "              RPT    VAL    ROS    KIL    SHA    BIR    DUB    CLA    MUL  \\\n",
       "Yr_Mo_Dy                                                                    \n",
       "1961-01-01  15.04  14.96  13.17   9.29    NaN   9.87  13.67  10.25  10.83   \n",
       "1962-01-01   9.29   3.42  11.54   3.50   2.21   1.96  10.41   2.79   3.54   \n",
       "1963-01-01  15.59  13.62  19.79   8.38  12.25  10.00  23.45  15.71  13.59   \n",
       "1964-01-01  25.80  22.13  18.21  13.25  21.29  14.79  14.12  19.58  13.25   \n",
       "1965-01-01   9.54  11.92   9.00   4.38   6.08   5.21  10.25   6.08   5.71   \n",
       "1966-01-01  22.04  21.50  17.08  12.75  22.17  15.59  21.79  18.12  16.66   \n",
       "1967-01-01   6.46   4.46   6.50   3.21   6.67   3.79  11.38   3.83   7.71   \n",
       "1968-01-01  30.04  17.88  16.25  16.25  21.79  12.54  18.16  16.62  18.75   \n",
       "1969-01-01   6.13   1.63   5.41   1.08   2.54   1.00   8.50   2.42   4.58   \n",
       "1970-01-01   9.59   2.96  11.79   3.42   6.13   4.08   9.00   4.46   7.29   \n",
       "1971-01-01   3.71   0.79   4.71   0.17   1.42   1.04   4.63   0.75   1.54   \n",
       "1972-01-01   9.29   3.63  14.54   4.25   6.75   4.42  13.00   5.33  10.04   \n",
       "1973-01-01  16.50  15.92  14.62   7.41   8.29  11.21  13.54   7.79  10.46   \n",
       "1974-01-01  23.21  16.54  16.08   9.75  15.83  11.46   9.54  13.54  13.83   \n",
       "1975-01-01  14.04  13.54  11.29   5.46  12.58   5.58   8.12   8.96   9.29   \n",
       "1976-01-01  18.34  17.67  14.83   8.00  16.62  10.13  13.17   9.04  13.13   \n",
       "1977-01-01  20.04  11.92  20.25   9.13   9.29   8.04  10.75   5.88   9.00   \n",
       "1978-01-01   8.33   7.12   7.71   3.54   8.50   7.50  14.71  10.00  11.83   \n",
       "\n",
       "              CLO    BEL    MAL       date  month  year  day  \n",
       "Yr_Mo_Dy                                                      \n",
       "1961-01-01  12.58  18.50  15.04 1961-01-01      1  1961    1  \n",
       "1962-01-01   5.17   4.38   7.92 1962-01-01      1  1962    1  \n",
       "1963-01-01  14.37  17.58  34.13 1963-01-01      1  1963    1  \n",
       "1964-01-01  16.75  28.96  21.00 1964-01-01      1  1964    1  \n",
       "1965-01-01   8.63  12.04  17.41 1965-01-01      1  1965    1  \n",
       "1966-01-01  17.83  28.33  23.79 1966-01-01      1  1966    1  \n",
       "1967-01-01   9.08  10.67  20.91 1967-01-01      1  1967    1  \n",
       "1968-01-01  17.62  22.25  27.29 1968-01-01      1  1968    1  \n",
       "1969-01-01   6.34   9.17  16.71 1969-01-01      1  1969    1  \n",
       "1970-01-01   3.50   7.33  13.00 1970-01-01      1  1970    1  \n",
       "1971-01-01   1.08   4.21   9.54 1971-01-01      1  1971    1  \n",
       "1972-01-01   8.54   8.71  19.17 1972-01-01      1  1972    1  \n",
       "1973-01-01  10.79  13.37   9.71 1973-01-01      1  1973    1  \n",
       "1974-01-01  16.66  17.21  25.29 1974-01-01      1  1974    1  \n",
       "1975-01-01   5.17   7.71  11.63 1975-01-01      1  1975    1  \n",
       "1976-01-01   5.75  11.38  14.96 1976-01-01      1  1976    1  \n",
       "1977-01-01   9.00  14.88  25.70 1977-01-01      1  1977    1  \n",
       "1978-01-01  10.00  15.09  20.46 1978-01-01      1  1978    1  "
      ]
     },
     "execution_count": 302,
     "metadata": {},
     "output_type": "execute_result"
    }
   ],
   "source": [
    "# 运行以下代码\n",
    "data.query('month == 1 and day == 1')"
   ]
  },
  {
   "cell_type": "markdown",
   "metadata": {
    "id": "F042E1F29B824B248BF72E18BC1124FD",
    "jupyter": {},
    "mdEditEnable": false,
    "slideshow": {
     "slide_type": "slide"
    },
    "tags": []
   },
   "source": [
    "### 步骤13 对于数据记录按照月为频率取样"
   ]
  },
  {
   "cell_type": "code",
   "execution_count": 303,
   "metadata": {
    "collapsed": false,
    "id": "CB8005ECB2BF46F8A7956F659B8D1339",
    "jupyter": {
     "outputs_hidden": false
    },
    "slideshow": {
     "slide_type": "slide"
    },
    "tags": []
   },
   "outputs": [
    {
     "data": {
      "text/html": [
       "<div>\n",
       "<style scoped>\n",
       "    .dataframe tbody tr th:only-of-type {\n",
       "        vertical-align: middle;\n",
       "    }\n",
       "\n",
       "    .dataframe tbody tr th {\n",
       "        vertical-align: top;\n",
       "    }\n",
       "\n",
       "    .dataframe thead th {\n",
       "        text-align: right;\n",
       "    }\n",
       "</style>\n",
       "<table border=\"1\" class=\"dataframe\">\n",
       "  <thead>\n",
       "    <tr style=\"text-align: right;\">\n",
       "      <th></th>\n",
       "      <th>RPT</th>\n",
       "      <th>VAL</th>\n",
       "      <th>ROS</th>\n",
       "      <th>KIL</th>\n",
       "      <th>SHA</th>\n",
       "      <th>BIR</th>\n",
       "      <th>DUB</th>\n",
       "      <th>CLA</th>\n",
       "      <th>MUL</th>\n",
       "      <th>CLO</th>\n",
       "      <th>BEL</th>\n",
       "      <th>MAL</th>\n",
       "      <th>date</th>\n",
       "      <th>month</th>\n",
       "      <th>year</th>\n",
       "      <th>day</th>\n",
       "    </tr>\n",
       "    <tr>\n",
       "      <th>Yr_Mo_Dy</th>\n",
       "      <th></th>\n",
       "      <th></th>\n",
       "      <th></th>\n",
       "      <th></th>\n",
       "      <th></th>\n",
       "      <th></th>\n",
       "      <th></th>\n",
       "      <th></th>\n",
       "      <th></th>\n",
       "      <th></th>\n",
       "      <th></th>\n",
       "      <th></th>\n",
       "      <th></th>\n",
       "      <th></th>\n",
       "      <th></th>\n",
       "      <th></th>\n",
       "    </tr>\n",
       "  </thead>\n",
       "  <tbody>\n",
       "    <tr>\n",
       "      <th>1961-01-01</th>\n",
       "      <td>15.04</td>\n",
       "      <td>14.96</td>\n",
       "      <td>13.17</td>\n",
       "      <td>9.29</td>\n",
       "      <td>NaN</td>\n",
       "      <td>9.87</td>\n",
       "      <td>13.67</td>\n",
       "      <td>10.25</td>\n",
       "      <td>10.83</td>\n",
       "      <td>12.58</td>\n",
       "      <td>18.50</td>\n",
       "      <td>15.04</td>\n",
       "      <td>1961-01-01</td>\n",
       "      <td>1</td>\n",
       "      <td>1961</td>\n",
       "      <td>1</td>\n",
       "    </tr>\n",
       "    <tr>\n",
       "      <th>1961-02-01</th>\n",
       "      <td>14.25</td>\n",
       "      <td>15.12</td>\n",
       "      <td>9.04</td>\n",
       "      <td>5.88</td>\n",
       "      <td>12.08</td>\n",
       "      <td>7.17</td>\n",
       "      <td>10.17</td>\n",
       "      <td>3.63</td>\n",
       "      <td>6.50</td>\n",
       "      <td>5.50</td>\n",
       "      <td>9.17</td>\n",
       "      <td>8.00</td>\n",
       "      <td>1961-02-01</td>\n",
       "      <td>2</td>\n",
       "      <td>1961</td>\n",
       "      <td>1</td>\n",
       "    </tr>\n",
       "    <tr>\n",
       "      <th>1961-03-01</th>\n",
       "      <td>12.67</td>\n",
       "      <td>13.13</td>\n",
       "      <td>11.79</td>\n",
       "      <td>6.42</td>\n",
       "      <td>9.79</td>\n",
       "      <td>8.54</td>\n",
       "      <td>10.25</td>\n",
       "      <td>13.29</td>\n",
       "      <td>NaN</td>\n",
       "      <td>12.21</td>\n",
       "      <td>20.62</td>\n",
       "      <td>NaN</td>\n",
       "      <td>1961-03-01</td>\n",
       "      <td>3</td>\n",
       "      <td>1961</td>\n",
       "      <td>1</td>\n",
       "    </tr>\n",
       "    <tr>\n",
       "      <th>1961-04-01</th>\n",
       "      <td>8.38</td>\n",
       "      <td>6.34</td>\n",
       "      <td>8.33</td>\n",
       "      <td>6.75</td>\n",
       "      <td>9.33</td>\n",
       "      <td>9.54</td>\n",
       "      <td>11.67</td>\n",
       "      <td>8.21</td>\n",
       "      <td>11.21</td>\n",
       "      <td>6.46</td>\n",
       "      <td>11.96</td>\n",
       "      <td>7.17</td>\n",
       "      <td>1961-04-01</td>\n",
       "      <td>4</td>\n",
       "      <td>1961</td>\n",
       "      <td>1</td>\n",
       "    </tr>\n",
       "    <tr>\n",
       "      <th>1961-05-01</th>\n",
       "      <td>15.87</td>\n",
       "      <td>13.88</td>\n",
       "      <td>15.37</td>\n",
       "      <td>9.79</td>\n",
       "      <td>13.46</td>\n",
       "      <td>10.17</td>\n",
       "      <td>9.96</td>\n",
       "      <td>14.04</td>\n",
       "      <td>9.75</td>\n",
       "      <td>9.92</td>\n",
       "      <td>18.63</td>\n",
       "      <td>11.12</td>\n",
       "      <td>1961-05-01</td>\n",
       "      <td>5</td>\n",
       "      <td>1961</td>\n",
       "      <td>1</td>\n",
       "    </tr>\n",
       "    <tr>\n",
       "      <th>1961-06-01</th>\n",
       "      <td>15.92</td>\n",
       "      <td>9.59</td>\n",
       "      <td>12.04</td>\n",
       "      <td>8.79</td>\n",
       "      <td>11.54</td>\n",
       "      <td>6.04</td>\n",
       "      <td>9.75</td>\n",
       "      <td>8.29</td>\n",
       "      <td>9.33</td>\n",
       "      <td>10.34</td>\n",
       "      <td>10.67</td>\n",
       "      <td>12.12</td>\n",
       "      <td>1961-06-01</td>\n",
       "      <td>6</td>\n",
       "      <td>1961</td>\n",
       "      <td>1</td>\n",
       "    </tr>\n",
       "    <tr>\n",
       "      <th>1961-07-01</th>\n",
       "      <td>7.21</td>\n",
       "      <td>6.83</td>\n",
       "      <td>7.71</td>\n",
       "      <td>4.42</td>\n",
       "      <td>8.46</td>\n",
       "      <td>4.79</td>\n",
       "      <td>6.71</td>\n",
       "      <td>6.00</td>\n",
       "      <td>5.79</td>\n",
       "      <td>7.96</td>\n",
       "      <td>6.96</td>\n",
       "      <td>8.71</td>\n",
       "      <td>1961-07-01</td>\n",
       "      <td>7</td>\n",
       "      <td>1961</td>\n",
       "      <td>1</td>\n",
       "    </tr>\n",
       "    <tr>\n",
       "      <th>1961-08-01</th>\n",
       "      <td>9.59</td>\n",
       "      <td>5.09</td>\n",
       "      <td>5.54</td>\n",
       "      <td>4.63</td>\n",
       "      <td>8.29</td>\n",
       "      <td>5.25</td>\n",
       "      <td>4.21</td>\n",
       "      <td>5.25</td>\n",
       "      <td>5.37</td>\n",
       "      <td>5.41</td>\n",
       "      <td>8.38</td>\n",
       "      <td>9.08</td>\n",
       "      <td>1961-08-01</td>\n",
       "      <td>8</td>\n",
       "      <td>1961</td>\n",
       "      <td>1</td>\n",
       "    </tr>\n",
       "    <tr>\n",
       "      <th>1961-09-01</th>\n",
       "      <td>5.58</td>\n",
       "      <td>1.13</td>\n",
       "      <td>4.96</td>\n",
       "      <td>3.04</td>\n",
       "      <td>4.25</td>\n",
       "      <td>2.25</td>\n",
       "      <td>4.63</td>\n",
       "      <td>2.71</td>\n",
       "      <td>3.67</td>\n",
       "      <td>6.00</td>\n",
       "      <td>4.79</td>\n",
       "      <td>5.41</td>\n",
       "      <td>1961-09-01</td>\n",
       "      <td>9</td>\n",
       "      <td>1961</td>\n",
       "      <td>1</td>\n",
       "    </tr>\n",
       "    <tr>\n",
       "      <th>1961-10-01</th>\n",
       "      <td>14.25</td>\n",
       "      <td>12.87</td>\n",
       "      <td>7.87</td>\n",
       "      <td>8.00</td>\n",
       "      <td>13.00</td>\n",
       "      <td>7.75</td>\n",
       "      <td>5.83</td>\n",
       "      <td>9.00</td>\n",
       "      <td>7.08</td>\n",
       "      <td>5.29</td>\n",
       "      <td>11.79</td>\n",
       "      <td>4.04</td>\n",
       "      <td>1961-10-01</td>\n",
       "      <td>10</td>\n",
       "      <td>1961</td>\n",
       "      <td>1</td>\n",
       "    </tr>\n",
       "    <tr>\n",
       "      <th>1961-11-01</th>\n",
       "      <td>13.21</td>\n",
       "      <td>13.13</td>\n",
       "      <td>14.33</td>\n",
       "      <td>8.54</td>\n",
       "      <td>12.17</td>\n",
       "      <td>10.21</td>\n",
       "      <td>13.08</td>\n",
       "      <td>12.17</td>\n",
       "      <td>10.92</td>\n",
       "      <td>13.54</td>\n",
       "      <td>20.17</td>\n",
       "      <td>20.04</td>\n",
       "      <td>1961-11-01</td>\n",
       "      <td>11</td>\n",
       "      <td>1961</td>\n",
       "      <td>1</td>\n",
       "    </tr>\n",
       "    <tr>\n",
       "      <th>1961-12-01</th>\n",
       "      <td>9.67</td>\n",
       "      <td>7.75</td>\n",
       "      <td>8.00</td>\n",
       "      <td>3.96</td>\n",
       "      <td>6.00</td>\n",
       "      <td>2.75</td>\n",
       "      <td>7.25</td>\n",
       "      <td>2.50</td>\n",
       "      <td>5.58</td>\n",
       "      <td>5.58</td>\n",
       "      <td>7.79</td>\n",
       "      <td>11.17</td>\n",
       "      <td>1961-12-01</td>\n",
       "      <td>12</td>\n",
       "      <td>1961</td>\n",
       "      <td>1</td>\n",
       "    </tr>\n",
       "    <tr>\n",
       "      <th>1962-01-01</th>\n",
       "      <td>9.29</td>\n",
       "      <td>3.42</td>\n",
       "      <td>11.54</td>\n",
       "      <td>3.50</td>\n",
       "      <td>2.21</td>\n",
       "      <td>1.96</td>\n",
       "      <td>10.41</td>\n",
       "      <td>2.79</td>\n",
       "      <td>3.54</td>\n",
       "      <td>5.17</td>\n",
       "      <td>4.38</td>\n",
       "      <td>7.92</td>\n",
       "      <td>1962-01-01</td>\n",
       "      <td>1</td>\n",
       "      <td>1962</td>\n",
       "      <td>1</td>\n",
       "    </tr>\n",
       "    <tr>\n",
       "      <th>1962-02-01</th>\n",
       "      <td>19.12</td>\n",
       "      <td>13.96</td>\n",
       "      <td>12.21</td>\n",
       "      <td>10.58</td>\n",
       "      <td>15.71</td>\n",
       "      <td>10.63</td>\n",
       "      <td>15.71</td>\n",
       "      <td>11.08</td>\n",
       "      <td>13.17</td>\n",
       "      <td>12.62</td>\n",
       "      <td>17.67</td>\n",
       "      <td>22.71</td>\n",
       "      <td>1962-02-01</td>\n",
       "      <td>2</td>\n",
       "      <td>1962</td>\n",
       "      <td>1</td>\n",
       "    </tr>\n",
       "    <tr>\n",
       "      <th>1962-03-01</th>\n",
       "      <td>8.21</td>\n",
       "      <td>4.83</td>\n",
       "      <td>9.00</td>\n",
       "      <td>4.83</td>\n",
       "      <td>6.00</td>\n",
       "      <td>2.21</td>\n",
       "      <td>7.96</td>\n",
       "      <td>1.87</td>\n",
       "      <td>4.08</td>\n",
       "      <td>3.92</td>\n",
       "      <td>4.08</td>\n",
       "      <td>5.41</td>\n",
       "      <td>1962-03-01</td>\n",
       "      <td>3</td>\n",
       "      <td>1962</td>\n",
       "      <td>1</td>\n",
       "    </tr>\n",
       "    <tr>\n",
       "      <th>1962-04-01</th>\n",
       "      <td>14.33</td>\n",
       "      <td>12.25</td>\n",
       "      <td>11.87</td>\n",
       "      <td>10.37</td>\n",
       "      <td>14.92</td>\n",
       "      <td>11.00</td>\n",
       "      <td>19.79</td>\n",
       "      <td>11.67</td>\n",
       "      <td>14.09</td>\n",
       "      <td>15.46</td>\n",
       "      <td>16.62</td>\n",
       "      <td>23.58</td>\n",
       "      <td>1962-04-01</td>\n",
       "      <td>4</td>\n",
       "      <td>1962</td>\n",
       "      <td>1</td>\n",
       "    </tr>\n",
       "    <tr>\n",
       "      <th>1962-05-01</th>\n",
       "      <td>9.62</td>\n",
       "      <td>9.54</td>\n",
       "      <td>3.58</td>\n",
       "      <td>3.33</td>\n",
       "      <td>8.75</td>\n",
       "      <td>3.75</td>\n",
       "      <td>2.25</td>\n",
       "      <td>2.58</td>\n",
       "      <td>1.67</td>\n",
       "      <td>2.37</td>\n",
       "      <td>7.29</td>\n",
       "      <td>3.25</td>\n",
       "      <td>1962-05-01</td>\n",
       "      <td>5</td>\n",
       "      <td>1962</td>\n",
       "      <td>1</td>\n",
       "    </tr>\n",
       "    <tr>\n",
       "      <th>1962-06-01</th>\n",
       "      <td>5.88</td>\n",
       "      <td>6.29</td>\n",
       "      <td>8.67</td>\n",
       "      <td>5.21</td>\n",
       "      <td>5.00</td>\n",
       "      <td>4.25</td>\n",
       "      <td>5.91</td>\n",
       "      <td>5.41</td>\n",
       "      <td>4.79</td>\n",
       "      <td>9.25</td>\n",
       "      <td>5.25</td>\n",
       "      <td>10.71</td>\n",
       "      <td>1962-06-01</td>\n",
       "      <td>6</td>\n",
       "      <td>1962</td>\n",
       "      <td>1</td>\n",
       "    </tr>\n",
       "    <tr>\n",
       "      <th>1962-07-01</th>\n",
       "      <td>8.67</td>\n",
       "      <td>4.17</td>\n",
       "      <td>6.92</td>\n",
       "      <td>6.71</td>\n",
       "      <td>8.17</td>\n",
       "      <td>5.66</td>\n",
       "      <td>11.17</td>\n",
       "      <td>9.38</td>\n",
       "      <td>8.75</td>\n",
       "      <td>11.12</td>\n",
       "      <td>10.25</td>\n",
       "      <td>17.08</td>\n",
       "      <td>1962-07-01</td>\n",
       "      <td>7</td>\n",
       "      <td>1962</td>\n",
       "      <td>1</td>\n",
       "    </tr>\n",
       "    <tr>\n",
       "      <th>1962-08-01</th>\n",
       "      <td>4.58</td>\n",
       "      <td>5.37</td>\n",
       "      <td>6.04</td>\n",
       "      <td>2.29</td>\n",
       "      <td>7.87</td>\n",
       "      <td>3.71</td>\n",
       "      <td>4.46</td>\n",
       "      <td>2.58</td>\n",
       "      <td>4.00</td>\n",
       "      <td>4.79</td>\n",
       "      <td>7.21</td>\n",
       "      <td>7.46</td>\n",
       "      <td>1962-08-01</td>\n",
       "      <td>8</td>\n",
       "      <td>1962</td>\n",
       "      <td>1</td>\n",
       "    </tr>\n",
       "    <tr>\n",
       "      <th>1962-09-01</th>\n",
       "      <td>10.00</td>\n",
       "      <td>12.08</td>\n",
       "      <td>10.96</td>\n",
       "      <td>9.25</td>\n",
       "      <td>9.29</td>\n",
       "      <td>7.62</td>\n",
       "      <td>7.41</td>\n",
       "      <td>8.75</td>\n",
       "      <td>7.67</td>\n",
       "      <td>9.62</td>\n",
       "      <td>14.58</td>\n",
       "      <td>11.92</td>\n",
       "      <td>1962-09-01</td>\n",
       "      <td>9</td>\n",
       "      <td>1962</td>\n",
       "      <td>1</td>\n",
       "    </tr>\n",
       "    <tr>\n",
       "      <th>1962-10-01</th>\n",
       "      <td>14.58</td>\n",
       "      <td>7.83</td>\n",
       "      <td>19.21</td>\n",
       "      <td>10.08</td>\n",
       "      <td>11.54</td>\n",
       "      <td>8.38</td>\n",
       "      <td>13.29</td>\n",
       "      <td>10.63</td>\n",
       "      <td>8.21</td>\n",
       "      <td>12.92</td>\n",
       "      <td>18.05</td>\n",
       "      <td>18.12</td>\n",
       "      <td>1962-10-01</td>\n",
       "      <td>10</td>\n",
       "      <td>1962</td>\n",
       "      <td>1</td>\n",
       "    </tr>\n",
       "    <tr>\n",
       "      <th>1962-11-01</th>\n",
       "      <td>16.88</td>\n",
       "      <td>13.25</td>\n",
       "      <td>16.00</td>\n",
       "      <td>8.96</td>\n",
       "      <td>13.46</td>\n",
       "      <td>11.46</td>\n",
       "      <td>10.46</td>\n",
       "      <td>10.17</td>\n",
       "      <td>10.37</td>\n",
       "      <td>13.21</td>\n",
       "      <td>14.83</td>\n",
       "      <td>15.16</td>\n",
       "      <td>1962-11-01</td>\n",
       "      <td>11</td>\n",
       "      <td>1962</td>\n",
       "      <td>1</td>\n",
       "    </tr>\n",
       "    <tr>\n",
       "      <th>1962-12-01</th>\n",
       "      <td>18.38</td>\n",
       "      <td>15.41</td>\n",
       "      <td>11.75</td>\n",
       "      <td>6.79</td>\n",
       "      <td>12.21</td>\n",
       "      <td>8.04</td>\n",
       "      <td>8.42</td>\n",
       "      <td>10.83</td>\n",
       "      <td>5.66</td>\n",
       "      <td>9.08</td>\n",
       "      <td>11.50</td>\n",
       "      <td>11.50</td>\n",
       "      <td>1962-12-01</td>\n",
       "      <td>12</td>\n",
       "      <td>1962</td>\n",
       "      <td>1</td>\n",
       "    </tr>\n",
       "    <tr>\n",
       "      <th>1963-01-01</th>\n",
       "      <td>15.59</td>\n",
       "      <td>13.62</td>\n",
       "      <td>19.79</td>\n",
       "      <td>8.38</td>\n",
       "      <td>12.25</td>\n",
       "      <td>10.00</td>\n",
       "      <td>23.45</td>\n",
       "      <td>15.71</td>\n",
       "      <td>13.59</td>\n",
       "      <td>14.37</td>\n",
       "      <td>17.58</td>\n",
       "      <td>34.13</td>\n",
       "      <td>1963-01-01</td>\n",
       "      <td>1</td>\n",
       "      <td>1963</td>\n",
       "      <td>1</td>\n",
       "    </tr>\n",
       "    <tr>\n",
       "      <th>1963-02-01</th>\n",
       "      <td>15.41</td>\n",
       "      <td>7.62</td>\n",
       "      <td>24.67</td>\n",
       "      <td>11.42</td>\n",
       "      <td>9.21</td>\n",
       "      <td>8.17</td>\n",
       "      <td>14.04</td>\n",
       "      <td>7.54</td>\n",
       "      <td>7.54</td>\n",
       "      <td>10.08</td>\n",
       "      <td>10.17</td>\n",
       "      <td>17.67</td>\n",
       "      <td>1963-02-01</td>\n",
       "      <td>2</td>\n",
       "      <td>1963</td>\n",
       "      <td>1</td>\n",
       "    </tr>\n",
       "    <tr>\n",
       "      <th>1963-03-01</th>\n",
       "      <td>16.75</td>\n",
       "      <td>19.67</td>\n",
       "      <td>17.67</td>\n",
       "      <td>8.87</td>\n",
       "      <td>19.08</td>\n",
       "      <td>15.37</td>\n",
       "      <td>16.21</td>\n",
       "      <td>14.29</td>\n",
       "      <td>11.29</td>\n",
       "      <td>9.21</td>\n",
       "      <td>19.92</td>\n",
       "      <td>19.79</td>\n",
       "      <td>1963-03-01</td>\n",
       "      <td>3</td>\n",
       "      <td>1963</td>\n",
       "      <td>1</td>\n",
       "    </tr>\n",
       "    <tr>\n",
       "      <th>1963-04-01</th>\n",
       "      <td>10.54</td>\n",
       "      <td>9.59</td>\n",
       "      <td>12.46</td>\n",
       "      <td>7.33</td>\n",
       "      <td>9.46</td>\n",
       "      <td>9.59</td>\n",
       "      <td>11.79</td>\n",
       "      <td>11.87</td>\n",
       "      <td>9.79</td>\n",
       "      <td>10.71</td>\n",
       "      <td>13.37</td>\n",
       "      <td>18.21</td>\n",
       "      <td>1963-04-01</td>\n",
       "      <td>4</td>\n",
       "      <td>1963</td>\n",
       "      <td>1</td>\n",
       "    </tr>\n",
       "    <tr>\n",
       "      <th>1963-05-01</th>\n",
       "      <td>18.79</td>\n",
       "      <td>14.17</td>\n",
       "      <td>13.59</td>\n",
       "      <td>11.63</td>\n",
       "      <td>14.17</td>\n",
       "      <td>11.96</td>\n",
       "      <td>14.46</td>\n",
       "      <td>12.46</td>\n",
       "      <td>12.87</td>\n",
       "      <td>13.96</td>\n",
       "      <td>15.29</td>\n",
       "      <td>21.62</td>\n",
       "      <td>1963-05-01</td>\n",
       "      <td>5</td>\n",
       "      <td>1963</td>\n",
       "      <td>1</td>\n",
       "    </tr>\n",
       "    <tr>\n",
       "      <th>1963-06-01</th>\n",
       "      <td>13.37</td>\n",
       "      <td>6.87</td>\n",
       "      <td>12.00</td>\n",
       "      <td>8.50</td>\n",
       "      <td>10.04</td>\n",
       "      <td>9.42</td>\n",
       "      <td>10.92</td>\n",
       "      <td>12.96</td>\n",
       "      <td>11.79</td>\n",
       "      <td>11.04</td>\n",
       "      <td>10.92</td>\n",
       "      <td>13.67</td>\n",
       "      <td>1963-06-01</td>\n",
       "      <td>6</td>\n",
       "      <td>1963</td>\n",
       "      <td>1</td>\n",
       "    </tr>\n",
       "    <tr>\n",
       "      <th>...</th>\n",
       "      <td>...</td>\n",
       "      <td>...</td>\n",
       "      <td>...</td>\n",
       "      <td>...</td>\n",
       "      <td>...</td>\n",
       "      <td>...</td>\n",
       "      <td>...</td>\n",
       "      <td>...</td>\n",
       "      <td>...</td>\n",
       "      <td>...</td>\n",
       "      <td>...</td>\n",
       "      <td>...</td>\n",
       "      <td>...</td>\n",
       "      <td>...</td>\n",
       "      <td>...</td>\n",
       "      <td>...</td>\n",
       "    </tr>\n",
       "    <tr>\n",
       "      <th>1976-07-01</th>\n",
       "      <td>8.50</td>\n",
       "      <td>1.75</td>\n",
       "      <td>6.58</td>\n",
       "      <td>2.13</td>\n",
       "      <td>2.75</td>\n",
       "      <td>2.21</td>\n",
       "      <td>5.37</td>\n",
       "      <td>2.04</td>\n",
       "      <td>5.88</td>\n",
       "      <td>4.50</td>\n",
       "      <td>4.96</td>\n",
       "      <td>10.63</td>\n",
       "      <td>1976-07-01</td>\n",
       "      <td>7</td>\n",
       "      <td>1976</td>\n",
       "      <td>1</td>\n",
       "    </tr>\n",
       "    <tr>\n",
       "      <th>1976-08-01</th>\n",
       "      <td>13.00</td>\n",
       "      <td>8.38</td>\n",
       "      <td>8.63</td>\n",
       "      <td>5.83</td>\n",
       "      <td>12.92</td>\n",
       "      <td>8.25</td>\n",
       "      <td>13.00</td>\n",
       "      <td>9.42</td>\n",
       "      <td>10.58</td>\n",
       "      <td>11.34</td>\n",
       "      <td>14.21</td>\n",
       "      <td>20.25</td>\n",
       "      <td>1976-08-01</td>\n",
       "      <td>8</td>\n",
       "      <td>1976</td>\n",
       "      <td>1</td>\n",
       "    </tr>\n",
       "    <tr>\n",
       "      <th>1976-09-01</th>\n",
       "      <td>11.87</td>\n",
       "      <td>11.00</td>\n",
       "      <td>7.38</td>\n",
       "      <td>6.87</td>\n",
       "      <td>7.75</td>\n",
       "      <td>8.33</td>\n",
       "      <td>10.34</td>\n",
       "      <td>6.46</td>\n",
       "      <td>10.17</td>\n",
       "      <td>9.29</td>\n",
       "      <td>12.75</td>\n",
       "      <td>19.55</td>\n",
       "      <td>1976-09-01</td>\n",
       "      <td>9</td>\n",
       "      <td>1976</td>\n",
       "      <td>1</td>\n",
       "    </tr>\n",
       "    <tr>\n",
       "      <th>1976-10-01</th>\n",
       "      <td>10.96</td>\n",
       "      <td>6.71</td>\n",
       "      <td>10.41</td>\n",
       "      <td>4.63</td>\n",
       "      <td>7.58</td>\n",
       "      <td>5.04</td>\n",
       "      <td>5.04</td>\n",
       "      <td>5.54</td>\n",
       "      <td>6.50</td>\n",
       "      <td>3.92</td>\n",
       "      <td>6.79</td>\n",
       "      <td>5.00</td>\n",
       "      <td>1976-10-01</td>\n",
       "      <td>10</td>\n",
       "      <td>1976</td>\n",
       "      <td>1</td>\n",
       "    </tr>\n",
       "    <tr>\n",
       "      <th>1976-11-01</th>\n",
       "      <td>13.96</td>\n",
       "      <td>15.67</td>\n",
       "      <td>10.29</td>\n",
       "      <td>6.46</td>\n",
       "      <td>12.79</td>\n",
       "      <td>9.08</td>\n",
       "      <td>10.00</td>\n",
       "      <td>9.67</td>\n",
       "      <td>10.21</td>\n",
       "      <td>11.63</td>\n",
       "      <td>23.09</td>\n",
       "      <td>21.96</td>\n",
       "      <td>1976-11-01</td>\n",
       "      <td>11</td>\n",
       "      <td>1976</td>\n",
       "      <td>1</td>\n",
       "    </tr>\n",
       "    <tr>\n",
       "      <th>1976-12-01</th>\n",
       "      <td>13.46</td>\n",
       "      <td>16.42</td>\n",
       "      <td>9.21</td>\n",
       "      <td>4.54</td>\n",
       "      <td>10.75</td>\n",
       "      <td>8.67</td>\n",
       "      <td>10.88</td>\n",
       "      <td>4.83</td>\n",
       "      <td>8.79</td>\n",
       "      <td>5.91</td>\n",
       "      <td>8.83</td>\n",
       "      <td>13.67</td>\n",
       "      <td>1976-12-01</td>\n",
       "      <td>12</td>\n",
       "      <td>1976</td>\n",
       "      <td>1</td>\n",
       "    </tr>\n",
       "    <tr>\n",
       "      <th>1977-01-01</th>\n",
       "      <td>20.04</td>\n",
       "      <td>11.92</td>\n",
       "      <td>20.25</td>\n",
       "      <td>9.13</td>\n",
       "      <td>9.29</td>\n",
       "      <td>8.04</td>\n",
       "      <td>10.75</td>\n",
       "      <td>5.88</td>\n",
       "      <td>9.00</td>\n",
       "      <td>9.00</td>\n",
       "      <td>14.88</td>\n",
       "      <td>25.70</td>\n",
       "      <td>1977-01-01</td>\n",
       "      <td>1</td>\n",
       "      <td>1977</td>\n",
       "      <td>1</td>\n",
       "    </tr>\n",
       "    <tr>\n",
       "      <th>1977-02-01</th>\n",
       "      <td>11.83</td>\n",
       "      <td>9.71</td>\n",
       "      <td>11.00</td>\n",
       "      <td>4.25</td>\n",
       "      <td>8.58</td>\n",
       "      <td>8.71</td>\n",
       "      <td>6.17</td>\n",
       "      <td>5.66</td>\n",
       "      <td>8.29</td>\n",
       "      <td>7.58</td>\n",
       "      <td>11.71</td>\n",
       "      <td>16.50</td>\n",
       "      <td>1977-02-01</td>\n",
       "      <td>2</td>\n",
       "      <td>1977</td>\n",
       "      <td>1</td>\n",
       "    </tr>\n",
       "    <tr>\n",
       "      <th>1977-03-01</th>\n",
       "      <td>8.63</td>\n",
       "      <td>14.83</td>\n",
       "      <td>10.29</td>\n",
       "      <td>3.75</td>\n",
       "      <td>6.63</td>\n",
       "      <td>8.79</td>\n",
       "      <td>5.00</td>\n",
       "      <td>8.12</td>\n",
       "      <td>7.87</td>\n",
       "      <td>6.42</td>\n",
       "      <td>13.54</td>\n",
       "      <td>13.67</td>\n",
       "      <td>1977-03-01</td>\n",
       "      <td>3</td>\n",
       "      <td>1977</td>\n",
       "      <td>1</td>\n",
       "    </tr>\n",
       "    <tr>\n",
       "      <th>1977-04-01</th>\n",
       "      <td>21.67</td>\n",
       "      <td>16.00</td>\n",
       "      <td>17.33</td>\n",
       "      <td>13.59</td>\n",
       "      <td>20.83</td>\n",
       "      <td>15.96</td>\n",
       "      <td>25.62</td>\n",
       "      <td>17.62</td>\n",
       "      <td>19.41</td>\n",
       "      <td>20.67</td>\n",
       "      <td>24.37</td>\n",
       "      <td>30.09</td>\n",
       "      <td>1977-04-01</td>\n",
       "      <td>4</td>\n",
       "      <td>1977</td>\n",
       "      <td>1</td>\n",
       "    </tr>\n",
       "    <tr>\n",
       "      <th>1977-05-01</th>\n",
       "      <td>6.42</td>\n",
       "      <td>7.12</td>\n",
       "      <td>8.67</td>\n",
       "      <td>3.58</td>\n",
       "      <td>4.58</td>\n",
       "      <td>4.00</td>\n",
       "      <td>6.75</td>\n",
       "      <td>6.13</td>\n",
       "      <td>3.33</td>\n",
       "      <td>4.50</td>\n",
       "      <td>19.21</td>\n",
       "      <td>12.38</td>\n",
       "      <td>1977-05-01</td>\n",
       "      <td>5</td>\n",
       "      <td>1977</td>\n",
       "      <td>1</td>\n",
       "    </tr>\n",
       "    <tr>\n",
       "      <th>1977-06-01</th>\n",
       "      <td>7.08</td>\n",
       "      <td>5.25</td>\n",
       "      <td>9.71</td>\n",
       "      <td>2.83</td>\n",
       "      <td>2.21</td>\n",
       "      <td>3.50</td>\n",
       "      <td>5.29</td>\n",
       "      <td>1.42</td>\n",
       "      <td>2.00</td>\n",
       "      <td>0.92</td>\n",
       "      <td>5.21</td>\n",
       "      <td>5.63</td>\n",
       "      <td>1977-06-01</td>\n",
       "      <td>6</td>\n",
       "      <td>1977</td>\n",
       "      <td>1</td>\n",
       "    </tr>\n",
       "    <tr>\n",
       "      <th>1977-07-01</th>\n",
       "      <td>15.41</td>\n",
       "      <td>16.29</td>\n",
       "      <td>17.08</td>\n",
       "      <td>6.25</td>\n",
       "      <td>11.83</td>\n",
       "      <td>11.83</td>\n",
       "      <td>12.29</td>\n",
       "      <td>10.58</td>\n",
       "      <td>10.41</td>\n",
       "      <td>7.21</td>\n",
       "      <td>17.37</td>\n",
       "      <td>7.83</td>\n",
       "      <td>1977-07-01</td>\n",
       "      <td>7</td>\n",
       "      <td>1977</td>\n",
       "      <td>1</td>\n",
       "    </tr>\n",
       "    <tr>\n",
       "      <th>1977-08-01</th>\n",
       "      <td>4.33</td>\n",
       "      <td>2.96</td>\n",
       "      <td>4.42</td>\n",
       "      <td>2.33</td>\n",
       "      <td>0.96</td>\n",
       "      <td>1.08</td>\n",
       "      <td>4.96</td>\n",
       "      <td>1.87</td>\n",
       "      <td>2.33</td>\n",
       "      <td>2.04</td>\n",
       "      <td>10.50</td>\n",
       "      <td>9.83</td>\n",
       "      <td>1977-08-01</td>\n",
       "      <td>8</td>\n",
       "      <td>1977</td>\n",
       "      <td>1</td>\n",
       "    </tr>\n",
       "    <tr>\n",
       "      <th>1977-09-01</th>\n",
       "      <td>17.37</td>\n",
       "      <td>16.33</td>\n",
       "      <td>16.83</td>\n",
       "      <td>8.58</td>\n",
       "      <td>14.46</td>\n",
       "      <td>11.83</td>\n",
       "      <td>15.09</td>\n",
       "      <td>13.92</td>\n",
       "      <td>13.29</td>\n",
       "      <td>13.88</td>\n",
       "      <td>23.29</td>\n",
       "      <td>25.17</td>\n",
       "      <td>1977-09-01</td>\n",
       "      <td>9</td>\n",
       "      <td>1977</td>\n",
       "      <td>1</td>\n",
       "    </tr>\n",
       "    <tr>\n",
       "      <th>1977-10-01</th>\n",
       "      <td>16.75</td>\n",
       "      <td>15.34</td>\n",
       "      <td>12.25</td>\n",
       "      <td>9.42</td>\n",
       "      <td>16.38</td>\n",
       "      <td>11.38</td>\n",
       "      <td>18.50</td>\n",
       "      <td>13.92</td>\n",
       "      <td>14.09</td>\n",
       "      <td>14.46</td>\n",
       "      <td>22.34</td>\n",
       "      <td>29.67</td>\n",
       "      <td>1977-10-01</td>\n",
       "      <td>10</td>\n",
       "      <td>1977</td>\n",
       "      <td>1</td>\n",
       "    </tr>\n",
       "    <tr>\n",
       "      <th>1977-11-01</th>\n",
       "      <td>16.71</td>\n",
       "      <td>11.54</td>\n",
       "      <td>12.17</td>\n",
       "      <td>4.17</td>\n",
       "      <td>8.54</td>\n",
       "      <td>7.17</td>\n",
       "      <td>11.12</td>\n",
       "      <td>6.46</td>\n",
       "      <td>8.25</td>\n",
       "      <td>6.21</td>\n",
       "      <td>11.04</td>\n",
       "      <td>15.63</td>\n",
       "      <td>1977-11-01</td>\n",
       "      <td>11</td>\n",
       "      <td>1977</td>\n",
       "      <td>1</td>\n",
       "    </tr>\n",
       "    <tr>\n",
       "      <th>1977-12-01</th>\n",
       "      <td>13.37</td>\n",
       "      <td>10.92</td>\n",
       "      <td>12.42</td>\n",
       "      <td>2.37</td>\n",
       "      <td>5.79</td>\n",
       "      <td>6.13</td>\n",
       "      <td>8.96</td>\n",
       "      <td>7.38</td>\n",
       "      <td>6.29</td>\n",
       "      <td>5.71</td>\n",
       "      <td>8.54</td>\n",
       "      <td>12.42</td>\n",
       "      <td>1977-12-01</td>\n",
       "      <td>12</td>\n",
       "      <td>1977</td>\n",
       "      <td>1</td>\n",
       "    </tr>\n",
       "    <tr>\n",
       "      <th>1978-01-01</th>\n",
       "      <td>8.33</td>\n",
       "      <td>7.12</td>\n",
       "      <td>7.71</td>\n",
       "      <td>3.54</td>\n",
       "      <td>8.50</td>\n",
       "      <td>7.50</td>\n",
       "      <td>14.71</td>\n",
       "      <td>10.00</td>\n",
       "      <td>11.83</td>\n",
       "      <td>10.00</td>\n",
       "      <td>15.09</td>\n",
       "      <td>20.46</td>\n",
       "      <td>1978-01-01</td>\n",
       "      <td>1</td>\n",
       "      <td>1978</td>\n",
       "      <td>1</td>\n",
       "    </tr>\n",
       "    <tr>\n",
       "      <th>1978-02-01</th>\n",
       "      <td>27.25</td>\n",
       "      <td>24.21</td>\n",
       "      <td>18.16</td>\n",
       "      <td>17.46</td>\n",
       "      <td>27.54</td>\n",
       "      <td>18.05</td>\n",
       "      <td>20.96</td>\n",
       "      <td>25.04</td>\n",
       "      <td>20.04</td>\n",
       "      <td>17.50</td>\n",
       "      <td>27.71</td>\n",
       "      <td>21.12</td>\n",
       "      <td>1978-02-01</td>\n",
       "      <td>2</td>\n",
       "      <td>1978</td>\n",
       "      <td>1</td>\n",
       "    </tr>\n",
       "    <tr>\n",
       "      <th>1978-03-01</th>\n",
       "      <td>15.04</td>\n",
       "      <td>6.21</td>\n",
       "      <td>16.04</td>\n",
       "      <td>7.87</td>\n",
       "      <td>6.42</td>\n",
       "      <td>6.67</td>\n",
       "      <td>12.29</td>\n",
       "      <td>8.00</td>\n",
       "      <td>10.58</td>\n",
       "      <td>9.33</td>\n",
       "      <td>5.41</td>\n",
       "      <td>17.00</td>\n",
       "      <td>1978-03-01</td>\n",
       "      <td>3</td>\n",
       "      <td>1978</td>\n",
       "      <td>1</td>\n",
       "    </tr>\n",
       "    <tr>\n",
       "      <th>1978-04-01</th>\n",
       "      <td>3.42</td>\n",
       "      <td>7.58</td>\n",
       "      <td>2.71</td>\n",
       "      <td>1.38</td>\n",
       "      <td>3.46</td>\n",
       "      <td>2.08</td>\n",
       "      <td>2.67</td>\n",
       "      <td>4.75</td>\n",
       "      <td>4.83</td>\n",
       "      <td>1.67</td>\n",
       "      <td>7.33</td>\n",
       "      <td>13.67</td>\n",
       "      <td>1978-04-01</td>\n",
       "      <td>4</td>\n",
       "      <td>1978</td>\n",
       "      <td>1</td>\n",
       "    </tr>\n",
       "    <tr>\n",
       "      <th>1978-05-01</th>\n",
       "      <td>10.54</td>\n",
       "      <td>12.21</td>\n",
       "      <td>9.08</td>\n",
       "      <td>5.29</td>\n",
       "      <td>11.00</td>\n",
       "      <td>10.08</td>\n",
       "      <td>11.17</td>\n",
       "      <td>13.75</td>\n",
       "      <td>11.87</td>\n",
       "      <td>11.79</td>\n",
       "      <td>12.87</td>\n",
       "      <td>27.16</td>\n",
       "      <td>1978-05-01</td>\n",
       "      <td>5</td>\n",
       "      <td>1978</td>\n",
       "      <td>1</td>\n",
       "    </tr>\n",
       "    <tr>\n",
       "      <th>1978-06-01</th>\n",
       "      <td>10.37</td>\n",
       "      <td>11.42</td>\n",
       "      <td>6.46</td>\n",
       "      <td>6.04</td>\n",
       "      <td>11.25</td>\n",
       "      <td>7.50</td>\n",
       "      <td>6.46</td>\n",
       "      <td>5.96</td>\n",
       "      <td>7.79</td>\n",
       "      <td>5.46</td>\n",
       "      <td>5.50</td>\n",
       "      <td>10.41</td>\n",
       "      <td>1978-06-01</td>\n",
       "      <td>6</td>\n",
       "      <td>1978</td>\n",
       "      <td>1</td>\n",
       "    </tr>\n",
       "    <tr>\n",
       "      <th>1978-07-01</th>\n",
       "      <td>12.46</td>\n",
       "      <td>10.63</td>\n",
       "      <td>11.17</td>\n",
       "      <td>6.75</td>\n",
       "      <td>12.92</td>\n",
       "      <td>9.04</td>\n",
       "      <td>12.42</td>\n",
       "      <td>9.62</td>\n",
       "      <td>12.08</td>\n",
       "      <td>8.04</td>\n",
       "      <td>14.04</td>\n",
       "      <td>16.17</td>\n",
       "      <td>1978-07-01</td>\n",
       "      <td>7</td>\n",
       "      <td>1978</td>\n",
       "      <td>1</td>\n",
       "    </tr>\n",
       "    <tr>\n",
       "      <th>1978-08-01</th>\n",
       "      <td>19.33</td>\n",
       "      <td>15.09</td>\n",
       "      <td>20.17</td>\n",
       "      <td>8.83</td>\n",
       "      <td>12.62</td>\n",
       "      <td>10.41</td>\n",
       "      <td>9.33</td>\n",
       "      <td>12.33</td>\n",
       "      <td>9.50</td>\n",
       "      <td>9.92</td>\n",
       "      <td>15.75</td>\n",
       "      <td>18.00</td>\n",
       "      <td>1978-08-01</td>\n",
       "      <td>8</td>\n",
       "      <td>1978</td>\n",
       "      <td>1</td>\n",
       "    </tr>\n",
       "    <tr>\n",
       "      <th>1978-09-01</th>\n",
       "      <td>8.42</td>\n",
       "      <td>6.13</td>\n",
       "      <td>9.87</td>\n",
       "      <td>5.25</td>\n",
       "      <td>3.21</td>\n",
       "      <td>5.71</td>\n",
       "      <td>7.25</td>\n",
       "      <td>3.50</td>\n",
       "      <td>7.33</td>\n",
       "      <td>6.50</td>\n",
       "      <td>7.62</td>\n",
       "      <td>15.96</td>\n",
       "      <td>1978-09-01</td>\n",
       "      <td>9</td>\n",
       "      <td>1978</td>\n",
       "      <td>1</td>\n",
       "    </tr>\n",
       "    <tr>\n",
       "      <th>1978-10-01</th>\n",
       "      <td>9.50</td>\n",
       "      <td>6.83</td>\n",
       "      <td>10.50</td>\n",
       "      <td>3.88</td>\n",
       "      <td>6.13</td>\n",
       "      <td>4.58</td>\n",
       "      <td>4.21</td>\n",
       "      <td>6.50</td>\n",
       "      <td>6.38</td>\n",
       "      <td>6.54</td>\n",
       "      <td>10.63</td>\n",
       "      <td>14.09</td>\n",
       "      <td>1978-10-01</td>\n",
       "      <td>10</td>\n",
       "      <td>1978</td>\n",
       "      <td>1</td>\n",
       "    </tr>\n",
       "    <tr>\n",
       "      <th>1978-11-01</th>\n",
       "      <td>13.59</td>\n",
       "      <td>16.75</td>\n",
       "      <td>11.25</td>\n",
       "      <td>7.08</td>\n",
       "      <td>11.04</td>\n",
       "      <td>8.33</td>\n",
       "      <td>8.17</td>\n",
       "      <td>11.29</td>\n",
       "      <td>10.75</td>\n",
       "      <td>11.25</td>\n",
       "      <td>23.13</td>\n",
       "      <td>25.00</td>\n",
       "      <td>1978-11-01</td>\n",
       "      <td>11</td>\n",
       "      <td>1978</td>\n",
       "      <td>1</td>\n",
       "    </tr>\n",
       "    <tr>\n",
       "      <th>1978-12-01</th>\n",
       "      <td>21.29</td>\n",
       "      <td>16.29</td>\n",
       "      <td>24.04</td>\n",
       "      <td>12.79</td>\n",
       "      <td>18.21</td>\n",
       "      <td>19.29</td>\n",
       "      <td>21.54</td>\n",
       "      <td>17.21</td>\n",
       "      <td>16.71</td>\n",
       "      <td>17.83</td>\n",
       "      <td>17.75</td>\n",
       "      <td>25.70</td>\n",
       "      <td>1978-12-01</td>\n",
       "      <td>12</td>\n",
       "      <td>1978</td>\n",
       "      <td>1</td>\n",
       "    </tr>\n",
       "  </tbody>\n",
       "</table>\n",
       "<p>216 rows × 16 columns</p>\n",
       "</div>"
      ],
      "text/plain": [
       "              RPT    VAL    ROS    KIL    SHA    BIR    DUB    CLA    MUL  \\\n",
       "Yr_Mo_Dy                                                                    \n",
       "1961-01-01  15.04  14.96  13.17   9.29    NaN   9.87  13.67  10.25  10.83   \n",
       "1961-02-01  14.25  15.12   9.04   5.88  12.08   7.17  10.17   3.63   6.50   \n",
       "1961-03-01  12.67  13.13  11.79   6.42   9.79   8.54  10.25  13.29    NaN   \n",
       "1961-04-01   8.38   6.34   8.33   6.75   9.33   9.54  11.67   8.21  11.21   \n",
       "1961-05-01  15.87  13.88  15.37   9.79  13.46  10.17   9.96  14.04   9.75   \n",
       "1961-06-01  15.92   9.59  12.04   8.79  11.54   6.04   9.75   8.29   9.33   \n",
       "1961-07-01   7.21   6.83   7.71   4.42   8.46   4.79   6.71   6.00   5.79   \n",
       "1961-08-01   9.59   5.09   5.54   4.63   8.29   5.25   4.21   5.25   5.37   \n",
       "1961-09-01   5.58   1.13   4.96   3.04   4.25   2.25   4.63   2.71   3.67   \n",
       "1961-10-01  14.25  12.87   7.87   8.00  13.00   7.75   5.83   9.00   7.08   \n",
       "1961-11-01  13.21  13.13  14.33   8.54  12.17  10.21  13.08  12.17  10.92   \n",
       "1961-12-01   9.67   7.75   8.00   3.96   6.00   2.75   7.25   2.50   5.58   \n",
       "1962-01-01   9.29   3.42  11.54   3.50   2.21   1.96  10.41   2.79   3.54   \n",
       "1962-02-01  19.12  13.96  12.21  10.58  15.71  10.63  15.71  11.08  13.17   \n",
       "1962-03-01   8.21   4.83   9.00   4.83   6.00   2.21   7.96   1.87   4.08   \n",
       "1962-04-01  14.33  12.25  11.87  10.37  14.92  11.00  19.79  11.67  14.09   \n",
       "1962-05-01   9.62   9.54   3.58   3.33   8.75   3.75   2.25   2.58   1.67   \n",
       "1962-06-01   5.88   6.29   8.67   5.21   5.00   4.25   5.91   5.41   4.79   \n",
       "1962-07-01   8.67   4.17   6.92   6.71   8.17   5.66  11.17   9.38   8.75   \n",
       "1962-08-01   4.58   5.37   6.04   2.29   7.87   3.71   4.46   2.58   4.00   \n",
       "1962-09-01  10.00  12.08  10.96   9.25   9.29   7.62   7.41   8.75   7.67   \n",
       "1962-10-01  14.58   7.83  19.21  10.08  11.54   8.38  13.29  10.63   8.21   \n",
       "1962-11-01  16.88  13.25  16.00   8.96  13.46  11.46  10.46  10.17  10.37   \n",
       "1962-12-01  18.38  15.41  11.75   6.79  12.21   8.04   8.42  10.83   5.66   \n",
       "1963-01-01  15.59  13.62  19.79   8.38  12.25  10.00  23.45  15.71  13.59   \n",
       "1963-02-01  15.41   7.62  24.67  11.42   9.21   8.17  14.04   7.54   7.54   \n",
       "1963-03-01  16.75  19.67  17.67   8.87  19.08  15.37  16.21  14.29  11.29   \n",
       "1963-04-01  10.54   9.59  12.46   7.33   9.46   9.59  11.79  11.87   9.79   \n",
       "1963-05-01  18.79  14.17  13.59  11.63  14.17  11.96  14.46  12.46  12.87   \n",
       "1963-06-01  13.37   6.87  12.00   8.50  10.04   9.42  10.92  12.96  11.79   \n",
       "...           ...    ...    ...    ...    ...    ...    ...    ...    ...   \n",
       "1976-07-01   8.50   1.75   6.58   2.13   2.75   2.21   5.37   2.04   5.88   \n",
       "1976-08-01  13.00   8.38   8.63   5.83  12.92   8.25  13.00   9.42  10.58   \n",
       "1976-09-01  11.87  11.00   7.38   6.87   7.75   8.33  10.34   6.46  10.17   \n",
       "1976-10-01  10.96   6.71  10.41   4.63   7.58   5.04   5.04   5.54   6.50   \n",
       "1976-11-01  13.96  15.67  10.29   6.46  12.79   9.08  10.00   9.67  10.21   \n",
       "1976-12-01  13.46  16.42   9.21   4.54  10.75   8.67  10.88   4.83   8.79   \n",
       "1977-01-01  20.04  11.92  20.25   9.13   9.29   8.04  10.75   5.88   9.00   \n",
       "1977-02-01  11.83   9.71  11.00   4.25   8.58   8.71   6.17   5.66   8.29   \n",
       "1977-03-01   8.63  14.83  10.29   3.75   6.63   8.79   5.00   8.12   7.87   \n",
       "1977-04-01  21.67  16.00  17.33  13.59  20.83  15.96  25.62  17.62  19.41   \n",
       "1977-05-01   6.42   7.12   8.67   3.58   4.58   4.00   6.75   6.13   3.33   \n",
       "1977-06-01   7.08   5.25   9.71   2.83   2.21   3.50   5.29   1.42   2.00   \n",
       "1977-07-01  15.41  16.29  17.08   6.25  11.83  11.83  12.29  10.58  10.41   \n",
       "1977-08-01   4.33   2.96   4.42   2.33   0.96   1.08   4.96   1.87   2.33   \n",
       "1977-09-01  17.37  16.33  16.83   8.58  14.46  11.83  15.09  13.92  13.29   \n",
       "1977-10-01  16.75  15.34  12.25   9.42  16.38  11.38  18.50  13.92  14.09   \n",
       "1977-11-01  16.71  11.54  12.17   4.17   8.54   7.17  11.12   6.46   8.25   \n",
       "1977-12-01  13.37  10.92  12.42   2.37   5.79   6.13   8.96   7.38   6.29   \n",
       "1978-01-01   8.33   7.12   7.71   3.54   8.50   7.50  14.71  10.00  11.83   \n",
       "1978-02-01  27.25  24.21  18.16  17.46  27.54  18.05  20.96  25.04  20.04   \n",
       "1978-03-01  15.04   6.21  16.04   7.87   6.42   6.67  12.29   8.00  10.58   \n",
       "1978-04-01   3.42   7.58   2.71   1.38   3.46   2.08   2.67   4.75   4.83   \n",
       "1978-05-01  10.54  12.21   9.08   5.29  11.00  10.08  11.17  13.75  11.87   \n",
       "1978-06-01  10.37  11.42   6.46   6.04  11.25   7.50   6.46   5.96   7.79   \n",
       "1978-07-01  12.46  10.63  11.17   6.75  12.92   9.04  12.42   9.62  12.08   \n",
       "1978-08-01  19.33  15.09  20.17   8.83  12.62  10.41   9.33  12.33   9.50   \n",
       "1978-09-01   8.42   6.13   9.87   5.25   3.21   5.71   7.25   3.50   7.33   \n",
       "1978-10-01   9.50   6.83  10.50   3.88   6.13   4.58   4.21   6.50   6.38   \n",
       "1978-11-01  13.59  16.75  11.25   7.08  11.04   8.33   8.17  11.29  10.75   \n",
       "1978-12-01  21.29  16.29  24.04  12.79  18.21  19.29  21.54  17.21  16.71   \n",
       "\n",
       "              CLO    BEL    MAL       date  month  year  day  \n",
       "Yr_Mo_Dy                                                      \n",
       "1961-01-01  12.58  18.50  15.04 1961-01-01      1  1961    1  \n",
       "1961-02-01   5.50   9.17   8.00 1961-02-01      2  1961    1  \n",
       "1961-03-01  12.21  20.62    NaN 1961-03-01      3  1961    1  \n",
       "1961-04-01   6.46  11.96   7.17 1961-04-01      4  1961    1  \n",
       "1961-05-01   9.92  18.63  11.12 1961-05-01      5  1961    1  \n",
       "1961-06-01  10.34  10.67  12.12 1961-06-01      6  1961    1  \n",
       "1961-07-01   7.96   6.96   8.71 1961-07-01      7  1961    1  \n",
       "1961-08-01   5.41   8.38   9.08 1961-08-01      8  1961    1  \n",
       "1961-09-01   6.00   4.79   5.41 1961-09-01      9  1961    1  \n",
       "1961-10-01   5.29  11.79   4.04 1961-10-01     10  1961    1  \n",
       "1961-11-01  13.54  20.17  20.04 1961-11-01     11  1961    1  \n",
       "1961-12-01   5.58   7.79  11.17 1961-12-01     12  1961    1  \n",
       "1962-01-01   5.17   4.38   7.92 1962-01-01      1  1962    1  \n",
       "1962-02-01  12.62  17.67  22.71 1962-02-01      2  1962    1  \n",
       "1962-03-01   3.92   4.08   5.41 1962-03-01      3  1962    1  \n",
       "1962-04-01  15.46  16.62  23.58 1962-04-01      4  1962    1  \n",
       "1962-05-01   2.37   7.29   3.25 1962-05-01      5  1962    1  \n",
       "1962-06-01   9.25   5.25  10.71 1962-06-01      6  1962    1  \n",
       "1962-07-01  11.12  10.25  17.08 1962-07-01      7  1962    1  \n",
       "1962-08-01   4.79   7.21   7.46 1962-08-01      8  1962    1  \n",
       "1962-09-01   9.62  14.58  11.92 1962-09-01      9  1962    1  \n",
       "1962-10-01  12.92  18.05  18.12 1962-10-01     10  1962    1  \n",
       "1962-11-01  13.21  14.83  15.16 1962-11-01     11  1962    1  \n",
       "1962-12-01   9.08  11.50  11.50 1962-12-01     12  1962    1  \n",
       "1963-01-01  14.37  17.58  34.13 1963-01-01      1  1963    1  \n",
       "1963-02-01  10.08  10.17  17.67 1963-02-01      2  1963    1  \n",
       "1963-03-01   9.21  19.92  19.79 1963-03-01      3  1963    1  \n",
       "1963-04-01  10.71  13.37  18.21 1963-04-01      4  1963    1  \n",
       "1963-05-01  13.96  15.29  21.62 1963-05-01      5  1963    1  \n",
       "1963-06-01  11.04  10.92  13.67 1963-06-01      6  1963    1  \n",
       "...           ...    ...    ...        ...    ...   ...  ...  \n",
       "1976-07-01   4.50   4.96  10.63 1976-07-01      7  1976    1  \n",
       "1976-08-01  11.34  14.21  20.25 1976-08-01      8  1976    1  \n",
       "1976-09-01   9.29  12.75  19.55 1976-09-01      9  1976    1  \n",
       "1976-10-01   3.92   6.79   5.00 1976-10-01     10  1976    1  \n",
       "1976-11-01  11.63  23.09  21.96 1976-11-01     11  1976    1  \n",
       "1976-12-01   5.91   8.83  13.67 1976-12-01     12  1976    1  \n",
       "1977-01-01   9.00  14.88  25.70 1977-01-01      1  1977    1  \n",
       "1977-02-01   7.58  11.71  16.50 1977-02-01      2  1977    1  \n",
       "1977-03-01   6.42  13.54  13.67 1977-03-01      3  1977    1  \n",
       "1977-04-01  20.67  24.37  30.09 1977-04-01      4  1977    1  \n",
       "1977-05-01   4.50  19.21  12.38 1977-05-01      5  1977    1  \n",
       "1977-06-01   0.92   5.21   5.63 1977-06-01      6  1977    1  \n",
       "1977-07-01   7.21  17.37   7.83 1977-07-01      7  1977    1  \n",
       "1977-08-01   2.04  10.50   9.83 1977-08-01      8  1977    1  \n",
       "1977-09-01  13.88  23.29  25.17 1977-09-01      9  1977    1  \n",
       "1977-10-01  14.46  22.34  29.67 1977-10-01     10  1977    1  \n",
       "1977-11-01   6.21  11.04  15.63 1977-11-01     11  1977    1  \n",
       "1977-12-01   5.71   8.54  12.42 1977-12-01     12  1977    1  \n",
       "1978-01-01  10.00  15.09  20.46 1978-01-01      1  1978    1  \n",
       "1978-02-01  17.50  27.71  21.12 1978-02-01      2  1978    1  \n",
       "1978-03-01   9.33   5.41  17.00 1978-03-01      3  1978    1  \n",
       "1978-04-01   1.67   7.33  13.67 1978-04-01      4  1978    1  \n",
       "1978-05-01  11.79  12.87  27.16 1978-05-01      5  1978    1  \n",
       "1978-06-01   5.46   5.50  10.41 1978-06-01      6  1978    1  \n",
       "1978-07-01   8.04  14.04  16.17 1978-07-01      7  1978    1  \n",
       "1978-08-01   9.92  15.75  18.00 1978-08-01      8  1978    1  \n",
       "1978-09-01   6.50   7.62  15.96 1978-09-01      9  1978    1  \n",
       "1978-10-01   6.54  10.63  14.09 1978-10-01     10  1978    1  \n",
       "1978-11-01  11.25  23.13  25.00 1978-11-01     11  1978    1  \n",
       "1978-12-01  17.83  17.75  25.70 1978-12-01     12  1978    1  \n",
       "\n",
       "[216 rows x 16 columns]"
      ]
     },
     "execution_count": 303,
     "metadata": {},
     "output_type": "execute_result"
    }
   ],
   "source": [
    "# 运行以下代码\n",
    "data.query('day == 1')"
   ]
  },
  {
   "cell_type": "markdown",
   "metadata": {
    "id": "7AD754718B3241A3A309AAEB9B2E0334",
    "jupyter": {},
    "mdEditEnable": false,
    "slideshow": {
     "slide_type": "slide"
    },
    "tags": []
   },
   "source": [
    "[返回练习题索引](#练习题索引)"
   ]
  },
  {
   "cell_type": "markdown",
   "metadata": {
    "id": "839083FB1C6B4E3689C25109E4A08240",
    "jupyter": {},
    "mdEditEnable": false,
    "slideshow": {
     "slide_type": "slide"
    },
    "tags": []
   },
   "source": [
    "# 练习7-可视化\n",
    "## 探索泰坦尼克灾难数据"
   ]
  },
  {
   "cell_type": "markdown",
   "metadata": {
    "id": "1DF96941A4C0471A9F734C5A4EAB193D",
    "jupyter": {},
    "mdEditEnable": false,
    "slideshow": {
     "slide_type": "slide"
    },
    "tags": []
   },
   "source": [
    "[返回练习题索引](#练习题索引)"
   ]
  },
  {
   "cell_type": "markdown",
   "metadata": {
    "id": "384E16F6D67347A38DBD6121C2100686",
    "jupyter": {},
    "mdEditEnable": false,
    "slideshow": {
     "slide_type": "slide"
    },
    "tags": []
   },
   "source": [
    "### 步骤1 导入必要的库"
   ]
  },
  {
   "cell_type": "code",
   "execution_count": 304,
   "metadata": {
    "collapsed": false,
    "id": "0EE14A508D584CC2841C4B46265CAB84",
    "jupyter": {
     "outputs_hidden": false
    },
    "slideshow": {
     "slide_type": "slide"
    },
    "tags": []
   },
   "outputs": [],
   "source": [
    "# 运行以下代码\n",
    "import pandas as pd\n",
    "import matplotlib.pyplot as plt\n",
    "import seaborn as sns\n",
    "import numpy as np\n",
    "\n",
    "%matplotlib inline"
   ]
  },
  {
   "cell_type": "markdown",
   "metadata": {
    "id": "F15E185F66784DF1A8B2048650C9735B",
    "jupyter": {},
    "mdEditEnable": false,
    "slideshow": {
     "slide_type": "slide"
    },
    "tags": []
   },
   "source": [
    "### 步骤2 从以下地址导入数据"
   ]
  },
  {
   "cell_type": "code",
   "execution_count": 36,
   "metadata": {
    "collapsed": false,
    "id": "F19BBFF584C04EEF844DD34E2C859A1A",
    "jupyter": {
     "outputs_hidden": false
    },
    "slideshow": {
     "slide_type": "slide"
    },
    "tags": []
   },
   "outputs": [],
   "source": [
    "# 运行以下代码\n",
    "path7 = '../input/pandas_exercise/pandas_exercise/exercise_data/train.csv'  # train.csv"
   ]
  },
  {
   "cell_type": "markdown",
   "metadata": {
    "id": "15C1FBDB3DB8462C816F0701410E2A64",
    "jupyter": {},
    "mdEditEnable": false,
    "slideshow": {
     "slide_type": "slide"
    },
    "tags": []
   },
   "source": [
    "### 步骤3 将数据框命名为titanic"
   ]
  },
  {
   "cell_type": "code",
   "execution_count": 306,
   "metadata": {
    "collapsed": false,
    "id": "C438CEC476EE4B3681ACE4AD0D4F5829",
    "jupyter": {
     "outputs_hidden": false
    },
    "slideshow": {
     "slide_type": "slide"
    },
    "tags": []
   },
   "outputs": [
    {
     "data": {
      "text/html": [
       "<div>\n",
       "<style scoped>\n",
       "    .dataframe tbody tr th:only-of-type {\n",
       "        vertical-align: middle;\n",
       "    }\n",
       "\n",
       "    .dataframe tbody tr th {\n",
       "        vertical-align: top;\n",
       "    }\n",
       "\n",
       "    .dataframe thead th {\n",
       "        text-align: right;\n",
       "    }\n",
       "</style>\n",
       "<table border=\"1\" class=\"dataframe\">\n",
       "  <thead>\n",
       "    <tr style=\"text-align: right;\">\n",
       "      <th></th>\n",
       "      <th>PassengerId</th>\n",
       "      <th>Survived</th>\n",
       "      <th>Pclass</th>\n",
       "      <th>Name</th>\n",
       "      <th>Sex</th>\n",
       "      <th>Age</th>\n",
       "      <th>SibSp</th>\n",
       "      <th>Parch</th>\n",
       "      <th>Ticket</th>\n",
       "      <th>Fare</th>\n",
       "      <th>Cabin</th>\n",
       "      <th>Embarked</th>\n",
       "    </tr>\n",
       "  </thead>\n",
       "  <tbody>\n",
       "    <tr>\n",
       "      <th>0</th>\n",
       "      <td>1</td>\n",
       "      <td>0</td>\n",
       "      <td>3</td>\n",
       "      <td>Braund, Mr. Owen Harris</td>\n",
       "      <td>male</td>\n",
       "      <td>22.0</td>\n",
       "      <td>1</td>\n",
       "      <td>0</td>\n",
       "      <td>A/5 21171</td>\n",
       "      <td>7.2500</td>\n",
       "      <td>NaN</td>\n",
       "      <td>S</td>\n",
       "    </tr>\n",
       "    <tr>\n",
       "      <th>1</th>\n",
       "      <td>2</td>\n",
       "      <td>1</td>\n",
       "      <td>1</td>\n",
       "      <td>Cumings, Mrs. John Bradley (Florence Briggs Th...</td>\n",
       "      <td>female</td>\n",
       "      <td>38.0</td>\n",
       "      <td>1</td>\n",
       "      <td>0</td>\n",
       "      <td>PC 17599</td>\n",
       "      <td>71.2833</td>\n",
       "      <td>C85</td>\n",
       "      <td>C</td>\n",
       "    </tr>\n",
       "    <tr>\n",
       "      <th>2</th>\n",
       "      <td>3</td>\n",
       "      <td>1</td>\n",
       "      <td>3</td>\n",
       "      <td>Heikkinen, Miss. Laina</td>\n",
       "      <td>female</td>\n",
       "      <td>26.0</td>\n",
       "      <td>0</td>\n",
       "      <td>0</td>\n",
       "      <td>STON/O2. 3101282</td>\n",
       "      <td>7.9250</td>\n",
       "      <td>NaN</td>\n",
       "      <td>S</td>\n",
       "    </tr>\n",
       "    <tr>\n",
       "      <th>3</th>\n",
       "      <td>4</td>\n",
       "      <td>1</td>\n",
       "      <td>1</td>\n",
       "      <td>Futrelle, Mrs. Jacques Heath (Lily May Peel)</td>\n",
       "      <td>female</td>\n",
       "      <td>35.0</td>\n",
       "      <td>1</td>\n",
       "      <td>0</td>\n",
       "      <td>113803</td>\n",
       "      <td>53.1000</td>\n",
       "      <td>C123</td>\n",
       "      <td>S</td>\n",
       "    </tr>\n",
       "    <tr>\n",
       "      <th>4</th>\n",
       "      <td>5</td>\n",
       "      <td>0</td>\n",
       "      <td>3</td>\n",
       "      <td>Allen, Mr. William Henry</td>\n",
       "      <td>male</td>\n",
       "      <td>35.0</td>\n",
       "      <td>0</td>\n",
       "      <td>0</td>\n",
       "      <td>373450</td>\n",
       "      <td>8.0500</td>\n",
       "      <td>NaN</td>\n",
       "      <td>S</td>\n",
       "    </tr>\n",
       "  </tbody>\n",
       "</table>\n",
       "</div>"
      ],
      "text/plain": [
       "   PassengerId  Survived  Pclass  \\\n",
       "0            1         0       3   \n",
       "1            2         1       1   \n",
       "2            3         1       3   \n",
       "3            4         1       1   \n",
       "4            5         0       3   \n",
       "\n",
       "                                                Name     Sex   Age  SibSp  \\\n",
       "0                            Braund, Mr. Owen Harris    male  22.0      1   \n",
       "1  Cumings, Mrs. John Bradley (Florence Briggs Th...  female  38.0      1   \n",
       "2                             Heikkinen, Miss. Laina  female  26.0      0   \n",
       "3       Futrelle, Mrs. Jacques Heath (Lily May Peel)  female  35.0      1   \n",
       "4                           Allen, Mr. William Henry    male  35.0      0   \n",
       "\n",
       "   Parch            Ticket     Fare Cabin Embarked  \n",
       "0      0         A/5 21171   7.2500   NaN        S  \n",
       "1      0          PC 17599  71.2833   C85        C  \n",
       "2      0  STON/O2. 3101282   7.9250   NaN        S  \n",
       "3      0            113803  53.1000  C123        S  \n",
       "4      0            373450   8.0500   NaN        S  "
      ]
     },
     "execution_count": 306,
     "metadata": {},
     "output_type": "execute_result"
    }
   ],
   "source": [
    "# 运行以下代码\n",
    "titanic = pd.read_csv(path7)\n",
    "titanic.head()"
   ]
  },
  {
   "cell_type": "markdown",
   "metadata": {
    "id": "467E86F98EAA4C31966271C6531C4863",
    "jupyter": {},
    "mdEditEnable": false,
    "slideshow": {
     "slide_type": "slide"
    },
    "tags": []
   },
   "source": [
    "### 步骤4 将PassengerId设置为索引"
   ]
  },
  {
   "cell_type": "code",
   "execution_count": 307,
   "metadata": {
    "collapsed": false,
    "id": "925283942F0E4751B590F8867F72F6CD",
    "jupyter": {
     "outputs_hidden": false
    },
    "slideshow": {
     "slide_type": "slide"
    },
    "tags": []
   },
   "outputs": [
    {
     "data": {
      "text/html": [
       "<div>\n",
       "<style scoped>\n",
       "    .dataframe tbody tr th:only-of-type {\n",
       "        vertical-align: middle;\n",
       "    }\n",
       "\n",
       "    .dataframe tbody tr th {\n",
       "        vertical-align: top;\n",
       "    }\n",
       "\n",
       "    .dataframe thead th {\n",
       "        text-align: right;\n",
       "    }\n",
       "</style>\n",
       "<table border=\"1\" class=\"dataframe\">\n",
       "  <thead>\n",
       "    <tr style=\"text-align: right;\">\n",
       "      <th></th>\n",
       "      <th>Survived</th>\n",
       "      <th>Pclass</th>\n",
       "      <th>Name</th>\n",
       "      <th>Sex</th>\n",
       "      <th>Age</th>\n",
       "      <th>SibSp</th>\n",
       "      <th>Parch</th>\n",
       "      <th>Ticket</th>\n",
       "      <th>Fare</th>\n",
       "      <th>Cabin</th>\n",
       "      <th>Embarked</th>\n",
       "    </tr>\n",
       "    <tr>\n",
       "      <th>PassengerId</th>\n",
       "      <th></th>\n",
       "      <th></th>\n",
       "      <th></th>\n",
       "      <th></th>\n",
       "      <th></th>\n",
       "      <th></th>\n",
       "      <th></th>\n",
       "      <th></th>\n",
       "      <th></th>\n",
       "      <th></th>\n",
       "      <th></th>\n",
       "    </tr>\n",
       "  </thead>\n",
       "  <tbody>\n",
       "    <tr>\n",
       "      <th>1</th>\n",
       "      <td>0</td>\n",
       "      <td>3</td>\n",
       "      <td>Braund, Mr. Owen Harris</td>\n",
       "      <td>male</td>\n",
       "      <td>22.0</td>\n",
       "      <td>1</td>\n",
       "      <td>0</td>\n",
       "      <td>A/5 21171</td>\n",
       "      <td>7.2500</td>\n",
       "      <td>NaN</td>\n",
       "      <td>S</td>\n",
       "    </tr>\n",
       "    <tr>\n",
       "      <th>2</th>\n",
       "      <td>1</td>\n",
       "      <td>1</td>\n",
       "      <td>Cumings, Mrs. John Bradley (Florence Briggs Th...</td>\n",
       "      <td>female</td>\n",
       "      <td>38.0</td>\n",
       "      <td>1</td>\n",
       "      <td>0</td>\n",
       "      <td>PC 17599</td>\n",
       "      <td>71.2833</td>\n",
       "      <td>C85</td>\n",
       "      <td>C</td>\n",
       "    </tr>\n",
       "    <tr>\n",
       "      <th>3</th>\n",
       "      <td>1</td>\n",
       "      <td>3</td>\n",
       "      <td>Heikkinen, Miss. Laina</td>\n",
       "      <td>female</td>\n",
       "      <td>26.0</td>\n",
       "      <td>0</td>\n",
       "      <td>0</td>\n",
       "      <td>STON/O2. 3101282</td>\n",
       "      <td>7.9250</td>\n",
       "      <td>NaN</td>\n",
       "      <td>S</td>\n",
       "    </tr>\n",
       "    <tr>\n",
       "      <th>4</th>\n",
       "      <td>1</td>\n",
       "      <td>1</td>\n",
       "      <td>Futrelle, Mrs. Jacques Heath (Lily May Peel)</td>\n",
       "      <td>female</td>\n",
       "      <td>35.0</td>\n",
       "      <td>1</td>\n",
       "      <td>0</td>\n",
       "      <td>113803</td>\n",
       "      <td>53.1000</td>\n",
       "      <td>C123</td>\n",
       "      <td>S</td>\n",
       "    </tr>\n",
       "    <tr>\n",
       "      <th>5</th>\n",
       "      <td>0</td>\n",
       "      <td>3</td>\n",
       "      <td>Allen, Mr. William Henry</td>\n",
       "      <td>male</td>\n",
       "      <td>35.0</td>\n",
       "      <td>0</td>\n",
       "      <td>0</td>\n",
       "      <td>373450</td>\n",
       "      <td>8.0500</td>\n",
       "      <td>NaN</td>\n",
       "      <td>S</td>\n",
       "    </tr>\n",
       "  </tbody>\n",
       "</table>\n",
       "</div>"
      ],
      "text/plain": [
       "             Survived  Pclass  \\\n",
       "PassengerId                     \n",
       "1                   0       3   \n",
       "2                   1       1   \n",
       "3                   1       3   \n",
       "4                   1       1   \n",
       "5                   0       3   \n",
       "\n",
       "                                                          Name     Sex   Age  \\\n",
       "PassengerId                                                                    \n",
       "1                                      Braund, Mr. Owen Harris    male  22.0   \n",
       "2            Cumings, Mrs. John Bradley (Florence Briggs Th...  female  38.0   \n",
       "3                                       Heikkinen, Miss. Laina  female  26.0   \n",
       "4                 Futrelle, Mrs. Jacques Heath (Lily May Peel)  female  35.0   \n",
       "5                                     Allen, Mr. William Henry    male  35.0   \n",
       "\n",
       "             SibSp  Parch            Ticket     Fare Cabin Embarked  \n",
       "PassengerId                                                          \n",
       "1                1      0         A/5 21171   7.2500   NaN        S  \n",
       "2                1      0          PC 17599  71.2833   C85        C  \n",
       "3                0      0  STON/O2. 3101282   7.9250   NaN        S  \n",
       "4                1      0            113803  53.1000  C123        S  \n",
       "5                0      0            373450   8.0500   NaN        S  "
      ]
     },
     "execution_count": 307,
     "metadata": {},
     "output_type": "execute_result"
    }
   ],
   "source": [
    "# 运行以下代码\n",
    "titanic.set_index('PassengerId').head()"
   ]
  },
  {
   "cell_type": "markdown",
   "metadata": {
    "id": "93A81776B6374B5590DDDEF16CA70059",
    "jupyter": {},
    "mdEditEnable": false,
    "slideshow": {
     "slide_type": "slide"
    },
    "tags": []
   },
   "source": [
    "### 步骤5 绘制一个展示男女乘客比例的扇形图"
   ]
  },
  {
   "cell_type": "code",
   "execution_count": 308,
   "metadata": {
    "collapsed": false,
    "id": "29F113A209764A09A2B7E34F6D6D5418",
    "jupyter": {
     "outputs_hidden": false
    },
    "slideshow": {
     "slide_type": "slide"
    },
    "tags": []
   },
   "outputs": [
    {
     "data": {
      "text/html": [
       "<img src=\"data:image/png;base64,iVBORw0KGgoAAAANSUhEUgAAAagAAAEYCAYAAAAJeGK1AAAABHNCSVQICAgIfAhkiAAAAAlwSFlzAAALEgAACxIB0t1+/AAAADl0RVh0U29mdHdhcmUAbWF0cGxvdGxpYiB2ZXJzaW9uIDMuMC4wLCBodHRwOi8vbWF0cGxvdGxpYi5vcmcvqOYd8AAAHlFJREFUeJzt3Xm8XeO9x/HPVxKzoDHEEKVqnmk1MVSNVTV0oi2qQWnrKm21t6q3mhpKS7WGe0txKarXraFKTRe9CIKYialquChB1dAgkvzuH88KJycnJ2fYez/P2vv7fr32yzl7n7X290hyvud51rPWUkRgZmZWmnlyBzAzM+uJC8rMzIrkgjIzsyK5oMzMrEguKDMzK5ILyszMiuSCMqsZSStL+rMk5c5i1kwuKKsNSZ+UdKekFyW9IunrDdz3WElTJb1U7f9CSSMbtf/BqArpNzM/j4jHI2LL8EmM1uZcUFYLklYBzgT2ioglgZWAWxr8NjdGxBLACsCbwCk95MgxahkFbJrhfc2yckFZXawHvBARDwJExD8i4l4ASUMlHS3pSUl/k/QrSUOr1y6V9LPq49Wq15ft7Y0i4k3geOBj1Xb/K+mnkh4DTqqeW1DSLyU9JWmypMskrVC9Nk7SbyWdL+llSQ9J+tjM/UtaV9J1kl6oth83s/iq72GcpGckfUfSdsClwErV6G5PSStKmtZlf++XdEn1vT0r6WRJ83fJPk7SrZJelXSRpGGD/+Mwaz4XlNXFeGCUpHMlLdfttW8DSwKrkUZWKwH7VK8dAIyV9EHg34FvRcRzfXi/BYBXu3y+BbAhcEj1+c+q91kbWBZ4FDi/y9fvAJwYESOAnwIXSJpf0nDgSuBsYCRpZLQbsG+XbdcDPgCcFBHXALsAT0TEEhFxXteQkuYhFdhEYPkqz7rAv3X5sm2BTwArAxsDn+7D92+WnQvKaiEingfGAMsBj0o6tMt02+eAzwJPAU+SfgivUW33LOmH9VXAyxHxX3N7L0lLAT8Gzury9HkR8XpETO3ynuOq56YBRwCbSlqkev3qiLitynA2MBRYFdgEeCkizo3kGeA0YPsu73VmREzt8l69WRVYEfhJREyPiFeAE7rt7zfViPMlUtGv3If9mmU3NHcAs76KiEeArSRtTzoeNT8wDhgC7BsRf5jDpq8Bw4F35vIWm0t6HngFOIc0SprpH92+digwo2u86vPp1efvloukIVXWN3rYbua207p83v29ejMUmNFtwUT3/U3p8vHbpP9fZsXzCMpqJyKuAg4mjZoArgW+I2kJSfNI+lg1CkLSKOA40shlA0m9TW/dFBEjI2KNiDgmIqb38rV/BA6XtEh1vOuHwFURMbMMtpe0ejUF96/AX0mju1uA5SXtrmRZYH/gol7eawrwvmqKsPvxo4eBFyV9T9IQSYsB35zL/sxqwQVltSBpE0mbSxpWFcIY4IHq5SNJP6gnAc+RjhO9U5XDOcAvI+IvwNeAU2eW1yB9kzTSehR4mnQcamyX128FTgVeJB3/2TUiZkTE34EdgQOBycANwGkR8fte3utu4C7gBeAzXV+ophd3BrYCngfuIU3jnTC4b88sP/lUCqsDSZsAp5MWArxO+sF+cHVcpRH7HwvsGRHbNGBf44DlI+Irg92XWSdzQZk1mAvKrDE8xWdmZkXyCMrMzIrkEZSZmRXJBWVmZkVyQZmZWZFcUGZmViQXlJmZFckFZWZmRXJBmZlZkVxQZmZWJBeUmZkVyQVlZmZFckGZmVmRXFBmZlYkF5SZmRVpaO4AZh1D2pJ0w8Xp1WMK6a68f3/3ETE1X0Czsvh2G2atIl0MfHouXzWFVFYvAU8AjwN/qR6PA08TMaOZMc1K4RGUWVkWrB7LA+v38PpUpCeA+4Dbq8edRPyzdRHNWsMjKLNW6dsIaiCmA5N4r7DGEzGpCe9j1lIuKLNWaV5B9eRp4GrgSuBaIl5v0fuaNYwLyqxVWltQXb0D3EIqq8s8urK6cEGZtUq+guruXuA84HwinssdxmxOXFBmvZBYCFiEtKBoCDAtgmcHuLNSCmqmGcD1pLK6iIg3Mucxm4ULyjqOxLzACsBKXR4rACOAxYHFqv8uCszbbfNJEaw1wDcuraC6mgJcDJxIxMTcYczAy8ytjUkMAVYDNgQ2IC3bXhVYFl9FpbsFgT2BPZHGA78A/uBzriwnF5S1DYllgK2BTUiFtC7pB6/1z2bV4wmkk4EziXgtcybrQJ7is9qSWBzYEtiKVEyrt+Bt23WKrzevA6cCxxLx99xhrHN4BGW1IrEqsCvwKdLUnafqmm8R4LvAV5GOB37hBRXWCv7HbcWTWFPiRxL3A48ARwEfwn9/W204cATwV6RvIs2XO5C1N/8DtyJJLCNxmMQk4EFgHLB23lRWWZK0iOIxpH2R/HPEmsJ/sawYEvNIbC9xMelSPUcDa2SOZXM2CjgDuANpdO4w1n5cUJadxEiJH5BuJ3ElaSGBj4/Wx4bALUhnIo3IHcbahwvKspFYWeJ04CnScaUV8yayQRCwD/AQ0p65w1h7cEFZy0msI/E70oKHrzD71RqsvpYEzkW6Cun9ucNYvbmgrGUkPiLxR9LFSr9AuradtaePA/cifTF3EKsvF5Q1ncQaEpcCE4CdSNNB1v4WBc5HOgdpkdxhrH5cUNY0EktLnAbcD+ycO49l8yXgbqSNcwexenFBWcNJzCdxKPAYsD+eyjNYGbgZ6Qc+b8r6yn9RrKEktgUmAceQLpFjNtNQ0mrNq5AWyx3GyueCsoaQeJ/E2cA1wAcyx7GybQvchrRq7iBWNheUDZrEbsBDwJdzZ7HaWJVUUtvmDmLlckHZgEksV63OuwBYKnceq53FgCuRDsodxMrkgrIBkfgUXp1ngzcEOBHpNKRhucNYWVxQ1i/VCr2TgUuAxXPnsbaxP3Cxb+FhXbmgrM8kVgFuBQ7MncXa0o7An5AWyh3EyuCCsj6R2BO4C9ggdxZra1sDVyMtmjuI5eeCsl5JDKmm9M4FFs6dxzrCpsD1vnWHuaBsjiQWBf6Ep/Ss9TYEbkAamTuI5eOCsh5JfIB0vOnjubNYx1oLj6Q6mgvKZiOxGXAbvt265bcGcLkXTnQmF5TNQuKLwHXAErmzmFVGAxf6PKnO44Kyd0nsB5yH73Br5dkeOBvJ9xLrIC4oA0DiYOA0/HfCyrU78MvcIax1/MPIkDiM9A/fv51a6Q5COjR3CGsNF1SHkzgaODp3DrN+OBpph9whrPlcUB1M4ifAYblzmPXTPMBvkT6YO4g1lwuqQ0kcAnw/dw6zAVoMuMTLz9ubC6oDSYwFjsudw2yQ1gbOyh3CmscF1WEkdgHOwAsirD3sivTd3CGsOVxQHURiC+C/SDeJM2sXxyBtkTuENZ4LqkNIrAH8EZg/dxazBhsC/AZpkdxBrLFcUB1AYjHgUmB47ixmTfJ+4MTcIayxXFBtTmIIaVpvldxZzJpsb6Sdc4ewxnFBtb9j8C0zrHOcjrRk7hDWGC6oNiaxO+AVTtZJlgJOzR3CGsMF1aYk1ictJzfrNJ9B2iN3CBs8F1QbklgA+B2wQO4sZpkcjzTgRUGSxkl6StLE6tGwm3dKGivp+Ebtr525oNrTz4HVc4cwy2gkcPgg93FcRHyoejzUiFDWPy6oNiOxI/D13DnMCnAQUkN+UZM0VNIpku6RdKWkxarnX5J0vKTHJf1I0uGS7pd0mZLFJF0r6S5J4yUt3m2/O0q6W9J9krapnhtTPXe/Onyq0gXVRiSWBv4zdw6zQgwDTmrQvvYBlouI9YH/BQ6qnh8BXACsBxwMvBIR6wBLAh8BZgD7RcSGwERg15k7lDQC+DWwI7ADcLLSHYO/DxxS7ecPDcpfSy6o9nIW6R+GmSXbIn16gNseImmCpAmkUzVOr56/EhhTffxaRNwREW8ATwJXVc8/BCwLvA6MkXQm8AlgmS773wQYHxHPRsQzwJukVYi3Az+VtGVE/HOA2duCC6pNSOxP+gdgZrM6AWkgC4Z+HhGjI2I06XJKx1ZldSYwvfqad7p8/Ywun08n/Xw9APgM6bjwmcx6keYhwOZdSnBRYNGIOAr4MXCKpK8NIHfbcEG1AYllgJ/lzmFWqBWBbwxyH7cAv6wK68PA7n3cbg3gCtKIqvsFbScC9wGbViW4QUQ8Kmm5iLicVFIfHmTuWnNBtYeTSL99mVnP/nWQF5M9BdhO0h2SbgDW7+N2ZwOHAtcAz3R9oZrW+29goqRbgO9VLx0p6R7Sca5fDCJz7SkicmewQZD4BOk3NGuNSRGsNaAtpYuBgR4PscE7nIgjc4ewvvMIqsYk5gNOzp3DrCYOQfJMQ424oOrte8DKuUOY1cSiDP5YlLWQC6qmJJYlzW2bWd99E2nh3CGsb1xQ9fUjfK09s/4aga+0UhsuqBqSWJV0ZruZ9d+BSP7ZVwP+Q6qno4ChuUOY1dQKpMsLWeFcUDUjsRHwudw5zGrugNwBbO5cUPVzLLNeLsXM+m87pA/mDmG9c0HViMSmwDa5c5i1AeHFEsVzQdXLd3MHMGsjew/wIrLWIi6omqhW7u2UO4dZG1kc+ELuEDZnLqj6+Db+8zJrtL5eldwy8A+8GpBYEvhy7hxmbWhLpCVyh7CeuaDq4UBg/twhzNrQEOCzuUNYz1xQhZOYF682Mmum3XIHsJ65oMq3E7Bk7hBmbWwLpKVzh7DZuaDKt3fuAGaNdASwIemEvjer584BjsmWyNN8pXJBFUxiGWD73DnMDgI2ATYDrifdu/wDwOjq0VO5PAPsBXwE2A54EHgdGA/cBWwJXA28Bfwa+FZTv4O52jXv21tPfMHRsn2J9NudWVbfBlYE7icNNa4B3gdM6GWbJ0kXvBsNXAt8FbgSeBuYAbwBLAKcWL2WeRXQpkgLEfHPvDGsK4+gyubpPSvCitV/XwZW6+M2m5HKCWAMaUS1CLALaTT2OrAeaRS1Z6OCDtww4KO5Q9isXFCFkvgIsHruHGYAF5KKaS/S1YrnAZ4nHUv6HPDUXLY/j1RMkEZjE4BTgKOB7wAHV/u5sdHB+2frvG9v3bmgyuU5cSvG54BHgN8DnwJGkkZEd5GOL32tl23HA6cDR3Z7/q/A08ATpBHWuaTbRGfkgiqMC6pcu8z9S8xa6yPAYsBzXZ7bA3h4Dl9/O/AN4A/A8G6v/ZB0580HgI2ABch+H5n1fFWJsrigCiSxJuB71VgR/gbcXX18D+nYkYBXq+dOJx1vAjgLuLj6+E7SGeaXAst32+cdpMJag3R729uAV8heUCItLrRCeBVfmTx6sqJ8l7RAYjnSNN/TwKdJv+FuCJxUfV3XVT0/I53n9Jnq81HAJdXHv+K9pelfA8aSiu64pqTvl61J36IVQBGRO4N1IzGBNJti5ZkUwVoD2lK6mPRz3cp1LxHr5w5hiaf4ClOdnLtx7hxmHWpNpHlzh7DEBVWeT5B9Kt6sYw2DAY6QreFcUOXZIncAsw7nKb5CuKDKs3nuAGYdboPcASxxQRVEYnlgpdw5zDqcR1CFcEGVxaMns/zWQ/Jx4AK4oMrii1Wa5Tec2c8ttgxcUGXxCMqsDO/PHcBcUMWQWBBYM3cOMwNcUEVwQZVjLXz+k1kpVsgdwFxQJVkndwAze5cLqgAuqHKsnTuAmb3LU3wFcEGVwyMos3J4BFUAF1Q5PIIyK8eo3AHMBVUEiRGku2ibWRmGI/nnY2b+AyiDL29kVp6FcwfodC6oMvisdbPyuKAyc0GVwQVlVp5FcgfodC6oMrigzMrjEVRmLqgyuKDMyuMRVGYuqDK4oMzK4xFUZi6oMiybO4CZzWZY7gCdzgVVhsVzB7CW+FvuANYv7+QO0OlcUGUYnjuAtcQ3gCOAGbmDWJ+4oDJzQWUmMR8wb+4c1gIRM4j4EbAd8ELuODZXU3MH6HQuqPwWyh3AWiziOmB94M+5o1ivPILKzAWV3wK5A1gGEc8D2+Apv5K5oDJzQeXngupUnvIrnQsqMxdUfj7+1Ok85Veqt3MH6HQuqPym5w5g/TKkKXv1lF+JXskdoNO5oPLzNEK9rCZxjtSExS2e8ivNS7kDdDoXVH7TcgewfvsSMFFq0l2QPeVXgteJ8DLzzFxQ+XkEVU+rA7dL7NuUvXvKL7fJuQOYC6oELqj6WgA4w1N+bem53AHMBVUCF1T9ecqv/bigCuCCyu+t3AGsITzl115cUAVwQWUWwdvAG7lzWEN4yq99PJE7gLmgSuEDsu3FU37191DuAOaCKsWLuQNYw3nKr95cUAVwQZXBBdWePOVXT68R8WzuEOaCKoULqr15yq9ePHoqhAuqDC6o9ucpv/pwQRXCBVUGTyd0Bk/51YMLqhAuqDI8ljuAtZSn/Mr2QO4AlrigyvBo7gDWcp7yK1MAE3KHsEQRkTtDx5MYArwJDMudxbI4F/h6BP9syt6lrYHfAks3Zf/tZRIRa+UOYYlHUAWIYDrw19w5LBtP+ZXj5twB7D0uqHJ4mq+zecqvDONzB7D3uKDK4YIyr/LLzyOogrigynFf7gBWDE/55fE8EY/nDmHvcUGV47bcAawonvJrPU/vFcYFVY5HgX/kDmFF8ZRfa12RO4DNygVViAgCuCN3DiuSp/yabwZwee4QNisXVFluzx3AiuUpv+a6lQhfE7MwLqiyuKCsN57ya55Lcwew2flKEgWRWIrO+8FgA/MwsGtEk64bJ40Ezge2bMr+y7M6EY/kDmGz8giqIBFMBu7PnaNvXoZ+XZnnq8CHgN1IlzuDNJv0uwbn6hie8mucR1xOZXJBlefq3AHe8ybwLWBDYAzwVvX8s8DKwFk9bPM28PXq63cGngMeBKYBE4FFgXtJA8UbgC80L37785RfY3h6r1AuqPJclTvAew4mXV/0DuBaYN7q+W8DW89hm9OA+YBbgY8DRwEilR2kUdfCwLjqocbH7jytWuV3fVP2n99vcwewnrmgyjOe/s2dNclkUjEdCgwBFiL9dbkcWAZYZw7bBe9dlH06sDiwJrAsMLr6eDrwErB5k7J3pFZM+W1L+0353UmEr+JSKC+SKJDE5cAn86a4DjgZGAo8SZrl+QHpsMTVwAnAEsCB3bZ7G9iLVEBDgYthttmnXUmjsDOA14Afk4rLGsS37+i7A4j4Ve4Q1jOPoMpUwHGoF0k3Fv0VcAvp+NFmpGm/4b1sN55UTD8nFdNFPbw+klRcXyGV4GGNDG6e8uurN0krFa1QLqgyXZY7QPrleGNgSdKxp22Ae4DjSavxfg0cx+zHlw8FjiX9/DqdNCPU1ZHAj0jltxGprF5rynfQ4TzlN3eXEPFq7hA2Zy6oAkXwJNlvOz2GdIH1p0ir967gvZHURGB/4LvALqTVfBdX2w0Hbqw+vpV07Gmm35NOq1kCWIF0fdzHgRFN/D46mlf59e7M3AGsdz4GVSiJg4AT86aYQBoRvQXsB7P8Mn4C8D5gbLdtHiNNA04GRgE/A1Yh/ZL9edLhkflJxbcvaRXfr4APNul7sEorTuz9LbBVU/bfeE8AK+MfgEVzQRVKYmnSCUdDcmextvEm8I2IJo0cpHmAw4EfUv7szDeJyPwLoM2NC6pgEv9DOvhj1kjNXuW3FWnxQamr/P4OrEBEAadzWG9K/y2n03mFkTVDs1f5XU/Zq/xOcTnVg0dQBZNYFHiedNDGrNE6ccpvCmn09HLuIDZ3pfylsR5E8CpwQe4c1rZascpvHGk5eimr/M50OdWHR1CFk9iItK7brJk6YZXfNOCDRDyVMYP1g0dQhYvgTtIJQ2bN1KoTe39MvhN7f+dyqhePoGpAYg/gvNw5rGO04yq/t4HVXFD14hFUPfyecubwrf214yq/k1xO9eOCqoEIppIubGfWKu005fcy8JMmv4c1gaf4akJiJOnyLF5ybq1W9yk/XzWipjyCqokInifdQMms1eo85fcX4D+asF9rARdUvfwUmJo7hHWkuk75fZ+Idxq4P2shF1SNRPAM8J+5c1jHqtuJvdcRcWED9mOZuKD6QNJYSSFplW7P71Y9v3AP25wtaccmxDmKdP8Ls1zqMOU3hXSPGKsxF1TfvQDs3e25fUk3PmqZCJ4FTmvle5r1oPQpvx8S8URjQ1mruaD67grg85KGAEhaifT/75/AhpJul3S/pNkWMkg6XNK9ksZLGlU9t7+kByVN6j4y64Of4PukW36lTvndDvyy4Xms5VxQffd30l/87arP9yXd63ye6rWtgHWBjSStOnMjSdsBOwIfAk4m/UYIqWQ2AtYB/q8/QSKYDBwx0G/ErMFKmvJ7B9iXiFyXU7IGckH1zxnAPtUo6lPAxdXzTwL7k87lGAUs02WbjwNnR1pJdCUwpnr+HlLBrRQRAzmmdBLwyAC2M2uGUqb8jiGiORe8tZZzQfXP9cDawBeBG7oUy7nAgsChwC2AumwzBDhY0gTgGt5bJr5D9bU3SVq/v0EieAf41kC+CbMmyT3ldx9wdMPf17JxQfVDpMtunAecwKzLvdchjZ5eBT7cbbNbgAsiYnREjAY2lyRgiYg4Gbik2n4AebgS+NNAtjVrohxTflOAzxPh8wTbiAuq/84C/i8i7uzy3Imk0dGpwP3dvv5CYISkOyXdRJryE3ClpInA8qSSGqhv4ZN3rTytnvL7BhEPN+W9LBtfi68NSBxBuq22WYmafS2/dYjo/ouhtQEXVBuQGAbcAayXO4vZHDT3jr3WljzF1waqBRNjSUtszUrU3Ck/a0suqDYRwT14BZOVrbmr/KzteIqvjUgMJZ1MvEHuLGZz4Sk/myuPoNpIBNOAL+NVfVY+T/nZXLmg2kwE9wOH5M5h1gee8rNeeYqvTUmcT7rihVkdPAxsHMHruYNYOTyCal/7Aw/lDmHWR392OVl3HkG1MYk1SYsmPH1iJbsD2CzCx05tVh5BtbEIJpFGUmalmkxazedystm4oNpcBOfjm7dZmd4CdongqdxBrEye4usAEvOQLlr76dxZzCoBfCGC/84dxMrlEVQHiGAGsAcwIXcWs8q/uZxsbjyC6iASSwK3AivnzmId7ewI9s4dwsrnguowEquQSmpE7izWka4DPlFd4NisV57i6zARPAbsBLyRO4t1nJtJiyJcTtYnLqgOFMGtwCehSTeQM5vd7cAOTbtpobUlF1SHiuBGUklNyZ3F2t5dwMcjeC13EKsXF1QHi+AGYEdcUtY89wPbRfCP3EGsflxQHS6CP5OOSb2ZO4u1nQeAbSJ4OXcQqycXlBHB9aTpPk/BWKOMBzaPYHLuIFZfLigD3h1JfRR4LncWq71LgW09rWeD5YKyd0VwLzAGmJQ7i9XWGcBnI3grdxCrPxeUzSKCp4HNgJtyZ7HaOSqC/SKYnjuItQdfScJ6JDEfcB7wudxZrHhvA/8SwZm5g1h78QjKehTB28BuwA+BGZnjWLmeBT7qcrJm8AjK5kpiO+B8fP0+m9VNpJsNvpA7iLUnj6BsriK4BtiQdGtuM4B/B7Z2OVkzuaCsT6rFE5sDp+fOYlm9Dnw5ggN90VdrNk/xWb9JfBH4D2Cx3FmspcYDe0XwRO4g1hk8grJ+i+B3wLrA9bmzWEu8AxwGbOFyslbyCMoGTELAgcCxwIKZ41hzTAL2jODu3EGs83gEZQMWQURwMmk0dWPuPNZQ7wDHARu5nCwXj6CsIarR1FjSaGqpvGlskG4ADojwJa8sL4+grCGq0dRZwKrAScC0zJGs/14AvhTBx1xOVgKPoKwpJNYGTgY+ljmKzd104FTgBxG8mjuM2UweQVlTRPBABFsCnwf+kjuP9SiAC4G1q/OaXE5WFI+grOkkhgJ7ka7rt2LeNFa5mjRiujN3ELM5cUFZy0gMA/YBfgCMyhynU90MHBbhVZdWPheUtVx1K4/9gEPwiKpVrgGOi+Da3EHM+soFZdlIDAF2Bg7CiymaYSpwAfDz6m7JZrXigrIiSKxLKqo9gPkzx6m750mr8k711catzlxQVhSJEaQTfvcE1s+bplbeBv4I/Aa4OsLnoVn9uaCsWBJrkYpqd2CFzHFKdStwDnBBBK/kDmPWSC4oK151GaXNSUW1E7Bs3kRZzQBuAy4DLorg0cx5zJrGBWW1I7E+sEP1GA0MyZuo6d4gnbd0GXBFBC9mzmPWEi4oqzWJxYHtgG2AMcCagLKGGrw3SKOkm4GbgBsjmJo3klnruaCsrUgsCmxMKqvR1WPxrKF6F8CTwB2kQroZuCeC6TlDmZXABWVtrTp+tTywOrBa9d+Zj+VaGGUa8DTpBoAPdvnvQxFMaWEOs9pwQVnHkliYVF7LVo+RwBLVYwSwADBf9Zi3y8dDgbeAN4Ep1WPmx68BfwOeqx4zP54cwYwWfWtmbcEFZWZmRfLtNszMrEguKDMzK5ILyszMiuSCMjOzIrmgzMysSC4oMzMrkgvKzMyK5IIyM7MiuaDMzKxILigzMyuSC8rMzIrkgjIzsyK5oMzMrEguKDMzK5ILyszMiuSCMjOzIrmgzMysSC4oMzMrkgvKzMyK5IIyM7MiuaDMzKxILigzMyvS/wNE1lHWLl5VmwAAAABJRU5ErkJggg==\n",
       "\">"
      ],
      "text/plain": [
       "<Figure size 432x288 with 1 Axes>"
      ]
     },
     "metadata": {},
     "output_type": "display_data"
    }
   ],
   "source": [
    "# 运行以下代码\n",
    "# sum the instances of males and females\n",
    "males = (titanic['Sex'] == 'male').sum()\n",
    "females = (titanic['Sex'] == 'female').sum()\n",
    "\n",
    "# put them into a list called proportions\n",
    "proportions = [males, females]\n",
    "\n",
    "# Create a pie chart\n",
    "plt.pie(\n",
    "    # using proportions\n",
    "    proportions,\n",
    "    \n",
    "    # with the labels being officer names\n",
    "    labels = ['Males', 'Females'],\n",
    "    \n",
    "    # with no shadows\n",
    "    shadow = False,\n",
    "    \n",
    "    # with colors\n",
    "    colors = ['blue','red'],\n",
    "    \n",
    "    # with one slide exploded out\n",
    "    explode = (0.15 , 0),\n",
    "    \n",
    "    # with the start angle at 90%\n",
    "    startangle = 90,\n",
    "    \n",
    "    # with the percent listed as a fraction\n",
    "    autopct = '%1.1f%%'\n",
    "    )\n",
    "\n",
    "# View the plot drop above\n",
    "plt.axis('equal')\n",
    "\n",
    "# Set labels\n",
    "plt.title(\"Sex Proportion\")\n",
    "\n",
    "# View the plot\n",
    "plt.tight_layout()\n",
    "plt.show()"
   ]
  },
  {
   "cell_type": "markdown",
   "metadata": {
    "id": "F097222642114F7FA9AF8960A7CEB856",
    "jupyter": {},
    "mdEditEnable": false,
    "slideshow": {
     "slide_type": "slide"
    },
    "tags": []
   },
   "source": [
    "### 步骤6 绘制一个展示船票```Fare```, 与乘客年龄和性别的散点图"
   ]
  },
  {
   "cell_type": "code",
   "execution_count": 309,
   "metadata": {
    "collapsed": false,
    "id": "751FFC45EDF842528A2E30354E36B56B",
    "jupyter": {
     "outputs_hidden": false
    },
    "slideshow": {
     "slide_type": "slide"
    },
    "tags": []
   },
   "outputs": [
    {
     "data": {
      "text/plain": [
       "(-5, 85)"
      ]
     },
     "execution_count": 309,
     "metadata": {},
     "output_type": "execute_result"
    },
    {
     "data": {
      "text/html": [
       "<img src=\"data:image/png;base64,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\n",
       "\">"
      ],
      "text/plain": [
       "<Figure size 427.25x360 with 1 Axes>"
      ]
     },
     "metadata": {
      "needs_background": "light"
     },
     "output_type": "display_data"
    }
   ],
   "source": [
    "# 运行以下代码\n",
    "# creates the plot using\n",
    "lm = sns.lmplot(x = 'Age', y = 'Fare', data = titanic, hue = 'Sex', fit_reg=False)\n",
    "\n",
    "# set title\n",
    "lm.set(title = 'Fare x Age')\n",
    "\n",
    "# get the axes object and tweak it\n",
    "axes = lm.axes\n",
    "axes[0,0].set_ylim(-5,)\n",
    "axes[0,0].set_xlim(-5,85)"
   ]
  },
  {
   "cell_type": "markdown",
   "metadata": {
    "id": "871C006067394505A6E65270DF11228D",
    "jupyter": {},
    "mdEditEnable": false,
    "slideshow": {
     "slide_type": "slide"
    },
    "tags": []
   },
   "source": [
    "### 步骤7 有多少人生还？"
   ]
  },
  {
   "cell_type": "code",
   "execution_count": 310,
   "metadata": {
    "collapsed": false,
    "id": "FF9949C90E3B48328124B81A0E9C0A54",
    "jupyter": {
     "outputs_hidden": false
    },
    "slideshow": {
     "slide_type": "slide"
    },
    "tags": []
   },
   "outputs": [
    {
     "data": {
      "text/plain": [
       "342"
      ]
     },
     "execution_count": 310,
     "metadata": {},
     "output_type": "execute_result"
    }
   ],
   "source": [
    "# 运行以下代码\n",
    "titanic.Survived.sum()"
   ]
  },
  {
   "cell_type": "markdown",
   "metadata": {
    "id": "7393B65FC11B4DB2829963507AA4C5D2",
    "jupyter": {},
    "mdEditEnable": false,
    "slideshow": {
     "slide_type": "slide"
    },
    "tags": []
   },
   "source": [
    "### 步骤8 绘制一个展示船票价格的直方图"
   ]
  },
  {
   "cell_type": "code",
   "execution_count": 311,
   "metadata": {
    "collapsed": false,
    "id": "5AEBDC9DF09E4CF9853842B23DBAA860",
    "jupyter": {
     "outputs_hidden": false
    },
    "slideshow": {
     "slide_type": "slide"
    },
    "tags": []
   },
   "outputs": [
    {
     "data": {
      "text/html": [
       "<img src=\"data:image/png;base64,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\n",
       "\">"
      ],
      "text/plain": [
       "<Figure size 432x288 with 1 Axes>"
      ]
     },
     "metadata": {
      "needs_background": "light"
     },
     "output_type": "display_data"
    }
   ],
   "source": [
    "# 运行以下代码\n",
    "# sort the values from the top to the least value and slice the first 5 items\n",
    "df = titanic.Fare.sort_values(ascending = False)\n",
    "df\n",
    "\n",
    "# create bins interval using numpy\n",
    "binsVal = np.arange(0,600,10)\n",
    "binsVal\n",
    "\n",
    "# create the plot\n",
    "plt.hist(df, bins = binsVal)\n",
    "\n",
    "# Set the title and labels\n",
    "plt.xlabel('Fare')\n",
    "plt.ylabel('Frequency')\n",
    "plt.title('Fare Payed Histrogram')\n",
    "\n",
    "# show the plot\n",
    "plt.show()"
   ]
  },
  {
   "cell_type": "markdown",
   "metadata": {
    "id": "1F8A3E77661D4ED59A4710CF6749CFD5",
    "jupyter": {},
    "mdEditEnable": false,
    "slideshow": {
     "slide_type": "slide"
    },
    "tags": []
   },
   "source": [
    "[返回练习题索引](#练习题索引)"
   ]
  },
  {
   "cell_type": "markdown",
   "metadata": {
    "id": "A79CDF7146C34FF68DFF54ED6CB7FFF2",
    "jupyter": {},
    "mdEditEnable": false,
    "slideshow": {
     "slide_type": "slide"
    },
    "tags": []
   },
   "source": [
    "# 练习8-创建数据框\n",
    "## 探索Pokemon数据\n",
    "![image description](https://cdn.kesci.com/images/lab_upload/1508342670584_84032.jpeg)"
   ]
  },
  {
   "cell_type": "markdown",
   "metadata": {
    "id": "6571E247FA0E43FB84E23F7F17EA277E",
    "jupyter": {},
    "mdEditEnable": false,
    "slideshow": {
     "slide_type": "slide"
    },
    "tags": []
   },
   "source": [
    "[返回练习题索引](#练习题索引)"
   ]
  },
  {
   "cell_type": "markdown",
   "metadata": {
    "id": "A34B6D463953438DACF85C7B7473EFD9",
    "jupyter": {},
    "mdEditEnable": false,
    "slideshow": {
     "slide_type": "slide"
    },
    "tags": []
   },
   "source": [
    "### 步骤1 导入必要的库"
   ]
  },
  {
   "cell_type": "code",
   "execution_count": 312,
   "metadata": {
    "collapsed": false,
    "id": "A8BB9F723C55413786B2FD98F6CB4726",
    "jupyter": {
     "outputs_hidden": false
    },
    "slideshow": {
     "slide_type": "slide"
    },
    "tags": []
   },
   "outputs": [],
   "source": [
    "# 运行以下代码\n",
    "import pandas as pd"
   ]
  },
  {
   "cell_type": "markdown",
   "metadata": {
    "id": "D950D9C8945C442F833CAAD89A1A4467",
    "jupyter": {},
    "mdEditEnable": false,
    "slideshow": {
     "slide_type": "slide"
    },
    "tags": []
   },
   "source": [
    "### 步骤2 创建一个数据字典"
   ]
  },
  {
   "cell_type": "code",
   "execution_count": 313,
   "metadata": {
    "collapsed": false,
    "id": "30BEDCF6CAF7462E8FFC58ECC788D1CE",
    "jupyter": {
     "outputs_hidden": false
    },
    "slideshow": {
     "slide_type": "slide"
    },
    "tags": []
   },
   "outputs": [],
   "source": [
    "# 运行以下代码\n",
    "raw_data = {\"name\": ['Bulbasaur', 'Charmander','Squirtle','Caterpie'],\n",
    "            \"evolution\": ['Ivysaur','Charmeleon','Wartortle','Metapod'],\n",
    "            \"type\": ['grass', 'fire', 'water', 'bug'],\n",
    "            \"hp\": [45, 39, 44, 45],\n",
    "            \"pokedex\": ['yes', 'no','yes','no']                        \n",
    "            }"
   ]
  },
  {
   "cell_type": "markdown",
   "metadata": {
    "id": "5DC4C80B21B94D219603DA918474A658",
    "jupyter": {},
    "mdEditEnable": false,
    "slideshow": {
     "slide_type": "slide"
    },
    "tags": []
   },
   "source": [
    "### 步骤3 将数据字典存为一个名叫pokemon的数据框中"
   ]
  },
  {
   "cell_type": "code",
   "execution_count": 314,
   "metadata": {
    "collapsed": false,
    "id": "B547F7E999C843DE87A5764C379C83B7",
    "jupyter": {
     "outputs_hidden": false
    },
    "slideshow": {
     "slide_type": "slide"
    },
    "tags": []
   },
   "outputs": [
    {
     "data": {
      "text/html": [
       "<div>\n",
       "<style scoped>\n",
       "    .dataframe tbody tr th:only-of-type {\n",
       "        vertical-align: middle;\n",
       "    }\n",
       "\n",
       "    .dataframe tbody tr th {\n",
       "        vertical-align: top;\n",
       "    }\n",
       "\n",
       "    .dataframe thead th {\n",
       "        text-align: right;\n",
       "    }\n",
       "</style>\n",
       "<table border=\"1\" class=\"dataframe\">\n",
       "  <thead>\n",
       "    <tr style=\"text-align: right;\">\n",
       "      <th></th>\n",
       "      <th>evolution</th>\n",
       "      <th>hp</th>\n",
       "      <th>name</th>\n",
       "      <th>pokedex</th>\n",
       "      <th>type</th>\n",
       "    </tr>\n",
       "  </thead>\n",
       "  <tbody>\n",
       "    <tr>\n",
       "      <th>0</th>\n",
       "      <td>Ivysaur</td>\n",
       "      <td>45</td>\n",
       "      <td>Bulbasaur</td>\n",
       "      <td>yes</td>\n",
       "      <td>grass</td>\n",
       "    </tr>\n",
       "    <tr>\n",
       "      <th>1</th>\n",
       "      <td>Charmeleon</td>\n",
       "      <td>39</td>\n",
       "      <td>Charmander</td>\n",
       "      <td>no</td>\n",
       "      <td>fire</td>\n",
       "    </tr>\n",
       "    <tr>\n",
       "      <th>2</th>\n",
       "      <td>Wartortle</td>\n",
       "      <td>44</td>\n",
       "      <td>Squirtle</td>\n",
       "      <td>yes</td>\n",
       "      <td>water</td>\n",
       "    </tr>\n",
       "    <tr>\n",
       "      <th>3</th>\n",
       "      <td>Metapod</td>\n",
       "      <td>45</td>\n",
       "      <td>Caterpie</td>\n",
       "      <td>no</td>\n",
       "      <td>bug</td>\n",
       "    </tr>\n",
       "  </tbody>\n",
       "</table>\n",
       "</div>"
      ],
      "text/plain": [
       "    evolution  hp        name pokedex   type\n",
       "0     Ivysaur  45   Bulbasaur     yes  grass\n",
       "1  Charmeleon  39  Charmander      no   fire\n",
       "2   Wartortle  44    Squirtle     yes  water\n",
       "3     Metapod  45    Caterpie      no    bug"
      ]
     },
     "execution_count": 314,
     "metadata": {},
     "output_type": "execute_result"
    }
   ],
   "source": [
    "# 运行以下代码\n",
    "pokemon = pd.DataFrame(raw_data)\n",
    "pokemon.head()"
   ]
  },
  {
   "cell_type": "markdown",
   "metadata": {
    "id": "A51348F34F924DD3AAB0FDA0B23F7538",
    "jupyter": {},
    "mdEditEnable": false,
    "slideshow": {
     "slide_type": "slide"
    },
    "tags": []
   },
   "source": [
    "### 步骤4 数据框的列排序是字母顺序，请重新修改为```name, type, hp, evolution, pokedex```这个顺序"
   ]
  },
  {
   "cell_type": "code",
   "execution_count": 315,
   "metadata": {
    "collapsed": false,
    "id": "F9BFD66357A246458C99412659F043CD",
    "jupyter": {
     "outputs_hidden": false
    },
    "slideshow": {
     "slide_type": "slide"
    },
    "tags": []
   },
   "outputs": [
    {
     "data": {
      "text/html": [
       "<div>\n",
       "<style scoped>\n",
       "    .dataframe tbody tr th:only-of-type {\n",
       "        vertical-align: middle;\n",
       "    }\n",
       "\n",
       "    .dataframe tbody tr th {\n",
       "        vertical-align: top;\n",
       "    }\n",
       "\n",
       "    .dataframe thead th {\n",
       "        text-align: right;\n",
       "    }\n",
       "</style>\n",
       "<table border=\"1\" class=\"dataframe\">\n",
       "  <thead>\n",
       "    <tr style=\"text-align: right;\">\n",
       "      <th></th>\n",
       "      <th>name</th>\n",
       "      <th>type</th>\n",
       "      <th>hp</th>\n",
       "      <th>evolution</th>\n",
       "      <th>pokedex</th>\n",
       "    </tr>\n",
       "  </thead>\n",
       "  <tbody>\n",
       "    <tr>\n",
       "      <th>0</th>\n",
       "      <td>Bulbasaur</td>\n",
       "      <td>grass</td>\n",
       "      <td>45</td>\n",
       "      <td>Ivysaur</td>\n",
       "      <td>yes</td>\n",
       "    </tr>\n",
       "    <tr>\n",
       "      <th>1</th>\n",
       "      <td>Charmander</td>\n",
       "      <td>fire</td>\n",
       "      <td>39</td>\n",
       "      <td>Charmeleon</td>\n",
       "      <td>no</td>\n",
       "    </tr>\n",
       "    <tr>\n",
       "      <th>2</th>\n",
       "      <td>Squirtle</td>\n",
       "      <td>water</td>\n",
       "      <td>44</td>\n",
       "      <td>Wartortle</td>\n",
       "      <td>yes</td>\n",
       "    </tr>\n",
       "    <tr>\n",
       "      <th>3</th>\n",
       "      <td>Caterpie</td>\n",
       "      <td>bug</td>\n",
       "      <td>45</td>\n",
       "      <td>Metapod</td>\n",
       "      <td>no</td>\n",
       "    </tr>\n",
       "  </tbody>\n",
       "</table>\n",
       "</div>"
      ],
      "text/plain": [
       "         name   type  hp   evolution pokedex\n",
       "0   Bulbasaur  grass  45     Ivysaur     yes\n",
       "1  Charmander   fire  39  Charmeleon      no\n",
       "2    Squirtle  water  44   Wartortle     yes\n",
       "3    Caterpie    bug  45     Metapod      no"
      ]
     },
     "execution_count": 315,
     "metadata": {},
     "output_type": "execute_result"
    }
   ],
   "source": [
    "# 运行以下代码\n",
    "pokemon = pokemon[['name', 'type', 'hp', 'evolution','pokedex']]\n",
    "pokemon"
   ]
  },
  {
   "cell_type": "markdown",
   "metadata": {
    "id": "AEE5F48A61FC42B8B7C4FF3AD931F75B",
    "jupyter": {},
    "mdEditEnable": false,
    "slideshow": {
     "slide_type": "slide"
    },
    "tags": []
   },
   "source": [
    "### 步骤5 添加一个列```place```"
   ]
  },
  {
   "cell_type": "code",
   "execution_count": 316,
   "metadata": {
    "collapsed": false,
    "id": "1266241FE80541819EA804078947F36E",
    "jupyter": {
     "outputs_hidden": false
    },
    "slideshow": {
     "slide_type": "slide"
    },
    "tags": []
   },
   "outputs": [
    {
     "data": {
      "text/html": [
       "<div>\n",
       "<style scoped>\n",
       "    .dataframe tbody tr th:only-of-type {\n",
       "        vertical-align: middle;\n",
       "    }\n",
       "\n",
       "    .dataframe tbody tr th {\n",
       "        vertical-align: top;\n",
       "    }\n",
       "\n",
       "    .dataframe thead th {\n",
       "        text-align: right;\n",
       "    }\n",
       "</style>\n",
       "<table border=\"1\" class=\"dataframe\">\n",
       "  <thead>\n",
       "    <tr style=\"text-align: right;\">\n",
       "      <th></th>\n",
       "      <th>name</th>\n",
       "      <th>type</th>\n",
       "      <th>hp</th>\n",
       "      <th>evolution</th>\n",
       "      <th>pokedex</th>\n",
       "      <th>place</th>\n",
       "    </tr>\n",
       "  </thead>\n",
       "  <tbody>\n",
       "    <tr>\n",
       "      <th>0</th>\n",
       "      <td>Bulbasaur</td>\n",
       "      <td>grass</td>\n",
       "      <td>45</td>\n",
       "      <td>Ivysaur</td>\n",
       "      <td>yes</td>\n",
       "      <td>park</td>\n",
       "    </tr>\n",
       "    <tr>\n",
       "      <th>1</th>\n",
       "      <td>Charmander</td>\n",
       "      <td>fire</td>\n",
       "      <td>39</td>\n",
       "      <td>Charmeleon</td>\n",
       "      <td>no</td>\n",
       "      <td>street</td>\n",
       "    </tr>\n",
       "    <tr>\n",
       "      <th>2</th>\n",
       "      <td>Squirtle</td>\n",
       "      <td>water</td>\n",
       "      <td>44</td>\n",
       "      <td>Wartortle</td>\n",
       "      <td>yes</td>\n",
       "      <td>lake</td>\n",
       "    </tr>\n",
       "    <tr>\n",
       "      <th>3</th>\n",
       "      <td>Caterpie</td>\n",
       "      <td>bug</td>\n",
       "      <td>45</td>\n",
       "      <td>Metapod</td>\n",
       "      <td>no</td>\n",
       "      <td>forest</td>\n",
       "    </tr>\n",
       "  </tbody>\n",
       "</table>\n",
       "</div>"
      ],
      "text/plain": [
       "         name   type  hp   evolution pokedex   place\n",
       "0   Bulbasaur  grass  45     Ivysaur     yes    park\n",
       "1  Charmander   fire  39  Charmeleon      no  street\n",
       "2    Squirtle  water  44   Wartortle     yes    lake\n",
       "3    Caterpie    bug  45     Metapod      no  forest"
      ]
     },
     "execution_count": 316,
     "metadata": {},
     "output_type": "execute_result"
    }
   ],
   "source": [
    "# 运行以下代码\n",
    "pokemon['place'] = ['park','street','lake','forest']\n",
    "pokemon"
   ]
  },
  {
   "cell_type": "markdown",
   "metadata": {
    "id": "89BA607ADFDD49238AED66C162437A98",
    "jupyter": {},
    "mdEditEnable": false,
    "slideshow": {
     "slide_type": "slide"
    },
    "tags": []
   },
   "source": [
    "### 步骤6 查看每个列的数据类型"
   ]
  },
  {
   "cell_type": "code",
   "execution_count": 317,
   "metadata": {
    "collapsed": false,
    "id": "4ED1CC286FAF4D2C99D0B405CE938110",
    "jupyter": {
     "outputs_hidden": false
    },
    "slideshow": {
     "slide_type": "slide"
    },
    "tags": []
   },
   "outputs": [
    {
     "data": {
      "text/plain": [
       "name         object\n",
       "type         object\n",
       "hp            int64\n",
       "evolution    object\n",
       "pokedex      object\n",
       "place        object\n",
       "dtype: object"
      ]
     },
     "execution_count": 317,
     "metadata": {},
     "output_type": "execute_result"
    }
   ],
   "source": [
    "# 运行以下代码\n",
    "pokemon.dtypes"
   ]
  },
  {
   "cell_type": "markdown",
   "metadata": {
    "id": "79E71C1A6C9F48FA98C69C1B6C8A8705",
    "jupyter": {},
    "mdEditEnable": false,
    "slideshow": {
     "slide_type": "slide"
    },
    "tags": []
   },
   "source": [
    "[返回练习题索引](#练习题索引)"
   ]
  },
  {
   "cell_type": "markdown",
   "metadata": {
    "id": "D12483ED25084A538006D15D572BE247",
    "jupyter": {},
    "mdEditEnable": false,
    "slideshow": {
     "slide_type": "slide"
    },
    "tags": []
   },
   "source": [
    "# 练习9-时间序列\n",
    "## 探索Apple公司股价数据\n",
    "![image description](https://cdn.kesci.com/images/lab_upload/1508342688865_7439.jpeg)"
   ]
  },
  {
   "cell_type": "markdown",
   "metadata": {
    "id": "010DC999472E4F6285E9BB2DD8D90F37",
    "jupyter": {},
    "mdEditEnable": false,
    "slideshow": {
     "slide_type": "slide"
    },
    "tags": []
   },
   "source": [
    "[返回练习题索引](#练习题索引)"
   ]
  },
  {
   "cell_type": "markdown",
   "metadata": {
    "id": "841A159C741942658AC5A2FBC92C8B57",
    "jupyter": {},
    "mdEditEnable": false,
    "slideshow": {
     "slide_type": "slide"
    },
    "tags": []
   },
   "source": [
    "### 步骤1 导入必要的库"
   ]
  },
  {
   "cell_type": "code",
   "execution_count": 318,
   "metadata": {
    "collapsed": false,
    "id": "C375B0EDB2394D0F9DE1BF6F42C18318",
    "jupyter": {
     "outputs_hidden": false
    },
    "slideshow": {
     "slide_type": "slide"
    },
    "tags": []
   },
   "outputs": [],
   "source": [
    "# 运行以下代码\n",
    "import pandas as pd\n",
    "import numpy as np\n",
    "\n",
    "# visualization\n",
    "import matplotlib.pyplot as plt\n",
    "\n",
    "%matplotlib inline"
   ]
  },
  {
   "cell_type": "markdown",
   "metadata": {
    "id": "AA0086D4DF3C47E48A19B94ABAA17DE8",
    "jupyter": {},
    "mdEditEnable": false,
    "slideshow": {
     "slide_type": "slide"
    },
    "tags": []
   },
   "source": [
    "### 步骤2 数据集地址"
   ]
  },
  {
   "cell_type": "code",
   "execution_count": 37,
   "metadata": {
    "collapsed": false,
    "id": "892C693765AF4DF48B7D4C036B9D426B",
    "jupyter": {
     "outputs_hidden": false
    },
    "slideshow": {
     "slide_type": "slide"
    },
    "tags": []
   },
   "outputs": [],
   "source": [
    "# 运行以下代码\n",
    "path9 = '../input/pandas_exercise/pandas_exercise/exercise_data/Apple_stock.csv'   # Apple_stock.csv"
   ]
  },
  {
   "cell_type": "markdown",
   "metadata": {
    "id": "EDFD5E34DB45409399520B6F743ED653",
    "jupyter": {},
    "mdEditEnable": false,
    "slideshow": {
     "slide_type": "slide"
    },
    "tags": []
   },
   "source": [
    "### 步骤3 读取数据并存为一个名叫apple的数据框"
   ]
  },
  {
   "cell_type": "code",
   "execution_count": 38,
   "metadata": {
    "collapsed": false,
    "id": "3DCDFFC7067249A586C211804FF33009",
    "jupyter": {
     "outputs_hidden": false
    },
    "slideshow": {
     "slide_type": "slide"
    },
    "tags": []
   },
   "outputs": [
    {
     "data": {
      "text/html": [
       "<div>\n",
       "<style scoped>\n",
       "    .dataframe tbody tr th:only-of-type {\n",
       "        vertical-align: middle;\n",
       "    }\n",
       "\n",
       "    .dataframe tbody tr th {\n",
       "        vertical-align: top;\n",
       "    }\n",
       "\n",
       "    .dataframe thead th {\n",
       "        text-align: right;\n",
       "    }\n",
       "</style>\n",
       "<table border=\"1\" class=\"dataframe\">\n",
       "  <thead>\n",
       "    <tr style=\"text-align: right;\">\n",
       "      <th></th>\n",
       "      <th>Date</th>\n",
       "      <th>Open</th>\n",
       "      <th>High</th>\n",
       "      <th>Low</th>\n",
       "      <th>Close</th>\n",
       "      <th>Volume</th>\n",
       "      <th>Adj Close</th>\n",
       "    </tr>\n",
       "  </thead>\n",
       "  <tbody>\n",
       "    <tr>\n",
       "      <th>0</th>\n",
       "      <td>2014-07-08</td>\n",
       "      <td>96.27</td>\n",
       "      <td>96.80</td>\n",
       "      <td>93.92</td>\n",
       "      <td>95.35</td>\n",
       "      <td>65130000</td>\n",
       "      <td>95.35</td>\n",
       "    </tr>\n",
       "    <tr>\n",
       "      <th>1</th>\n",
       "      <td>2014-07-07</td>\n",
       "      <td>94.14</td>\n",
       "      <td>95.99</td>\n",
       "      <td>94.10</td>\n",
       "      <td>95.97</td>\n",
       "      <td>56305400</td>\n",
       "      <td>95.97</td>\n",
       "    </tr>\n",
       "    <tr>\n",
       "      <th>2</th>\n",
       "      <td>2014-07-03</td>\n",
       "      <td>93.67</td>\n",
       "      <td>94.10</td>\n",
       "      <td>93.20</td>\n",
       "      <td>94.03</td>\n",
       "      <td>22891800</td>\n",
       "      <td>94.03</td>\n",
       "    </tr>\n",
       "    <tr>\n",
       "      <th>3</th>\n",
       "      <td>2014-07-02</td>\n",
       "      <td>93.87</td>\n",
       "      <td>94.06</td>\n",
       "      <td>93.09</td>\n",
       "      <td>93.48</td>\n",
       "      <td>28420900</td>\n",
       "      <td>93.48</td>\n",
       "    </tr>\n",
       "    <tr>\n",
       "      <th>4</th>\n",
       "      <td>2014-07-01</td>\n",
       "      <td>93.52</td>\n",
       "      <td>94.07</td>\n",
       "      <td>93.13</td>\n",
       "      <td>93.52</td>\n",
       "      <td>38170200</td>\n",
       "      <td>93.52</td>\n",
       "    </tr>\n",
       "  </tbody>\n",
       "</table>\n",
       "</div>"
      ],
      "text/plain": [
       "         Date   Open   High    Low  Close    Volume  Adj Close\n",
       "0  2014-07-08  96.27  96.80  93.92  95.35  65130000      95.35\n",
       "1  2014-07-07  94.14  95.99  94.10  95.97  56305400      95.97\n",
       "2  2014-07-03  93.67  94.10  93.20  94.03  22891800      94.03\n",
       "3  2014-07-02  93.87  94.06  93.09  93.48  28420900      93.48\n",
       "4  2014-07-01  93.52  94.07  93.13  93.52  38170200      93.52"
      ]
     },
     "metadata": {},
     "output_type": "execute_result",
     "transient": {}
    }
   ],
   "source": [
    "# 运行以下代码\n",
    "apple = pd.read_csv(path9)\n",
    "apple.head()"
   ]
  },
  {
   "cell_type": "markdown",
   "metadata": {
    "id": "E9BBF6F963354A1BB499D87C283F37FF",
    "jupyter": {},
    "mdEditEnable": false,
    "slideshow": {
     "slide_type": "slide"
    },
    "tags": []
   },
   "source": [
    "\n",
    "### 步骤4 查看每一列的数据类型"
   ]
  },
  {
   "cell_type": "code",
   "execution_count": 321,
   "metadata": {
    "collapsed": false,
    "id": "25C3954C23FD4CBAA7424F0E8C8F3006",
    "jupyter": {
     "outputs_hidden": false
    },
    "slideshow": {
     "slide_type": "slide"
    },
    "tags": []
   },
   "outputs": [
    {
     "data": {
      "text/plain": [
       "Date          object\n",
       "Open         float64\n",
       "High         float64\n",
       "Low          float64\n",
       "Close        float64\n",
       "Volume         int64\n",
       "Adj Close    float64\n",
       "dtype: object"
      ]
     },
     "execution_count": 321,
     "metadata": {},
     "output_type": "execute_result"
    }
   ],
   "source": [
    "# 运行以下代码\n",
    "apple.dtypes"
   ]
  },
  {
   "cell_type": "markdown",
   "metadata": {
    "id": "43FB11ECE62A4D018E253B24A314E456",
    "jupyter": {},
    "mdEditEnable": false,
    "slideshow": {
     "slide_type": "slide"
    },
    "tags": []
   },
   "source": [
    "### 步骤5 将```Date```这个列转换为```datetime```类型"
   ]
  },
  {
   "cell_type": "code",
   "execution_count": 322,
   "metadata": {
    "collapsed": false,
    "id": "AFCD772304054FE08985879AA00D63DB",
    "jupyter": {
     "outputs_hidden": false
    },
    "slideshow": {
     "slide_type": "slide"
    },
    "tags": []
   },
   "outputs": [
    {
     "data": {
      "text/plain": [
       "0   2014-07-08\n",
       "1   2014-07-07\n",
       "2   2014-07-03\n",
       "3   2014-07-02\n",
       "4   2014-07-01\n",
       "Name: Date, dtype: datetime64[ns]"
      ]
     },
     "execution_count": 322,
     "metadata": {},
     "output_type": "execute_result"
    }
   ],
   "source": [
    "# 运行以下代码\n",
    "apple.Date = pd.to_datetime(apple.Date)\n",
    "apple['Date'].head()"
   ]
  },
  {
   "cell_type": "markdown",
   "metadata": {
    "id": "6C7CB38E16724F6F8DF4571814EA0223",
    "jupyter": {},
    "mdEditEnable": false,
    "slideshow": {
     "slide_type": "slide"
    },
    "tags": []
   },
   "source": [
    "### 步骤6 将```Date```设置为索引"
   ]
  },
  {
   "cell_type": "code",
   "execution_count": 323,
   "metadata": {
    "collapsed": false,
    "id": "92FCBBEF13184AD783156A8F09DC94A9",
    "jupyter": {
     "outputs_hidden": false
    },
    "slideshow": {
     "slide_type": "slide"
    },
    "tags": []
   },
   "outputs": [
    {
     "data": {
      "text/html": [
       "<div>\n",
       "<style scoped>\n",
       "    .dataframe tbody tr th:only-of-type {\n",
       "        vertical-align: middle;\n",
       "    }\n",
       "\n",
       "    .dataframe tbody tr th {\n",
       "        vertical-align: top;\n",
       "    }\n",
       "\n",
       "    .dataframe thead th {\n",
       "        text-align: right;\n",
       "    }\n",
       "</style>\n",
       "<table border=\"1\" class=\"dataframe\">\n",
       "  <thead>\n",
       "    <tr style=\"text-align: right;\">\n",
       "      <th></th>\n",
       "      <th>Open</th>\n",
       "      <th>High</th>\n",
       "      <th>Low</th>\n",
       "      <th>Close</th>\n",
       "      <th>Volume</th>\n",
       "      <th>Adj Close</th>\n",
       "    </tr>\n",
       "    <tr>\n",
       "      <th>Date</th>\n",
       "      <th></th>\n",
       "      <th></th>\n",
       "      <th></th>\n",
       "      <th></th>\n",
       "      <th></th>\n",
       "      <th></th>\n",
       "    </tr>\n",
       "  </thead>\n",
       "  <tbody>\n",
       "    <tr>\n",
       "      <th>2014-07-08</th>\n",
       "      <td>96.27</td>\n",
       "      <td>96.80</td>\n",
       "      <td>93.92</td>\n",
       "      <td>95.35</td>\n",
       "      <td>65130000</td>\n",
       "      <td>95.35</td>\n",
       "    </tr>\n",
       "    <tr>\n",
       "      <th>2014-07-07</th>\n",
       "      <td>94.14</td>\n",
       "      <td>95.99</td>\n",
       "      <td>94.10</td>\n",
       "      <td>95.97</td>\n",
       "      <td>56305400</td>\n",
       "      <td>95.97</td>\n",
       "    </tr>\n",
       "    <tr>\n",
       "      <th>2014-07-03</th>\n",
       "      <td>93.67</td>\n",
       "      <td>94.10</td>\n",
       "      <td>93.20</td>\n",
       "      <td>94.03</td>\n",
       "      <td>22891800</td>\n",
       "      <td>94.03</td>\n",
       "    </tr>\n",
       "    <tr>\n",
       "      <th>2014-07-02</th>\n",
       "      <td>93.87</td>\n",
       "      <td>94.06</td>\n",
       "      <td>93.09</td>\n",
       "      <td>93.48</td>\n",
       "      <td>28420900</td>\n",
       "      <td>93.48</td>\n",
       "    </tr>\n",
       "    <tr>\n",
       "      <th>2014-07-01</th>\n",
       "      <td>93.52</td>\n",
       "      <td>94.07</td>\n",
       "      <td>93.13</td>\n",
       "      <td>93.52</td>\n",
       "      <td>38170200</td>\n",
       "      <td>93.52</td>\n",
       "    </tr>\n",
       "  </tbody>\n",
       "</table>\n",
       "</div>"
      ],
      "text/plain": [
       "             Open   High    Low  Close    Volume  Adj Close\n",
       "Date                                                       \n",
       "2014-07-08  96.27  96.80  93.92  95.35  65130000      95.35\n",
       "2014-07-07  94.14  95.99  94.10  95.97  56305400      95.97\n",
       "2014-07-03  93.67  94.10  93.20  94.03  22891800      94.03\n",
       "2014-07-02  93.87  94.06  93.09  93.48  28420900      93.48\n",
       "2014-07-01  93.52  94.07  93.13  93.52  38170200      93.52"
      ]
     },
     "execution_count": 323,
     "metadata": {},
     "output_type": "execute_result"
    }
   ],
   "source": [
    "# 运行以下代码\n",
    "apple = apple.set_index('Date')\n",
    "apple.head()"
   ]
  },
  {
   "cell_type": "markdown",
   "metadata": {
    "id": "04BE78E24B7E4E60AC86281DEB4288C4",
    "jupyter": {},
    "mdEditEnable": false,
    "slideshow": {
     "slide_type": "slide"
    },
    "tags": []
   },
   "source": [
    "### 步骤7 有重复的日期吗？"
   ]
  },
  {
   "cell_type": "code",
   "execution_count": 324,
   "metadata": {
    "collapsed": false,
    "id": "21C64EAFF83F4A078B1BACC3FD070F66",
    "jupyter": {
     "outputs_hidden": false
    },
    "slideshow": {
     "slide_type": "slide"
    },
    "tags": []
   },
   "outputs": [
    {
     "data": {
      "text/plain": [
       "True"
      ]
     },
     "execution_count": 324,
     "metadata": {},
     "output_type": "execute_result"
    }
   ],
   "source": [
    "# 运行以下代码\n",
    "apple.index.is_unique"
   ]
  },
  {
   "cell_type": "markdown",
   "metadata": {
    "id": "129DB8AED2054826AB2DDCF7C90B9788",
    "jupyter": {},
    "mdEditEnable": false,
    "slideshow": {
     "slide_type": "slide"
    },
    "tags": []
   },
   "source": [
    "### 步骤8 将index设置为升序"
   ]
  },
  {
   "cell_type": "code",
   "execution_count": 325,
   "metadata": {
    "collapsed": false,
    "id": "5348053ADAF1449F870581BD8130F266",
    "jupyter": {
     "outputs_hidden": false
    },
    "slideshow": {
     "slide_type": "slide"
    },
    "tags": []
   },
   "outputs": [
    {
     "data": {
      "text/html": [
       "<div>\n",
       "<style scoped>\n",
       "    .dataframe tbody tr th:only-of-type {\n",
       "        vertical-align: middle;\n",
       "    }\n",
       "\n",
       "    .dataframe tbody tr th {\n",
       "        vertical-align: top;\n",
       "    }\n",
       "\n",
       "    .dataframe thead th {\n",
       "        text-align: right;\n",
       "    }\n",
       "</style>\n",
       "<table border=\"1\" class=\"dataframe\">\n",
       "  <thead>\n",
       "    <tr style=\"text-align: right;\">\n",
       "      <th></th>\n",
       "      <th>Open</th>\n",
       "      <th>High</th>\n",
       "      <th>Low</th>\n",
       "      <th>Close</th>\n",
       "      <th>Volume</th>\n",
       "      <th>Adj Close</th>\n",
       "    </tr>\n",
       "    <tr>\n",
       "      <th>Date</th>\n",
       "      <th></th>\n",
       "      <th></th>\n",
       "      <th></th>\n",
       "      <th></th>\n",
       "      <th></th>\n",
       "      <th></th>\n",
       "    </tr>\n",
       "  </thead>\n",
       "  <tbody>\n",
       "    <tr>\n",
       "      <th>1980-12-12</th>\n",
       "      <td>28.75</td>\n",
       "      <td>28.87</td>\n",
       "      <td>28.75</td>\n",
       "      <td>28.75</td>\n",
       "      <td>117258400</td>\n",
       "      <td>0.45</td>\n",
       "    </tr>\n",
       "    <tr>\n",
       "      <th>1980-12-15</th>\n",
       "      <td>27.38</td>\n",
       "      <td>27.38</td>\n",
       "      <td>27.25</td>\n",
       "      <td>27.25</td>\n",
       "      <td>43971200</td>\n",
       "      <td>0.42</td>\n",
       "    </tr>\n",
       "    <tr>\n",
       "      <th>1980-12-16</th>\n",
       "      <td>25.37</td>\n",
       "      <td>25.37</td>\n",
       "      <td>25.25</td>\n",
       "      <td>25.25</td>\n",
       "      <td>26432000</td>\n",
       "      <td>0.39</td>\n",
       "    </tr>\n",
       "    <tr>\n",
       "      <th>1980-12-17</th>\n",
       "      <td>25.87</td>\n",
       "      <td>26.00</td>\n",
       "      <td>25.87</td>\n",
       "      <td>25.87</td>\n",
       "      <td>21610400</td>\n",
       "      <td>0.40</td>\n",
       "    </tr>\n",
       "    <tr>\n",
       "      <th>1980-12-18</th>\n",
       "      <td>26.63</td>\n",
       "      <td>26.75</td>\n",
       "      <td>26.63</td>\n",
       "      <td>26.63</td>\n",
       "      <td>18362400</td>\n",
       "      <td>0.41</td>\n",
       "    </tr>\n",
       "  </tbody>\n",
       "</table>\n",
       "</div>"
      ],
      "text/plain": [
       "             Open   High    Low  Close     Volume  Adj Close\n",
       "Date                                                        \n",
       "1980-12-12  28.75  28.87  28.75  28.75  117258400       0.45\n",
       "1980-12-15  27.38  27.38  27.25  27.25   43971200       0.42\n",
       "1980-12-16  25.37  25.37  25.25  25.25   26432000       0.39\n",
       "1980-12-17  25.87  26.00  25.87  25.87   21610400       0.40\n",
       "1980-12-18  26.63  26.75  26.63  26.63   18362400       0.41"
      ]
     },
     "execution_count": 325,
     "metadata": {},
     "output_type": "execute_result"
    }
   ],
   "source": [
    "# 运行以下代码\n",
    "apple.sort_index(ascending = True).head()"
   ]
  },
  {
   "cell_type": "markdown",
   "metadata": {
    "id": "E8712B6D34904D38AB1CF00A864C70CE",
    "jupyter": {},
    "mdEditEnable": false,
    "slideshow": {
     "slide_type": "slide"
    },
    "tags": []
   },
   "source": [
    "### 步骤9 找到每个月的最后一个交易日(business day)"
   ]
  },
  {
   "cell_type": "code",
   "execution_count": 326,
   "metadata": {
    "collapsed": false,
    "id": "68ACA44BC1714EE68D510D010741A310",
    "jupyter": {
     "outputs_hidden": false
    },
    "slideshow": {
     "slide_type": "slide"
    },
    "tags": []
   },
   "outputs": [
    {
     "name": "stderr",
     "output_type": "stream",
     "text": [
      "/opt/conda/lib/python3.5/site-packages/ipykernel_launcher.py:3: FutureWarning: \n",
      ".resample() is now a deferred operation\n",
      "You called head(...) on this deferred object which materialized it into a dataframe\n",
      "by implicitly taking the mean.  Use .resample(...).mean() instead\n",
      "  This is separate from the ipykernel package so we can avoid doing imports until\n"
     ]
    },
    {
     "data": {
      "text/html": [
       "<div>\n",
       "<style scoped>\n",
       "    .dataframe tbody tr th:only-of-type {\n",
       "        vertical-align: middle;\n",
       "    }\n",
       "\n",
       "    .dataframe tbody tr th {\n",
       "        vertical-align: top;\n",
       "    }\n",
       "\n",
       "    .dataframe thead th {\n",
       "        text-align: right;\n",
       "    }\n",
       "</style>\n",
       "<table border=\"1\" class=\"dataframe\">\n",
       "  <thead>\n",
       "    <tr style=\"text-align: right;\">\n",
       "      <th></th>\n",
       "      <th>Open</th>\n",
       "      <th>High</th>\n",
       "      <th>Low</th>\n",
       "      <th>Close</th>\n",
       "      <th>Volume</th>\n",
       "      <th>Adj Close</th>\n",
       "    </tr>\n",
       "    <tr>\n",
       "      <th>Date</th>\n",
       "      <th></th>\n",
       "      <th></th>\n",
       "      <th></th>\n",
       "      <th></th>\n",
       "      <th></th>\n",
       "      <th></th>\n",
       "    </tr>\n",
       "  </thead>\n",
       "  <tbody>\n",
       "    <tr>\n",
       "      <th>1980-12-31</th>\n",
       "      <td>30.481538</td>\n",
       "      <td>30.567692</td>\n",
       "      <td>30.443077</td>\n",
       "      <td>30.443077</td>\n",
       "      <td>2.586252e+07</td>\n",
       "      <td>0.473077</td>\n",
       "    </tr>\n",
       "    <tr>\n",
       "      <th>1981-01-30</th>\n",
       "      <td>31.754762</td>\n",
       "      <td>31.826667</td>\n",
       "      <td>31.654762</td>\n",
       "      <td>31.654762</td>\n",
       "      <td>7.249867e+06</td>\n",
       "      <td>0.493810</td>\n",
       "    </tr>\n",
       "    <tr>\n",
       "      <th>1981-02-27</th>\n",
       "      <td>26.480000</td>\n",
       "      <td>26.572105</td>\n",
       "      <td>26.407895</td>\n",
       "      <td>26.407895</td>\n",
       "      <td>4.231832e+06</td>\n",
       "      <td>0.411053</td>\n",
       "    </tr>\n",
       "    <tr>\n",
       "      <th>1981-03-31</th>\n",
       "      <td>24.937727</td>\n",
       "      <td>25.016818</td>\n",
       "      <td>24.836364</td>\n",
       "      <td>24.836364</td>\n",
       "      <td>7.962691e+06</td>\n",
       "      <td>0.387727</td>\n",
       "    </tr>\n",
       "    <tr>\n",
       "      <th>1981-04-30</th>\n",
       "      <td>27.286667</td>\n",
       "      <td>27.368095</td>\n",
       "      <td>27.227143</td>\n",
       "      <td>27.227143</td>\n",
       "      <td>6.392000e+06</td>\n",
       "      <td>0.423333</td>\n",
       "    </tr>\n",
       "  </tbody>\n",
       "</table>\n",
       "</div>"
      ],
      "text/plain": [
       "                 Open       High        Low      Close        Volume  \\\n",
       "Date                                                                   \n",
       "1980-12-31  30.481538  30.567692  30.443077  30.443077  2.586252e+07   \n",
       "1981-01-30  31.754762  31.826667  31.654762  31.654762  7.249867e+06   \n",
       "1981-02-27  26.480000  26.572105  26.407895  26.407895  4.231832e+06   \n",
       "1981-03-31  24.937727  25.016818  24.836364  24.836364  7.962691e+06   \n",
       "1981-04-30  27.286667  27.368095  27.227143  27.227143  6.392000e+06   \n",
       "\n",
       "            Adj Close  \n",
       "Date                   \n",
       "1980-12-31   0.473077  \n",
       "1981-01-30   0.493810  \n",
       "1981-02-27   0.411053  \n",
       "1981-03-31   0.387727  \n",
       "1981-04-30   0.423333  "
      ]
     },
     "execution_count": 326,
     "metadata": {},
     "output_type": "execute_result"
    }
   ],
   "source": [
    "# 运行以下代码\n",
    "apple_month = apple.resample('BM')\n",
    "apple_month.head()"
   ]
  },
  {
   "cell_type": "markdown",
   "metadata": {
    "id": "C0C619B0380944EB8E0BE33169FF1CC6",
    "jupyter": {},
    "mdEditEnable": false,
    "slideshow": {
     "slide_type": "slide"
    },
    "tags": []
   },
   "source": [
    "### 步骤10 数据集中最早的日期和最晚的日期相差多少天？"
   ]
  },
  {
   "cell_type": "code",
   "execution_count": 327,
   "metadata": {
    "collapsed": false,
    "id": "4979EADDA15A41A0889BA622E2CD29AD",
    "jupyter": {
     "outputs_hidden": false
    },
    "slideshow": {
     "slide_type": "slide"
    },
    "tags": []
   },
   "outputs": [
    {
     "data": {
      "text/plain": [
       "12261"
      ]
     },
     "execution_count": 327,
     "metadata": {},
     "output_type": "execute_result"
    }
   ],
   "source": [
    "# 运行以下代码\n",
    "(apple.index.max() - apple.index.min()).days"
   ]
  },
  {
   "cell_type": "markdown",
   "metadata": {
    "id": "3956CFCA4F6D4ADA809C08E6CE84D09A",
    "jupyter": {},
    "mdEditEnable": false,
    "slideshow": {
     "slide_type": "slide"
    },
    "tags": []
   },
   "source": [
    "### 步骤11 在数据中一共有多少个月？"
   ]
  },
  {
   "cell_type": "code",
   "execution_count": 328,
   "metadata": {
    "collapsed": false,
    "id": "EA7576FD16F746218BB6D16F9CA55B9D",
    "jupyter": {
     "outputs_hidden": false
    },
    "slideshow": {
     "slide_type": "slide"
    },
    "tags": []
   },
   "outputs": [
    {
     "data": {
      "text/plain": [
       "404"
      ]
     },
     "execution_count": 328,
     "metadata": {},
     "output_type": "execute_result"
    }
   ],
   "source": [
    "# 运行以下代码\n",
    "apple_months = apple.resample('BM').mean()\n",
    "len(apple_months.index)"
   ]
  },
  {
   "cell_type": "markdown",
   "metadata": {
    "id": "6540965C29F34777862F9444993802B3",
    "jupyter": {},
    "mdEditEnable": false,
    "slideshow": {
     "slide_type": "slide"
    },
    "tags": []
   },
   "source": [
    "### 步骤12 按照时间顺序可视化```Adj Close```值"
   ]
  },
  {
   "cell_type": "code",
   "execution_count": 329,
   "metadata": {
    "collapsed": false,
    "id": "9B8093F53C6A420F97817B15B11B1909",
    "jupyter": {
     "outputs_hidden": false
    },
    "slideshow": {
     "slide_type": "slide"
    },
    "tags": []
   },
   "outputs": [
    {
     "data": {
      "text/html": [
       "<img src=\"data:image/png;base64,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\n",
       "\">"
      ],
      "text/plain": [
       "<Figure size 972x648 with 1 Axes>"
      ]
     },
     "metadata": {
      "needs_background": "light"
     },
     "output_type": "display_data"
    }
   ],
   "source": [
    "# 运行以下代码\n",
    "# makes the plot and assign it to a variable\n",
    "appl_open = apple['Adj Close'].plot(title = \"Apple Stock\")\n",
    "\n",
    "# changes the size of the graph\n",
    "fig = appl_open.get_figure()\n",
    "fig.set_size_inches(13.5, 9)"
   ]
  },
  {
   "cell_type": "markdown",
   "metadata": {
    "id": "77A29AE2277B4B888DA85F4B8004B692",
    "jupyter": {},
    "mdEditEnable": false,
    "slideshow": {
     "slide_type": "slide"
    },
    "tags": []
   },
   "source": [
    "[返回练习题索引](#练习题索引)"
   ]
  },
  {
   "cell_type": "markdown",
   "metadata": {
    "id": "6D868A80324047C48A462D078ACB33B0",
    "jupyter": {},
    "mdEditEnable": false,
    "slideshow": {
     "slide_type": "slide"
    },
    "tags": []
   },
   "source": [
    "# 练习10-删除数据\n",
    "## 探索Iris纸鸢花数据"
   ]
  },
  {
   "cell_type": "markdown",
   "metadata": {
    "id": "53FA7EB229D049A38772245D34B021BB",
    "jupyter": {},
    "mdEditEnable": false,
    "slideshow": {
     "slide_type": "slide"
    },
    "tags": []
   },
   "source": [
    "### 步骤1 导入必要的库"
   ]
  },
  {
   "cell_type": "code",
   "execution_count": 330,
   "metadata": {
    "collapsed": false,
    "id": "8174631DDE094F2291974609325E2270",
    "jupyter": {
     "outputs_hidden": false
    },
    "slideshow": {
     "slide_type": "slide"
    },
    "tags": []
   },
   "outputs": [],
   "source": [
    "# 运行以下代码\n",
    "import pandas as pd"
   ]
  },
  {
   "cell_type": "markdown",
   "metadata": {
    "id": "F1742B17F6194C51A6424499292A4E42",
    "jupyter": {},
    "mdEditEnable": false,
    "slideshow": {
     "slide_type": "slide"
    },
    "tags": []
   },
   "source": [
    "### 步骤2 数据集地址"
   ]
  },
  {
   "cell_type": "code",
   "execution_count": 40,
   "metadata": {
    "collapsed": false,
    "id": "DE715394D0404C638290A313DCB45B32",
    "jupyter": {
     "outputs_hidden": false
    },
    "slideshow": {
     "slide_type": "slide"
    },
    "tags": []
   },
   "outputs": [],
   "source": [
    "# 运行以下代码\n",
    "path10 ='../input/pandas_exercise/pandas_exercise/exercise_data/iris.csv'   # iris.csv"
   ]
  },
  {
   "cell_type": "markdown",
   "metadata": {
    "id": "C7AB4912446F42168B615F4DD32A7CB3",
    "jupyter": {},
    "mdEditEnable": false,
    "slideshow": {
     "slide_type": "slide"
    },
    "tags": []
   },
   "source": [
    "### 步骤3 将数据集存成变量```iris```"
   ]
  },
  {
   "cell_type": "code",
   "execution_count": 41,
   "metadata": {
    "collapsed": false,
    "id": "116FC6EABA704E5989C15ACB34AA8624",
    "jupyter": {
     "outputs_hidden": false
    },
    "slideshow": {
     "slide_type": "slide"
    },
    "tags": []
   },
   "outputs": [
    {
     "data": {
      "text/html": [
       "<div>\n",
       "<style scoped>\n",
       "    .dataframe tbody tr th:only-of-type {\n",
       "        vertical-align: middle;\n",
       "    }\n",
       "\n",
       "    .dataframe tbody tr th {\n",
       "        vertical-align: top;\n",
       "    }\n",
       "\n",
       "    .dataframe thead th {\n",
       "        text-align: right;\n",
       "    }\n",
       "</style>\n",
       "<table border=\"1\" class=\"dataframe\">\n",
       "  <thead>\n",
       "    <tr style=\"text-align: right;\">\n",
       "      <th></th>\n",
       "      <th>5.1</th>\n",
       "      <th>3.5</th>\n",
       "      <th>1.4</th>\n",
       "      <th>0.2</th>\n",
       "      <th>Iris-setosa</th>\n",
       "    </tr>\n",
       "  </thead>\n",
       "  <tbody>\n",
       "    <tr>\n",
       "      <th>0</th>\n",
       "      <td>4.9</td>\n",
       "      <td>3.0</td>\n",
       "      <td>1.4</td>\n",
       "      <td>0.2</td>\n",
       "      <td>Iris-setosa</td>\n",
       "    </tr>\n",
       "    <tr>\n",
       "      <th>1</th>\n",
       "      <td>4.7</td>\n",
       "      <td>3.2</td>\n",
       "      <td>1.3</td>\n",
       "      <td>0.2</td>\n",
       "      <td>Iris-setosa</td>\n",
       "    </tr>\n",
       "    <tr>\n",
       "      <th>2</th>\n",
       "      <td>4.6</td>\n",
       "      <td>3.1</td>\n",
       "      <td>1.5</td>\n",
       "      <td>0.2</td>\n",
       "      <td>Iris-setosa</td>\n",
       "    </tr>\n",
       "    <tr>\n",
       "      <th>3</th>\n",
       "      <td>5.0</td>\n",
       "      <td>3.6</td>\n",
       "      <td>1.4</td>\n",
       "      <td>0.2</td>\n",
       "      <td>Iris-setosa</td>\n",
       "    </tr>\n",
       "    <tr>\n",
       "      <th>4</th>\n",
       "      <td>5.4</td>\n",
       "      <td>3.9</td>\n",
       "      <td>1.7</td>\n",
       "      <td>0.4</td>\n",
       "      <td>Iris-setosa</td>\n",
       "    </tr>\n",
       "  </tbody>\n",
       "</table>\n",
       "</div>"
      ],
      "text/plain": [
       "   5.1  3.5  1.4  0.2  Iris-setosa\n",
       "0  4.9  3.0  1.4  0.2  Iris-setosa\n",
       "1  4.7  3.2  1.3  0.2  Iris-setosa\n",
       "2  4.6  3.1  1.5  0.2  Iris-setosa\n",
       "3  5.0  3.6  1.4  0.2  Iris-setosa\n",
       "4  5.4  3.9  1.7  0.4  Iris-setosa"
      ]
     },
     "metadata": {},
     "output_type": "execute_result",
     "transient": {}
    }
   ],
   "source": [
    "# 运行以下代码\n",
    "iris = pd.read_csv(path10)\n",
    "iris.head()"
   ]
  },
  {
   "cell_type": "markdown",
   "metadata": {
    "id": "658B4FE4FC9C4DBC8EACACB9C647E0CE",
    "jupyter": {},
    "mdEditEnable": false,
    "slideshow": {
     "slide_type": "slide"
    },
    "tags": []
   },
   "source": [
    "### 步骤4 创建数据框的列名称"
   ]
  },
  {
   "cell_type": "code",
   "execution_count": 333,
   "metadata": {
    "collapsed": false,
    "id": "5344A56EC22C49558C91E9A4BDA34B7E",
    "jupyter": {
     "outputs_hidden": false
    },
    "slideshow": {
     "slide_type": "slide"
    },
    "tags": []
   },
   "outputs": [
    {
     "data": {
      "text/html": [
       "<div>\n",
       "<style scoped>\n",
       "    .dataframe tbody tr th:only-of-type {\n",
       "        vertical-align: middle;\n",
       "    }\n",
       "\n",
       "    .dataframe tbody tr th {\n",
       "        vertical-align: top;\n",
       "    }\n",
       "\n",
       "    .dataframe thead th {\n",
       "        text-align: right;\n",
       "    }\n",
       "</style>\n",
       "<table border=\"1\" class=\"dataframe\">\n",
       "  <thead>\n",
       "    <tr style=\"text-align: right;\">\n",
       "      <th></th>\n",
       "      <th>sepal_length</th>\n",
       "      <th>sepal_width</th>\n",
       "      <th>petal_length</th>\n",
       "      <th>petal_width</th>\n",
       "      <th>class</th>\n",
       "    </tr>\n",
       "  </thead>\n",
       "  <tbody>\n",
       "    <tr>\n",
       "      <th>0</th>\n",
       "      <td>5.1</td>\n",
       "      <td>3.5</td>\n",
       "      <td>1.4</td>\n",
       "      <td>0.2</td>\n",
       "      <td>Iris-setosa</td>\n",
       "    </tr>\n",
       "    <tr>\n",
       "      <th>1</th>\n",
       "      <td>4.9</td>\n",
       "      <td>3.0</td>\n",
       "      <td>1.4</td>\n",
       "      <td>0.2</td>\n",
       "      <td>Iris-setosa</td>\n",
       "    </tr>\n",
       "    <tr>\n",
       "      <th>2</th>\n",
       "      <td>4.7</td>\n",
       "      <td>3.2</td>\n",
       "      <td>1.3</td>\n",
       "      <td>0.2</td>\n",
       "      <td>Iris-setosa</td>\n",
       "    </tr>\n",
       "    <tr>\n",
       "      <th>3</th>\n",
       "      <td>4.6</td>\n",
       "      <td>3.1</td>\n",
       "      <td>1.5</td>\n",
       "      <td>0.2</td>\n",
       "      <td>Iris-setosa</td>\n",
       "    </tr>\n",
       "    <tr>\n",
       "      <th>4</th>\n",
       "      <td>5.0</td>\n",
       "      <td>3.6</td>\n",
       "      <td>1.4</td>\n",
       "      <td>0.2</td>\n",
       "      <td>Iris-setosa</td>\n",
       "    </tr>\n",
       "  </tbody>\n",
       "</table>\n",
       "</div>"
      ],
      "text/plain": [
       "   sepal_length  sepal_width  petal_length  petal_width        class\n",
       "0           5.1          3.5           1.4          0.2  Iris-setosa\n",
       "1           4.9          3.0           1.4          0.2  Iris-setosa\n",
       "2           4.7          3.2           1.3          0.2  Iris-setosa\n",
       "3           4.6          3.1           1.5          0.2  Iris-setosa\n",
       "4           5.0          3.6           1.4          0.2  Iris-setosa"
      ]
     },
     "execution_count": 333,
     "metadata": {},
     "output_type": "execute_result"
    }
   ],
   "source": [
    "iris = pd.read_csv(path10,names = ['sepal_length','sepal_width', 'petal_length', 'petal_width', 'class'])\n",
    "iris.head()"
   ]
  },
  {
   "cell_type": "markdown",
   "metadata": {
    "id": "13CDAB74062843E2815364D365A03417",
    "jupyter": {},
    "mdEditEnable": false,
    "slideshow": {
     "slide_type": "slide"
    },
    "tags": []
   },
   "source": [
    "### 步骤5 数据框中有缺失值吗？"
   ]
  },
  {
   "cell_type": "code",
   "execution_count": 334,
   "metadata": {
    "collapsed": false,
    "id": "6F227576DD6B49548B9BBBA0FA8430AF",
    "jupyter": {
     "outputs_hidden": false
    },
    "slideshow": {
     "slide_type": "slide"
    },
    "tags": []
   },
   "outputs": [
    {
     "data": {
      "text/plain": [
       "sepal_length    0\n",
       "sepal_width     0\n",
       "petal_length    0\n",
       "petal_width     0\n",
       "class           0\n",
       "dtype: int64"
      ]
     },
     "execution_count": 334,
     "metadata": {},
     "output_type": "execute_result"
    }
   ],
   "source": [
    "# 运行以下代码\n",
    "pd.isnull(iris).sum()"
   ]
  },
  {
   "cell_type": "markdown",
   "metadata": {
    "id": "62EEA41BE65641F4AEE510E8C90EC1A4",
    "jupyter": {},
    "mdEditEnable": false,
    "slideshow": {
     "slide_type": "slide"
    },
    "tags": []
   },
   "source": [
    "### 步骤6 将列```petal_length```的第10到19行设置为缺失值"
   ]
  },
  {
   "cell_type": "code",
   "execution_count": 335,
   "metadata": {
    "collapsed": false,
    "id": "620281C521564E2E86D3C5E35555B5EE",
    "jupyter": {
     "outputs_hidden": false
    },
    "slideshow": {
     "slide_type": "slide"
    },
    "tags": []
   },
   "outputs": [
    {
     "data": {
      "text/html": [
       "<div>\n",
       "<style scoped>\n",
       "    .dataframe tbody tr th:only-of-type {\n",
       "        vertical-align: middle;\n",
       "    }\n",
       "\n",
       "    .dataframe tbody tr th {\n",
       "        vertical-align: top;\n",
       "    }\n",
       "\n",
       "    .dataframe thead th {\n",
       "        text-align: right;\n",
       "    }\n",
       "</style>\n",
       "<table border=\"1\" class=\"dataframe\">\n",
       "  <thead>\n",
       "    <tr style=\"text-align: right;\">\n",
       "      <th></th>\n",
       "      <th>sepal_length</th>\n",
       "      <th>sepal_width</th>\n",
       "      <th>petal_length</th>\n",
       "      <th>petal_width</th>\n",
       "      <th>class</th>\n",
       "    </tr>\n",
       "  </thead>\n",
       "  <tbody>\n",
       "    <tr>\n",
       "      <th>0</th>\n",
       "      <td>5.1</td>\n",
       "      <td>3.5</td>\n",
       "      <td>1.4</td>\n",
       "      <td>0.2</td>\n",
       "      <td>Iris-setosa</td>\n",
       "    </tr>\n",
       "    <tr>\n",
       "      <th>1</th>\n",
       "      <td>4.9</td>\n",
       "      <td>3.0</td>\n",
       "      <td>1.4</td>\n",
       "      <td>0.2</td>\n",
       "      <td>Iris-setosa</td>\n",
       "    </tr>\n",
       "    <tr>\n",
       "      <th>2</th>\n",
       "      <td>4.7</td>\n",
       "      <td>3.2</td>\n",
       "      <td>1.3</td>\n",
       "      <td>0.2</td>\n",
       "      <td>Iris-setosa</td>\n",
       "    </tr>\n",
       "    <tr>\n",
       "      <th>3</th>\n",
       "      <td>4.6</td>\n",
       "      <td>3.1</td>\n",
       "      <td>1.5</td>\n",
       "      <td>0.2</td>\n",
       "      <td>Iris-setosa</td>\n",
       "    </tr>\n",
       "    <tr>\n",
       "      <th>4</th>\n",
       "      <td>5.0</td>\n",
       "      <td>3.6</td>\n",
       "      <td>1.4</td>\n",
       "      <td>0.2</td>\n",
       "      <td>Iris-setosa</td>\n",
       "    </tr>\n",
       "    <tr>\n",
       "      <th>5</th>\n",
       "      <td>5.4</td>\n",
       "      <td>3.9</td>\n",
       "      <td>1.7</td>\n",
       "      <td>0.4</td>\n",
       "      <td>Iris-setosa</td>\n",
       "    </tr>\n",
       "    <tr>\n",
       "      <th>6</th>\n",
       "      <td>4.6</td>\n",
       "      <td>3.4</td>\n",
       "      <td>1.4</td>\n",
       "      <td>0.3</td>\n",
       "      <td>Iris-setosa</td>\n",
       "    </tr>\n",
       "    <tr>\n",
       "      <th>7</th>\n",
       "      <td>5.0</td>\n",
       "      <td>3.4</td>\n",
       "      <td>1.5</td>\n",
       "      <td>0.2</td>\n",
       "      <td>Iris-setosa</td>\n",
       "    </tr>\n",
       "    <tr>\n",
       "      <th>8</th>\n",
       "      <td>4.4</td>\n",
       "      <td>2.9</td>\n",
       "      <td>1.4</td>\n",
       "      <td>0.2</td>\n",
       "      <td>Iris-setosa</td>\n",
       "    </tr>\n",
       "    <tr>\n",
       "      <th>9</th>\n",
       "      <td>4.9</td>\n",
       "      <td>3.1</td>\n",
       "      <td>1.5</td>\n",
       "      <td>0.1</td>\n",
       "      <td>Iris-setosa</td>\n",
       "    </tr>\n",
       "    <tr>\n",
       "      <th>10</th>\n",
       "      <td>5.4</td>\n",
       "      <td>3.7</td>\n",
       "      <td>NaN</td>\n",
       "      <td>0.2</td>\n",
       "      <td>Iris-setosa</td>\n",
       "    </tr>\n",
       "    <tr>\n",
       "      <th>11</th>\n",
       "      <td>4.8</td>\n",
       "      <td>3.4</td>\n",
       "      <td>NaN</td>\n",
       "      <td>0.2</td>\n",
       "      <td>Iris-setosa</td>\n",
       "    </tr>\n",
       "    <tr>\n",
       "      <th>12</th>\n",
       "      <td>4.8</td>\n",
       "      <td>3.0</td>\n",
       "      <td>NaN</td>\n",
       "      <td>0.1</td>\n",
       "      <td>Iris-setosa</td>\n",
       "    </tr>\n",
       "    <tr>\n",
       "      <th>13</th>\n",
       "      <td>4.3</td>\n",
       "      <td>3.0</td>\n",
       "      <td>NaN</td>\n",
       "      <td>0.1</td>\n",
       "      <td>Iris-setosa</td>\n",
       "    </tr>\n",
       "    <tr>\n",
       "      <th>14</th>\n",
       "      <td>5.8</td>\n",
       "      <td>4.0</td>\n",
       "      <td>NaN</td>\n",
       "      <td>0.2</td>\n",
       "      <td>Iris-setosa</td>\n",
       "    </tr>\n",
       "    <tr>\n",
       "      <th>15</th>\n",
       "      <td>5.7</td>\n",
       "      <td>4.4</td>\n",
       "      <td>NaN</td>\n",
       "      <td>0.4</td>\n",
       "      <td>Iris-setosa</td>\n",
       "    </tr>\n",
       "    <tr>\n",
       "      <th>16</th>\n",
       "      <td>5.4</td>\n",
       "      <td>3.9</td>\n",
       "      <td>NaN</td>\n",
       "      <td>0.4</td>\n",
       "      <td>Iris-setosa</td>\n",
       "    </tr>\n",
       "    <tr>\n",
       "      <th>17</th>\n",
       "      <td>5.1</td>\n",
       "      <td>3.5</td>\n",
       "      <td>NaN</td>\n",
       "      <td>0.3</td>\n",
       "      <td>Iris-setosa</td>\n",
       "    </tr>\n",
       "    <tr>\n",
       "      <th>18</th>\n",
       "      <td>5.7</td>\n",
       "      <td>3.8</td>\n",
       "      <td>NaN</td>\n",
       "      <td>0.3</td>\n",
       "      <td>Iris-setosa</td>\n",
       "    </tr>\n",
       "    <tr>\n",
       "      <th>19</th>\n",
       "      <td>5.1</td>\n",
       "      <td>3.8</td>\n",
       "      <td>NaN</td>\n",
       "      <td>0.3</td>\n",
       "      <td>Iris-setosa</td>\n",
       "    </tr>\n",
       "  </tbody>\n",
       "</table>\n",
       "</div>"
      ],
      "text/plain": [
       "    sepal_length  sepal_width  petal_length  petal_width        class\n",
       "0            5.1          3.5           1.4          0.2  Iris-setosa\n",
       "1            4.9          3.0           1.4          0.2  Iris-setosa\n",
       "2            4.7          3.2           1.3          0.2  Iris-setosa\n",
       "3            4.6          3.1           1.5          0.2  Iris-setosa\n",
       "4            5.0          3.6           1.4          0.2  Iris-setosa\n",
       "5            5.4          3.9           1.7          0.4  Iris-setosa\n",
       "6            4.6          3.4           1.4          0.3  Iris-setosa\n",
       "7            5.0          3.4           1.5          0.2  Iris-setosa\n",
       "8            4.4          2.9           1.4          0.2  Iris-setosa\n",
       "9            4.9          3.1           1.5          0.1  Iris-setosa\n",
       "10           5.4          3.7           NaN          0.2  Iris-setosa\n",
       "11           4.8          3.4           NaN          0.2  Iris-setosa\n",
       "12           4.8          3.0           NaN          0.1  Iris-setosa\n",
       "13           4.3          3.0           NaN          0.1  Iris-setosa\n",
       "14           5.8          4.0           NaN          0.2  Iris-setosa\n",
       "15           5.7          4.4           NaN          0.4  Iris-setosa\n",
       "16           5.4          3.9           NaN          0.4  Iris-setosa\n",
       "17           5.1          3.5           NaN          0.3  Iris-setosa\n",
       "18           5.7          3.8           NaN          0.3  Iris-setosa\n",
       "19           5.1          3.8           NaN          0.3  Iris-setosa"
      ]
     },
     "execution_count": 335,
     "metadata": {},
     "output_type": "execute_result"
    }
   ],
   "source": [
    "# 运行以下代码\n",
    "iris.iloc[10:20,2:3] = np.nan\n",
    "iris.head(20)"
   ]
  },
  {
   "cell_type": "markdown",
   "metadata": {
    "id": "AA39C79B25D54E9880D43E93797210ED",
    "jupyter": {},
    "mdEditEnable": false,
    "slideshow": {
     "slide_type": "slide"
    },
    "tags": []
   },
   "source": [
    "### 步骤7 将缺失值全部替换为1.0"
   ]
  },
  {
   "cell_type": "code",
   "execution_count": 336,
   "metadata": {
    "collapsed": false,
    "id": "D91501E46FA64A818BA70DDB76CB9CBE",
    "jupyter": {
     "outputs_hidden": false
    },
    "slideshow": {
     "slide_type": "slide"
    },
    "tags": []
   },
   "outputs": [
    {
     "data": {
      "text/html": [
       "<div>\n",
       "<style scoped>\n",
       "    .dataframe tbody tr th:only-of-type {\n",
       "        vertical-align: middle;\n",
       "    }\n",
       "\n",
       "    .dataframe tbody tr th {\n",
       "        vertical-align: top;\n",
       "    }\n",
       "\n",
       "    .dataframe thead th {\n",
       "        text-align: right;\n",
       "    }\n",
       "</style>\n",
       "<table border=\"1\" class=\"dataframe\">\n",
       "  <thead>\n",
       "    <tr style=\"text-align: right;\">\n",
       "      <th></th>\n",
       "      <th>sepal_length</th>\n",
       "      <th>sepal_width</th>\n",
       "      <th>petal_length</th>\n",
       "      <th>petal_width</th>\n",
       "      <th>class</th>\n",
       "    </tr>\n",
       "  </thead>\n",
       "  <tbody>\n",
       "    <tr>\n",
       "      <th>0</th>\n",
       "      <td>5.1</td>\n",
       "      <td>3.5</td>\n",
       "      <td>1.4</td>\n",
       "      <td>0.2</td>\n",
       "      <td>Iris-setosa</td>\n",
       "    </tr>\n",
       "    <tr>\n",
       "      <th>1</th>\n",
       "      <td>4.9</td>\n",
       "      <td>3.0</td>\n",
       "      <td>1.4</td>\n",
       "      <td>0.2</td>\n",
       "      <td>Iris-setosa</td>\n",
       "    </tr>\n",
       "    <tr>\n",
       "      <th>2</th>\n",
       "      <td>4.7</td>\n",
       "      <td>3.2</td>\n",
       "      <td>1.3</td>\n",
       "      <td>0.2</td>\n",
       "      <td>Iris-setosa</td>\n",
       "    </tr>\n",
       "    <tr>\n",
       "      <th>3</th>\n",
       "      <td>4.6</td>\n",
       "      <td>3.1</td>\n",
       "      <td>1.5</td>\n",
       "      <td>0.2</td>\n",
       "      <td>Iris-setosa</td>\n",
       "    </tr>\n",
       "    <tr>\n",
       "      <th>4</th>\n",
       "      <td>5.0</td>\n",
       "      <td>3.6</td>\n",
       "      <td>1.4</td>\n",
       "      <td>0.2</td>\n",
       "      <td>Iris-setosa</td>\n",
       "    </tr>\n",
       "    <tr>\n",
       "      <th>5</th>\n",
       "      <td>5.4</td>\n",
       "      <td>3.9</td>\n",
       "      <td>1.7</td>\n",
       "      <td>0.4</td>\n",
       "      <td>Iris-setosa</td>\n",
       "    </tr>\n",
       "    <tr>\n",
       "      <th>6</th>\n",
       "      <td>4.6</td>\n",
       "      <td>3.4</td>\n",
       "      <td>1.4</td>\n",
       "      <td>0.3</td>\n",
       "      <td>Iris-setosa</td>\n",
       "    </tr>\n",
       "    <tr>\n",
       "      <th>7</th>\n",
       "      <td>5.0</td>\n",
       "      <td>3.4</td>\n",
       "      <td>1.5</td>\n",
       "      <td>0.2</td>\n",
       "      <td>Iris-setosa</td>\n",
       "    </tr>\n",
       "    <tr>\n",
       "      <th>8</th>\n",
       "      <td>4.4</td>\n",
       "      <td>2.9</td>\n",
       "      <td>1.4</td>\n",
       "      <td>0.2</td>\n",
       "      <td>Iris-setosa</td>\n",
       "    </tr>\n",
       "    <tr>\n",
       "      <th>9</th>\n",
       "      <td>4.9</td>\n",
       "      <td>3.1</td>\n",
       "      <td>1.5</td>\n",
       "      <td>0.1</td>\n",
       "      <td>Iris-setosa</td>\n",
       "    </tr>\n",
       "    <tr>\n",
       "      <th>10</th>\n",
       "      <td>5.4</td>\n",
       "      <td>3.7</td>\n",
       "      <td>1.0</td>\n",
       "      <td>0.2</td>\n",
       "      <td>Iris-setosa</td>\n",
       "    </tr>\n",
       "    <tr>\n",
       "      <th>11</th>\n",
       "      <td>4.8</td>\n",
       "      <td>3.4</td>\n",
       "      <td>1.0</td>\n",
       "      <td>0.2</td>\n",
       "      <td>Iris-setosa</td>\n",
       "    </tr>\n",
       "    <tr>\n",
       "      <th>12</th>\n",
       "      <td>4.8</td>\n",
       "      <td>3.0</td>\n",
       "      <td>1.0</td>\n",
       "      <td>0.1</td>\n",
       "      <td>Iris-setosa</td>\n",
       "    </tr>\n",
       "    <tr>\n",
       "      <th>13</th>\n",
       "      <td>4.3</td>\n",
       "      <td>3.0</td>\n",
       "      <td>1.0</td>\n",
       "      <td>0.1</td>\n",
       "      <td>Iris-setosa</td>\n",
       "    </tr>\n",
       "    <tr>\n",
       "      <th>14</th>\n",
       "      <td>5.8</td>\n",
       "      <td>4.0</td>\n",
       "      <td>1.0</td>\n",
       "      <td>0.2</td>\n",
       "      <td>Iris-setosa</td>\n",
       "    </tr>\n",
       "    <tr>\n",
       "      <th>15</th>\n",
       "      <td>5.7</td>\n",
       "      <td>4.4</td>\n",
       "      <td>1.0</td>\n",
       "      <td>0.4</td>\n",
       "      <td>Iris-setosa</td>\n",
       "    </tr>\n",
       "    <tr>\n",
       "      <th>16</th>\n",
       "      <td>5.4</td>\n",
       "      <td>3.9</td>\n",
       "      <td>1.0</td>\n",
       "      <td>0.4</td>\n",
       "      <td>Iris-setosa</td>\n",
       "    </tr>\n",
       "    <tr>\n",
       "      <th>17</th>\n",
       "      <td>5.1</td>\n",
       "      <td>3.5</td>\n",
       "      <td>1.0</td>\n",
       "      <td>0.3</td>\n",
       "      <td>Iris-setosa</td>\n",
       "    </tr>\n",
       "    <tr>\n",
       "      <th>18</th>\n",
       "      <td>5.7</td>\n",
       "      <td>3.8</td>\n",
       "      <td>1.0</td>\n",
       "      <td>0.3</td>\n",
       "      <td>Iris-setosa</td>\n",
       "    </tr>\n",
       "    <tr>\n",
       "      <th>19</th>\n",
       "      <td>5.1</td>\n",
       "      <td>3.8</td>\n",
       "      <td>1.0</td>\n",
       "      <td>0.3</td>\n",
       "      <td>Iris-setosa</td>\n",
       "    </tr>\n",
       "    <tr>\n",
       "      <th>20</th>\n",
       "      <td>5.4</td>\n",
       "      <td>3.4</td>\n",
       "      <td>1.7</td>\n",
       "      <td>0.2</td>\n",
       "      <td>Iris-setosa</td>\n",
       "    </tr>\n",
       "    <tr>\n",
       "      <th>21</th>\n",
       "      <td>5.1</td>\n",
       "      <td>3.7</td>\n",
       "      <td>1.5</td>\n",
       "      <td>0.4</td>\n",
       "      <td>Iris-setosa</td>\n",
       "    </tr>\n",
       "    <tr>\n",
       "      <th>22</th>\n",
       "      <td>4.6</td>\n",
       "      <td>3.6</td>\n",
       "      <td>1.0</td>\n",
       "      <td>0.2</td>\n",
       "      <td>Iris-setosa</td>\n",
       "    </tr>\n",
       "    <tr>\n",
       "      <th>23</th>\n",
       "      <td>5.1</td>\n",
       "      <td>3.3</td>\n",
       "      <td>1.7</td>\n",
       "      <td>0.5</td>\n",
       "      <td>Iris-setosa</td>\n",
       "    </tr>\n",
       "    <tr>\n",
       "      <th>24</th>\n",
       "      <td>4.8</td>\n",
       "      <td>3.4</td>\n",
       "      <td>1.9</td>\n",
       "      <td>0.2</td>\n",
       "      <td>Iris-setosa</td>\n",
       "    </tr>\n",
       "    <tr>\n",
       "      <th>25</th>\n",
       "      <td>5.0</td>\n",
       "      <td>3.0</td>\n",
       "      <td>1.6</td>\n",
       "      <td>0.2</td>\n",
       "      <td>Iris-setosa</td>\n",
       "    </tr>\n",
       "    <tr>\n",
       "      <th>26</th>\n",
       "      <td>5.0</td>\n",
       "      <td>3.4</td>\n",
       "      <td>1.6</td>\n",
       "      <td>0.4</td>\n",
       "      <td>Iris-setosa</td>\n",
       "    </tr>\n",
       "    <tr>\n",
       "      <th>27</th>\n",
       "      <td>5.2</td>\n",
       "      <td>3.5</td>\n",
       "      <td>1.5</td>\n",
       "      <td>0.2</td>\n",
       "      <td>Iris-setosa</td>\n",
       "    </tr>\n",
       "    <tr>\n",
       "      <th>28</th>\n",
       "      <td>5.2</td>\n",
       "      <td>3.4</td>\n",
       "      <td>1.4</td>\n",
       "      <td>0.2</td>\n",
       "      <td>Iris-setosa</td>\n",
       "    </tr>\n",
       "    <tr>\n",
       "      <th>29</th>\n",
       "      <td>4.7</td>\n",
       "      <td>3.2</td>\n",
       "      <td>1.6</td>\n",
       "      <td>0.2</td>\n",
       "      <td>Iris-setosa</td>\n",
       "    </tr>\n",
       "    <tr>\n",
       "      <th>...</th>\n",
       "      <td>...</td>\n",
       "      <td>...</td>\n",
       "      <td>...</td>\n",
       "      <td>...</td>\n",
       "      <td>...</td>\n",
       "    </tr>\n",
       "    <tr>\n",
       "      <th>120</th>\n",
       "      <td>6.9</td>\n",
       "      <td>3.2</td>\n",
       "      <td>5.7</td>\n",
       "      <td>2.3</td>\n",
       "      <td>Iris-virginica</td>\n",
       "    </tr>\n",
       "    <tr>\n",
       "      <th>121</th>\n",
       "      <td>5.6</td>\n",
       "      <td>2.8</td>\n",
       "      <td>4.9</td>\n",
       "      <td>2.0</td>\n",
       "      <td>Iris-virginica</td>\n",
       "    </tr>\n",
       "    <tr>\n",
       "      <th>122</th>\n",
       "      <td>7.7</td>\n",
       "      <td>2.8</td>\n",
       "      <td>6.7</td>\n",
       "      <td>2.0</td>\n",
       "      <td>Iris-virginica</td>\n",
       "    </tr>\n",
       "    <tr>\n",
       "      <th>123</th>\n",
       "      <td>6.3</td>\n",
       "      <td>2.7</td>\n",
       "      <td>4.9</td>\n",
       "      <td>1.8</td>\n",
       "      <td>Iris-virginica</td>\n",
       "    </tr>\n",
       "    <tr>\n",
       "      <th>124</th>\n",
       "      <td>6.7</td>\n",
       "      <td>3.3</td>\n",
       "      <td>5.7</td>\n",
       "      <td>2.1</td>\n",
       "      <td>Iris-virginica</td>\n",
       "    </tr>\n",
       "    <tr>\n",
       "      <th>125</th>\n",
       "      <td>7.2</td>\n",
       "      <td>3.2</td>\n",
       "      <td>6.0</td>\n",
       "      <td>1.8</td>\n",
       "      <td>Iris-virginica</td>\n",
       "    </tr>\n",
       "    <tr>\n",
       "      <th>126</th>\n",
       "      <td>6.2</td>\n",
       "      <td>2.8</td>\n",
       "      <td>4.8</td>\n",
       "      <td>1.8</td>\n",
       "      <td>Iris-virginica</td>\n",
       "    </tr>\n",
       "    <tr>\n",
       "      <th>127</th>\n",
       "      <td>6.1</td>\n",
       "      <td>3.0</td>\n",
       "      <td>4.9</td>\n",
       "      <td>1.8</td>\n",
       "      <td>Iris-virginica</td>\n",
       "    </tr>\n",
       "    <tr>\n",
       "      <th>128</th>\n",
       "      <td>6.4</td>\n",
       "      <td>2.8</td>\n",
       "      <td>5.6</td>\n",
       "      <td>2.1</td>\n",
       "      <td>Iris-virginica</td>\n",
       "    </tr>\n",
       "    <tr>\n",
       "      <th>129</th>\n",
       "      <td>7.2</td>\n",
       "      <td>3.0</td>\n",
       "      <td>5.8</td>\n",
       "      <td>1.6</td>\n",
       "      <td>Iris-virginica</td>\n",
       "    </tr>\n",
       "    <tr>\n",
       "      <th>130</th>\n",
       "      <td>7.4</td>\n",
       "      <td>2.8</td>\n",
       "      <td>6.1</td>\n",
       "      <td>1.9</td>\n",
       "      <td>Iris-virginica</td>\n",
       "    </tr>\n",
       "    <tr>\n",
       "      <th>131</th>\n",
       "      <td>7.9</td>\n",
       "      <td>3.8</td>\n",
       "      <td>6.4</td>\n",
       "      <td>2.0</td>\n",
       "      <td>Iris-virginica</td>\n",
       "    </tr>\n",
       "    <tr>\n",
       "      <th>132</th>\n",
       "      <td>6.4</td>\n",
       "      <td>2.8</td>\n",
       "      <td>5.6</td>\n",
       "      <td>2.2</td>\n",
       "      <td>Iris-virginica</td>\n",
       "    </tr>\n",
       "    <tr>\n",
       "      <th>133</th>\n",
       "      <td>6.3</td>\n",
       "      <td>2.8</td>\n",
       "      <td>5.1</td>\n",
       "      <td>1.5</td>\n",
       "      <td>Iris-virginica</td>\n",
       "    </tr>\n",
       "    <tr>\n",
       "      <th>134</th>\n",
       "      <td>6.1</td>\n",
       "      <td>2.6</td>\n",
       "      <td>5.6</td>\n",
       "      <td>1.4</td>\n",
       "      <td>Iris-virginica</td>\n",
       "    </tr>\n",
       "    <tr>\n",
       "      <th>135</th>\n",
       "      <td>7.7</td>\n",
       "      <td>3.0</td>\n",
       "      <td>6.1</td>\n",
       "      <td>2.3</td>\n",
       "      <td>Iris-virginica</td>\n",
       "    </tr>\n",
       "    <tr>\n",
       "      <th>136</th>\n",
       "      <td>6.3</td>\n",
       "      <td>3.4</td>\n",
       "      <td>5.6</td>\n",
       "      <td>2.4</td>\n",
       "      <td>Iris-virginica</td>\n",
       "    </tr>\n",
       "    <tr>\n",
       "      <th>137</th>\n",
       "      <td>6.4</td>\n",
       "      <td>3.1</td>\n",
       "      <td>5.5</td>\n",
       "      <td>1.8</td>\n",
       "      <td>Iris-virginica</td>\n",
       "    </tr>\n",
       "    <tr>\n",
       "      <th>138</th>\n",
       "      <td>6.0</td>\n",
       "      <td>3.0</td>\n",
       "      <td>4.8</td>\n",
       "      <td>1.8</td>\n",
       "      <td>Iris-virginica</td>\n",
       "    </tr>\n",
       "    <tr>\n",
       "      <th>139</th>\n",
       "      <td>6.9</td>\n",
       "      <td>3.1</td>\n",
       "      <td>5.4</td>\n",
       "      <td>2.1</td>\n",
       "      <td>Iris-virginica</td>\n",
       "    </tr>\n",
       "    <tr>\n",
       "      <th>140</th>\n",
       "      <td>6.7</td>\n",
       "      <td>3.1</td>\n",
       "      <td>5.6</td>\n",
       "      <td>2.4</td>\n",
       "      <td>Iris-virginica</td>\n",
       "    </tr>\n",
       "    <tr>\n",
       "      <th>141</th>\n",
       "      <td>6.9</td>\n",
       "      <td>3.1</td>\n",
       "      <td>5.1</td>\n",
       "      <td>2.3</td>\n",
       "      <td>Iris-virginica</td>\n",
       "    </tr>\n",
       "    <tr>\n",
       "      <th>142</th>\n",
       "      <td>5.8</td>\n",
       "      <td>2.7</td>\n",
       "      <td>5.1</td>\n",
       "      <td>1.9</td>\n",
       "      <td>Iris-virginica</td>\n",
       "    </tr>\n",
       "    <tr>\n",
       "      <th>143</th>\n",
       "      <td>6.8</td>\n",
       "      <td>3.2</td>\n",
       "      <td>5.9</td>\n",
       "      <td>2.3</td>\n",
       "      <td>Iris-virginica</td>\n",
       "    </tr>\n",
       "    <tr>\n",
       "      <th>144</th>\n",
       "      <td>6.7</td>\n",
       "      <td>3.3</td>\n",
       "      <td>5.7</td>\n",
       "      <td>2.5</td>\n",
       "      <td>Iris-virginica</td>\n",
       "    </tr>\n",
       "    <tr>\n",
       "      <th>145</th>\n",
       "      <td>6.7</td>\n",
       "      <td>3.0</td>\n",
       "      <td>5.2</td>\n",
       "      <td>2.3</td>\n",
       "      <td>Iris-virginica</td>\n",
       "    </tr>\n",
       "    <tr>\n",
       "      <th>146</th>\n",
       "      <td>6.3</td>\n",
       "      <td>2.5</td>\n",
       "      <td>5.0</td>\n",
       "      <td>1.9</td>\n",
       "      <td>Iris-virginica</td>\n",
       "    </tr>\n",
       "    <tr>\n",
       "      <th>147</th>\n",
       "      <td>6.5</td>\n",
       "      <td>3.0</td>\n",
       "      <td>5.2</td>\n",
       "      <td>2.0</td>\n",
       "      <td>Iris-virginica</td>\n",
       "    </tr>\n",
       "    <tr>\n",
       "      <th>148</th>\n",
       "      <td>6.2</td>\n",
       "      <td>3.4</td>\n",
       "      <td>5.4</td>\n",
       "      <td>2.3</td>\n",
       "      <td>Iris-virginica</td>\n",
       "    </tr>\n",
       "    <tr>\n",
       "      <th>149</th>\n",
       "      <td>5.9</td>\n",
       "      <td>3.0</td>\n",
       "      <td>5.1</td>\n",
       "      <td>1.8</td>\n",
       "      <td>Iris-virginica</td>\n",
       "    </tr>\n",
       "  </tbody>\n",
       "</table>\n",
       "<p>150 rows × 5 columns</p>\n",
       "</div>"
      ],
      "text/plain": [
       "     sepal_length  sepal_width  petal_length  petal_width           class\n",
       "0             5.1          3.5           1.4          0.2     Iris-setosa\n",
       "1             4.9          3.0           1.4          0.2     Iris-setosa\n",
       "2             4.7          3.2           1.3          0.2     Iris-setosa\n",
       "3             4.6          3.1           1.5          0.2     Iris-setosa\n",
       "4             5.0          3.6           1.4          0.2     Iris-setosa\n",
       "5             5.4          3.9           1.7          0.4     Iris-setosa\n",
       "6             4.6          3.4           1.4          0.3     Iris-setosa\n",
       "7             5.0          3.4           1.5          0.2     Iris-setosa\n",
       "8             4.4          2.9           1.4          0.2     Iris-setosa\n",
       "9             4.9          3.1           1.5          0.1     Iris-setosa\n",
       "10            5.4          3.7           1.0          0.2     Iris-setosa\n",
       "11            4.8          3.4           1.0          0.2     Iris-setosa\n",
       "12            4.8          3.0           1.0          0.1     Iris-setosa\n",
       "13            4.3          3.0           1.0          0.1     Iris-setosa\n",
       "14            5.8          4.0           1.0          0.2     Iris-setosa\n",
       "15            5.7          4.4           1.0          0.4     Iris-setosa\n",
       "16            5.4          3.9           1.0          0.4     Iris-setosa\n",
       "17            5.1          3.5           1.0          0.3     Iris-setosa\n",
       "18            5.7          3.8           1.0          0.3     Iris-setosa\n",
       "19            5.1          3.8           1.0          0.3     Iris-setosa\n",
       "20            5.4          3.4           1.7          0.2     Iris-setosa\n",
       "21            5.1          3.7           1.5          0.4     Iris-setosa\n",
       "22            4.6          3.6           1.0          0.2     Iris-setosa\n",
       "23            5.1          3.3           1.7          0.5     Iris-setosa\n",
       "24            4.8          3.4           1.9          0.2     Iris-setosa\n",
       "25            5.0          3.0           1.6          0.2     Iris-setosa\n",
       "26            5.0          3.4           1.6          0.4     Iris-setosa\n",
       "27            5.2          3.5           1.5          0.2     Iris-setosa\n",
       "28            5.2          3.4           1.4          0.2     Iris-setosa\n",
       "29            4.7          3.2           1.6          0.2     Iris-setosa\n",
       "..            ...          ...           ...          ...             ...\n",
       "120           6.9          3.2           5.7          2.3  Iris-virginica\n",
       "121           5.6          2.8           4.9          2.0  Iris-virginica\n",
       "122           7.7          2.8           6.7          2.0  Iris-virginica\n",
       "123           6.3          2.7           4.9          1.8  Iris-virginica\n",
       "124           6.7          3.3           5.7          2.1  Iris-virginica\n",
       "125           7.2          3.2           6.0          1.8  Iris-virginica\n",
       "126           6.2          2.8           4.8          1.8  Iris-virginica\n",
       "127           6.1          3.0           4.9          1.8  Iris-virginica\n",
       "128           6.4          2.8           5.6          2.1  Iris-virginica\n",
       "129           7.2          3.0           5.8          1.6  Iris-virginica\n",
       "130           7.4          2.8           6.1          1.9  Iris-virginica\n",
       "131           7.9          3.8           6.4          2.0  Iris-virginica\n",
       "132           6.4          2.8           5.6          2.2  Iris-virginica\n",
       "133           6.3          2.8           5.1          1.5  Iris-virginica\n",
       "134           6.1          2.6           5.6          1.4  Iris-virginica\n",
       "135           7.7          3.0           6.1          2.3  Iris-virginica\n",
       "136           6.3          3.4           5.6          2.4  Iris-virginica\n",
       "137           6.4          3.1           5.5          1.8  Iris-virginica\n",
       "138           6.0          3.0           4.8          1.8  Iris-virginica\n",
       "139           6.9          3.1           5.4          2.1  Iris-virginica\n",
       "140           6.7          3.1           5.6          2.4  Iris-virginica\n",
       "141           6.9          3.1           5.1          2.3  Iris-virginica\n",
       "142           5.8          2.7           5.1          1.9  Iris-virginica\n",
       "143           6.8          3.2           5.9          2.3  Iris-virginica\n",
       "144           6.7          3.3           5.7          2.5  Iris-virginica\n",
       "145           6.7          3.0           5.2          2.3  Iris-virginica\n",
       "146           6.3          2.5           5.0          1.9  Iris-virginica\n",
       "147           6.5          3.0           5.2          2.0  Iris-virginica\n",
       "148           6.2          3.4           5.4          2.3  Iris-virginica\n",
       "149           5.9          3.0           5.1          1.8  Iris-virginica\n",
       "\n",
       "[150 rows x 5 columns]"
      ]
     },
     "execution_count": 336,
     "metadata": {},
     "output_type": "execute_result"
    }
   ],
   "source": [
    "# 运行以下代码\n",
    "iris.petal_length.fillna(1, inplace = True)\n",
    "iris"
   ]
  },
  {
   "cell_type": "markdown",
   "metadata": {
    "id": "509A66D663A047E2AA506229CFB3FA7B",
    "jupyter": {},
    "mdEditEnable": false,
    "slideshow": {
     "slide_type": "slide"
    },
    "tags": []
   },
   "source": [
    "### 步骤8 删除列```class```"
   ]
  },
  {
   "cell_type": "code",
   "execution_count": 337,
   "metadata": {
    "collapsed": false,
    "id": "BC3EC77223684A4E80701EC97976621C",
    "jupyter": {
     "outputs_hidden": false
    },
    "slideshow": {
     "slide_type": "slide"
    },
    "tags": []
   },
   "outputs": [
    {
     "data": {
      "text/html": [
       "<div>\n",
       "<style scoped>\n",
       "    .dataframe tbody tr th:only-of-type {\n",
       "        vertical-align: middle;\n",
       "    }\n",
       "\n",
       "    .dataframe tbody tr th {\n",
       "        vertical-align: top;\n",
       "    }\n",
       "\n",
       "    .dataframe thead th {\n",
       "        text-align: right;\n",
       "    }\n",
       "</style>\n",
       "<table border=\"1\" class=\"dataframe\">\n",
       "  <thead>\n",
       "    <tr style=\"text-align: right;\">\n",
       "      <th></th>\n",
       "      <th>sepal_length</th>\n",
       "      <th>sepal_width</th>\n",
       "      <th>petal_length</th>\n",
       "      <th>petal_width</th>\n",
       "    </tr>\n",
       "  </thead>\n",
       "  <tbody>\n",
       "    <tr>\n",
       "      <th>0</th>\n",
       "      <td>5.1</td>\n",
       "      <td>3.5</td>\n",
       "      <td>1.4</td>\n",
       "      <td>0.2</td>\n",
       "    </tr>\n",
       "    <tr>\n",
       "      <th>1</th>\n",
       "      <td>4.9</td>\n",
       "      <td>3.0</td>\n",
       "      <td>1.4</td>\n",
       "      <td>0.2</td>\n",
       "    </tr>\n",
       "    <tr>\n",
       "      <th>2</th>\n",
       "      <td>4.7</td>\n",
       "      <td>3.2</td>\n",
       "      <td>1.3</td>\n",
       "      <td>0.2</td>\n",
       "    </tr>\n",
       "    <tr>\n",
       "      <th>3</th>\n",
       "      <td>4.6</td>\n",
       "      <td>3.1</td>\n",
       "      <td>1.5</td>\n",
       "      <td>0.2</td>\n",
       "    </tr>\n",
       "    <tr>\n",
       "      <th>4</th>\n",
       "      <td>5.0</td>\n",
       "      <td>3.6</td>\n",
       "      <td>1.4</td>\n",
       "      <td>0.2</td>\n",
       "    </tr>\n",
       "  </tbody>\n",
       "</table>\n",
       "</div>"
      ],
      "text/plain": [
       "   sepal_length  sepal_width  petal_length  petal_width\n",
       "0           5.1          3.5           1.4          0.2\n",
       "1           4.9          3.0           1.4          0.2\n",
       "2           4.7          3.2           1.3          0.2\n",
       "3           4.6          3.1           1.5          0.2\n",
       "4           5.0          3.6           1.4          0.2"
      ]
     },
     "execution_count": 337,
     "metadata": {},
     "output_type": "execute_result"
    }
   ],
   "source": [
    "# 运行以下代码\n",
    "del iris['class']\n",
    "iris.head()"
   ]
  },
  {
   "cell_type": "markdown",
   "metadata": {
    "id": "39FBC2D9C9684D07A30C63A77A3A060C",
    "jupyter": {},
    "mdEditEnable": false,
    "slideshow": {
     "slide_type": "slide"
    },
    "tags": []
   },
   "source": [
    "### 步骤9 将数据框前三行设置为缺失值"
   ]
  },
  {
   "cell_type": "code",
   "execution_count": 338,
   "metadata": {
    "collapsed": false,
    "id": "DBB8AAF3AB2D48528C60103D85588A90",
    "jupyter": {
     "outputs_hidden": false
    },
    "slideshow": {
     "slide_type": "slide"
    },
    "tags": []
   },
   "outputs": [
    {
     "data": {
      "text/html": [
       "<div>\n",
       "<style scoped>\n",
       "    .dataframe tbody tr th:only-of-type {\n",
       "        vertical-align: middle;\n",
       "    }\n",
       "\n",
       "    .dataframe tbody tr th {\n",
       "        vertical-align: top;\n",
       "    }\n",
       "\n",
       "    .dataframe thead th {\n",
       "        text-align: right;\n",
       "    }\n",
       "</style>\n",
       "<table border=\"1\" class=\"dataframe\">\n",
       "  <thead>\n",
       "    <tr style=\"text-align: right;\">\n",
       "      <th></th>\n",
       "      <th>sepal_length</th>\n",
       "      <th>sepal_width</th>\n",
       "      <th>petal_length</th>\n",
       "      <th>petal_width</th>\n",
       "    </tr>\n",
       "  </thead>\n",
       "  <tbody>\n",
       "    <tr>\n",
       "      <th>0</th>\n",
       "      <td>NaN</td>\n",
       "      <td>NaN</td>\n",
       "      <td>NaN</td>\n",
       "      <td>NaN</td>\n",
       "    </tr>\n",
       "    <tr>\n",
       "      <th>1</th>\n",
       "      <td>NaN</td>\n",
       "      <td>NaN</td>\n",
       "      <td>NaN</td>\n",
       "      <td>NaN</td>\n",
       "    </tr>\n",
       "    <tr>\n",
       "      <th>2</th>\n",
       "      <td>NaN</td>\n",
       "      <td>NaN</td>\n",
       "      <td>NaN</td>\n",
       "      <td>NaN</td>\n",
       "    </tr>\n",
       "    <tr>\n",
       "      <th>3</th>\n",
       "      <td>4.6</td>\n",
       "      <td>3.1</td>\n",
       "      <td>1.5</td>\n",
       "      <td>0.2</td>\n",
       "    </tr>\n",
       "    <tr>\n",
       "      <th>4</th>\n",
       "      <td>5.0</td>\n",
       "      <td>3.6</td>\n",
       "      <td>1.4</td>\n",
       "      <td>0.2</td>\n",
       "    </tr>\n",
       "  </tbody>\n",
       "</table>\n",
       "</div>"
      ],
      "text/plain": [
       "   sepal_length  sepal_width  petal_length  petal_width\n",
       "0           NaN          NaN           NaN          NaN\n",
       "1           NaN          NaN           NaN          NaN\n",
       "2           NaN          NaN           NaN          NaN\n",
       "3           4.6          3.1           1.5          0.2\n",
       "4           5.0          3.6           1.4          0.2"
      ]
     },
     "execution_count": 338,
     "metadata": {},
     "output_type": "execute_result"
    }
   ],
   "source": [
    "# 运行以下代码\n",
    "iris.iloc[0:3 ,:] = np.nan\n",
    "iris.head()"
   ]
  },
  {
   "cell_type": "markdown",
   "metadata": {
    "id": "2CBD5365BAEE44D1886D1BB140BA0464",
    "jupyter": {},
    "mdEditEnable": false,
    "slideshow": {
     "slide_type": "slide"
    },
    "tags": []
   },
   "source": [
    "### 步骤10 删除有缺失值的行"
   ]
  },
  {
   "cell_type": "code",
   "execution_count": 339,
   "metadata": {
    "collapsed": false,
    "id": "4316CF96749B47E9952009EEF996FCF5",
    "jupyter": {
     "outputs_hidden": false
    },
    "slideshow": {
     "slide_type": "slide"
    },
    "tags": []
   },
   "outputs": [
    {
     "data": {
      "text/html": [
       "<div>\n",
       "<style scoped>\n",
       "    .dataframe tbody tr th:only-of-type {\n",
       "        vertical-align: middle;\n",
       "    }\n",
       "\n",
       "    .dataframe tbody tr th {\n",
       "        vertical-align: top;\n",
       "    }\n",
       "\n",
       "    .dataframe thead th {\n",
       "        text-align: right;\n",
       "    }\n",
       "</style>\n",
       "<table border=\"1\" class=\"dataframe\">\n",
       "  <thead>\n",
       "    <tr style=\"text-align: right;\">\n",
       "      <th></th>\n",
       "      <th>sepal_length</th>\n",
       "      <th>sepal_width</th>\n",
       "      <th>petal_length</th>\n",
       "      <th>petal_width</th>\n",
       "    </tr>\n",
       "  </thead>\n",
       "  <tbody>\n",
       "    <tr>\n",
       "      <th>3</th>\n",
       "      <td>4.6</td>\n",
       "      <td>3.1</td>\n",
       "      <td>1.5</td>\n",
       "      <td>0.2</td>\n",
       "    </tr>\n",
       "    <tr>\n",
       "      <th>4</th>\n",
       "      <td>5.0</td>\n",
       "      <td>3.6</td>\n",
       "      <td>1.4</td>\n",
       "      <td>0.2</td>\n",
       "    </tr>\n",
       "    <tr>\n",
       "      <th>5</th>\n",
       "      <td>5.4</td>\n",
       "      <td>3.9</td>\n",
       "      <td>1.7</td>\n",
       "      <td>0.4</td>\n",
       "    </tr>\n",
       "    <tr>\n",
       "      <th>6</th>\n",
       "      <td>4.6</td>\n",
       "      <td>3.4</td>\n",
       "      <td>1.4</td>\n",
       "      <td>0.3</td>\n",
       "    </tr>\n",
       "    <tr>\n",
       "      <th>7</th>\n",
       "      <td>5.0</td>\n",
       "      <td>3.4</td>\n",
       "      <td>1.5</td>\n",
       "      <td>0.2</td>\n",
       "    </tr>\n",
       "  </tbody>\n",
       "</table>\n",
       "</div>"
      ],
      "text/plain": [
       "   sepal_length  sepal_width  petal_length  petal_width\n",
       "3           4.6          3.1           1.5          0.2\n",
       "4           5.0          3.6           1.4          0.2\n",
       "5           5.4          3.9           1.7          0.4\n",
       "6           4.6          3.4           1.4          0.3\n",
       "7           5.0          3.4           1.5          0.2"
      ]
     },
     "execution_count": 339,
     "metadata": {},
     "output_type": "execute_result"
    }
   ],
   "source": [
    "# 运行以下代码\n",
    "iris = iris.dropna(how='any')\n",
    "iris.head()"
   ]
  },
  {
   "cell_type": "markdown",
   "metadata": {
    "id": "1E6EE1E034B442828989212B61361C86",
    "jupyter": {},
    "mdEditEnable": false,
    "slideshow": {
     "slide_type": "slide"
    },
    "tags": []
   },
   "source": [
    "### 步骤11 重新设置索引"
   ]
  },
  {
   "cell_type": "code",
   "execution_count": 340,
   "metadata": {
    "collapsed": false,
    "id": "57DE9B3C6A9B42AC8384B0F0D501B02D",
    "jupyter": {
     "outputs_hidden": false
    },
    "slideshow": {
     "slide_type": "slide"
    },
    "tags": []
   },
   "outputs": [
    {
     "data": {
      "text/html": [
       "<div>\n",
       "<style scoped>\n",
       "    .dataframe tbody tr th:only-of-type {\n",
       "        vertical-align: middle;\n",
       "    }\n",
       "\n",
       "    .dataframe tbody tr th {\n",
       "        vertical-align: top;\n",
       "    }\n",
       "\n",
       "    .dataframe thead th {\n",
       "        text-align: right;\n",
       "    }\n",
       "</style>\n",
       "<table border=\"1\" class=\"dataframe\">\n",
       "  <thead>\n",
       "    <tr style=\"text-align: right;\">\n",
       "      <th></th>\n",
       "      <th>sepal_length</th>\n",
       "      <th>sepal_width</th>\n",
       "      <th>petal_length</th>\n",
       "      <th>petal_width</th>\n",
       "    </tr>\n",
       "  </thead>\n",
       "  <tbody>\n",
       "    <tr>\n",
       "      <th>0</th>\n",
       "      <td>4.6</td>\n",
       "      <td>3.1</td>\n",
       "      <td>1.5</td>\n",
       "      <td>0.2</td>\n",
       "    </tr>\n",
       "    <tr>\n",
       "      <th>1</th>\n",
       "      <td>5.0</td>\n",
       "      <td>3.6</td>\n",
       "      <td>1.4</td>\n",
       "      <td>0.2</td>\n",
       "    </tr>\n",
       "    <tr>\n",
       "      <th>2</th>\n",
       "      <td>5.4</td>\n",
       "      <td>3.9</td>\n",
       "      <td>1.7</td>\n",
       "      <td>0.4</td>\n",
       "    </tr>\n",
       "    <tr>\n",
       "      <th>3</th>\n",
       "      <td>4.6</td>\n",
       "      <td>3.4</td>\n",
       "      <td>1.4</td>\n",
       "      <td>0.3</td>\n",
       "    </tr>\n",
       "    <tr>\n",
       "      <th>4</th>\n",
       "      <td>5.0</td>\n",
       "      <td>3.4</td>\n",
       "      <td>1.5</td>\n",
       "      <td>0.2</td>\n",
       "    </tr>\n",
       "  </tbody>\n",
       "</table>\n",
       "</div>"
      ],
      "text/plain": [
       "   sepal_length  sepal_width  petal_length  petal_width\n",
       "0           4.6          3.1           1.5          0.2\n",
       "1           5.0          3.6           1.4          0.2\n",
       "2           5.4          3.9           1.7          0.4\n",
       "3           4.6          3.4           1.4          0.3\n",
       "4           5.0          3.4           1.5          0.2"
      ]
     },
     "execution_count": 340,
     "metadata": {},
     "output_type": "execute_result"
    }
   ],
   "source": [
    "# 运行以下代码\n",
    "iris = iris.reset_index(drop = True)\n",
    "iris.head()"
   ]
  },
  {
   "cell_type": "markdown",
   "metadata": {
    "id": "7CA8C9034FCE4018AE5E18CA6C9EF9B6",
    "jupyter": {},
    "mdEditEnable": false,
    "slideshow": {
     "slide_type": "slide"
    },
    "tags": []
   },
   "source": [
    "[返回练习题索引](#练习题索引)"
   ]
  },
  {
   "cell_type": "markdown",
   "metadata": {
    "id": "CBE9BD23998846BDA38F096FE818EFDD",
    "jupyter": {},
    "mdEditEnable": false,
    "slideshow": {
     "slide_type": "slide"
    },
    "tags": []
   },
   "source": [
    "# 结语\n",
    "恭喜你已经完成了这10套题目的练习✿✿ヽ(°▽°)ノ✿\n",
    "**欢迎查看并Fork和鲸社区的 [镇站之宝](https://www.heywhale.com/mw/project/5e72e367c59d610036225bc0)获取更多学习内容**\n",
    "**更多开源数据、分析项目、实战练习尽在[和鲸社区](heywhale.com)**\n"
   ]
  }
 ],
 "metadata": {
  "hide_input": false,
  "kernelspec": {
   "display_name": "Python 3 (ipykernel)",
   "language": "python",
   "name": "python3"
  },
  "language_info": {
   "codemirror_mode": {
    "name": "ipython",
    "version": 3
   },
   "file_extension": ".py",
   "mimetype": "text/x-python",
   "name": "python",
   "nbconvert_exporter": "python",
   "pygments_lexer": "ipython3",
   "version": "3.11.4"
  },
  "toc": {
   "nav_menu": {},
   "number_sections": false,
   "sideBar": false,
   "skip_h1_title": false,
   "toc_cell": false,
   "toc_position": {
    "height": "537px",
    "left": "1px",
    "right": "20px",
    "top": "106px",
    "width": "234px"
   },
   "toc_section_display": "block",
   "toc_window_display": false
  }
 },
 "nbformat": 4,
 "nbformat_minor": 4
}
